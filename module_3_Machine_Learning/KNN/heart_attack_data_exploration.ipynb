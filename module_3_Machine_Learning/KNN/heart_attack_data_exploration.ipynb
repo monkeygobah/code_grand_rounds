{
 "cells": [
  {
   "attachments": {},
   "cell_type": "markdown",
   "id": "0b82af0a",
   "metadata": {},
   "source": [
    "# **Heart Attack: Data Exploration** \n",
    "\n",
    "### \n",
    "\n",
    "### Attribute Information\n",
    "1) age\n",
    "2) sex\n",
    "3) cp = chest pain type (4 values)\n",
    "4) trestbps = resting blood pressure\n",
    "5) chol = serum cholestoral in mg/dl\n",
    "6) fbs = fasting blood sugar > 120 mg/dl\n",
    "7) restecg = resting electrocardiographic results (values 0,1,2)\n",
    "8) thalach = maximum heart rate achieved\n",
    "9) exang = exercise induced angina \n",
    "10) oldpeak = ST depression induced by exercise relative to rest\n",
    "11) slope = the slope of the peak exercise ST segment\n",
    "12) ca = number of major vessels (0-3) colored by flourosopy\n",
    "13) thal: 0 = normal; 1 = fixed defect; 2 = reversable defect\n",
    "14) target: 0= less chance of heart attack 1= more chance of heart attack\n",
    "\n",
    "### Link to dataset: https://www.kaggle.com/code/nareshbhat/heart-attack-prediction-using-different-ml-models/notebook"
   ]
  },
  {
   "attachments": {},
   "cell_type": "markdown",
   "id": "154967fd",
   "metadata": {},
   "source": [
    "### **Import Libraries**"
   ]
  },
  {
   "cell_type": "code",
   "execution_count": null,
   "id": "0a49a4cd",
   "metadata": {
    "scrolled": true
   },
   "outputs": [],
   "source": [
    "import numpy as np\n",
    "import pandas as pd\n",
    "import matplotlib.pyplot as plt\n",
    "from sklearn.neighbors import KNeighborsClassifier\n",
    "from sklearn.model_selection import train_test_split\n",
    "from sklearn.preprocessing import StandardScaler\n",
    "from sklearn.metrics import confusion_matrix\n",
    "from sklearn.metrics import accuracy_score\n",
    "from sklearn.metrics import classification_report\n",
    "import seaborn as sns"
   ]
  },
  {
   "attachments": {},
   "cell_type": "markdown",
   "id": "c284962e",
   "metadata": {},
   "source": [
    "### Load data and make sure it imported correctly"
   ]
  },
  {
   "cell_type": "code",
   "execution_count": null,
   "id": "ee0028ba",
   "metadata": {},
   "outputs": [],
   "source": [
    "# Import the dataset\n",
    "df = pd.read_csv('heart.csv')\n",
    "\n",
    "# Display the first few rows of the dataset\n",
    "df.head()"
   ]
  },
  {
   "attachments": {},
   "cell_type": "markdown",
   "id": "c083aa4d",
   "metadata": {},
   "source": [
    "### Check for null values and data types"
   ]
  },
  {
   "cell_type": "code",
   "execution_count": null,
   "id": "c1f96394",
   "metadata": {},
   "outputs": [],
   "source": [
    "df.info()"
   ]
  },
  {
   "attachments": {},
   "cell_type": "markdown",
   "id": "53a19362",
   "metadata": {},
   "source": [
    "### Explain\n",
    "\n",
    "### Look at summary statistics"
   ]
  },
  {
   "cell_type": "code",
   "execution_count": null,
   "id": "ada3e4f0",
   "metadata": {},
   "outputs": [],
   "source": []
  },
  {
   "attachments": {},
   "cell_type": "markdown",
   "id": "ba0030cb",
   "metadata": {},
   "source": [
    "\n",
    "### Summarize findings but mostly leave up to the reader\n",
    "\n",
    "### Pairplot "
   ]
  },
  {
   "cell_type": "code",
   "execution_count": null,
   "id": "304b9f49",
   "metadata": {},
   "outputs": [],
   "source": [
    "# Create a subset of the dataframe. \n",
    "# We do this by passing a list of these column names to the dataframe df. \n",
    "subset = df[['age', 'trestbps', 'chol', 'thalach', 'oldpeak', 'ca']]\n",
    "\n",
    "# Now we're going to create a \"pair plot\" of this subset. Pair plots are a great way to visualize relationships \n",
    "# between different pairings of these variables. In a pair plot, the diagonal elements show the histogram of the \n",
    "# data for that particular variable, and the off-diagonal elements show scatter plots of one variable versus another\n",
    "sns.pairplot(subset)\n",
    "\n",
    "# lets take a look!\n",
    "plt.show()"
   ]
  },
  {
   "attachments": {},
   "cell_type": "markdown",
   "id": "399e8224",
   "metadata": {},
   "source": [
    "### Explanation\n",
    "\n",
    "### Correlation Matrix"
   ]
  },
  {
   "cell_type": "code",
   "execution_count": null,
   "id": "ae3bc71b",
   "metadata": {},
   "outputs": [],
   "source": [
    "corr = df.corr() # This line computes the correlation matrix of the DataFrame.\n",
    "                 #  It calculates the Pearson correlation coefficient for each pair of numerical columns. \n",
    "                 # Post cleaning, all of our columns have some kind of numerical representation.\n",
    "\n",
    "# Generate a mask for the upper triangle\n",
    "mask = np.triu(np.ones_like(corr, dtype=bool)) #  Here, create a mask for the upper triangle of your correlation matrix. \n",
    "                                               # This is done because the matrix is symmetric, i.e., the lower triangle is a mirror \n",
    "                                               # image of the upper triangle. Thus, showing both would be redundant.\n",
    "                                               # You don't technially need to do this, but its a nice trick...\n",
    "\n",
    "# Set up the matplotlib figure\n",
    "f, ax = plt.subplots(figsize=(11, 9))\n",
    "\n",
    "# Generate a colormap\n",
    "cmap = sns.diverging_palette(230, 20, as_cmap=True)\n",
    "\n",
    "# Draw the heatmap with the mask\n",
    "# Look at the sns documenttion for details on all of the arguments. \n",
    "sns.heatmap(corr, mask=mask, cmap=cmap, vmax=.3, center=0, square=True, linewidths=.5, cbar_kws={\"shrink\": .5}, annot=True)\n",
    "\n",
    "plt.title('Correlation Matrix Heatmap')\n",
    "plt.show()"
   ]
  }
 ],
 "metadata": {
  "kernelspec": {
   "display_name": "Python 3 (ipykernel)",
   "language": "python",
   "name": "python3"
  },
  "language_info": {
   "codemirror_mode": {
    "name": "ipython",
    "version": 3
   },
   "file_extension": ".py",
   "mimetype": "text/x-python",
   "name": "python",
   "nbconvert_exporter": "python",
   "pygments_lexer": "ipython3",
   "version": "3.11.3"
  }
 },
 "nbformat": 4,
 "nbformat_minor": 5
}
