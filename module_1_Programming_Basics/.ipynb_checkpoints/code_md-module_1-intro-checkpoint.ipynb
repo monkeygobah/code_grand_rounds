{
 "cells": [
  {
   "cell_type": "markdown",
   "id": "dfedb5fb",
   "metadata": {},
   "source": [
    "# Table of Contents\n",
    "1. [Basics](#basics)\n",
    "1. [Data Types](#data_types)\n",
    "    - Booleans\n",
    "    - Integers\n",
    "    - Floats\n",
    "    - Strings\n",
    "    - Basic Operations\n",
    "1. [Data Structures](#data_structs)\n",
    "    - Lists\n",
    "    - Tuples\n",
    "    - Dictionaries\n",
    "1. [Basic Logic Operations](#logic_ops)\n",
    "    - If/Else Statements\n",
    "    - For Loops\n",
    "    - While Statements\n",
    "    - List Comprehension\n",
    "1. [Objects](#objects)\n",
    "    - What is an object?\n",
    "    - Initialization\n",
    "    - Attributes\n",
    "    - Methods\n",
    "1. [Advanced Topics](#advanced) \n",
    "    - Debugging\n",
    "    - Importing Libraries\n",
    "    - Data Manipulation\n",
    "    - Statistics\n",
    "    - Big O Notation (Runtime)\n",
    "1. [Next Steps](#next_steps)  "
   ]
  },
  {
   "cell_type": "markdown",
   "id": "a43e276c",
   "metadata": {},
   "source": [
    "# 1. Basics\n",
    "<a id='basics'></a>"
   ]
  },
  {
   "cell_type": "code",
   "execution_count": null,
   "id": "2b46aa11",
   "metadata": {},
   "outputs": [],
   "source": [
    "# This is an inline comment. This does not do anything, but allows you to make notes for yourself or other readers"
   ]
  },
  {
   "cell_type": "code",
   "execution_count": null,
   "id": "7e5f621f",
   "metadata": {},
   "outputs": [],
   "source": [
    "# This is a print statement. You will use this extensively when debugging your code\n",
    "\n",
    "print('Hello, World!')"
   ]
  },
  {
   "cell_type": "code",
   "execution_count": null,
   "id": "6fa114a4",
   "metadata": {},
   "outputs": [],
   "source": [
    "# By default, Jupyter will also print out the variable in each cell, even without a print statement\n",
    "\n",
    "'Hello, World!'"
   ]
  },
  {
   "cell_type": "markdown",
   "id": "f37c1773",
   "metadata": {},
   "source": [
    "To execute a cell, click into it and press Shift + Enter"
   ]
  },
  {
   "cell_type": "markdown",
   "id": "a4dbf18c",
   "metadata": {},
   "source": [
    "# 2. Data Types\n",
    "<a id='data_types'></a>"
   ]
  },
  {
   "cell_type": "markdown",
   "id": "86202f5d",
   "metadata": {},
   "source": [
    "## Booleans"
   ]
  },
  {
   "cell_type": "code",
   "execution_count": null,
   "id": "a8e0b4fa",
   "metadata": {},
   "outputs": [],
   "source": [
    "# True/False is interpreted the same as 1/0\n",
    "\n",
    "True "
   ]
  },
  {
   "cell_type": "markdown",
   "id": "a6af2cff",
   "metadata": {},
   "source": [
    "## Integers"
   ]
  },
  {
   "cell_type": "code",
   "execution_count": null,
   "id": "ff8901ab",
   "metadata": {},
   "outputs": [],
   "source": [
    "1"
   ]
  },
  {
   "cell_type": "markdown",
   "id": "8c979603",
   "metadata": {},
   "source": [
    "## Floats"
   ]
  },
  {
   "cell_type": "code",
   "execution_count": null,
   "id": "1c868ece",
   "metadata": {},
   "outputs": [],
   "source": [
    "3.1415"
   ]
  },
  {
   "cell_type": "markdown",
   "id": "c9e517c4",
   "metadata": {},
   "source": [
    "## Strings"
   ]
  },
  {
   "cell_type": "code",
   "execution_count": null,
   "id": "85045dcd",
   "metadata": {
    "scrolled": true
   },
   "outputs": [],
   "source": [
    "'Hello, World!'"
   ]
  },
  {
   "cell_type": "markdown",
   "id": "066e302f",
   "metadata": {},
   "source": [
    "## Variables"
   ]
  },
  {
   "cell_type": "code",
   "execution_count": null,
   "id": "10a10966",
   "metadata": {},
   "outputs": [],
   "source": [
    "var = 'Hello, World!'\n",
    "\n",
    "var"
   ]
  },
  {
   "cell_type": "markdown",
   "id": "efc1a842",
   "metadata": {},
   "source": [
    "## Basic Operations"
   ]
  },
  {
   "cell_type": "code",
   "execution_count": null,
   "id": "8ce68421",
   "metadata": {},
   "outputs": [],
   "source": [
    "# Add\n",
    "\n",
    "3 + 2"
   ]
  },
  {
   "cell_type": "code",
   "execution_count": null,
   "id": "84780f2f",
   "metadata": {},
   "outputs": [],
   "source": [
    "# Subtract\n",
    "\n",
    "3 - 2"
   ]
  },
  {
   "cell_type": "code",
   "execution_count": null,
   "id": "bcb28c5b",
   "metadata": {},
   "outputs": [],
   "source": [
    "# Multiply\n",
    "\n",
    "3 * 2"
   ]
  },
  {
   "cell_type": "code",
   "execution_count": null,
   "id": "04556280",
   "metadata": {},
   "outputs": [],
   "source": [
    "# Divide\n",
    "\n",
    "3 / 2"
   ]
  },
  {
   "cell_type": "code",
   "execution_count": null,
   "id": "4ae231bf",
   "metadata": {},
   "outputs": [],
   "source": [
    "# Remainder\n",
    "\n",
    "3 % 2"
   ]
  },
  {
   "cell_type": "code",
   "execution_count": null,
   "id": "87f73ebc",
   "metadata": {},
   "outputs": [],
   "source": [
    "# Exponent\n",
    "\n",
    "2 ** 2"
   ]
  },
  {
   "cell_type": "code",
   "execution_count": null,
   "id": "29e17dcf",
   "metadata": {},
   "outputs": [],
   "source": [
    "# You can also add strings\n",
    "\n",
    "'a' + 'b'"
   ]
  },
  {
   "cell_type": "code",
   "execution_count": null,
   "id": "5fe241a9",
   "metadata": {},
   "outputs": [],
   "source": [
    "# Equal to (note the double equals!)\n",
    "\n",
    "1 == 2"
   ]
  },
  {
   "cell_type": "code",
   "execution_count": null,
   "id": "2c530f18",
   "metadata": {},
   "outputs": [],
   "source": [
    "# Not equal to\n",
    "\n",
    "1 != 2"
   ]
  },
  {
   "cell_type": "code",
   "execution_count": null,
   "id": "847cf1a4",
   "metadata": {},
   "outputs": [],
   "source": [
    "# Less than\n",
    "\n",
    "1 < 2"
   ]
  },
  {
   "cell_type": "code",
   "execution_count": null,
   "id": "844792e4",
   "metadata": {},
   "outputs": [],
   "source": [
    "# Greater than\n",
    "\n",
    "2 > 1"
   ]
  },
  {
   "cell_type": "code",
   "execution_count": null,
   "id": "7b0043d7",
   "metadata": {},
   "outputs": [],
   "source": [
    "# Less than or equal to\n",
    "\n",
    "1 <= 2"
   ]
  },
  {
   "cell_type": "code",
   "execution_count": null,
   "id": "513bc457",
   "metadata": {},
   "outputs": [],
   "source": [
    "# Greater than or equal to\n",
    "\n",
    "2 >= 1"
   ]
  },
  {
   "cell_type": "code",
   "execution_count": null,
   "id": "1a7b8ce3",
   "metadata": {},
   "outputs": [],
   "source": [
    "# Some different types don't play nice!!\n",
    "\n",
    "'a' + 1"
   ]
  },
  {
   "cell_type": "markdown",
   "id": "1e31cd73",
   "metadata": {},
   "source": [
    "# 3. Data Structures\n",
    "<a id='data_structs'></a>"
   ]
  },
  {
   "cell_type": "markdown",
   "id": "e2448e88",
   "metadata": {},
   "source": [
    "## Lists"
   ]
  },
  {
   "cell_type": "code",
   "execution_count": null,
   "id": "0061c414",
   "metadata": {},
   "outputs": [],
   "source": [
    "my_list = [1, 2]\n",
    "\n",
    "my_list"
   ]
  },
  {
   "cell_type": "markdown",
   "id": "f2052a8b",
   "metadata": {},
   "source": [
    "### List Operations"
   ]
  },
  {
   "cell_type": "code",
   "execution_count": null,
   "id": "931d8fcf",
   "metadata": {},
   "outputs": [],
   "source": [
    "# Get element at position (list indexing)\n",
    "\n",
    "my_list[0]"
   ]
  },
  {
   "cell_type": "code",
   "execution_count": null,
   "id": "aa0b6a93",
   "metadata": {},
   "outputs": [],
   "source": [
    "# Append item\n",
    "\n",
    "my_list.append(4) \n",
    "\n",
    "my_list"
   ]
  },
  {
   "cell_type": "code",
   "execution_count": null,
   "id": "f19eb80a",
   "metadata": {},
   "outputs": [],
   "source": [
    "# Edit item\n",
    "\n",
    "my_list[2] = 3\n",
    "\n",
    "my_list"
   ]
  },
  {
   "cell_type": "code",
   "execution_count": null,
   "id": "9ef293ed",
   "metadata": {},
   "outputs": [],
   "source": [
    "# Reverse list\n",
    "\n",
    "my_list.reverse()\n",
    "\n",
    "my_list"
   ]
  },
  {
   "cell_type": "code",
   "execution_count": null,
   "id": "3cd2e818",
   "metadata": {},
   "outputs": [],
   "source": [
    "# Sort list\n",
    "\n",
    "my_list.sort()\n",
    "\n",
    "my_list"
   ]
  },
  {
   "cell_type": "code",
   "execution_count": null,
   "id": "b3bbeb82",
   "metadata": {},
   "outputs": [],
   "source": [
    "# Add lists\n",
    "\n",
    "my_list += [11, 12, 13]\n",
    "\n",
    "# the above is shorthand for:\n",
    "# my_list = my_list + [11, 12, 13]\n",
    "\n",
    "my_list"
   ]
  },
  {
   "cell_type": "code",
   "execution_count": null,
   "id": "102078da",
   "metadata": {},
   "outputs": [],
   "source": [
    "# There are many many many more list operations"
   ]
  },
  {
   "cell_type": "markdown",
   "id": "efe51341",
   "metadata": {},
   "source": [
    "### Tuples"
   ]
  },
  {
   "cell_type": "code",
   "execution_count": null,
   "id": "bc00194c",
   "metadata": {},
   "outputs": [],
   "source": [
    "my_tuple = (1, 2)\n",
    "\n",
    "my_tuple"
   ]
  },
  {
   "cell_type": "markdown",
   "id": "d3998784",
   "metadata": {},
   "source": [
    "### Tuple Operations"
   ]
  },
  {
   "cell_type": "code",
   "execution_count": null,
   "id": "693d7a21",
   "metadata": {},
   "outputs": [],
   "source": [
    "my_tuple[1]"
   ]
  },
  {
   "cell_type": "code",
   "execution_count": null,
   "id": "f05b3657",
   "metadata": {
    "scrolled": true
   },
   "outputs": [],
   "source": [
    "# Compared to lists, tuples are immutable (cannot be changed once made)!\n",
    "\n",
    "my_tuple.append(3)"
   ]
  },
  {
   "cell_type": "markdown",
   "id": "687261c9",
   "metadata": {},
   "source": [
    "## Dictionaries"
   ]
  },
  {
   "cell_type": "code",
   "execution_count": null,
   "id": "f929e73d",
   "metadata": {},
   "outputs": [],
   "source": [
    "my_dictionary = {\n",
    "    'first': 'John',\n",
    "    'second': 'Doe',\n",
    "    'systolic': 120,\n",
    "    'diastolic': 80\n",
    "}\n",
    "\n",
    "my_dictionary"
   ]
  },
  {
   "cell_type": "markdown",
   "id": "2e731adc",
   "metadata": {},
   "source": [
    "### Dictionary Operations"
   ]
  },
  {
   "cell_type": "code",
   "execution_count": null,
   "id": "da991553",
   "metadata": {},
   "outputs": [],
   "source": [
    "# Get value\n",
    "\n",
    "my_dictionary['first']"
   ]
  },
  {
   "cell_type": "code",
   "execution_count": null,
   "id": "505804b7",
   "metadata": {},
   "outputs": [],
   "source": [
    "# Set value\n",
    "\n",
    "my_dictionary['first'] = 'Jane'\n",
    "\n",
    "my_dictionary"
   ]
  },
  {
   "cell_type": "markdown",
   "id": "492157af",
   "metadata": {},
   "source": [
    "# 4. Basic Logic Operations\n",
    "<a id='logic_ops'></a>"
   ]
  },
  {
   "cell_type": "markdown",
   "id": "3a8c1918",
   "metadata": {},
   "source": [
    "## If / Else Statements "
   ]
  },
  {
   "cell_type": "code",
   "execution_count": null,
   "id": "c6a31150",
   "metadata": {},
   "outputs": [],
   "source": [
    "var = 1\n",
    "\n",
    "if (var == 1):\n",
    "    print('low')\n",
    "elif (var == 2):\n",
    "    print('medium')\n",
    "else:\n",
    "    print('high')"
   ]
  },
  {
   "cell_type": "markdown",
   "id": "db3fed15",
   "metadata": {},
   "source": [
    "## For Loops"
   ]
  },
  {
   "cell_type": "code",
   "execution_count": null,
   "id": "aebfcc78",
   "metadata": {},
   "outputs": [],
   "source": [
    "for x in [1, 2, 3]:\n",
    "    print('Do something')\n",
    "    print(x)\n"
   ]
  },
  {
   "cell_type": "code",
   "execution_count": null,
   "id": "e2438c80",
   "metadata": {},
   "outputs": [],
   "source": [
    "# Another way to do the same thing\n",
    "\n",
    "for x in range(1, 4):\n",
    "    print('Do something')\n",
    "    print(x)"
   ]
  },
  {
   "cell_type": "markdown",
   "id": "d63889fb",
   "metadata": {},
   "source": [
    "## While Loops"
   ]
  },
  {
   "cell_type": "code",
   "execution_count": null,
   "id": "51a37d65",
   "metadata": {},
   "outputs": [],
   "source": [
    "x = 1\n",
    "\n",
    "while x <= 3:\n",
    "    print(x)\n",
    "    \n",
    "    x += 1\n",
    "    \n",
    "print('Final Value:', x)"
   ]
  },
  {
   "cell_type": "markdown",
   "id": "63266a8d",
   "metadata": {},
   "source": [
    "## String Functions"
   ]
  },
  {
   "cell_type": "code",
   "execution_count": null,
   "id": "ec2c0f7c",
   "metadata": {},
   "outputs": [],
   "source": [
    "# Strings come with a whole set of complex operations\n",
    "\n",
    "'Hello, World!'.replace('World', 'Georgie').split(',')[1].strip()"
   ]
  },
  {
   "cell_type": "code",
   "execution_count": null,
   "id": "15b01ae2",
   "metadata": {},
   "outputs": [],
   "source": [
    "# As an example, let's pretend we have an amino acid sequence, like the one below for CLK1.\n",
    "\n",
    "CLK1 = 'HYLESRSINEKDYHSRRYIDEYRNDYTQGCEPGHRQRDHESRYQNHSSKSSGRSGRSSYKSKHRIHHSTSHRRSHG'\n",
    "\n",
    "# How would we identify the resulting peptides if we split this by a restriction enzyme at K? One way would be to iterate and store a new peptide each time we encounter a K.\n",
    "\n",
    "peptides = []\n",
    "new_pep = ''\n",
    "\n",
    "for letter in CLK1:\n",
    "    if letter == 'K':\n",
    "        peptides.append(new_pep)\n",
    "        new_pep = ''\n",
    "    else:\n",
    "        new_pep += letter\n",
    "\n",
    "# need to add the last one\n",
    "if len(new_pep) > 0: peptides.append(new_pep)\n",
    "        \n",
    "peptides\n"
   ]
  },
  {
   "cell_type": "code",
   "execution_count": null,
   "id": "09e99892",
   "metadata": {},
   "outputs": [],
   "source": [
    "# Or, we could simply use the built in python function \"split\". This is the case with any operations in python & CS in general -- readily accessible methods will already have been created for many object types.\n",
    "CLK1 = 'HYLESRSINEKDYHSRRYIDEYRNDYTQGCEPGHRQRDHESRYQNHSSKSSGRSGRSSYKSKHRIHHSTSHRRSHG'\n",
    "\n",
    "# Or, we could simply use the built in python function \"split\". This is the case with any operations in python & CS in general -- readily accessible methods will already have been created for many object types. \n",
    "peptides = CLK1.split('K')\n",
    "\n",
    "peptides"
   ]
  },
  {
   "cell_type": "markdown",
   "id": "cf9924d7",
   "metadata": {},
   "source": [
    "## Nested For Loops"
   ]
  },
  {
   "cell_type": "code",
   "execution_count": null,
   "id": "ebac8697",
   "metadata": {},
   "outputs": [],
   "source": [
    "# Loops can be nested - beware of performance!\n",
    "\n",
    "for x in [1, 2]:\n",
    "    for y in [10, 11]:\n",
    "        print('Do something')\n",
    "        print(x, y)"
   ]
  },
  {
   "cell_type": "markdown",
   "id": "e7d9fe82",
   "metadata": {},
   "source": [
    "## List Comprehension (Slightly more complex!)"
   ]
  },
  {
   "cell_type": "code",
   "execution_count": null,
   "id": "ffe473be",
   "metadata": {},
   "outputs": [],
   "source": [
    "my_list = [1, 2, 3]\n",
    "\n",
    "[x * 10 for x in my_list]"
   ]
  },
  {
   "cell_type": "markdown",
   "id": "7f0e759e",
   "metadata": {},
   "source": [
    "# 5. Objects\n",
    "<a id='objects'></a>"
   ]
  },
  {
   "cell_type": "markdown",
   "id": "0b729fb2",
   "metadata": {},
   "source": [
    "## What is an object?"
   ]
  },
  {
   "cell_type": "code",
   "execution_count": null,
   "id": "aaf272c2",
   "metadata": {},
   "outputs": [],
   "source": [
    "# Objects help to add structure to CS and are derived from \"classes\". If we were talking about a chess game, \n",
    "# we might say that the chess game were an object. There is a particular structure for defining this class in Python, as below:\n",
    "\n",
    "class chessGame:\n",
    "    def __init__(self):\n",
    "        self.number_moves_made = 0\n",
    "\n",
    "\n",
    "# Now, let's say I wanted to use a chessGame in another area of code. I could create an object of chess games.\n",
    "chess1 = chessGame()\n",
    "\n",
    "# I could even create two. \n",
    "chess2 = chessGame()\n",
    "\n",
    "# And now, I can manipulate these entities as individual objects of the \"chessGame\" class\n",
    "my_games = [chess1, chess2]"
   ]
  },
  {
   "cell_type": "markdown",
   "id": "a9cb0ecd",
   "metadata": {},
   "source": [
    "## Initialization"
   ]
  },
  {
   "cell_type": "code",
   "execution_count": null,
   "id": "d2678733",
   "metadata": {},
   "outputs": [],
   "source": [
    "# Let's pull our code from above down, and expand on it a little bit. \n",
    "\n",
    "class chessGame:\n",
    "    def __init__(self, time_limit):\n",
    "        self.number_moves_made = 0\n",
    "        self.time_limit = time_limit\n",
    "        \n",
    "\n",
    "# Notice how we added \"time_limit\", an argument to the init function, which initializes our object. \n",
    "# Thus, we can now create chessGame objects with different time limits\n",
    "\n",
    "chess1 = chessGame(time_limit = 5)\n",
    "chess2 = chessGame(time_limit = 10)\n",
    "\n",
    "# Our initialization function takes in these attributes and generates our object for us."
   ]
  },
  {
   "cell_type": "markdown",
   "id": "3c55a8fd",
   "metadata": {},
   "source": [
    "## Attributes"
   ]
  },
  {
   "cell_type": "code",
   "execution_count": null,
   "id": "4aeb1be2",
   "metadata": {},
   "outputs": [],
   "source": [
    "class chessGame:\n",
    "    def __init__(self, time_limit):\n",
    "        self.number_moves_made = 0\n",
    "        self.time_limit = time_limit\n",
    "        self.whose_turn = 'white'\n",
    "        \n",
    "\n",
    "# In the above, attributes refer to values held/posessed by the object. \n",
    "chess1 = chessGame(time_limit = 5)\n",
    "\n",
    "# We can access these attributes and learn about the particular object.\n",
    "chess1.time_limit\n",
    "\n",
    "# And we can change them, too.\n",
    "chess1.whose_turn = 'black'\n",
    "chess1.whose_turn"
   ]
  },
  {
   "cell_type": "markdown",
   "id": "4683e826",
   "metadata": {},
   "source": [
    "## Methods"
   ]
  },
  {
   "cell_type": "code",
   "execution_count": null,
   "id": "38c54ed4",
   "metadata": {},
   "outputs": [],
   "source": [
    "class chessGame:\n",
    "    def __init__(self, time_limit):\n",
    "        self.number_moves_made = 0\n",
    "        self.time_limit = time_limit\n",
    "        self.whose_turn = 'white'\n",
    "        \n",
    "    def take_turn(self):\n",
    "        if self.whose_turn == 'white':\n",
    "            self.whose_turn = 'black'\n",
    "        else:\n",
    "            self.whose_turn = 'white'\n",
    "        \n",
    "        \n",
    "# On the above, we added an imaginary \"take_turn\" function. This function is called a method, because it\n",
    "# is a function attached to the class chessGame.\n",
    "\n",
    "chess1 = chessGame(time_limit = 5)\n",
    "\n",
    "# the current turn\n",
    "chess1.whose_turn\n",
    "\n",
    "# make a move\n",
    "chess1.take_turn()\n",
    "\n",
    "# now whose turn?\n",
    "chess1.whose_turn\n",
    "\n"
   ]
  },
  {
   "cell_type": "markdown",
   "id": "b5e55c29",
   "metadata": {},
   "source": [
    "# 6. Advanced Topics\n",
    "<a id='advanced'></a>"
   ]
  },
  {
   "cell_type": "markdown",
   "id": "761b2350",
   "metadata": {},
   "source": [
    "## Debugging"
   ]
  },
  {
   "cell_type": "code",
   "execution_count": null,
   "id": "23cba337",
   "metadata": {},
   "outputs": [],
   "source": [
    "# Create a list from 1 to 10 with primes removed\n",
    "\n",
    "l = []\n",
    "primes = [2, 3, 5, 7]\n",
    "\n",
    "for x in range(10):\n",
    "    if (x not in primes):\n",
    "        l.append(x)\n",
    "        \n",
    "print(f'Desired Outcome:\\n[1, 4, 6, 8, 9, 10]\\n\\nActual Outcome:\\n{l}')"
   ]
  },
  {
   "cell_type": "markdown",
   "id": "83432d8d",
   "metadata": {},
   "source": [
    "# Big O Notation (Runtime)"
   ]
  },
  {
   "cell_type": "code",
   "execution_count": null,
   "id": "ebecff9d",
   "metadata": {},
   "outputs": [],
   "source": [
    "loops = 100"
   ]
  },
  {
   "cell_type": "code",
   "execution_count": null,
   "id": "75849443",
   "metadata": {},
   "outputs": [],
   "source": [
    "%%timeit -n1 -r1\n",
    "\n",
    "for x in range(loops):\n",
    "    z = 1\n",
    "\n",
    "    continue\n",
    "    \n",
    "# O(n)"
   ]
  },
  {
   "cell_type": "code",
   "execution_count": null,
   "id": "57ae2391",
   "metadata": {},
   "outputs": [],
   "source": [
    "%%timeit -n1 -r1\n",
    "\n",
    "x = loops\n",
    "\n",
    "while int(x) > 0:\n",
    "    z = 1\n",
    "    \n",
    "    x = x / 2\n",
    "\n",
    "# O(log(n))"
   ]
  },
  {
   "cell_type": "code",
   "execution_count": null,
   "id": "d7421b3d",
   "metadata": {},
   "outputs": [],
   "source": [
    "%%timeit -n1 -r1\n",
    "\n",
    "for x in range(loops):\n",
    "    for y in range(loops):\n",
    "        z = 1\n",
    "        \n",
    "        continue\n",
    "        \n",
    "# O(n^2)"
   ]
  },
  {
   "cell_type": "markdown",
   "id": "9ed6716b",
   "metadata": {},
   "source": [
    "## Importing Libraries"
   ]
  },
  {
   "cell_type": "code",
   "execution_count": null,
   "id": "5b36a56c",
   "metadata": {},
   "outputs": [],
   "source": [
    "import os\n",
    "\n",
    "os"
   ]
  },
  {
   "cell_type": "markdown",
   "id": "4be61317",
   "metadata": {},
   "source": [
    "To install packages, use the Anaconda GUI, or in termal, type: `pip install package`"
   ]
  },
  {
   "cell_type": "markdown",
   "id": "d16ca093",
   "metadata": {},
   "source": [
    "### Data Manupulation: Pandas"
   ]
  },
  {
   "cell_type": "code",
   "execution_count": null,
   "id": "e47c0123",
   "metadata": {},
   "outputs": [],
   "source": [
    "import pandas as pd\n",
    "\n",
    "df = pd.DataFrame.from_dict({\n",
    "    'patient_id': ['A1', 'B2', 'C3'],\n",
    "    'first_initial': ['A', 'B', 'C'],\n",
    "    'bp_systolic': [120, 135, 110],\n",
    "    'bp_diastolic': [80, 90, 75],\n",
    "    'hypertension': [0, 1, 0]\n",
    "})\n",
    "\n",
    "df"
   ]
  },
  {
   "cell_type": "markdown",
   "id": "cdcd07c3",
   "metadata": {},
   "source": [
    "### Statistics: SciPy"
   ]
  },
  {
   "cell_type": "code",
   "execution_count": null,
   "id": "a0bb128f",
   "metadata": {},
   "outputs": [],
   "source": [
    "from scipy import stats\n",
    "\n",
    "x = df.bp_systolic\n",
    "y = df.bp_diastolic\n",
    "\n",
    "# Paired t-test\n",
    "t, p = stats.ttest_rel(x, y)\n",
    "print(p < 0.05)\n",
    "\n",
    "# Pearson's correlation\n",
    "corr, p = stats.pearsonr(x, y)\n",
    "print(p < 0.05)"
   ]
  },
  {
   "cell_type": "markdown",
   "id": "319d57e8",
   "metadata": {},
   "source": [
    "#### Framework to Conduct a Data Analysis\n",
    "1. Data Cleaning\n",
    "    - Starting with collected data (Excel sheets), combine data by patient ID\n",
    "    - Remove outliers and handle missing data\n",
    "    - Standardize and scale data (all data should be numeric or binary)\n",
    "    - Encode categorical data\n",
    "1. Exploratory Analysis\n",
    "    - Evaluate for normality\n",
    "    - Evaluate for multicollinearity (regression analysis)\n",
    "1. Data Analysis\n",
    "    - Descriptive stats\n",
    "        - Student's t-test for numeric and chi-squared for binary data\n",
    "    - Regression analysis\n",
    "        - Linear and logistic regression\n",
    "1. Report Data\n",
    "    - Metrics include: means, standard deviations, counts, percentages, p-values, relative risks, odds ratios, confidence intervals, etc.\n",
    "    - Visualizations include:\n",
    "        - Descriptive Tables\n",
    "        - Bar and boxplots\n",
    "        - Forest plots\n",
    "        - ROC curves\n",
    "        - Survival plots"
   ]
  },
  {
   "cell_type": "markdown",
   "id": "8f7bd354",
   "metadata": {},
   "source": [
    "# 7. Next Steps\n",
    "<a id='next_steps'></a>"
   ]
  },
  {
   "cell_type": "markdown",
   "id": "1d220121",
   "metadata": {},
   "source": [
    "#### What do I do with this knowledge?\n",
    "- Research\n",
    "    - Many labs and projects need help with statistics\n",
    "    - Database studies are purely computer-based and do not require an IRB\n",
    "    - Everything you can do in things like GraphPad Prism, STATA, and SPSS, you can do in Python!\n",
    "- Clinical tools\n",
    "    - e.g. create a tool to screen for tumors in brain MRIs\n",
    "- Academic tools\n",
    "    - e.g. create a scheduler for volunteering shifts\n",
    "- Personal use\n",
    "    - e.g. create a interface to keep track of workouts\n",
    "\n",
    "#### What happens if I get stuck?\n",
    "- Copy and paste your error into Google and go from there\n",
    "    - Important to learn the terminology so you can Google effectively\n",
    "- https://stackoverflow.com/\n",
    "\n",
    "#### Continued Learning\n",
    "- What we covered today is just the tip of the tip of the iceberg. Just like in medicine, learning in programming never ends\n",
    "    - https://learnpython.org/\n",
    "    - https://www.codecademy.com/\n",
    "    - https://google.github.io/styleguide/pyguide.html (Google Python Style Guide)\n",
    "    - Learn bash scripting to get around your terminal and file system\n",
    "\n",
    "- Other tools you might want to download: \n",
    "    - Visual Studio Code or PyCharm are two free and feature-rich development environment (alternatives to Jupyter)\n",
    "\n",
    "- Useful libraries to look into:\n",
    "    - Data Science and Statistics\n",
    "        - Pandas\n",
    "        - SciPy\n",
    "        - Numpy\n",
    "        - Statsmodels\n",
    "        - Matplotlib/Plotly/Seaborn for data visualization (e.g. making figures)\n",
    "    - Machine Learning\n",
    "        - OpenCV (also computer vision)\n",
    "        - Scikit-learn\n",
    "        - Tensorflow\n",
    "        - Keras\n",
    "        - PyTorch\n",
    "    - Software Development\n",
    "        - Tkinter/PyQT (user interfaces)\n",
    "        - Django/Flask: (application backends)\n",
    "    - Biological Computation\n",
    "        - BioPython\n",
    "    - Whatever you want to do, there's probably a library to help you do it\n",
    "\n",
    "#### Potential Future Sessions\n",
    "- We will potentially host more advanced future sessions based on interest from you guys\n",
    "- Potential sessions include:\n",
    "    - Data analysis for research workshop\n",
    "    - Leetcode/algorithms workshop\n",
    "    - Intro to scripting\n",
    "    - Intro to machine learning and computer vision\n",
    "    - Whatever you guys want to learn!\n",
    "- Please complete the post-survey to incidate which sessions you're interested in!"
   ]
  },
  {
   "cell_type": "code",
   "execution_count": null,
   "id": "49f8a225",
   "metadata": {},
   "outputs": [],
   "source": []
  }
 ],
 "metadata": {
  "kernelspec": {
   "display_name": "Python 3 (ipykernel)",
   "language": "python",
   "name": "python3"
  },
  "language_info": {
   "codemirror_mode": {
    "name": "ipython",
    "version": 3
   },
   "file_extension": ".py",
   "mimetype": "text/x-python",
   "name": "python",
   "nbconvert_exporter": "python",
   "pygments_lexer": "ipython3",
   "version": "3.10.9"
  }
 },
 "nbformat": 4,
 "nbformat_minor": 5
}
