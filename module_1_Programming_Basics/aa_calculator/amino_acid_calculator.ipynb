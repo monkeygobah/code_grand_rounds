{
 "cells": [
  {
   "cell_type": "markdown",
   "metadata": {},
   "source": []
  },
  {
   "cell_type": "markdown",
   "metadata": {},
   "source": [
    "# Amino acid calculator\n",
    "#### data was taken from hmdb.ca/proteins/HMDBP02075 and fasta header was introduced to provide practice "
   ]
  },
  {
   "cell_type": "markdown",
   "metadata": {},
   "source": [
    "## Import amino acid sequence from fasta file and make sure its length is valid\n"
   ]
  },
  {
   "cell_type": "code",
   "execution_count": 2,
   "metadata": {},
   "outputs": [],
   "source": [
    "## define path to albumin gene txt file\n",
    "\n",
    "albumin_gene_file =  'albumin_gene.txt'\n",
    "\n",
    "# Open the file in read mode\n",
    "with open(albumin_gene_file, 'r') as file:\n",
    "    # Read the entire content of the file\n",
    "    # .read() reads the file\n",
    "    # .strip() removes any leading or trailin white space\n",
    "    # .split('\\n') makes a temporary list of all elements using \\n as a separator(makes a new list of every line)\n",
    "    # [1:] says selects the second line of the file to the end (because we dont want the header line!)\n",
    "    # '\\n.join' rebuilds the list using the \\n character as as separator (because that is what we split on!)\n",
    "    gene_sequence = '\\n'.join(file.read().strip().split('\\n')[1:])\n",
    "\n",
    "#remove pesky new line characters once and for all\n",
    "gene_sequence=gene_sequence.replace('\\n', '')\n",
    "\n",
    "\n",
    "# Make sure the DNA sequence length is divisible by 3\n",
    "# try changing this number and see what happens\n",
    "if len(gene_sequence) % 3 != 0:\n",
    "    raise ValueError(\"Invalid DNA sequence length\")\n"
   ]
  },
  {
   "cell_type": "markdown",
   "metadata": {},
   "source": [
    "### Extract codons from the gene sequence using a loop"
   ]
  },
  {
   "cell_type": "code",
   "execution_count": 3,
   "metadata": {},
   "outputs": [
    {
     "name": "stdout",
     "output_type": "stream",
     "text": [
      "['ATG', 'AAG', 'TGG', 'GTA', 'ACC', 'TTT', 'ATT', 'TCC', 'CTT', 'CTT', 'TTT', 'CTC', 'TTT', 'AGC', 'TCG', 'GCT', 'TAT', 'TCC', 'AGG', 'GGT', 'GTG', 'TTT', 'CGT', 'CGA', 'GAT', 'GCA', 'CAC', 'AAG', 'AGT', 'GAG', 'GTT', 'GCT', 'CAT', 'CGG', 'TTT', 'AAA', 'GAT', 'TTG', 'GGA', 'GAA', 'GAA', 'AAT', 'TTC', 'AAA', 'GCC', 'TTG', 'GTG', 'TTG', 'ATT', 'GCC', 'TTT', 'GCT', 'CAG', 'TAT', 'CTT', 'CAG', 'CAG', 'TGT', 'CCA', 'TTT', 'GAA', 'GAT', 'CAT', 'GTA', 'AAA', 'TTA', 'GTG', 'AAT', 'GAA', 'GTA', 'ACT', 'GAA', 'TTT', 'GCA', 'AAA', 'ACA', 'TGT', 'GTT', 'GCT', 'GAT', 'GAG', 'TCA', 'GCT', 'GAA', 'AAT', 'TGT', 'GAC', 'AAA', 'TCA', 'CTT', 'CAT', 'ACC', 'CTT', 'TTT', 'GGA', 'GAC', 'AAA', 'TTA', 'TGC', 'ACA', 'GTT', 'GCA', 'ACT', 'CTT', 'CGT', 'GAA', 'ACC', 'TAT', 'GGT', 'GAA', 'ATG', 'GCT', 'GAC', 'TGC', 'TGT', 'GCA', 'AAA', 'CAA', 'GAA', 'CCT', 'GGG', 'AGA', 'AAT', 'GAA', 'TGC', 'TTC', 'TTG', 'CAA', 'CAC', 'AAA', 'GAT', 'GAC', 'AAC', 'CCA', 'AAC', 'CTC', 'CCC', 'CGA', 'TTG', 'GTG', 'AGA', 'CCA', 'GAG', 'GTT', 'GAT', 'GTG', 'ATG', 'TGC', 'ACT', 'GCT', 'TTT', 'CAT', 'GAC', 'AAT', 'GAA', 'GAG', 'ACA', 'TTT', 'TTG', 'AAA', 'AAA', 'TAC', 'TTA', 'TAT', 'GAA', 'ATT', 'GCC', 'AGA', 'AGA', 'CAT', 'CCT', 'TAC', 'TTT', 'TAT', 'GCC', 'CCG', 'GAA', 'CTC', 'CTT', 'TTC', 'TTT', 'GCT', 'AAA', 'AGG', 'TAT', 'AAA', 'GCT', 'GCT', 'TTT', 'ACA', 'GAA', 'TGT', 'TGC', 'CAA', 'GCT', 'GCT', 'GAT', 'AAA', 'GCT', 'GCC', 'TGC', 'CTG', 'TTG', 'CCA', 'AAG', 'CTC', 'GAT', 'GAA', 'CTT', 'CGG', 'GAT', 'GAA', 'GGG', 'AAG', 'GCT', 'TCG', 'TCT', 'GCC', 'AAA', 'CAG', 'AGA', 'CTC', 'AAG', 'TGT', 'GCC', 'AGT', 'CTC', 'CAA', 'AAA', 'TTT', 'GGA', 'GAA', 'AGA', 'GCT', 'TTC', 'AAA', 'GCA', 'TGG', 'GCA', 'GTA', 'GCT', 'CGC', 'CTG', 'AGC', 'CAG', 'AGA', 'TTT', 'CCC', 'AAA', 'GCT', 'GAG', 'TTT', 'GCA', 'GAA', 'GTT', 'TCC', 'AAG', 'TTA', 'GTG', 'ACA', 'GAT', 'CTT', 'ACC', 'AAA', 'GTC', 'CAC', 'ACG', 'GAA', 'TGC', 'TGC', 'CAT', 'GGA', 'GAT', 'CTG', 'CTT', 'GAA', 'TGT', 'GCT', 'GAT', 'GAC', 'AGG', 'GCG', 'GAC', 'CTT', 'GCC', 'AAG', 'TAT', 'ATC', 'TGT', 'GAA', 'AAT', 'CAA', 'GAT', 'TCG', 'ATC', 'TCC', 'AGT', 'AAA', 'CTG', 'AAG', 'GAA', 'TGC', 'TGT', 'GAA', 'AAA', 'CCT', 'CTG', 'TTG', 'GAA', 'AAA', 'TCC', 'CAC', 'TGC', 'ATT', 'GCC', 'GAA', 'GTG', 'GAA', 'AAT', 'GAT', 'GAG', 'ATG', 'CCT', 'GCT', 'GAC', 'TTG', 'CCT', 'TCA', 'TTA', 'GCT', 'GCT', 'GAT', 'TTT', 'GTT', 'GAA', 'AGT', 'AAG', 'GAT', 'GTT', 'TGC', 'AAA', 'AAC', 'TAT', 'GCT', 'GAG', 'GCA', 'AAG', 'GAT', 'GTC', 'TTC', 'TTG', 'GGC', 'ATG', 'TTT', 'TTG', 'TAT', 'GAA', 'TAT', 'GCA', 'AGA', 'AGG', 'CAT', 'CCT', 'GAT', 'TAC', 'TCT', 'GTC', 'GTG', 'CTG', 'CTG', 'CTG', 'AGA', 'CTT', 'GCC', 'AAG', 'ACA', 'TAT', 'GAA', 'ACC', 'ACT', 'CTA', 'GAG', 'AAG', 'TGC', 'TGT', 'GCC', 'GCT', 'GCA', 'GAT', 'CCT', 'CAT', 'GAA', 'TGC', 'TAT', 'GCC', 'AAA', 'GTG', 'TTC', 'GAT', 'GAA', 'TTT', 'AAA', 'CCT', 'CTT', 'GTG', 'GAA', 'GAG', 'CCT', 'CAG', 'AAT', 'TTA', 'ATC', 'AAA', 'CAA', 'AAT', 'TGT', 'GAG', 'CTT', 'TTT', 'GAG', 'CAG', 'CTT', 'GGA', 'GAG', 'TAC', 'AAA', 'TTC', 'CAG', 'AAT', 'GCG', 'CTG', 'TTA', 'GTT', 'CGT', 'TAC', 'ACC', 'AAG', 'AAA', 'GTA', 'CCC', 'GAA', 'GTG', 'TCA', 'ACT', 'CCA', 'ACT', 'CTT', 'GTA', 'GAG', 'GTC', 'TCA', 'AGA', 'AAC', 'CTA', 'GGA', 'AAA', 'GTG', 'GGC', 'AGC', 'AAA', 'TGT', 'TGT', 'AAA', 'CAT', 'CCT', 'GAA', 'GCA', 'AAA', 'AGA', 'ATG', 'CCC', 'TGT', 'GCA', 'GAA', 'GAC', 'TAT', 'CTA', 'TCC', 'GTG', 'GTC', 'CTG', 'AAC', 'CAG', 'TTA', 'TGT', 'GTG', 'TTG', 'CAT', 'GAG', 'AAA', 'ACG', 'CCA', 'GTA', 'AGT', 'GAC', 'AGA', 'GTC', 'ACC', 'AAA', 'TGC', 'TGC', 'ACA', 'GAA', 'TCC', 'TTG', 'GTG', 'AAC', 'AGG', 'CGA', 'CCA', 'TGC', 'TTT', 'TCA', 'GCT', 'CTG', 'GAA', 'GTC', 'GAT', 'GAA', 'ACA', 'TAC', 'GTT', 'CCC', 'AAA', 'GAG', 'TTT', 'AAT', 'GCT', 'GAA', 'ACA', 'TTC', 'ACC', 'TTC', 'CAT', 'GCA', 'GAT', 'ATA', 'TGC', 'ACA', 'CTT', 'TCT', 'GAG', 'AAG', 'GAG', 'AGA', 'CAA', 'ATC', 'AAG', 'AAA', 'CAA', 'ACT', 'GCA', 'CTT', 'GTT', 'GAG', 'CTC', 'GTG', 'AAA', 'CAC', 'AAG', 'CCC', 'AAG', 'GCA', 'ACA', 'AAA', 'GAG', 'CAA', 'CTG', 'AAA', 'GCT', 'GTT', 'ATG', 'GAT', 'GAT', 'TTC', 'GCT', 'GCT', 'TTT', 'GTA', 'GAG', 'AAG', 'TGC', 'TGC', 'AAG', 'GCT', 'GAC', 'GAT', 'AAG', 'GAG', 'ACC', 'TGC', 'TTT', 'GCC', 'GAG', 'GAG', 'GGT', 'AAA', 'AAA', 'CTT', 'GTT', 'GCT', 'GCA', 'AGT', 'CAA', 'GCT', 'GCC', 'TTA', 'GGC', 'TTA', 'TAA']\n"
     ]
    }
   ],
   "source": [
    "# Split the gene sequence into codons\n",
    "# this loop starts at 0 and goes til the length of our gene, incrementing by 3 at each step (0,3,6,9...)\n",
    "# append appends each substring from gene sequence as a codon\n",
    "albumin_codons = []\n",
    "for i in range(0, len(gene_sequence), 3):\n",
    "    albumin_codons.append(gene_sequence[i:i+3])\n",
    "\n",
    "# Print the list of codons\n",
    "print(albumin_codons)"
   ]
  },
  {
   "cell_type": "markdown",
   "metadata": {},
   "source": [
    "### Define Dictionary to relate codons to amino acids\n",
    "##### Note: there is an easier way to do this using the'biopython' library. Feel free to give that a try on your own!"
   ]
  },
  {
   "cell_type": "code",
   "execution_count": 4,
   "metadata": {},
   "outputs": [],
   "source": [
    "#Dictionary with key: value pairs codon: amino acid respectively\n",
    "codon_table = {\n",
    "    'TTT': 'F', 'TTC': 'F', 'TTA': 'L', 'TTG': 'L',\n",
    "    'TCT': 'S', 'TCC': 'S', 'TCA': 'S', 'TCG': 'S',\n",
    "    'TAT': 'Y', 'TAC': 'Y', 'TAA': '*', 'TAG': '*',\n",
    "    'TGT': 'C', 'TGC': 'C', 'TGA': '*', 'TGG': 'W',\n",
    "    'CTT': 'L', 'CTC': 'L', 'CTA': 'L', 'CTG': 'L',\n",
    "    'CCT': 'P', 'CCC': 'P', 'CCA': 'P', 'CCG': 'P',\n",
    "    'CAT': 'H', 'CAC': 'H', 'CAA': 'Q', 'CAG': 'Q',\n",
    "    'CGT': 'R', 'CGC': 'R', 'CGA': 'R', 'CGG': 'R',\n",
    "    'ATT': 'I', 'ATC': 'I', 'ATA': 'I', 'ATG': 'M',\n",
    "    'ACT': 'T', 'ACC': 'T', 'ACA': 'T', 'ACG': 'T',\n",
    "    'AAT': 'N', 'AAC': 'N', 'AAA': 'K', 'AAG': 'K',\n",
    "    'AGT': 'S', 'AGC': 'S', 'AGA': 'R', 'AGG': 'R',\n",
    "    'GTT': 'V', 'GTC': 'V', 'GTA': 'V', 'GTG': 'V',\n",
    "    'GCT': 'A', 'GCC': 'A', 'GCA': 'A', 'GCG': 'A',\n",
    "    'GAT': 'D', 'GAC': 'D', 'GAA': 'E', 'GAG': 'E',\n",
    "    'GGT': 'G', 'GGC': 'G', 'GGA': 'G', 'GGG': 'G'\n",
    "}"
   ]
  },
  {
   "cell_type": "markdown",
   "metadata": {},
   "source": [
    "### Iterate through our codon list and create an amino acid list \n"
   ]
  },
  {
   "cell_type": "code",
   "execution_count": 5,
   "metadata": {},
   "outputs": [
    {
     "name": "stdout",
     "output_type": "stream",
     "text": [
      "MKWVTFISLLFLFSSAYSRGVFRRDAHKSEVAHRFKDLGEENFKALVLIAFAQYLQQCPFEDHVKLVNEVTEFAKTCVADESAENCDKSLHTLFGDKLCTVATLRETYGEMADCCAKQEPGRNECFLQHKDDNPNLPRLVRPEVDVMCTAFHDNEETFLKKYLYEIARRHPYFYAPELLFFAKRYKAAFTECCQAADKAACLLPKLDELRDEGKASSAKQRLKCASLQKFGERAFKAWAVARLSQRFPKAEFAEVSKLVTDLTKVHTECCHGDLLECADDRADLAKYICENQDSISSKLKECCEKPLLEKSHCIAEVENDEMPADLPSLAADFVESKDVCKNYAEAKDVFLGMFLYEYARRHPDYSVVLLLRLAKTYETTLEKCCAAADPHECYAKVFDEFKPLVEEPQNLIKQNCELFEQLGEYKFQNALLVRYTKKVPEVSTPTLVEVSRNLGKVGSKCCKHPEAKRMPCAEDYLSVVLNQLCVLHEKTPVSDRVTKCCTESLVNRRPCFSALEVDETYVPKEFNAETFTFHADICTLSEKERQIKKQTALVELVKHKPKATKEQLKAVMDDFAAFVEKCCKADDKETCFAEEGKKLVAASQAALGL*\n"
     ]
    }
   ],
   "source": [
    "calculated_amino_acid_sequence = ''\n",
    "\n",
    "for codon in albumin_codons:\n",
    "    # get is a command that returns the value for a given key in a dictionary\n",
    "    # An X will get inserted for unknown codons\n",
    "    amino_acid = codon_table.get(codon, 'X')  \n",
    "    calculated_amino_acid_sequence += amino_acid\n",
    "\n",
    "print(calculated_amino_acid_sequence)"
   ]
  },
  {
   "cell_type": "markdown",
   "metadata": {},
   "source": [
    "## Lets check how we did!   "
   ]
  },
  {
   "cell_type": "code",
   "execution_count": 6,
   "metadata": {},
   "outputs": [
    {
     "name": "stdout",
     "output_type": "stream",
     "text": [
      "120\n",
      "440\n",
      "0.9967\n"
     ]
    }
   ],
   "source": [
    "# For every matching amino acid in the reference file, check if we got the same amino acid and compute a percentile score\n",
    "\n",
    "albumin_aa_file =  'albumin_aa.txt'\n",
    "\n",
    "\n",
    "# Open the file in read mode\n",
    "with open(albumin_aa_file, 'r') as file:\n",
    "    # Read the entire content of the file\n",
    "    # .read() reads the file\n",
    "    # .strip() removes any leading or trailin white space\n",
    "    # .split('\\n') makes a temporary list of all elements using \\n as a separator(makes a new list of every line)\n",
    "    # [1:] says selects the second line of the file to the end (because we dont want the header line!)\n",
    "    # '\\n.join' rebuilds the list using the \\n character as as separator (because that is what we split on!)\n",
    "    true_aa_sequence = '\\n'.join(file.read().strip().split('\\n')[1:])\n",
    "\n",
    "#remove pesky new line characters once and for all\n",
    "true_aa_sequence=true_aa_sequence.replace('\\n', '')\n",
    "\n",
    "# this will get updated soon\n",
    "score_numerator = 0 \n",
    "# we use the length of the true amino acid sequence as our dictionary has a * for stop codons which is not present in the \n",
    "# true aa sequence. this makes true aa sequence < calculated aa sequence by 1 amino acid\n",
    "score_denominator = len(true_aa_sequence)\n",
    "\n",
    "# check how many we got right and print out the indices of incorrect amino acids\n",
    "for i in range(0,len(true_aa_sequence)):\n",
    "    if calculated_amino_acid_sequence[i] == true_aa_sequence[i]:\n",
    "        score_numerator += 1\n",
    "    else:\n",
    "        print(i)\n",
    "    \n",
    "result = score_numerator/score_denominator  \n",
    "print(round(result,4))\n",
    "\n"
   ]
  },
  {
   "cell_type": "markdown",
   "metadata": {},
   "source": [
    "## We got two incorrect! Not bad! It is harder to go the other way as multiple codons can encode for the same amino acid, but feel free to give it a try! Or try to make mRNA from the DNA!"
   ]
  },
  {
   "cell_type": "markdown",
   "metadata": {},
   "source": []
  }
 ],
 "metadata": {
  "kernelspec": {
   "display_name": "mnist",
   "language": "python",
   "name": "python3"
  },
  "language_info": {
   "codemirror_mode": {
    "name": "ipython",
    "version": 3
   },
   "file_extension": ".py",
   "mimetype": "text/x-python",
   "name": "python",
   "nbconvert_exporter": "python",
   "pygments_lexer": "ipython3",
   "version": "3.11.3"
  },
  "orig_nbformat": 4
 },
 "nbformat": 4,
 "nbformat_minor": 2
}
