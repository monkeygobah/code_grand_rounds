{
 "cells": [
  {
   "attachments": {},
   "cell_type": "markdown",
   "id": "dfedb5fb",
   "metadata": {},
   "source": [
    "# **Python Basics 1**\n",
    "\n",
    "### **`Welcome`** to your very first coding lesson! We applaud you for beginning this journey and are so excited to dive in together. While the field of computer science is immensely deep and people can and obvioiusly do spend entire careers puruing advancements in the field, people in the medical field can greatly enhance their ability and skillsets by learning some of the basics which can be applied in immunmerable different contexts. That is the whole mission of Code Grand Rounds! From this moudule on we will teach you the basics of programming giving you the most distilled, high yield concepts you need to know in order to go from knowing nothing to being able to do computational experiments on your own.\n",
    "\n",
    "### This journey starts from learning the bare basics. From this point on in your career, when you are writing computer code we want you to think that you are having a conversation with your computer. The initial challenge is learning the language that computers speak, and that is what we are going to cover in the module.\n",
    "\n",
    "### Just like when you are learning a new language to talk to another human, when learning a new computer lanuage you have to learn the verbs, nouns, etc that computers use to communicate. The language we will be focusing on here is Python. It is one of the most widely utilized languages, and by learning it you will have access to thousands of pre built, free tools that will enable you to do anything from make basic calculators to building full stack AI applications.\n",
    "\n",
    "### Our philosophy at Code Grand Rounds is this- you first need to understand the syntax (or language) of computer coding. As you go through this notebook you might be surprised at how intuituive is! And if it is not intuitive at first, fear not! With practice and time it will come.  Once you understand these basics and know how to talk to your computer (as well as learn how to listen when it talks back to you through errors) the focus switches to needing to understand the principles and concepts of the tools (statistics, machine learning, etc) that you need to solve problems. We are here to take you through this whole process start to finish.\n",
    "\n",
    "### It is also good to keep in mind that in the grand scale of things, coding (like everything else) takes time and practice. Things rarely if ever work on the first try, but we can guarantee the more you practice and spend time implementing these concepts the picture will begin to be made clear.\n",
    "\n",
    "### Without further ado, lets dive in! In this module you are going to learn the basic tools and tricks of Python. By working through the projects in this module (as well as all of Code Grand Rounds) you will start to see how these basic tools can be combined together to make awesome stuff."
   ]
  },
  {
   "attachments": {},
   "cell_type": "markdown",
   "id": "a43e276c",
   "metadata": {},
   "source": [
    "## **Basics**\n",
    "\n",
    "### Before we write any code, let's get familiar with some of the stuff you will see in every piece of code you read or write for the rest of your life.\n",
    "\n",
    "### The first are called inline comments. These are just little notes you can leave in your code so you (or someone else) can understand what your code is doing. Thy are denoted by a `#`. Your computer knows to just ignore these when executing your code, but it is certainly best practice to leave these comments in your code so you don't forget what you did."
   ]
  },
  {
   "cell_type": "code",
   "execution_count": 40,
   "id": "2b46aa11",
   "metadata": {},
   "outputs": [],
   "source": [
    "# This is an inline comment. This does not do anything, but allows you to make notes for yourself or other readers"
   ]
  },
  {
   "attachments": {},
   "cell_type": "markdown",
   "id": "3c579bbb",
   "metadata": {},
   "source": [
    "### The next are   `print` statements. `print` tells your computer to literally print out whatever is within the brackets `()` to the computer. You will use these extensively when debugging as it allows you to see what is happening within your program. You can print both letters and numbers, but make sure to put letters in `''` otherwise you will confuse your computer. You will soon learn why! "
   ]
  },
  {
   "cell_type": "code",
   "execution_count": 41,
   "id": "7e5f621f",
   "metadata": {},
   "outputs": [
    {
     "name": "stdout",
     "output_type": "stream",
     "text": [
      "Hello, World!\n"
     ]
    }
   ],
   "source": [
    "# This is a print statement. You will use this extensively when debugging your code. It returns an output to your computer \n",
    "\n",
    "print('Hello, World!')"
   ]
  },
  {
   "cell_type": "code",
   "execution_count": 42,
   "id": "babe47b4",
   "metadata": {},
   "outputs": [
    {
     "name": "stdout",
     "output_type": "stream",
     "text": [
      "1\n"
     ]
    }
   ],
   "source": [
    "print(1)"
   ]
  },
  {
   "attachments": {},
   "cell_type": "markdown",
   "id": "9059041b",
   "metadata": {},
   "source": [
    "### The last thing you should know before going further are what errors are. If writing code is you talking to your computer, errors are your computer talking back to you. Getting comfortable reading errors is a key part of coding, and you will see many, many errors in your CS career. When you run the cell below you will see an error pop up that says something is wrong with your program and your computer is confused! In this case, it is a syntax error which normally means you mispelled something or forgot to include some grammatical mark the language requires (in this case, a closing parenthese)."
   ]
  },
  {
   "cell_type": "code",
   "execution_count": 43,
   "id": "d65a5b72",
   "metadata": {},
   "outputs": [
    {
     "ename": "SyntaxError",
     "evalue": "incomplete input (403058330.py, line 1)",
     "output_type": "error",
     "traceback": [
      "\u001b[0;36m  Cell \u001b[0;32mIn[43], line 1\u001b[0;36m\u001b[0m\n\u001b[0;31m    print('Hello World'\u001b[0m\n\u001b[0m                       ^\u001b[0m\n\u001b[0;31mSyntaxError\u001b[0m\u001b[0;31m:\u001b[0m incomplete input\n"
     ]
    }
   ],
   "source": [
    "print('Hello World'"
   ]
  },
  {
   "attachments": {},
   "cell_type": "markdown",
   "id": "a4dbf18c",
   "metadata": {},
   "source": [
    "## **Data Types**\n",
    "\n",
    "### Just like how we as humans understand words as a function of their role in grammar (nouns, verbs, adverbs, etc), computers understand code based on data types. Things like numbers, decimals, words, and True/ False values all have their own `type` in computer language, and this is an important concept. Before we really get into what this means in practice, we will just go through and show you some of the main data types in Python so you are familiar."
   ]
  },
  {
   "attachments": {},
   "cell_type": "markdown",
   "id": "86202f5d",
   "metadata": {},
   "source": [
    "### Booleans- these are just True or False and are interpreted by computers as either 1s or 0s under the hood, but they are useful in a variety of scenarios."
   ]
  },
  {
   "cell_type": "code",
   "execution_count": null,
   "id": "a8e0b4fa",
   "metadata": {},
   "outputs": [],
   "source": [
    "# True/False is interpreted the same as 1/0\n",
    "print(True)\n",
    "print(False)\n"
   ]
  },
  {
   "attachments": {},
   "cell_type": "markdown",
   "id": "a6af2cff",
   "metadata": {},
   "source": [
    "### Integers- these are just normal ole integers. No decimals and nothing fancy"
   ]
  },
  {
   "cell_type": "code",
   "execution_count": null,
   "id": "ff8901ab",
   "metadata": {},
   "outputs": [],
   "source": [
    "print(1)"
   ]
  },
  {
   "attachments": {},
   "cell_type": "markdown",
   "id": "8c979603",
   "metadata": {},
   "source": [
    "### Floats- these are decimals. It is confusing why decimals and integers dont have the same type, but they don't, so there you go!"
   ]
  },
  {
   "cell_type": "code",
   "execution_count": null,
   "id": "1c868ece",
   "metadata": {},
   "outputs": [],
   "source": [
    "print(3.1415)"
   ]
  },
  {
   "attachments": {},
   "cell_type": "markdown",
   "id": "c9e517c4",
   "metadata": {},
   "source": [
    "### Strings- Anytime you have to represent text (can be in word or number form) to a computer it is called a string! There are implication to strings, integers, and decimals all having their own type which will become clear very soon."
   ]
  },
  {
   "cell_type": "code",
   "execution_count": null,
   "id": "85045dcd",
   "metadata": {
    "scrolled": true
   },
   "outputs": [],
   "source": [
    "print('Hello, World!') # 'Hello World' is the string that we are printing"
   ]
  },
  {
   "attachments": {},
   "cell_type": "markdown",
   "id": "066e302f",
   "metadata": {},
   "source": [
    "## Variables- very rarely, if ever, do you just want to have a transient data type when building computer programs, so we can store data in the memory of your computer by assisning the data to a variable. Variables can hold any data type (string, float, int, etc), but they allow you to reuse the varaiable later in your program."
   ]
  },
  {
   "cell_type": "code",
   "execution_count": null,
   "id": "10a10966",
   "metadata": {},
   "outputs": [],
   "source": [
    "var = 'Hello, World!'\n",
    "\n",
    "print(var)"
   ]
  },
  {
   "attachments": {},
   "cell_type": "markdown",
   "id": "9464540d",
   "metadata": {},
   "source": [
    "### Make sure to name your variables something that makes sense as it is possible to overwrite a variable on accident and this will replace the data in memory."
   ]
  },
  {
   "cell_type": "code",
   "execution_count": null,
   "id": "5ff340e0",
   "metadata": {},
   "outputs": [],
   "source": [
    "# var still has hello world\n",
    "print(var)\n",
    "\n",
    "# change the value of var\n",
    "var = 'new stuff'\n",
    "\n",
    "# print again to see \n",
    "print(var)"
   ]
  },
  {
   "attachments": {},
   "cell_type": "markdown",
   "id": "efc1a842",
   "metadata": {},
   "source": [
    "## **Basic Operations**\n",
    "\n",
    "### Now we are getting into the fun stuff. If and only if two things have the same data type (string, float, int, etc), you can do lots of stuff like basic math operations, join strings together into longer strings, check equality, etc. A lot of these operations in Python are the same as they are on pen and paper, so we will go through the basic moves pretty quickly below. Feel free to change the data around and experiment to see what happens."
   ]
  },
  {
   "cell_type": "code",
   "execution_count": null,
   "id": "8ce68421",
   "metadata": {},
   "outputs": [],
   "source": [
    "# Add ints\n",
    "print(3 + 2)"
   ]
  },
  {
   "cell_type": "code",
   "execution_count": null,
   "id": "29e17dcf",
   "metadata": {},
   "outputs": [],
   "source": [
    "# You can also add strings\n",
    "\n",
    "print('a' + 'b')"
   ]
  },
  {
   "cell_type": "code",
   "execution_count": null,
   "id": "635c6642",
   "metadata": {},
   "outputs": [],
   "source": [
    "### The same principle holds if use assign the strings/ integers to variables\n",
    "\n",
    "int_1 = 12\n",
    "int_2 = 15\n",
    "\n",
    "print(int_1 + int_2)\n",
    "\n",
    "letter_1 = 'a'\n",
    "letter_2 = 'b'\n",
    "\n",
    "print(letter_1 + letter_2)"
   ]
  },
  {
   "cell_type": "code",
   "execution_count": null,
   "id": "84780f2f",
   "metadata": {},
   "outputs": [],
   "source": [
    "# Subtract\n",
    "print(3 - 2)"
   ]
  },
  {
   "cell_type": "code",
   "execution_count": null,
   "id": "bcb28c5b",
   "metadata": {},
   "outputs": [],
   "source": [
    "# Multiply (note this is an asterisk)\n",
    "print(3 * 2)"
   ]
  },
  {
   "cell_type": "code",
   "execution_count": null,
   "id": "04556280",
   "metadata": {},
   "outputs": [],
   "source": [
    "# Divide\n",
    "\n",
    "print(3 / 2)"
   ]
  },
  {
   "cell_type": "code",
   "execution_count": null,
   "id": "4ae231bf",
   "metadata": {},
   "outputs": [],
   "source": [
    "# Remainder- this one can be a little confusing, but all it is doing is returning the remainder after a divison operation\n",
    "\n",
    "print(3 % 2)"
   ]
  },
  {
   "cell_type": "code",
   "execution_count": null,
   "id": "87f73ebc",
   "metadata": {},
   "outputs": [],
   "source": [
    "# Exponent- note this this 2 asterisks and NOT a \n",
    "\n",
    "print(2 ** 2)"
   ]
  },
  {
   "cell_type": "code",
   "execution_count": null,
   "id": "5fe241a9",
   "metadata": {},
   "outputs": [],
   "source": [
    "# Check if something is equal to something else. Note the use of the double equals sign!\n",
    "# In Python (and other languages), a single '=' denotes assignment (as when using variables)\n",
    "# A double equal sign '==' represents a check for equality, so it asks the computer is the thing on the left of '==' equal to the thing on the right. This is important and potentially confusing!\n",
    "\n",
    "print(1 == 2)"
   ]
  },
  {
   "cell_type": "code",
   "execution_count": null,
   "id": "2c530f18",
   "metadata": {},
   "outputs": [],
   "source": [
    "# Not equal to\n",
    "print(1 != 2)"
   ]
  },
  {
   "cell_type": "code",
   "execution_count": null,
   "id": "847cf1a4",
   "metadata": {},
   "outputs": [],
   "source": [
    "# Less than\n",
    "print(1 < 2)"
   ]
  },
  {
   "cell_type": "code",
   "execution_count": null,
   "id": "844792e4",
   "metadata": {},
   "outputs": [],
   "source": [
    "# Greater than\n",
    "print(2 > 1)"
   ]
  },
  {
   "cell_type": "code",
   "execution_count": null,
   "id": "7b0043d7",
   "metadata": {},
   "outputs": [],
   "source": [
    "# Less than or equal to\n",
    "print(1 <= 2)"
   ]
  },
  {
   "cell_type": "code",
   "execution_count": null,
   "id": "513bc457",
   "metadata": {},
   "outputs": [],
   "source": [
    "# Greater than or equal to\n",
    "\n",
    "print(2 >= 1)"
   ]
  },
  {
   "attachments": {},
   "cell_type": "markdown",
   "id": "ffa6fef4",
   "metadata": {},
   "source": [
    "### The next cell illustates the importance of types in CS. A common saying in the CS world is `different types don't play nice`. What this means is that you cannot always combine things that are of different types. \n",
    "\n",
    "### For example, if I asked you to compute the mathematical operation `2+apple`, you would be very confused. You cannot multiply an integer by a word! In the same sense, computers don't allow the combinatio on or operations with things of different types. Certain things (like numbers) can certainly be represented as a string and combined with other strings, but they need to be explicitly of the type string (or wrapped in parentheses)."
   ]
  },
  {
   "cell_type": "code",
   "execution_count": null,
   "id": "1a7b8ce3",
   "metadata": {},
   "outputs": [],
   "source": [
    "# this is allowed because both things are strings!\n",
    "print('2' + ' apples')\n",
    "\n",
    "# This is not allowed, as here 2 is an integer and apples is a string! Different types don't play nice!!\n",
    "print(2 + 'apples')"
   ]
  },
  {
   "attachments": {},
   "cell_type": "markdown",
   "id": "1e31cd73",
   "metadata": {},
   "source": [
    "## **Data Structures**\n",
    "\n",
    "### So if data types are akin to verbs and nouns, you might be wanting to know how to write sentences and then paragraphs using these basic building blocks. `Data structures` are the first step towards this. When writing code, the amount of variables (of any type!) you need can quickly get overwhelming. As such, one of the most fundamental building blocks of software are data structures, or more simply, things which can hold data within them.There are many types of data structures, but we will go over some of the most important ones here."
   ]
  },
  {
   "attachments": {},
   "cell_type": "markdown",
   "id": "e2448e88",
   "metadata": {},
   "source": [
    "## Lists\n",
    "\n",
    "### At this point in your computer science journey, lists are going to be your data structure of choice for a lot of stuff. They are one of the most simple, but most powerful types of data structure across all coding languages. All a list does is provide you a way to store a lot of data in one place. Say you were doing a math problem and made 20 variables to store all the numbers you need to hold (it's a really hard math problem), and also imagine that some of the variables you are using are kind of related to one another. You might make a separate list to store each of these related groups. While this is just a simple example, you will see that in practice storing data in lists is oftentimes *neccesary*, for example if you have a large about of data or are working on a large project. As such, it is great to get familiar with them early! \n",
    "\n",
    "### Lets start by learning how to define a list. Lists in python are denoted by having an open and close square bracket `[]`. The shape of the bracket is important, as other shapes mean different data structures which you will see very soon. But for now, lets just make an initial list."
   ]
  },
  {
   "cell_type": "code",
   "execution_count": null,
   "id": "0061c414",
   "metadata": {},
   "outputs": [
    {
     "name": "stdout",
     "output_type": "stream",
     "text": [
      "[1, 2]\n",
      "<class 'list'>\n"
     ]
    }
   ],
   "source": [
    "my_list = [1, 2] # to make a list, use the square brackets and put the stuff in your list inside\n",
    "\n",
    "print(my_list)\n",
    "print(type(my_list))"
   ]
  },
  {
   "attachments": {},
   "cell_type": "markdown",
   "id": "9cb37e21",
   "metadata": {},
   "source": [
    "### You can also store variables in lists to achieve the same outcome"
   ]
  },
  {
   "cell_type": "code",
   "execution_count": null,
   "id": "0bfaa458",
   "metadata": {},
   "outputs": [
    {
     "name": "stdout",
     "output_type": "stream",
     "text": [
      "[1, 2]\n"
     ]
    }
   ],
   "source": [
    "var_1 = 1\n",
    "var_2 = 2\n",
    "\n",
    "my_list = [var_1, var_2]\n",
    "print(my_list)"
   ]
  },
  {
   "attachments": {},
   "cell_type": "markdown",
   "id": "f2052a8b",
   "metadata": {},
   "source": [
    "### **List Operations**\n",
    "\n",
    "### One of the nice thing about lists is that there are many built in operations that are very convenient in a wide range of settings. You can add stuff to them, take stuff out of them, edit them, reverse them, basically if you want to do something to a list in Python there is probably an easy way to do it. \n",
    "\n",
    "### But first, lets talk about how you get stuff out of lists. Computers are 0 indexed, which means they start counting from 0. So the first element in a list, is the 0th element. This can be a little confusing, but this rule holds true for most everything in programming so it is good to get your head around now. \n",
    "\n",
    "### You can retrieve an item from a list by indexing its position. So if you have a list, you can just put another square bracket at the end of the list and return that item. "
   ]
  },
  {
   "cell_type": "code",
   "execution_count": null,
   "id": "931d8fcf",
   "metadata": {},
   "outputs": [
    {
     "name": "stdout",
     "output_type": "stream",
     "text": [
      "1 2\n"
     ]
    }
   ],
   "source": [
    "# Get element at position (list indexing)\n",
    "\n",
    "first_element = my_list[0] # 0 indexed so use 0 to get the first element\n",
    "\n",
    "second_element = my_list[1] # use 1 to get the second element\n",
    "\n",
    "print(first_element, second_element)"
   ]
  },
  {
   "attachments": {},
   "cell_type": "markdown",
   "id": "00d90b46",
   "metadata": {},
   "source": [
    "### If you accidentally try to retrieve an item from a list using indexing when no item exists, you will get an error that helps you understand what happened."
   ]
  },
  {
   "cell_type": "code",
   "execution_count": null,
   "id": "84e75d23",
   "metadata": {},
   "outputs": [
    {
     "ename": "IndexError",
     "evalue": "list index out of range",
     "output_type": "error",
     "traceback": [
      "\u001b[0;31m---------------------------------------------------------------------------\u001b[0m",
      "\u001b[0;31mIndexError\u001b[0m                                Traceback (most recent call last)",
      "Cell \u001b[0;32mIn[4], line 1\u001b[0m\n\u001b[0;32m----> 1\u001b[0m third_element \u001b[39m=\u001b[39m my_list[\u001b[39m2\u001b[39;49m] \u001b[39m# use 2 to get the third element....\u001b[39;00m\n\u001b[1;32m      2\u001b[0m \u001b[39mprint\u001b[39m(third_element)\n",
      "\u001b[0;31mIndexError\u001b[0m: list index out of range"
     ]
    }
   ],
   "source": [
    "third_element = my_list[2] # use 2 to get the third element....\n",
    "print(third_element)"
   ]
  },
  {
   "attachments": {},
   "cell_type": "markdown",
   "id": "2bd326cb",
   "metadata": {},
   "source": [
    "### You can also get the length of the list using the built in `len()' command "
   ]
  },
  {
   "cell_type": "code",
   "execution_count": null,
   "id": "b2e40d18",
   "metadata": {},
   "outputs": [
    {
     "name": "stdout",
     "output_type": "stream",
     "text": [
      "2\n"
     ]
    }
   ],
   "source": [
    "print(len(my_list)) # prints length of list"
   ]
  },
  {
   "attachments": {},
   "cell_type": "markdown",
   "id": "f9ed67b7",
   "metadata": {},
   "source": [
    "### You can also add data to lists very easily using the `append` command. Append always adds data to the back of the list!"
   ]
  },
  {
   "cell_type": "code",
   "execution_count": null,
   "id": "aa0b6a93",
   "metadata": {},
   "outputs": [
    {
     "name": "stdout",
     "output_type": "stream",
     "text": [
      "3\n",
      "[1, 2, 4]\n"
     ]
    }
   ],
   "source": [
    "\n",
    "my_list.append(4) # Append item to back of the list\n",
    "\n",
    "print(len(my_list))\n",
    "\n",
    "print(my_list)"
   ]
  },
  {
   "attachments": {},
   "cell_type": "markdown",
   "id": "22e37ed3",
   "metadata": {},
   "source": [
    "### You can also directly change the value of something in a list. To do this, you index the position you want to change using the same way we did earlier (`'my_list[index]`), and then setting that index to whatever you want."
   ]
  },
  {
   "cell_type": "code",
   "execution_count": null,
   "id": "f19eb80a",
   "metadata": {},
   "outputs": [
    {
     "name": "stdout",
     "output_type": "stream",
     "text": [
      "[1, 2, 4]\n",
      "[1, 2, 3]\n"
     ]
    }
   ],
   "source": [
    "print(my_list) # Print original list\n",
    "\n",
    "my_list[2] = 3 # change the value of the third item (because computers are 0 indexed!)\n",
    "\n",
    "print(my_list) # print the new list"
   ]
  },
  {
   "attachments": {},
   "cell_type": "markdown",
   "id": "640573cc",
   "metadata": {},
   "source": [
    "### Lists are also type agnostic, which means you can store data of all different types in a list."
   ]
  },
  {
   "cell_type": "code",
   "execution_count": null,
   "id": "40a0acef",
   "metadata": {},
   "outputs": [
    {
     "name": "stdout",
     "output_type": "stream",
     "text": [
      "[1, 2, 3, 'code_grand_rounds']\n"
     ]
    }
   ],
   "source": [
    "my_list.append('code_grand_rounds')\n",
    "print(my_list)"
   ]
  },
  {
   "attachments": {},
   "cell_type": "markdown",
   "id": "ca99addf",
   "metadata": {},
   "source": [
    "### You can reverse lists using the built in `.reverse()`, but keep in mind this will permanently change the order (unless you reverse it back...). It is not to say you will never do this, but it is good to know the consequences of your actions."
   ]
  },
  {
   "cell_type": "code",
   "execution_count": null,
   "id": "9ef293ed",
   "metadata": {},
   "outputs": [
    {
     "name": "stdout",
     "output_type": "stream",
     "text": [
      "['code_grand_rounds', 3, 2, 1]\n"
     ]
    }
   ],
   "source": [
    "# Reverse list\n",
    "\n",
    "my_list.reverse()\n",
    "\n",
    "print(my_list)"
   ]
  },
  {
   "attachments": {},
   "cell_type": "markdown",
   "id": "52647a47",
   "metadata": {},
   "source": [
    "### You can also sort a list! If you sort, your list must contain only the same data type, because different types don't play nice! For ints and floats, they will be sorted in ascending order, and lists of strings will be sorted alphabetically"
   ]
  },
  {
   "cell_type": "code",
   "execution_count": null,
   "id": "3cd2e818",
   "metadata": {},
   "outputs": [
    {
     "name": "stdout",
     "output_type": "stream",
     "text": [
      "['code', 'grand', 'rounds']\n",
      "[1.2, 2.5, 6.5]\n",
      "[21, 54, 645]\n"
     ]
    }
   ],
   "source": [
    "string_list = ['grand', 'code', 'rounds']\n",
    "string_list.sort()\n",
    "\n",
    "float_list = [2.5, 1.2, 6.5]\n",
    "float_list.sort()\n",
    "\n",
    "int_list = [54,21,645]\n",
    "int_list.sort()\n",
    "\n",
    "print(string_list)\n",
    "print(float_list)\n",
    "print(int_list)\n"
   ]
  },
  {
   "attachments": {},
   "cell_type": "markdown",
   "id": "a2b703ee",
   "metadata": {},
   "source": [
    "### You can also reverse sort a list if you so desire"
   ]
  },
  {
   "cell_type": "code",
   "execution_count": null,
   "id": "8be40f32",
   "metadata": {},
   "outputs": [
    {
     "name": "stdout",
     "output_type": "stream",
     "text": [
      "[645, 54, 21]\n"
     ]
    }
   ],
   "source": [
    "int_list.sort(reverse=True)\n",
    "print(int_list)\n"
   ]
  },
  {
   "attachments": {},
   "cell_type": "markdown",
   "id": "9ae3af7f",
   "metadata": {},
   "source": [
    "### The last thing we will show you about lists is that you can add them together, which can be useful if you made a bunch of smaller lists and want to end up with one big one!"
   ]
  },
  {
   "cell_type": "code",
   "execution_count": null,
   "id": "b3bbeb82",
   "metadata": {},
   "outputs": [
    {
     "data": {
      "text/plain": [
       "[645, 54, 21, 'code', 'grand', 'rounds', 1.2, 2.5, 6.5]"
      ]
     },
     "execution_count": 28,
     "metadata": {},
     "output_type": "execute_result"
    }
   ],
   "source": [
    "# Add lists\n",
    "big_list = int_list + string_list + float_list\n",
    "\n",
    "print(big_list)"
   ]
  },
  {
   "attachments": {},
   "cell_type": "markdown",
   "id": "951339ad",
   "metadata": {},
   "source": [
    "### We have just barely scratched the surface of list operations, but we hope you can see how they are a very versatile and useful data structure. They might not be that interesting now, but just think of them as one tool in an evergrowing toolkit which you are developing. \n",
    "\n",
    "### One other thing we want to mention here is a close cousin of the list called an array. In other coding languages, sometimes lists are actually called arrays, but in Python an array is a special kind of list that is more memory efficient and better for managing large amounts of data. They can also be multiple dimensions so theya are used in a lot of matrix operations. Most arrays will be implemented from a package called numpy, but you will learn all about these later in the course!"
   ]
  },
  {
   "attachments": {},
   "cell_type": "markdown",
   "id": "efe51341",
   "metadata": {},
   "source": [
    "## Tuples\n",
    "\n",
    "### We will very, very briefly also touch on tuples. Tuples are also very similar to lists in that they can store data, but they have one key difference in that they are immutable, meaning you cannot modify a tuple one you create them. This kind of functionality is good for when you have data you need to protect in your code so you don't mess something up by accident.\n",
    "\n",
    "### You can visually recognize a tuple because they are defined using the round parentheses `()` as opposed to lists which use square brackets."
   ]
  },
  {
   "cell_type": "code",
   "execution_count": null,
   "id": "bc00194c",
   "metadata": {},
   "outputs": [
    {
     "name": "stdout",
     "output_type": "stream",
     "text": [
      "(1, 2)\n",
      "<class 'tuple'>\n"
     ]
    }
   ],
   "source": [
    "my_tuple = (1, 2) # tuples live in round parentheses\n",
    "\n",
    "print(my_tuple)\n",
    "print(type(my_tuple))"
   ]
  },
  {
   "cell_type": "code",
   "execution_count": null,
   "id": "693d7a21",
   "metadata": {},
   "outputs": [
    {
     "name": "stdout",
     "output_type": "stream",
     "text": [
      "2\n"
     ]
    }
   ],
   "source": [
    "print(my_tuple[1]) # you can still index a tuple the same way as lists and get data out"
   ]
  },
  {
   "cell_type": "code",
   "execution_count": null,
   "id": "f05b3657",
   "metadata": {
    "scrolled": true
   },
   "outputs": [
    {
     "ename": "AttributeError",
     "evalue": "'tuple' object has no attribute 'append'",
     "output_type": "error",
     "traceback": [
      "\u001b[0;31m---------------------------------------------------------------------------\u001b[0m",
      "\u001b[0;31mAttributeError\u001b[0m                            Traceback (most recent call last)",
      "Cell \u001b[0;32mIn[34], line 2\u001b[0m\n\u001b[1;32m      1\u001b[0m \u001b[39m# because tuples are immutable, if you try to add data to them you will get an error!\u001b[39;00m\n\u001b[0;32m----> 2\u001b[0m my_tuple\u001b[39m.\u001b[39;49mappend(\u001b[39m3\u001b[39m)\n",
      "\u001b[0;31mAttributeError\u001b[0m: 'tuple' object has no attribute 'append'"
     ]
    }
   ],
   "source": [
    "# because tuples are immutable, if you try to add data to them you will get an error!\n",
    "my_tuple.append(3)"
   ]
  },
  {
   "attachments": {},
   "cell_type": "markdown",
   "id": "687261c9",
   "metadata": {},
   "source": [
    "## Dictionaries"
   ]
  },
  {
   "cell_type": "code",
   "execution_count": null,
   "id": "f929e73d",
   "metadata": {},
   "outputs": [],
   "source": [
    "my_dictionary = {\n",
    "    'first': 'John',\n",
    "    'second': 'Doe',\n",
    "    'systolic': 120,\n",
    "    'diastolic': 80\n",
    "}\n",
    "\n",
    "my_dictionary"
   ]
  },
  {
   "attachments": {},
   "cell_type": "markdown",
   "id": "2e731adc",
   "metadata": {},
   "source": [
    "### Dictionary Operations"
   ]
  },
  {
   "cell_type": "code",
   "execution_count": null,
   "id": "da991553",
   "metadata": {},
   "outputs": [],
   "source": [
    "# Get value\n",
    "\n",
    "my_dictionary['first']"
   ]
  },
  {
   "cell_type": "code",
   "execution_count": null,
   "id": "505804b7",
   "metadata": {},
   "outputs": [],
   "source": [
    "# Set value\n",
    "\n",
    "my_dictionary['first'] = 'Jane'\n",
    "\n",
    "my_dictionary"
   ]
  },
  {
   "attachments": {},
   "cell_type": "markdown",
   "id": "761b2350",
   "metadata": {},
   "source": [
    "## Debugging"
   ]
  },
  {
   "cell_type": "code",
   "execution_count": null,
   "id": "23cba337",
   "metadata": {},
   "outputs": [
    {
     "name": "stdout",
     "output_type": "stream",
     "text": [
      "Desired Outcome:\n",
      "[1, 4, 6, 8, 9, 10]\n",
      "\n",
      "Actual Outcome:\n",
      "[0, 1, 4, 6, 8, 9]\n"
     ]
    }
   ],
   "source": [
    "# Create a list from 1 to 10 with primes removed\n",
    "\n",
    "l = []\n",
    "primes = [2, 3, 5, 7]\n",
    "\n",
    "for x in range(10):\n",
    "    if (x not in primes):\n",
    "        l.append(x)\n",
    "        \n",
    "print(f'Desired Outcome:\\n[1, 4, 6, 8, 9, 10]\\n\\nActual Outcome:\\n{l}')"
   ]
  },
  {
   "cell_type": "code",
   "execution_count": null,
   "id": "49f8a225",
   "metadata": {},
   "outputs": [],
   "source": []
  }
 ],
 "metadata": {
  "kernelspec": {
   "display_name": "Python 3 (ipykernel)",
   "language": "python",
   "name": "python3"
  },
  "language_info": {
   "codemirror_mode": {
    "name": "ipython",
    "version": 3
   },
   "file_extension": ".py",
   "mimetype": "text/x-python",
   "name": "python",
   "nbconvert_exporter": "python",
   "pygments_lexer": "ipython3",
   "version": "3.11.3"
  }
 },
 "nbformat": 4,
 "nbformat_minor": 5
}
