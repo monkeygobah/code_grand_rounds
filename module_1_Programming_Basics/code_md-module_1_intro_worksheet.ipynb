{
 "cells": [
  {
   "cell_type": "markdown",
   "id": "a43e276c",
   "metadata": {},
   "source": [
    "# Initial Basics"
   ]
  },
  {
   "cell_type": "markdown",
   "id": "2a0bd6cb",
   "metadata": {},
   "source": [
    "## Debug this!"
   ]
  },
  {
   "cell_type": "code",
   "execution_count": null,
   "id": "7e5f621f",
   "metadata": {},
   "outputs": [],
   "source": [
    "print 'Hello World'"
   ]
  },
  {
   "cell_type": "markdown",
   "id": "6c11da07",
   "metadata": {},
   "source": [
    "## Create a string of your name "
   ]
  },
  {
   "cell_type": "code",
   "execution_count": null,
   "id": "3db00dbc",
   "metadata": {},
   "outputs": [],
   "source": [
    "firstName = "
   ]
  },
  {
   "cell_type": "markdown",
   "id": "a809289f",
   "metadata": {},
   "source": [
    "## 1. Make a string of your last name 2. combine your first and last name into a new string"
   ]
  },
  {
   "cell_type": "code",
   "execution_count": null,
   "id": "0a87d0d3",
   "metadata": {},
   "outputs": [],
   "source": [
    "lastName = "
   ]
  },
  {
   "cell_type": "code",
   "execution_count": null,
   "id": "cfbe6962",
   "metadata": {},
   "outputs": [],
   "source": [
    "combined = "
   ]
  },
  {
   "cell_type": "markdown",
   "id": "0be3b0ed",
   "metadata": {},
   "source": [
    "## Change all the letters in your name to capital (hint- built in methods)"
   ]
  },
  {
   "cell_type": "code",
   "execution_count": null,
   "id": "74e6b86c",
   "metadata": {},
   "outputs": [],
   "source": [
    "caps = "
   ]
  },
  {
   "cell_type": "markdown",
   "id": "6b0d9d3d",
   "metadata": {},
   "source": [
    "## Put it back to lower case"
   ]
  },
  {
   "cell_type": "code",
   "execution_count": null,
   "id": "ae3146c5",
   "metadata": {},
   "outputs": [],
   "source": [
    "lower = "
   ]
  },
  {
   "cell_type": "markdown",
   "id": "565727a0",
   "metadata": {},
   "source": [
    "## Make a list of your name using a built in python method (hint- separate by space)"
   ]
  },
  {
   "cell_type": "code",
   "execution_count": null,
   "id": "5304326f",
   "metadata": {},
   "outputs": [],
   "source": [
    "nameList = "
   ]
  },
  {
   "cell_type": "markdown",
   "id": "cfae2d1c",
   "metadata": {},
   "source": [
    "## Put your name back together using list indexing"
   ]
  },
  {
   "cell_type": "code",
   "execution_count": null,
   "id": "75720029",
   "metadata": {},
   "outputs": [],
   "source": [
    "recombined = "
   ]
  },
  {
   "cell_type": "markdown",
   "id": "00b7f01f",
   "metadata": {},
   "source": [
    "## Using indexing, print the first 3 characters in your full name. Do not create any new variables for this!"
   ]
  },
  {
   "cell_type": "code",
   "execution_count": null,
   "id": "ed6fa255",
   "metadata": {},
   "outputs": [],
   "source": [
    "print()"
   ]
  },
  {
   "cell_type": "markdown",
   "id": "7d80e77d",
   "metadata": {},
   "source": [
    "## Using indexing, print the last 4 characters in your full name. Again, no new variables should be created. "
   ]
  },
  {
   "cell_type": "code",
   "execution_count": null,
   "id": "99b467a8",
   "metadata": {},
   "outputs": [],
   "source": []
  },
  {
   "cell_type": "markdown",
   "id": "52b8416c",
   "metadata": {},
   "source": [
    "## Print every letter in your name on a new line (hint, use a for loop)"
   ]
  },
  {
   "cell_type": "code",
   "execution_count": null,
   "id": "49cd992a",
   "metadata": {},
   "outputs": [],
   "source": [
    "for ..."
   ]
  },
  {
   "cell_type": "markdown",
   "id": "fa923632",
   "metadata": {},
   "source": [
    "## Create a dictionary using your first name as the key and your last name as the value. "
   ]
  },
  {
   "cell_type": "code",
   "execution_count": null,
   "id": "872b2f95",
   "metadata": {},
   "outputs": [],
   "source": [
    "nameDict = "
   ]
  },
  {
   "cell_type": "markdown",
   "id": "3f1c9e40",
   "metadata": {},
   "source": [
    "## Add some more people to your dictionary. Get creative"
   ]
  },
  {
   "cell_type": "code",
   "execution_count": null,
   "id": "d221d61d",
   "metadata": {},
   "outputs": [],
   "source": []
  },
  {
   "cell_type": "code",
   "execution_count": null,
   "id": "9d51ac80",
   "metadata": {},
   "outputs": [],
   "source": []
  },
  {
   "cell_type": "markdown",
   "id": "cd71782c",
   "metadata": {},
   "source": [
    "## Pretend the last person in your dictionary just got married and changed their last name to 'Jones'. Update your dictionary to represent this!"
   ]
  },
  {
   "cell_type": "code",
   "execution_count": null,
   "id": "c104dfbf",
   "metadata": {},
   "outputs": [],
   "source": []
  },
  {
   "cell_type": "code",
   "execution_count": null,
   "id": "2a9294d6",
   "metadata": {},
   "outputs": [],
   "source": []
  },
  {
   "cell_type": "markdown",
   "id": "3a8c1918",
   "metadata": {},
   "source": [
    "# If / else statements "
   ]
  },
  {
   "cell_type": "markdown",
   "id": "d610f7a9",
   "metadata": {},
   "source": [
    "## Use if, elif, and else statements to sort all of the stuff in list 'Items' into the relevant lists 'cars' and 'food'. One correct solution."
   ]
  },
  {
   "cell_type": "code",
   "execution_count": null,
   "id": "c52b5237",
   "metadata": {},
   "outputs": [],
   "source": [
    "fruit1 = 'apple'\n",
    "fruit2 = 'pear'\n",
    "car1 = 'honda'\n",
    "car2 = 'toyota'\n",
    "car3 = 'chevy'\n",
    "chips = 'lays'\n",
    "sandwich = 'ham'\n",
    "side = 'potato salad'\n",
    "drink = 'rum'\n",
    "items = [fruit1, fruit2, car1, car2, car3, chips, sandwich, side, drink]"
   ]
  },
  {
   "cell_type": "code",
   "execution_count": null,
   "id": "18cae834",
   "metadata": {},
   "outputs": [],
   "source": [
    "cars = []\n",
    "food = []\n",
    "for item in items:\n"
   ]
  },
  {
   "cell_type": "code",
   "execution_count": null,
   "id": "456cf05e",
   "metadata": {},
   "outputs": [],
   "source": [
    "print(cars)\n",
    "print(food)"
   ]
  },
  {
   "cell_type": "markdown",
   "id": "1270d2ab",
   "metadata": {},
   "source": [
    "# While statements "
   ]
  },
  {
   "cell_type": "markdown",
   "id": "d63889fb",
   "metadata": {},
   "source": [
    "## Set x equal to 20. Append all values greater than 5 to list storage. Use a while statement to accomplish this. Print storage after "
   ]
  },
  {
   "cell_type": "code",
   "execution_count": null,
   "id": "51a37d65",
   "metadata": {},
   "outputs": [],
   "source": [
    "x = \n",
    "storage = \n",
    "while :\n"
   ]
  },
  {
   "cell_type": "markdown",
   "id": "492157af",
   "metadata": {},
   "source": [
    "# More Complex ideas"
   ]
  },
  {
   "cell_type": "markdown",
   "id": "e7d9fe82",
   "metadata": {},
   "source": [
    "## Make and print a new list containing all of values from lst that are equal to 3 or 5 using list comprehension i.e., all of your coding should happen within the brackets of new_list."
   ]
  },
  {
   "cell_type": "code",
   "execution_count": null,
   "id": "ffe473be",
   "metadata": {},
   "outputs": [],
   "source": [
    "lst = [0,1,2,3,4,5,6,7,8,9,10]\n"
   ]
  },
  {
   "cell_type": "code",
   "execution_count": null,
   "id": "d106a6d6",
   "metadata": {},
   "outputs": [],
   "source": [
    "new_list = []\n",
    "print(new_list)"
   ]
  },
  {
   "cell_type": "markdown",
   "id": "db3fed15",
   "metadata": {},
   "source": [
    "## 'variedList' is a list that contains ints, floats, and strings. Do you remember the difference? Make sure you do before continuing"
   ]
  },
  {
   "cell_type": "code",
   "execution_count": null,
   "id": "aebfcc78",
   "metadata": {},
   "outputs": [],
   "source": [
    "variedList = [1, 4.2, 'haha', 'cows', 3, 5, 6, 909, 987.4, '3.1415', 3.1415, 'transposition of the great vessels', 2002,\n",
    "              '2002 honda odyssey', 6,1,2,3,4,2, 5.12, 6.12, 5.1726351829405, 3.2122395, 0.8, 'I <3 CS']"
   ]
  },
  {
   "cell_type": "markdown",
   "id": "4bc1cd99",
   "metadata": {},
   "source": [
    "## Create a for loop that will iterate through  variedList and calculate the number of integers, floats, and strings. Store the final tally in separate variables and print your results in a descriptive way. Multiple correct solutions."
   ]
  },
  {
   "cell_type": "code",
   "execution_count": null,
   "id": "5c25ca3b",
   "metadata": {},
   "outputs": [],
   "source": []
  },
  {
   "cell_type": "code",
   "execution_count": null,
   "id": "0189d73f",
   "metadata": {},
   "outputs": [],
   "source": []
  },
  {
   "cell_type": "markdown",
   "id": "f6df530d",
   "metadata": {},
   "source": [
    "## Create a list of all numbers 1-100"
   ]
  },
  {
   "cell_type": "code",
   "execution_count": 26,
   "id": "480d2eb7",
   "metadata": {},
   "outputs": [],
   "source": [
    "nums = []"
   ]
  },
  {
   "cell_type": "markdown",
   "id": "35255fbc",
   "metadata": {},
   "source": [
    "## Store all odd numbers in new list (must use list comprehension)"
   ]
  },
  {
   "cell_type": "code",
   "execution_count": null,
   "id": "0cbe930d",
   "metadata": {},
   "outputs": [],
   "source": [
    "odds = []\n",
    "print (odds)"
   ]
  },
  {
   "cell_type": "markdown",
   "id": "bac2ce3a",
   "metadata": {},
   "source": [
    "## Store all even numbers in new list (must use list comprehension)"
   ]
  },
  {
   "cell_type": "code",
   "execution_count": null,
   "id": "83e04602",
   "metadata": {
    "scrolled": true
   },
   "outputs": [],
   "source": [
    "evens = []\n",
    "print(evens)"
   ]
  },
  {
   "cell_type": "markdown",
   "id": "83fbccac",
   "metadata": {},
   "source": [
    "## Import random and shuffle the list of 100 integers"
   ]
  },
  {
   "cell_type": "code",
   "execution_count": 22,
   "id": "abceebb3",
   "metadata": {},
   "outputs": [],
   "source": []
  },
  {
   "cell_type": "code",
   "execution_count": null,
   "id": "91f75eae",
   "metadata": {},
   "outputs": [],
   "source": []
  },
  {
   "cell_type": "markdown",
   "id": "099090a6",
   "metadata": {},
   "source": [
    "## Sort the list using the built in sort function "
   ]
  },
  {
   "cell_type": "code",
   "execution_count": null,
   "id": "ade8282a",
   "metadata": {},
   "outputs": [],
   "source": []
  },
  {
   "cell_type": "code",
   "execution_count": null,
   "id": "ec0d4fd9",
   "metadata": {},
   "outputs": [],
   "source": []
  },
  {
   "cell_type": "markdown",
   "id": "2396c7f8",
   "metadata": {},
   "source": [
    "## Make an algorithm to sort the list without using the sort method. You should remake the nums list as well as re randomize the list for this solution. Treat this like a logic puzzle. Your algorithm will be slower than the built in method (which is written in C behind the scenes, but this is good practice to thinking like a programmer. This may be challenging!!"
   ]
  },
  {
   "cell_type": "code",
   "execution_count": null,
   "id": "090802b4",
   "metadata": {},
   "outputs": [],
   "source": [
    "\n",
    "\n",
    "        \n",
    "        "
   ]
  },
  {
   "cell_type": "code",
   "execution_count": null,
   "id": "4092aef8",
   "metadata": {},
   "outputs": [],
   "source": [
    "\n"
   ]
  },
  {
   "cell_type": "code",
   "execution_count": null,
   "id": "616e3226",
   "metadata": {},
   "outputs": [],
   "source": []
  }
 ],
 "metadata": {
  "kernelspec": {
   "display_name": "Python 3 (ipykernel)",
   "language": "python",
   "name": "python3"
  },
  "language_info": {
   "codemirror_mode": {
    "name": "ipython",
    "version": 3
   },
   "file_extension": ".py",
   "mimetype": "text/x-python",
   "name": "python",
   "nbconvert_exporter": "python",
   "pygments_lexer": "ipython3",
   "version": "3.9.13"
  }
 },
 "nbformat": 4,
 "nbformat_minor": 5
}
