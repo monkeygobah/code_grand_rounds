{
 "cells": [
  {
   "cell_type": "markdown",
   "metadata": {},
   "source": [
    "# Welcome to the ECG Analysis Project! \n",
    "\n",
    "## The goal of this project is to introduce you to the concept of using packages in Python to solve hard problems easily, a very, very, very brief introduction to object oriented programming, and continuing to explore basic Python syntax and data structures (primarily dictionaries and lists)\n",
    "## This project ***is not*** meant to be used as an ECG analysis tool in the real world. That requires extensive domain knowledge (or oversight by somebody with it) and a thorough understanding of the tools and data being used. \n",
    "## We use the HeartPy package which is widely used for the analysis of ECGs, but we hardly scratch the surface of the breadth of its capability, and certainly do not go into how to handle and clean noisy data to the extent truly required (although you will *certainly* learn at least a few useful things :D)\n",
    "## The data we used here was taken from an open source EGC data repository (Physionet, https://physionet.org/content/macecgdb/1.0.0/), and we cherry picked some nice looking data for this project. Feel free to use this notebook as a launnching pad to analyze some more of the amazing data they have on there for *free*\n",
    "## Start from the notebook titled 'convert_ecg_csv.ipynb' to preprocess the raw data and then move into the fun stuff at 'egc_analysis.ipynb'. **Enjoy!**"
   ]
  },
  {
   "cell_type": "markdown",
   "metadata": {},
   "source": []
  }
 ],
 "metadata": {
  "language_info": {
   "name": "python"
  },
  "orig_nbformat": 4
 },
 "nbformat": 4,
 "nbformat_minor": 2
}
