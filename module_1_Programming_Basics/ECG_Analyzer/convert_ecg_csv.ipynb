{
 "cells": [
  {
   "cell_type": "markdown",
   "metadata": {},
   "source": [
    "# Prepare raw ecg files for downstream analysis\n",
    "### This is a short script to convert the ecg files we will be analyzing into csv files that can be read by the HeartPy package. No need to spend much time on this, but it is a critical step to begin analyzing the data. Sometimes a lot of preparation is required to get your data into a usable form!"
   ]
  },
  {
   "cell_type": "code",
   "execution_count": 25,
   "metadata": {},
   "outputs": [
    {
     "name": "stdout",
     "output_type": "stream",
     "text": [
      "Requirement already satisfied: wfdb in /Users/georgienahass/opt/anaconda3/envs/mnist/lib/python3.11/site-packages (4.1.2)\n",
      "Requirement already satisfied: SoundFile>=0.10.0 in /Users/georgienahass/opt/anaconda3/envs/mnist/lib/python3.11/site-packages (from wfdb) (0.12.1)\n",
      "Requirement already satisfied: matplotlib>=3.2.2 in /Users/georgienahass/opt/anaconda3/envs/mnist/lib/python3.11/site-packages (from wfdb) (3.7.1)\n",
      "Requirement already satisfied: numpy>=1.10.1 in /Users/georgienahass/opt/anaconda3/envs/mnist/lib/python3.11/site-packages (from wfdb) (1.24.3)\n",
      "Requirement already satisfied: pandas>=1.3.0 in /Users/georgienahass/opt/anaconda3/envs/mnist/lib/python3.11/site-packages (from wfdb) (2.0.2)\n",
      "Requirement already satisfied: requests>=2.8.1 in /Users/georgienahass/opt/anaconda3/envs/mnist/lib/python3.11/site-packages (from wfdb) (2.29.0)\n",
      "Requirement already satisfied: scipy>=1.0.0 in /Users/georgienahass/opt/anaconda3/envs/mnist/lib/python3.11/site-packages (from wfdb) (1.10.1)\n",
      "Requirement already satisfied: contourpy>=1.0.1 in /Users/georgienahass/opt/anaconda3/envs/mnist/lib/python3.11/site-packages (from matplotlib>=3.2.2->wfdb) (1.0.5)\n",
      "Requirement already satisfied: cycler>=0.10 in /Users/georgienahass/opt/anaconda3/envs/mnist/lib/python3.11/site-packages (from matplotlib>=3.2.2->wfdb) (0.11.0)\n",
      "Requirement already satisfied: fonttools>=4.22.0 in /Users/georgienahass/opt/anaconda3/envs/mnist/lib/python3.11/site-packages (from matplotlib>=3.2.2->wfdb) (4.25.0)\n",
      "Requirement already satisfied: kiwisolver>=1.0.1 in /Users/georgienahass/opt/anaconda3/envs/mnist/lib/python3.11/site-packages (from matplotlib>=3.2.2->wfdb) (1.4.4)\n",
      "Requirement already satisfied: packaging>=20.0 in /Users/georgienahass/opt/anaconda3/envs/mnist/lib/python3.11/site-packages (from matplotlib>=3.2.2->wfdb) (23.1)\n",
      "Requirement already satisfied: pillow>=6.2.0 in /Users/georgienahass/opt/anaconda3/envs/mnist/lib/python3.11/site-packages (from matplotlib>=3.2.2->wfdb) (9.5.0)\n",
      "Requirement already satisfied: pyparsing>=2.3.1 in /Users/georgienahass/opt/anaconda3/envs/mnist/lib/python3.11/site-packages (from matplotlib>=3.2.2->wfdb) (3.0.9)\n",
      "Requirement already satisfied: python-dateutil>=2.7 in /Users/georgienahass/opt/anaconda3/envs/mnist/lib/python3.11/site-packages (from matplotlib>=3.2.2->wfdb) (2.8.2)\n",
      "Requirement already satisfied: pytz>=2020.1 in /Users/georgienahass/opt/anaconda3/envs/mnist/lib/python3.11/site-packages (from pandas>=1.3.0->wfdb) (2023.3)\n",
      "Requirement already satisfied: tzdata>=2022.1 in /Users/georgienahass/opt/anaconda3/envs/mnist/lib/python3.11/site-packages (from pandas>=1.3.0->wfdb) (2023.3)\n",
      "Requirement already satisfied: charset-normalizer<4,>=2 in /Users/georgienahass/opt/anaconda3/envs/mnist/lib/python3.11/site-packages (from requests>=2.8.1->wfdb) (2.0.4)\n",
      "Requirement already satisfied: idna<4,>=2.5 in /Users/georgienahass/opt/anaconda3/envs/mnist/lib/python3.11/site-packages (from requests>=2.8.1->wfdb) (3.4)\n",
      "Requirement already satisfied: urllib3<1.27,>=1.21.1 in /Users/georgienahass/opt/anaconda3/envs/mnist/lib/python3.11/site-packages (from requests>=2.8.1->wfdb) (1.26.15)\n",
      "Requirement already satisfied: certifi>=2017.4.17 in /Users/georgienahass/opt/anaconda3/envs/mnist/lib/python3.11/site-packages (from requests>=2.8.1->wfdb) (2023.5.7)\n",
      "Requirement already satisfied: cffi>=1.0 in /Users/georgienahass/opt/anaconda3/envs/mnist/lib/python3.11/site-packages (from SoundFile>=0.10.0->wfdb) (1.15.1)\n",
      "Requirement already satisfied: pycparser in /Users/georgienahass/opt/anaconda3/envs/mnist/lib/python3.11/site-packages (from cffi>=1.0->SoundFile>=0.10.0->wfdb) (2.21)\n",
      "Requirement already satisfied: six>=1.5 in /Users/georgienahass/opt/anaconda3/envs/mnist/lib/python3.11/site-packages (from python-dateutil>=2.7->matplotlib>=3.2.2->wfdb) (1.16.0)\n",
      "Note: you may need to restart the kernel to use updated packages.\n",
      "Requirement already satisfied: pandas in /Users/georgienahass/opt/anaconda3/envs/mnist/lib/python3.11/site-packages (2.0.2)\n",
      "Requirement already satisfied: python-dateutil>=2.8.2 in /Users/georgienahass/opt/anaconda3/envs/mnist/lib/python3.11/site-packages (from pandas) (2.8.2)\n",
      "Requirement already satisfied: pytz>=2020.1 in /Users/georgienahass/opt/anaconda3/envs/mnist/lib/python3.11/site-packages (from pandas) (2023.3)\n",
      "Requirement already satisfied: tzdata>=2022.1 in /Users/georgienahass/opt/anaconda3/envs/mnist/lib/python3.11/site-packages (from pandas) (2023.3)\n",
      "Requirement already satisfied: numpy>=1.21.0 in /Users/georgienahass/opt/anaconda3/envs/mnist/lib/python3.11/site-packages (from pandas) (1.24.3)\n",
      "Requirement already satisfied: six>=1.5 in /Users/georgienahass/opt/anaconda3/envs/mnist/lib/python3.11/site-packages (from python-dateutil>=2.8.2->pandas) (1.16.0)\n",
      "Note: you may need to restart the kernel to use updated packages.\n"
     ]
    }
   ],
   "source": [
    "%pip install wfdb\n",
    "%pip install pandas"
   ]
  },
  {
   "cell_type": "code",
   "execution_count": 26,
   "metadata": {},
   "outputs": [],
   "source": [
    "import wfdb # niche package for converting .hea and .dat pairs to .csv files\n",
    "import pandas as pd\n",
    "\n",
    "# If using .dat and .hea files make sure they are both named with the string you put in 'name'\n",
    "def make_csvs_from_ecg(names):\n",
    "    for name in names: # iterate through the names list\n",
    "        file_path = 'raw_data/'+name # Build the file path \n",
    "\n",
    "        record = wfdb.rdrecord(file_path)  # Read the .dat file using wfdb\n",
    "        \n",
    "        df = pd.DataFrame(record.p_signal, columns=record.sig_name)  # Create a pandas DataFrame from the record variable (no need to worry about whats going on under the hood)\n",
    "\n",
    "        df = df.iloc[:30000, :1]  # Keep the first 30,000 rows and first column as a DataFrame\n",
    "        \n",
    "        df.columns = [name] # Rename the column for future ease of use\n",
    "        \n",
    "        df.to_csv(f\"{name}.csv\", index=False)  # Write to a CSV file"
   ]
  },
  {
   "cell_type": "code",
   "execution_count": 28,
   "metadata": {},
   "outputs": [],
   "source": [
    "names = ['jumping', 'standing', 'walking']\n",
    "make_csvs_from_ecg(names)"
   ]
  },
  {
   "cell_type": "code",
   "execution_count": null,
   "metadata": {},
   "outputs": [],
   "source": []
  }
 ],
 "metadata": {
  "kernelspec": {
   "display_name": "mnist",
   "language": "python",
   "name": "python3"
  },
  "language_info": {
   "codemirror_mode": {
    "name": "ipython",
    "version": 3
   },
   "file_extension": ".py",
   "mimetype": "text/x-python",
   "name": "python",
   "nbconvert_exporter": "python",
   "pygments_lexer": "ipython3",
   "version": "3.11.3"
  },
  "orig_nbformat": 4
 },
 "nbformat": 4,
 "nbformat_minor": 2
}
