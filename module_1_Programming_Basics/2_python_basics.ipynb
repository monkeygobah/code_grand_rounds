{
 "cells": [
  {
   "attachments": {},
   "cell_type": "markdown",
   "metadata": {},
   "source": [
    "# **Python Basics 2**\n",
    "\n",
    "### Moving on to more advanced stuff now, we will introduce a few more concepts here and continue to expand upon the concepts you just learned. If you need a refresher on some of the basics, refer bak to the previous notebook, and as always, don't be afraid to google for help if you are stuck/ want more of an in depth look at these concepts! It is good to spend time with these ideas as they will become the building blocks for your computational ability toolkit"
   ]
  },
  {
   "attachments": {},
   "cell_type": "markdown",
   "metadata": {},
   "source": [
    "## **Basic Logic Operations**\n"
   ]
  },
  {
   "attachments": {},
   "cell_type": "markdown",
   "metadata": {},
   "source": [
    "## For Loops\n",
    "\n",
    "###  For Loops are a type of operation in Python (and all coding languages) that do a certain action a certain number of times. You intutively use for loops all the time ('for every patient I have to round on in clinic today, I will need to take a complete history'), so, even you didn't realize, you understand the underlying principle. \n",
    "\n",
    "### For loops have probably made their way into every piece of software ever written, because if you have to do a certain action 10 times, instead of coding it 10 separate times you can write 1 for loop to do it for you.\n",
    "\n",
    "### In addition to being able to iterate a prescribed number of times, for loops can also iterate over lists (and other data structures) and do stuff with the individual elements of the list. You can be programming for years and still learn more cool tricks about for loops, but once you get the underlying concept everything else around for loops will begin to mmake sense\n",
    "\n",
    "### Let's start by showing the basic for loop construction. You will say in your head `for 'something' in 'something', do 'something helpful`' as you write them.\n",
    "\n",
    "### This is also a good to mention that Python code is whitespace sensitive, which means that the indentation level your code is on affects how it gets executed. When you have a for loop (or any other type of loop which will be introduced later), on the outermost level (all the way to the left), you have your `for 'something' in 'something'` line (followed by a colon for for loops). You then go to the next line, hit `tab`(to indent), and define the `do something helpful` portion. All the lines of the `do something helpful` need to be at that indented level.\n",
    "\n",
    "### Ok! lets dive in"
   ]
  },
  {
   "cell_type": "code",
   "execution_count": null,
   "metadata": {},
   "outputs": [
    {
     "name": "stdout",
     "output_type": "stream",
     "text": [
      "Do something\n",
      "0\n",
      "Do something\n",
      "1\n",
      "Do something\n",
      "2\n",
      "Do something\n",
      "3\n",
      "Do something\n",
      "4\n"
     ]
    }
   ],
   "source": [
    "# for means we are going to 5 iterations, and after each iteration x will increase by 1 (as the range is 5 and computers are 0 indexed, \n",
    "# it will start at 0 and then work its way up to 4 (5 iterations- count on your fingers if you are confused))\n",
    "for x in range(5):\n",
    "    # tab in one because of tab indexing\n",
    "    # now we will print something\n",
    "    print('Do something')\n",
    "    # print the value of the current x\n",
    "    print(x)"
   ]
  },
  {
   "cell_type": "markdown",
   "metadata": {},
   "source": [
    "### That is the basic construction, and for the most part all for loops follow this system. We can do some modifications, however, as say we needed the x value to iterate from 1-5 instead of 0-4 for some reason. We can modify this in the `range`"
   ]
  },
  {
   "cell_type": "code",
   "execution_count": null,
   "metadata": {},
   "outputs": [
    {
     "name": "stdout",
     "output_type": "stream",
     "text": [
      "Do something\n",
      "1\n",
      "Do something\n",
      "2\n",
      "Do something\n",
      "3\n",
      "Do something\n",
      "4\n",
      "Do something\n",
      "5\n"
     ]
    }
   ],
   "source": [
    "for x in range(1, 6):\n",
    "    print('Do something')\n",
    "    print(x)"
   ]
  },
  {
   "cell_type": "markdown",
   "metadata": {},
   "source": [
    "### One of the nicest things about for loops is that you can iterate over lists. Not only can you iterate over lists, you can use the value in the lists to do all kinds of stuff with. Here is a basic example"
   ]
  },
  {
   "cell_type": "code",
   "execution_count": null,
   "metadata": {},
   "outputs": [
    {
     "name": "stdout",
     "output_type": "stream",
     "text": [
      "1\n",
      "3\n",
      "5\n",
      "7\n",
      "9\n",
      "100\n",
      "[10, 30, 50, 70, 90, 1000]\n"
     ]
    }
   ],
   "source": [
    "# define an empty output list to store stuff in\n",
    "\n",
    "output_list = []\n",
    "\n",
    "# define a list to iterate over \n",
    "my_list = [1,3,5,7,9,100]\n",
    "\n",
    "# iterate over the list and use the values to do stuff. Now, the value of x will be equal to whatever item in the list you are iterating over \n",
    "# on the first iteration, it will be 1, on the second it will be 3, then 5 and so on and so on \n",
    "for x in my_list:\n",
    "    # print the x so you know what the intial value is\n",
    "    print(x)\n",
    "    # multiply the x by some number just for fun\n",
    "    y = x*10\n",
    "    # store y in output_list\n",
    "    output_list.append(y)\n",
    "\n",
    "print(output_list)\n"
   ]
  },
  {
   "attachments": {},
   "cell_type": "markdown",
   "metadata": {},
   "source": [
    "### While this can get a little confusing, you can also 'nest' for loops, or put a for loop within another for loop. You can read this in your head as `for every thing in something, do every thing in something else`. The easiest way to show how this works is an example, so see the code below. Note that because you are iterating through every item in something (whether it is a list or some range) for every item in something else, if you have avery large range or list this can quickly take a long time on your computer and lead to performance issues. These are good to know exist, but practically not always the best tool to use because of how long they can take."
   ]
  },
  {
   "cell_type": "code",
   "execution_count": 1,
   "metadata": {},
   "outputs": [
    {
     "name": "stdout",
     "output_type": "stream",
     "text": [
      "Do something\n",
      "1 10\n",
      "Do something\n",
      "1 11\n",
      "Do something\n",
      "2 10\n",
      "Do something\n",
      "2 11\n"
     ]
    }
   ],
   "source": [
    "# Observe the output and try to get a feel for what is happening!\n",
    "for x in [1, 2]:\n",
    "    for y in [10, 11]:\n",
    "        print('Do something')\n",
    "        print(x, y)"
   ]
  },
  {
   "attachments": {},
   "cell_type": "markdown",
   "metadata": {},
   "source": [
    "### The last thing we will touch on in for loops takes a topic from the last notebook (lists) and combines it with for loops. Many times with for loops you will find yourself iterating through a list, doing some operations on every item, and then storing the modified variable in a new list. This is fine, but there is a 'nicer' way to do it using something called `list comprehension`. List comprehension basically buts a for loop inside a list, and allows you to store the results without having to append anything. We will first show you an example of modifying data in a list and appending it, then we will show you using the more efficient list comprehension. Both ways are completely correct, but list comprehension generally looks a little cleaner and you will see it in other people's code so we included it."
   ]
  },
  {
   "cell_type": "code",
   "execution_count": null,
   "metadata": {},
   "outputs": [],
   "source": [
    "my_list = [1, 2, 3]\n",
    "\n",
    "# The original way\n",
    "\n",
    "# define empty list\n",
    "new_list = []\n",
    "\n",
    "# iterate through list, multiply everything by 10, and store in new_list\n",
    "for x in my_list:\n",
    "    y = x*10\n",
    "    new_list.append(y)\n",
    "    \n",
    "print(new_list)\n",
    "\n",
    "\n",
    "# Using list comprehension\n",
    "# list_comp is equal to a list where the for loop happens  Saves you having to define an empty list as well as the append operation!\n",
    "list_comp = [x * 10 for x in my_list]\n",
    "\n",
    "print(list_comp)"
   ]
  },
  {
   "cell_type": "markdown",
   "metadata": {},
   "source": [
    "## If / Else Statements "
   ]
  },
  {
   "cell_type": "code",
   "execution_count": null,
   "metadata": {},
   "outputs": [],
   "source": [
    "var = 1\n",
    "\n",
    "if (var == 1):\n",
    "    print('low')\n",
    "elif (var == 2):\n",
    "    print('medium')\n",
    "else:\n",
    "    print('high')"
   ]
  },
  {
   "cell_type": "markdown",
   "metadata": {},
   "source": [
    "## While Loops"
   ]
  },
  {
   "cell_type": "code",
   "execution_count": null,
   "metadata": {},
   "outputs": [],
   "source": [
    "x = 1\n",
    "\n",
    "while x <= 3:\n",
    "    print(x)\n",
    "    \n",
    "    x += 1\n",
    "    \n",
    "print('Final Value:', x)"
   ]
  },
  {
   "attachments": {},
   "cell_type": "markdown",
   "metadata": {},
   "source": [
    "## **String Functions**"
   ]
  },
  {
   "cell_type": "code",
   "execution_count": null,
   "metadata": {},
   "outputs": [],
   "source": [
    "# Strings come with a whole set of complex operations\n",
    "\n",
    "'Hello, World!'.replace('World', 'Georgie').split(',')[1].strip()"
   ]
  },
  {
   "cell_type": "code",
   "execution_count": null,
   "metadata": {},
   "outputs": [],
   "source": [
    "# As an example, let's pretend we have an amino acid sequence, like the one below for CLK1.\n",
    "\n",
    "CLK1 = 'HYLESRSINEKDYHSRRYIDEYRNDYTQGCEPGHRQRDHESRYQNHSSKSSGRSGRSSYKSKHRIHHSTSHRRSHG'\n",
    "\n",
    "# How would we identify the resulting peptides if we split this by a restriction enzyme at K? One way would be to iterate and store a new peptide each time we encounter a K.\n",
    "\n",
    "peptides = []\n",
    "new_pep = ''\n",
    "\n",
    "for letter in CLK1:\n",
    "    if letter == 'K':\n",
    "        peptides.append(new_pep)\n",
    "        new_pep = ''\n",
    "    else:\n",
    "        new_pep += letter\n",
    "\n",
    "# need to add the last one\n",
    "if len(new_pep) > 0: peptides.append(new_pep)\n",
    "        \n",
    "peptides\n"
   ]
  },
  {
   "cell_type": "code",
   "execution_count": null,
   "metadata": {},
   "outputs": [],
   "source": [
    "# Or, we could simply use the built in python function \"split\". This is the case with any operations in python & CS in general -- readily accessible methods will already have been created for many object types.\n",
    "CLK1 = 'HYLESRSINEKDYHSRRYIDEYRNDYTQGCEPGHRQRDHESRYQNHSSKSSGRSGRSSYKSKHRIHHSTSHRRSHG'\n",
    "\n",
    "# Or, we could simply use the built in python function \"split\". This is the case with any operations in python & CS in general -- readily accessible methods will already have been created for many object types. \n",
    "peptides = CLK1.split('K')\n",
    "\n",
    "peptides"
   ]
  },
  {
   "attachments": {},
   "cell_type": "markdown",
   "metadata": {},
   "source": [
    "## **Functions**\n",
    "### need hefty bit about functions here "
   ]
  },
  {
   "cell_type": "code",
   "execution_count": null,
   "metadata": {},
   "outputs": [],
   "source": []
  },
  {
   "cell_type": "markdown",
   "metadata": {},
   "source": []
  },
  {
   "cell_type": "code",
   "execution_count": null,
   "metadata": {},
   "outputs": [],
   "source": []
  },
  {
   "cell_type": "markdown",
   "metadata": {},
   "source": []
  },
  {
   "cell_type": "code",
   "execution_count": null,
   "metadata": {},
   "outputs": [],
   "source": []
  },
  {
   "cell_type": "markdown",
   "metadata": {},
   "source": []
  },
  {
   "cell_type": "code",
   "execution_count": null,
   "metadata": {},
   "outputs": [],
   "source": []
  },
  {
   "attachments": {},
   "cell_type": "markdown",
   "metadata": {},
   "source": [
    "## **Object Oriented Programming**\n",
    "\n",
    "### Introductino to OOP at a high level use video game analogy and change examples to fit this. Also explain how it is great to know this stuff so we included but in your early career you may implement it with less frequency"
   ]
  },
  {
   "cell_type": "markdown",
   "metadata": {},
   "source": [
    "## What is an object?"
   ]
  },
  {
   "cell_type": "code",
   "execution_count": null,
   "metadata": {},
   "outputs": [],
   "source": [
    "# Objects help to add structure to CS and are derived from \"classes\". If we were talking about a chess game, \n",
    "# we might say that the chess game were an object. There is a particular structure for defining this class in Python, as below:\n",
    "\n",
    "class chessGame:\n",
    "    def __init__(self):\n",
    "        self.number_moves_made = 0\n",
    "\n",
    "\n",
    "# Now, let's say I wanted to use a chessGame in another area of code. I could create an object of chess games.\n",
    "chess1 = chessGame()\n",
    "\n",
    "# I could even create two. \n",
    "chess2 = chessGame()\n",
    "\n",
    "# And now, I can manipulate these entities as individual objects of the \"chessGame\" class\n",
    "my_games = [chess1, chess2]"
   ]
  },
  {
   "cell_type": "markdown",
   "metadata": {},
   "source": [
    "## Initialization"
   ]
  },
  {
   "cell_type": "code",
   "execution_count": null,
   "metadata": {},
   "outputs": [],
   "source": [
    "# Let's pull our code from above down, and expand on it a little bit. \n",
    "\n",
    "class chessGame:\n",
    "    def __init__(self, time_limit):\n",
    "        self.number_moves_made = 0\n",
    "        self.time_limit = time_limit\n",
    "        \n",
    "\n",
    "# Notice how we added \"time_limit\", an argument to the init function, which initializes our object. \n",
    "# Thus, we can now create chessGame objects with different time limits\n",
    "\n",
    "chess1 = chessGame(time_limit = 5)\n",
    "chess2 = chessGame(time_limit = 10)\n",
    "\n",
    "# Our initialization function takes in these attributes and generates our object for us."
   ]
  },
  {
   "cell_type": "markdown",
   "metadata": {},
   "source": [
    "## Attributes"
   ]
  },
  {
   "cell_type": "code",
   "execution_count": null,
   "metadata": {},
   "outputs": [],
   "source": [
    "class chessGame:\n",
    "    def __init__(self, time_limit):\n",
    "        self.number_moves_made = 0\n",
    "        self.time_limit = time_limit\n",
    "        self.whose_turn = 'white'\n",
    "        \n",
    "\n",
    "# In the above, attributes refer to values held/posessed by the object. \n",
    "chess1 = chessGame(time_limit = 5)\n",
    "\n",
    "# We can access these attributes and learn about the particular object.\n",
    "chess1.time_limit\n",
    "\n",
    "# And we can change them, too.\n",
    "chess1.whose_turn = 'black'\n",
    "chess1.whose_turn"
   ]
  },
  {
   "cell_type": "markdown",
   "metadata": {},
   "source": [
    "## Methods"
   ]
  },
  {
   "cell_type": "code",
   "execution_count": null,
   "metadata": {},
   "outputs": [],
   "source": [
    "class chessGame:\n",
    "    def __init__(self, time_limit):\n",
    "        self.number_moves_made = 0\n",
    "        self.time_limit = time_limit\n",
    "        self.whose_turn = 'white'\n",
    "        \n",
    "    def take_turn(self):\n",
    "        if self.whose_turn == 'white':\n",
    "            self.whose_turn = 'black'\n",
    "        else:\n",
    "            self.whose_turn = 'white'\n",
    "        \n",
    "        \n",
    "# On the above, we added an imaginary \"take_turn\" function. This function is called a method, because it\n",
    "# is a function attached to the class chessGame.\n",
    "\n",
    "chess1 = chessGame(time_limit = 5)\n",
    "\n",
    "# the current turn\n",
    "chess1.whose_turn\n",
    "\n",
    "# make a move\n",
    "chess1.take_turn()\n",
    "\n",
    "# now whose turn?\n",
    "chess1.whose_turn\n",
    "\n"
   ]
  },
  {
   "attachments": {},
   "cell_type": "markdown",
   "metadata": {},
   "source": [
    "## **Packages and Libraries\n",
    "To install packages, use the Anaconda GUI, or in termal, type: `pip install package`"
   ]
  },
  {
   "cell_type": "markdown",
   "metadata": {},
   "source": [
    "## Importing Libraries"
   ]
  },
  {
   "cell_type": "code",
   "execution_count": null,
   "metadata": {},
   "outputs": [],
   "source": [
    "import os\n",
    "\n",
    "os"
   ]
  },
  {
   "attachments": {},
   "cell_type": "markdown",
   "metadata": {},
   "source": [
    "### Discussion about what it means to import something in the context of OOP"
   ]
  }
 ],
 "metadata": {
  "kernelspec": {
   "display_name": "mnist",
   "language": "python",
   "name": "python3"
  },
  "language_info": {
   "codemirror_mode": {
    "name": "ipython",
    "version": 3
   },
   "file_extension": ".py",
   "mimetype": "text/x-python",
   "name": "python",
   "nbconvert_exporter": "python",
   "pygments_lexer": "ipython3",
   "version": "3.11.3"
  },
  "orig_nbformat": 4
 },
 "nbformat": 4,
 "nbformat_minor": 2
}
