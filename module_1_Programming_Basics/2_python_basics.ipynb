{
 "cells": [
  {
   "attachments": {},
   "cell_type": "markdown",
   "metadata": {},
   "source": [
    "# **Python Basics 2**\n",
    "\n",
    "### Moving on to more advanced stuff now, we will introduce a few more concepts here and continue to expand upon the concepts you just learned. If you need a refresher on some of the basics, refer bak to the previous notebook, and as always, don't be afraid to google for help if you are stuck/ want more of an in depth look at these concepts! It is good to spend time with these ideas as they will become the building blocks for your computational ability toolkit"
   ]
  },
  {
   "attachments": {},
   "cell_type": "markdown",
   "metadata": {},
   "source": [
    "## **Basic Logic Operations**\n"
   ]
  },
  {
   "attachments": {},
   "cell_type": "markdown",
   "metadata": {},
   "source": [
    "## For Loops\n",
    "\n",
    "###  For Loops are a type of operation in Python (and all coding languages) that do a certain action a certain number of times. You intutively use for loops all the time ('for every patient I have to round on in clinic today, I will need to take a complete history'), so, even you didn't realize, you understand the underlying principle. \n",
    "\n",
    "### For loops have probably made their way into every piece of software ever written, because if you have to do a certain action 10 times, instead of coding it 10 separate times you can write 1 for loop to do it for you.\n",
    "\n",
    "### In addition to being able to iterate a prescribed number of times, for loops can also iterate over lists (and other data structures) and do stuff with the individual elements of the list. You can be programming for years and still learn more cool tricks about for loops, but once you get the underlying concept everything else around for loops will begin to mmake sense\n",
    "\n",
    "### Let's start by showing the basic for loop construction. You will say in your head `for 'something' in 'something', do 'something helpful`' as you write them.\n",
    "\n",
    "### This is also a good to mention that Python code is whitespace sensitive, which means that the indentation level your code is on affects how it gets executed. When you have a for loop (or any other type of logic operation), on the outermost level (all the way to the left), you have your `for 'something' in 'something'` line (followed by a colon for for loops). You then go to the next line, hit `tab`(to indent), and define the `do something helpful` portion. All the lines of the `do something helpful` need to be at that indented level.\n",
    "\n",
    "### Ok! lets dive in"
   ]
  },
  {
   "cell_type": "code",
   "execution_count": 4,
   "metadata": {},
   "outputs": [
    {
     "name": "stdout",
     "output_type": "stream",
     "text": [
      "Do something\n",
      "0\n",
      "Do something\n",
      "1\n",
      "Do something\n",
      "2\n",
      "Do something\n",
      "3\n",
      "Do something\n",
      "4\n"
     ]
    }
   ],
   "source": [
    "# for means we are going to 5 iterations, and after each iteration x will increase by 1 (as the range is 5 and computers are 0 indexed, \n",
    "# it will start at 0 and then work its way up to 4 (5 iterations- count on your fingers if you are confused))\n",
    "for x in range(5):\n",
    "    # tab in one because of tab indexing\n",
    "    # now we will print something\n",
    "    print('Do something')\n",
    "    # print the value of the current x\n",
    "    print(x)"
   ]
  },
  {
   "attachments": {},
   "cell_type": "markdown",
   "metadata": {},
   "source": [
    "### That is the basic construction, and for the most part all for loops follow this system. We can do some modifications, however, as say we needed the x value to iterate from 1-5 instead of 0-4 for some reason. We can modify this in the `range`"
   ]
  },
  {
   "cell_type": "code",
   "execution_count": 5,
   "metadata": {},
   "outputs": [
    {
     "name": "stdout",
     "output_type": "stream",
     "text": [
      "Do something\n",
      "1\n",
      "Do something\n",
      "2\n",
      "Do something\n",
      "3\n",
      "Do something\n",
      "4\n",
      "Do something\n",
      "5\n"
     ]
    }
   ],
   "source": [
    "for x in range(1, 6):\n",
    "    print('Do something')\n",
    "    print(x)"
   ]
  },
  {
   "attachments": {},
   "cell_type": "markdown",
   "metadata": {},
   "source": [
    "### One of the nicest things about for loops is that you can iterate over lists. Not only can you iterate over lists, you can use the value in the lists to do all kinds of stuff with. Here is a basic example"
   ]
  },
  {
   "cell_type": "code",
   "execution_count": 6,
   "metadata": {},
   "outputs": [
    {
     "name": "stdout",
     "output_type": "stream",
     "text": [
      "1\n",
      "3\n",
      "5\n",
      "7\n",
      "9\n",
      "100\n",
      "[10, 30, 50, 70, 90, 1000]\n"
     ]
    }
   ],
   "source": [
    "# define an empty output list to store stuff in\n",
    "\n",
    "output_list = []\n",
    "\n",
    "# define a list to iterate over \n",
    "my_list = [1,3,5,7,9,100]\n",
    "\n",
    "# iterate over the list and use the values to do stuff. Now, the value of x will be equal to whatever item in the list you are iterating over \n",
    "# on the first iteration, it will be 1, on the second it will be 3, then 5 and so on and so on \n",
    "for x in my_list:\n",
    "    # print the x so you know what the intial value is\n",
    "    print(x)\n",
    "    # multiply the x by some number just for fun\n",
    "    y = x*10\n",
    "    # store y in output_list\n",
    "    output_list.append(y)\n",
    "\n",
    "print(output_list)\n"
   ]
  },
  {
   "attachments": {},
   "cell_type": "markdown",
   "metadata": {},
   "source": [
    "### You can also iterate over dictionaries using for loops to print all the key, value pairs in the dictionary. As, for every item in a dictionary there are 2 things (both a key and a value) you need to reference both in the for loop and iterate over `dictionary.items()`. See the dictionary section in module 1 if the structure of dictionaries needs some refreshing."
   ]
  },
  {
   "cell_type": "code",
   "execution_count": 7,
   "metadata": {},
   "outputs": [
    {
     "name": "stdout",
     "output_type": "stream",
     "text": [
      "first John\n",
      "second Doe\n",
      "systolic 120\n",
      "diastolic 80\n"
     ]
    }
   ],
   "source": [
    "my_dictionary = {\n",
    "    'first': 'John',\n",
    "    'second': 'Doe',\n",
    "    'systolic': 120,\n",
    "    'diastolic': 80\n",
    "}\n",
    "# Iterate over the key value pairs\n",
    "for key, value in my_dictionary.items():\n",
    "    print(key, value)"
   ]
  },
  {
   "attachments": {},
   "cell_type": "markdown",
   "metadata": {},
   "source": [
    "### While this can get a little confusing, you can also 'nest' for loops, or put a for loop within another for loop. You can read this in your head as `for every thing in something, do every thing in something else`. The easiest way to show how this works is an example, so see the code below. Note that because you are iterating through every item in something (whether it is a list or some range) for every item in something else, if you have avery large range or list this can quickly take a long time on your computer and lead to performance issues. These are good to know exist, but practically not always the best tool to use because of how long they can take."
   ]
  },
  {
   "cell_type": "code",
   "execution_count": 8,
   "metadata": {},
   "outputs": [
    {
     "name": "stdout",
     "output_type": "stream",
     "text": [
      "Do something\n",
      "1 10\n",
      "Do something\n",
      "1 11\n",
      "Do something\n",
      "2 10\n",
      "Do something\n",
      "2 11\n"
     ]
    }
   ],
   "source": [
    "# Observe the output and try to get a feel for what is happening!\n",
    "for x in [1, 2]:\n",
    "    for y in [10, 11]:\n",
    "        print('Do something')\n",
    "        print(x, y)"
   ]
  },
  {
   "attachments": {},
   "cell_type": "markdown",
   "metadata": {},
   "source": [
    "### The last thing we will touch on in for loops takes a topic from the last notebook (lists) and combines it with for loops. Many times with for loops you will find yourself iterating through a list, doing some operations on every item, and then storing the modified variable in a new list. This is fine, but there is a 'nicer' way to do it using something called `list comprehension`. List comprehension basically buts a for loop inside a list, and allows you to store the results without having to append anything. We will first show you an example of modifying data in a list and appending it, then we will show you using the more efficient list comprehension. Both ways are completely correct, but list comprehension generally looks a little cleaner and you will see it in other people's code so we included it."
   ]
  },
  {
   "cell_type": "code",
   "execution_count": 9,
   "metadata": {},
   "outputs": [
    {
     "name": "stdout",
     "output_type": "stream",
     "text": [
      "[10, 20, 30]\n",
      "[10, 20, 30]\n"
     ]
    }
   ],
   "source": [
    "my_list = [1, 2, 3]\n",
    "\n",
    "# The original way\n",
    "\n",
    "# define empty list\n",
    "new_list = []\n",
    "\n",
    "# iterate through list, multiply everything by 10, and store in new_list\n",
    "for x in my_list:\n",
    "    y = x*10\n",
    "    new_list.append(y)\n",
    "    \n",
    "print(new_list)\n",
    "\n",
    "\n",
    "# Using list comprehension\n",
    "# list_comp is equal to a list where the for loop happens  Saves you having to define an empty list as well as the append operation!\n",
    "list_comp = [x * 10 for x in my_list]\n",
    "\n",
    "print(list_comp)"
   ]
  },
  {
   "attachments": {},
   "cell_type": "markdown",
   "metadata": {},
   "source": [
    "## If / Else Statements \n",
    "\n",
    "### If/ else statements are a fundamental tool in computer science as they allow you to execute certain blocks of code only if certain conditions are met. You use if/ else statments every day (if it is raining I should bring an umbrella, it not i will wear only a shirt), and the implementation in Python directly mirrors this decision making process. In most pieces of code you will write, you will end up wanting to do something only if another condition is true, and these will be your primary tool with which you do that. They are a key component to assembling larger, more complex code.\n",
    "\n",
    "### These logic operations are really the fundamental decision making structures in programming, and as such they are *extremely* important. Make sure you spend time here and get a good grasp! They're not particularly hard, but we just want to emphasize their importance. Knowing these well will make everything easier.\n",
    "\n",
    "### The syntax is also very easy. Every if/ else statement starts with an `if`, then the condition you wish to evaluate for being true or not. Whatever you want to do if the condition was true goes on the next line. The next line is indented because this tells Python that we are in the condition that was evaluated and true and now want to do something. This indentation is extremely important as it dictates the flow of logic within an `if/ else` block. Be sure to keep this mind, but you will see many examples going forward,"
   ]
  },
  {
   "cell_type": "code",
   "execution_count": 10,
   "metadata": {},
   "outputs": [
    {
     "name": "stdout",
     "output_type": "stream",
     "text": [
      "BP is high\n"
     ]
    }
   ],
   "source": [
    "systolic_bp = 140\n",
    "\n",
    "# Check if systolic BP is higher than 120, and if it is print that the BP is high\n",
    "if systolic_bp > 120:\n",
    "    print('BP is high')\n",
    "else:\n",
    "    print('BP is not high')"
   ]
  },
  {
   "attachments": {},
   "cell_type": "markdown",
   "metadata": {},
   "source": [
    "### You can evaluate anything in the `if` block. The length of lists, whether or not data is a certain type, if something is equal to or greater or less than something else, really any condition you wish to check within your data you can evaluate using an if/ else statement\n",
    "\n",
    "### Sometimes, you have more than one condition you want to evaluate. In the above example, by only checking if the BP is high we automatically ignore all cases where the blood pressure may be low. To account for this, we can introduce an `elif` statement (else if) which lets you check if another condition is true. If neither condition is true, the code will then go to the else block. \n",
    "\n",
    "### You can add any number of elif statments, but if/ else statments have to always start with an `if`. You don't need an `else` neccesarily, this just depends on your use case.\n",
    "\n",
    "### Modify the `systolic_bp` variable below to get a sense for how these extremely important blocks of code work!"
   ]
  },
  {
   "cell_type": "code",
   "execution_count": 23,
   "metadata": {},
   "outputs": [
    {
     "name": "stdout",
     "output_type": "stream",
     "text": [
      "BP is normal\n"
     ]
    }
   ],
   "source": [
    "systolic_bp = 80\n",
    "\n",
    "# Check if systolic BP is higher than 120, or lower than 70. If it is neither than print the BP is normal\n",
    "if systolic_bp > 120:\n",
    "    print('BP is high')\n",
    "elif systolic_bp < 70:\n",
    "    print('BP is low')\n",
    "else:\n",
    "    print('BP is normal')"
   ]
  },
  {
   "attachments": {},
   "cell_type": "markdown",
   "metadata": {},
   "source": [
    "## While Loops\n",
    "\n",
    "### The final big logic operation we will introduce is while loops. These you will probably use less frequently, but they are still good to understand. \n",
    "\n",
    "### While loops, like the name implies, will do a certain action until a condition is met. These are useful when you are not sure of how many iterations you will need until you achieve a certain outcome (like waiting for a user to enter a valid input), and they provide you with ability you control processing very effectively. Wheras `for` loops iterate for a prescribed amount of times, `while` loops iterate until something becomes true.\n",
    "\n",
    "### The syntax for while loops is the keyword `while` and then the condition you wish to have the code within the loop do until the condition becomes true. In the below example, we ask the computer to keep counting up from x by 1 while x is less than or equal to 3. It is important to keep in mind that while loops can easily run to infinity if the condition can never become true (imagine if the initial value of x was 4, and then your program entered the while loop. The value of x would increase until infinity as the condition will never become true)\n",
    "\n",
    "### Just like `for` and `if/else` statements, `while` loops employ the same indentation strategy where the `while` and the condition are not indented, and the code inside is  This tells python that everything at one indentation level past the initial while loop is what it should be evaluating and compare to the condition to break out of the while loop."
   ]
  },
  {
   "cell_type": "code",
   "execution_count": 12,
   "metadata": {},
   "outputs": [
    {
     "name": "stdout",
     "output_type": "stream",
     "text": [
      "1\n",
      "2\n",
      "3\n",
      "Final Value: 4\n"
     ]
    }
   ],
   "source": [
    "x = 1\n",
    "\n",
    "# set up the while loop\n",
    "while x <= 3:\n",
    "    # print x every iteration\n",
    "    print(x)\n",
    "    \n",
    "    x += 1\n",
    "    # after this, the computer will ask, 'is x<=3? If so, lets do another iteration. If it is greater than 3 break out of the loop and continue with the rest of the code\n",
    "    \n",
    "# once x became 4, the loop exits as the conditino w\n",
    "print('Final Value:', x)"
   ]
  },
  {
   "attachments": {},
   "cell_type": "markdown",
   "metadata": {},
   "source": [
    "## **String Functions**\n",
    "\n",
    "### We already learned about strings in the last notebook as they are a fundamental datatype, but we want to revisit them to show you some of the handy buily in methods we have in Python to work with and modify strings. These are all pretty self explanatory, and you will begin to remember them as you work with them more.\n",
    "\n",
    "### When we are working with text data (whether it is words, amino acid sequences, passwords, whatever...), there are very common operations you will end up wanting to do to them to eithe standardize things or acheive some desired output. Again, these are all pretty self explanatory, but it is good to know they exist as you will see them as early as the first project in code grand rounds. Even if you don't remember them all now, you can always look it up once you know it is possible! We will just go through a bunch of string operations now, and let you play with them to see how they work"
   ]
  },
  {
   "cell_type": "code",
   "execution_count": null,
   "metadata": {},
   "outputs": [],
   "source": [
    "# Length of the string\n",
    "length = len('code grand rounds')\n",
    "print(length) "
   ]
  },
  {
   "cell_type": "code",
   "execution_count": null,
   "metadata": {},
   "outputs": [],
   "source": [
    "# Convert to uppercase\n",
    "uppercase_string = 'code grand rounds'.upper()\n",
    "print(uppercase_string)  "
   ]
  },
  {
   "cell_type": "code",
   "execution_count": null,
   "metadata": {},
   "outputs": [],
   "source": [
    "# Convert to lowercase \n",
    "lowercase_string = uppercase_string.lower()\n",
    "print(lowercase_string)  "
   ]
  },
  {
   "cell_type": "code",
   "execution_count": null,
   "metadata": {},
   "outputs": [],
   "source": [
    "# Capitalize the first letter\n",
    "capitalized_string = 'code grand rounds'.capitalize()\n",
    "print(capitalized_string)  "
   ]
  },
  {
   "cell_type": "code",
   "execution_count": null,
   "metadata": {},
   "outputs": [],
   "source": [
    "# Capitalize the first letter of each word\n",
    "title_string = 'code grand rounds'.title()\n",
    "print(title_string)  "
   ]
  },
  {
   "cell_type": "code",
   "execution_count": null,
   "metadata": {},
   "outputs": [],
   "source": [
    "# Check if string starts with \"code\"\n",
    "starts_with_code = 'code grand rounds'.startswith(\"code\")\n",
    "print(starts_with_code) "
   ]
  },
  {
   "cell_type": "code",
   "execution_count": null,
   "metadata": {},
   "outputs": [],
   "source": [
    "# Check if string ends with \"rounds\"\n",
    "ends_with_rounds = 'code grand rounds'.endswith(\"rounds\")\n",
    "print(ends_with_rounds)  "
   ]
  },
  {
   "cell_type": "code",
   "execution_count": 25,
   "metadata": {},
   "outputs": [
    {
     "name": "stdout",
     "output_type": "stream",
     "text": [
      "1\n"
     ]
    }
   ],
   "source": [
    "# Find the first occurrence (or the index of) of \"grand\"\n",
    "index_of_grand = 'code grand rounds'.find(\"grand\")\n",
    "print(index_of_grand) "
   ]
  },
  {
   "cell_type": "code",
   "execution_count": null,
   "metadata": {},
   "outputs": [],
   "source": [
    "# Replace \"code\" with \"medical\"\n",
    "replaced_string = 'code grand rounds'.replace(\"code\", \"medical\")\n",
    "print(replaced_string) "
   ]
  },
  {
   "cell_type": "code",
   "execution_count": null,
   "metadata": {},
   "outputs": [],
   "source": [
    "#  Split the string by space\n",
    "# This is an important one- this will create a list of the original string split by space. You can split by whatever character you want by modifying what is in the parentheses of .split, as long as it is of type string itself\n",
    "# Here, we just put a space between the \"\" to say we want to split by spaces\n",
    "split_string = 'code grand rounds'.split(\" \")\n",
    "print(split_string) "
   ]
  },
  {
   "cell_type": "code",
   "execution_count": null,
   "metadata": {},
   "outputs": [],
   "source": [
    "# Join a list of strings using \" - \" as the delimiter\n",
    "# This is another important one- if you have a list of strings (that you generated using .split, perhaps) you can rejoin everything back into a string using whatever character is in the \"\" before join\n",
    "joined_string = \" - \".join(['code', 'grand', 'rounds'])\n",
    "print(joined_string) "
   ]
  },
  {
   "cell_type": "code",
   "execution_count": null,
   "metadata": {},
   "outputs": [],
   "source": [
    "# Strip leading and trailing spaces (Added spaces for demonstration)\n",
    "# This one is very important to ensure standardization of text data\n",
    "stripped_string = '  code grand rounds  '.strip()\n",
    "print(stripped_string)  "
   ]
  },
  {
   "attachments": {},
   "cell_type": "markdown",
   "metadata": {},
   "source": [
    "## **Functions**\n",
    "\n",
    "### As we delve deeper into the realm of programming, it becomes evident that some tasks or operations recur frequently. Imagine having to write the same sequence of code over and over again across different parts of your program. Not only is this laborious, but it also goes against the ethos of efficient programming. This is where functions step in, offering a respite from redundancy.\n",
    "\n",
    "### Functions are foundational blocks in Python (and indeed, in programming at large) that allow us to group a set of statements together. Functions are basically little computational tools that you can build when you need to do a certain action many times. They encapsulate certain logic or operations that can be invoked by mention of the function's name, preventing the need to rewrite the same code.\n",
    "\n",
    "### But it's not just about preventing repetition. Functions enable modularity, which means breaking down a large, complex problem into smaller, manageable pieces. They promote better organization of code, making it more readable and maintainable. Furthermore, they facilitate code reuse across multiple programs or projects and can also help you outline solutions to problems by figuring out what 'tools' you will need to solve the problem.\n",
    "\n",
    "### In Python, functions are defined using the `def` keyword, followed by the function's name and parameters. When you call a function, you will pass the relevant parameters you need within the call so the function has access to the data you want to the function to work with. The body of the function is demarcated by consistent indentation. Within this body, the `return` statement is used to send a result back to the caller, allowing the encapsulated logic of the function to produce meaningful outputs. If you don't add the `return` the function will not be able to send you your data back.\n",
    "\n",
    "### We will start by building a basic function to calculate BMI. Note the syntax of `def`, `return`, and the indentation level. We also acknowledge that there is controvery around the BMI measurement, but it is really a great example in this scenrio..."
   ]
  },
  {
   "cell_type": "code",
   "execution_count": 28,
   "metadata": {},
   "outputs": [
    {
     "name": "stdout",
     "output_type": "stream",
     "text": [
      "20.88888888888889\n",
      "25.781249999999996\n",
      "32.17993079584775\n"
     ]
    }
   ],
   "source": [
    "# This function calculates the BMI given weight (kg) and height (meters) which are passed as parameters\n",
    "def calculate_bmi(weight, height):\n",
    "    # squared denoted using **\n",
    "    bmi = weight / (height**2)\n",
    "    \n",
    "    # Make sure we return the calculated bmi!\n",
    "    return bmi\n",
    "\n",
    "# Calculate the BMI of 3 people using our function. We pass their weight (kg), and then their height (in meters) to the function and store the result in a variable \n",
    "person_1_bmi = calculate_bmi(47, 1.5)\n",
    "person_2_bmi = calculate_bmi(66, 1.6)\n",
    "person_3_bmi = calculate_bmi(93, 1.7)\n",
    "\n",
    "print(person_1_bmi)\n",
    "print(person_2_bmi)\n",
    "print(person_3_bmi)"
   ]
  },
  {
   "attachments": {},
   "cell_type": "markdown",
   "metadata": {},
   "source": [
    "### Do you see why this might be useful? Instead of having to calculate BMI three times writing the code each time, we just write the code once, and then the information relevant to each person to the function whenever we need to get the BMI. \\\n",
    "\n",
    "### Functions can also include logis operations like we have seen earlier. As they are just little reusable blocks of code, we can build functions to do whatever we need! Lets now add an `if/else` statment to our function and have it return the BMI category of the person based on the BMI instead of the BMI itself.\n",
    "\n",
    "### Note how we used two `elif` statements here to account for all of the conditions we want to evaluate and return the final status. Can you convince yourself that none of these `if`, `elif`, or `else` statements will be reached more than once each function call? Only one of them will be reached only one time (which one depends on the condition, as is the point), but make sure you understand why!"
   ]
  },
  {
   "cell_type": "code",
   "execution_count": 30,
   "metadata": {},
   "outputs": [
    {
     "name": "stdout",
     "output_type": "stream",
     "text": [
      "Normal weight\n",
      "Overweight\n",
      "Obesity\n"
     ]
    }
   ],
   "source": [
    "# Modify function to return BMI status \n",
    "def classify_bmi(weight, height):\n",
    "    bmi = weight / (height**2)\n",
    "    # Make if/ else loop to check if \n",
    "    if bmi < 18.5:\n",
    "        status = \"Underweight\"\n",
    "    elif 18.5 <= bmi < 24.9:\n",
    "        status = \"Normal weight\"\n",
    "    elif 25 <= bmi < 29.9:\n",
    "        status = \"Overweight\"\n",
    "    else:\n",
    "        status = \"Obesity\"\n",
    "    return status\n",
    "    \n",
    "\n",
    "person_1_bmi = classify_bmi(47, 1.5)\n",
    "person_2_bmi = classify_bmi(66, 1.6)\n",
    "person_3_bmi = classify_bmi(93, 1.7)\n",
    "\n",
    "print(person_1_bmi)\n",
    "print(person_2_bmi)\n",
    "print(person_3_bmi)\n",
    "    "
   ]
  },
  {
   "attachments": {},
   "cell_type": "markdown",
   "metadata": {},
   "source": [
    "### One more nice thing about functions is that you can call other functions, within a function. Since we already defined two functions to calculate and classify BMI, why don't we make another function to take as input a patient name, weight, and height, and then store all of this in a dictionary for each patient so we could reference it later. \n",
    "\n",
    "### The way you read this is you would first go all the way down to where the function `store_patient_data` gets called, then you go back up to the store patient data function which is where the information got sent. As you read down this function you will see we them call the `calculate_bmi` function so, the data then goes up to there and returns the bmi, and then we call the `classify_bmi` function which next sends the data there to get the classifcation. Remember you can always identify a function by the `def` keyword. The hard part about getting used to reading code with functions in is to build the intuition about where the data is going at each step, but it is a pretty intuitive process and you will get better with time and practice! \n",
    "\n",
    "### This `store_patient_data` function will return to us a dictionary that has all the patient data nicely tidied up. We will then be able to access all the information easily later if we wanted to do that!"
   ]
  },
  {
   "attachments": {},
   "cell_type": "markdown",
   "metadata": {},
   "source": []
  },
  {
   "cell_type": "code",
   "execution_count": null,
   "metadata": {},
   "outputs": [],
   "source": [
    "def store_patient_data(name, weight, height):\n",
    "    # Store patient's BMI and BMI classification in a dictionary\n",
    "    bmi = calculate_bmi(weight, height)\n",
    "    classification = classify_bmi(weight, height)\n",
    "    \n",
    "    patient_data = {\n",
    "        'name': name,\n",
    "        'bmi': bmi,\n",
    "        'classification': classification\n",
    "    }\n",
    "    \n",
    "    return patient_data\n",
    "\n",
    "person_1_dict = store_patient_data('John Code', 47, 1.5)\n",
    "person_2_dict = store_patient_data('Barbara Grand', 1.6)\n",
    "person_3_dict = store_patient_data('Sherane Rounds', 1.7)\n",
    "\n",
    "print(person_1_dict)\n",
    "print(person_2_dict)\n",
    "print(person_3_dict)"
   ]
  },
  {
   "attachments": {},
   "cell_type": "markdown",
   "metadata": {},
   "source": [
    "## **Object Oriented Programming (OOP)**\n",
    "\n",
    "### OOP is the last heavy concept we will cover here, and before we even get into it let us just say we will not even scratch the surface. OOP is a deep paradigm of computer science and is fundamentally how many computer languages and very large code projects work. That said, in most of the content on Code Grand Rounds the complexity of our code never extends beyond functions and the other information you have learned from the past 2 notebooks, so we will give you a high level overview here so you know what is going on. We don't want to discourage from learning more about this, as writing code using OOP is a great way to program and can help you scale and organize your work, but it is also not strictly neccesary to really begin and can be incorporated in your work flow later.\n",
    "\n",
    "### But anyways! At its core, OOP is about organizing and modeling your code based on real-world entities or concepts. It's like breaking things down into their natural, component parts and understanding how they interact. In fact, you encounter object-oriented designs every day without even realizing it.\n",
    "\n",
    "### Imagine you're building a house. Before you even start, you need a blueprint. This blueprint defines how the house will look, how many rooms it will have, the size of the windows, the type of doors, etc. In OOP, this blueprint is what's called a `class`. It's a definition or a template, and you can define it using the `class` keyword.\n",
    "\n",
    "### Once you have made this blueprint (or `class`), you can then start to build a house from it. Maybe you build one house, or maybe you build a hundred houses. Each of these houses, built from the same blueprint, is an `object` or an `instance` of the class. They're all slightly different (maybe different colors, or with different furniture), but they follow the same basic design. \n",
    "\n",
    "### Below is how you would define a class for the house you want to make. Lets break down some of the syntax real quick:\n",
    "- ### `def __init__(...)` : This is what is called `the constructor`. If you are thinking it looks like a function with the `def`, you are right! It is a special kind of function (when functions are defined within a class, they are called methods, so really this is a method here...) that gets **automatically** called anytime you `instantiate a new object` (fancy talk for computationally build) a new house. We know that every house we build should have a certain number of rooms and an initial color. \n",
    "- ### `self` : `self` is how a house \"refers to itself\". It's a way for the house to say \"my color\" or \"my number of rooms\". When you're inside the house and you say \"this house's color\", you're basically referring to `self.color`.\n",
    "It's the first parameter in any method (aka, a function in a class) inside a class, and it allows you to access the object's own attributes and methods from within. \n",
    "- ### `attributes` of a class are defined using the self keyword, like `self.color` and `self.number_of_rooms`. When you `instantiate an object` of the class, you can access any of its parameters (shown below).\n",
    "\n",
    "### This is a lot of theory and new words here, so don't worry if it doesn't all make sense now. The house analogy is helpful, because if, for whatever reason, you were working on a program where you needed to have multiple instances of houses, OOP allows you a very easy way to 'build' lots of them with their own unique properties."
   ]
  },
  {
   "cell_type": "code",
   "execution_count": 33,
   "metadata": {},
   "outputs": [
    {
     "name": "stdout",
     "output_type": "stream",
     "text": [
      "<__main__.House object at 0x10fe89910>\n",
      "blue\n",
      "3\n"
     ]
    }
   ],
   "source": [
    "# create a class house to make houses\n",
    "class House:\n",
    "    def __init__(self, color, number_of_rooms):\n",
    "        self.color = color\n",
    "        self.number_of_rooms = number_of_rooms\n",
    "\n",
    "# instantiate an object of the house, paint it blue, and give it three rooms\n",
    "my_house = House(\"blue\", 3)\n",
    "\n",
    "# print the attributes associated with your house\n",
    "print(my_house.color)\n",
    "print(my_house.number_of_rooms)"
   ]
  },
  {
   "attachments": {},
   "cell_type": "markdown",
   "metadata": {},
   "source": [
    "### So now what if we want to change the color of the house or build another room? To do that we would define some more methods other than the constructor (remember, methods are just functions that are explicitly associated with a class).\n",
    "\n",
    "### To make a method of a class, you do it like you would any old function using the `def` keyword. However, when a `method` is within a class and you need the method to be able to access various attributes of the class (such as color and room number), you have to pass `self` to the method as a parameter so it can `see` that attribute. Below, we built a `method` to paint the house a new color."
   ]
  },
  {
   "cell_type": "code",
   "execution_count": 34,
   "metadata": {},
   "outputs": [
    {
     "name": "stdout",
     "output_type": "stream",
     "text": [
      "blue\n",
      "3\n",
      "red\n",
      "3\n"
     ]
    }
   ],
   "source": [
    "class House:\n",
    "    def __init__(self, color, number_of_rooms):\n",
    "        self.color = color\n",
    "        self.number_of_rooms = number_of_rooms\n",
    "\n",
    "    # we have added a method here to update the color of the house\n",
    "    def paint(self, new_color):\n",
    "        self.color = new_color\n",
    "\n",
    "# instantiate an object of the house, paint it blue, and give it three rooms\n",
    "my_house = House(\"blue\", 3)\n",
    "\n",
    "# print the attributes associated with your house\n",
    "print(my_house.color)\n",
    "print(my_house.number_of_rooms)\n",
    "\n",
    "# change the color of the house by utilizing the method. 'my_house' is an object of the class House, \n",
    "# so you can call any method of this class as long as you provide the required parameters\n",
    "my_house.paint('red')\n",
    "\n",
    "# print the attributes associated with your house after painting\n",
    "print(my_house.color)\n",
    "print(my_house.number_of_rooms)"
   ]
  },
  {
   "attachments": {},
   "cell_type": "markdown",
   "metadata": {},
   "source": [
    "### Notice how we did not pass `self` when creating the my_house object or when calling the methods of the class. The `self` parameter is implicitly passed by Python and is used internally by the class to denote which attributes and methods belong to it. This allows the object to perform actions like updating its own attributes.\n",
    "\n",
    "### Try below to build a method of the class House to add a room(s)! You can do this in as little as two lines of code!"
   ]
  },
  {
   "cell_type": "code",
   "execution_count": 35,
   "metadata": {},
   "outputs": [
    {
     "name": "stdout",
     "output_type": "stream",
     "text": [
      "3\n",
      "3\n"
     ]
    }
   ],
   "source": [
    "class House:\n",
    "    def __init__(self, color, number_of_rooms):\n",
    "        self.color = color\n",
    "        self.number_of_rooms = number_of_rooms\n",
    "\n",
    "    # we have added a method here to update the color of the house\n",
    "    def paint(self, new_color):\n",
    "        self.color = new_color\n",
    "\n",
    "# instantiate an object of the house, paint it blue, and give it three rooms\n",
    "my_house = House(\"blue\", 3)\n",
    "print(my_house.number_of_rooms)\n",
    "\n",
    "## YOU CODE HERE- ADD SOME ROOMS\n",
    "\n",
    "\n",
    "\n",
    "# Print the results to make sure you have updated\n",
    "print(my_house.number_of_rooms)"
   ]
  },
  {
   "attachments": {},
   "cell_type": "markdown",
   "metadata": {},
   "source": [
    "## Libraries\n",
    "\n",
    "### OK, so the big reason we talked about OOP in the following section was to set up this section. If you don't feel totally comfortable doing OOP on your own now, that is OK, but it is *extremely* important you are familiar enough with the concepts to understand packages and libraries. If you have made it this far, we promise it is wirth your time to finish this section as knowing about what folllows is what will truly allow you to maximize your ability on the computer!\n",
    "\n",
    "### So first of all, what even are libraries. `Libraries` are collections of functions and methods that allows you to perform many actions without writing your code. For example, if you wanted to develop a machine learning model, libraries like PyTorch or scikit-learn provide the necessary tools without you needing to understand the intricate math behind each algorithm. You will become very familiar with these later on in Code Grand Rounds!\n",
    "\n",
    "### So, how does OOP tie into this? Many libraries and packages are developed using the principles of OOP. This means that they often consist of classes and objects. For instance, in the popular data manipulation library, pandas (which you will get familiar with in module 2!), a DataFrame is an object, (an instance of a class), that represents a table of data. \n",
    "\n",
    "### By understanding OOP, you can more intuitively interact with these objects, leveraging their methods and attributes for your specific needs. Becuase pandas has pre built all kinds of useful methods for you (listing summary statistics, sorting data, etc), it saves you the time of having to rebuild all of this from scratch.\n",
    "\n",
    "### This all becomes especially in the realms of data science and AI, as these OOP-backed libraries simplify complex tasks. Without libraries, to create a neural network you'd be defining neuron behaviors, activations, and backpropagation algorithms. But with a library like Pytorch, creating a neural network can be as simple as instantiating an object and tweaking some parameters which can be done in very little lines of code to the highest degree of accuracy you can acheive.\n",
    "\n",
    "### Hopefully we have convinced you at this point that using libraries is awesome, and fortunately they are also straightforward to work with. In Python, you can get access to the full breadth of a library by using the `import` keyword. If it is a library you will be using a lot (like pandas) you can also create an alias for it via using the `as` keyword so you can reference all of the methods related to the objects you want to use quickly. For pandas, a popular way to do this is `import pandas as pd`.\n",
    "\n",
    "### If you know you need to use only certain tools (or classes) from a library, you also import those specific things using the `from` keyword. For example, to import a RandomForestClassifier (which you will learn all about in module 3), you would do `from sklearn import RandomForestClassifier`. This will allow you to create a random forest object, and then you will have access to all of the methods associated with it. \n",
    "\n",
    "### On Code Grand Rounds site, a lot of the library management is handled on our backend which saves some you some trouble with the importing. However, we will certainly make use of the classes and methods from all of these important libraries throughout the curriculum, so it is very good to keep in mind what is really going on under the hood that gives you this amazing functinoality. \n",
    "\n",
    "### If you are coding locally (which we highly encourage!), you will have to import (or see our imports...) at the top. If you ever get a `Not Found Error`, it could be a problem with your environment or that you haven't installed the package on your computer (either using `pip` or `conda` or some other manager tool). We teach you all about environments and installations in module 0, so if you are interested in coding locally (and you should be!) definitely make sure you get all of that sorted out prior as it will enable you to make full use of what is freely available to you! \n",
    "\n",
    "### Thank you for making it this far with us! You have now completed the basics notebook for Python and are well on your way. This was the hardest part! We will see you in the first project- building an amino acid calculator!"
   ]
  }
 ],
 "metadata": {
  "kernelspec": {
   "display_name": "mnist",
   "language": "python",
   "name": "python3"
  },
  "language_info": {
   "codemirror_mode": {
    "name": "ipython",
    "version": 3
   },
   "file_extension": ".py",
   "mimetype": "text/x-python",
   "name": "python",
   "nbconvert_exporter": "python",
   "pygments_lexer": "ipython3",
   "version": "3.11.3"
  },
  "orig_nbformat": 4
 },
 "nbformat": 4,
 "nbformat_minor": 2
}
