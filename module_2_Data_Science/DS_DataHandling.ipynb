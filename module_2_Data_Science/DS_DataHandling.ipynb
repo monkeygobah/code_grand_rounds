{
 "cells": [
  {
   "cell_type": "markdown",
   "id": "a473a0be",
   "metadata": {},
   "source": [
    "# Coding Applications in Medicine: Data Science - Handling Data with Pandas"
   ]
  },
  {
   "cell_type": "markdown",
   "id": "e732759e",
   "metadata": {},
   "source": [
    "In this notebook, we will explore a sample dataset on medical insurance to practice handling data using Pandas."
   ]
  },
  {
   "cell_type": "markdown",
   "id": "227153a6",
   "metadata": {},
   "source": [
    "## Introduction"
   ]
  },
  {
   "cell_type": "code",
   "execution_count": 1,
   "id": "fcbc47a5",
   "metadata": {},
   "outputs": [
    {
     "name": "stdout",
     "output_type": "stream",
     "text": [
      "Intel MKL WARNING: Support of Intel(R) Streaming SIMD Extensions 4.2 (Intel(R) SSE4.2) enabled only processors has been deprecated. Intel oneAPI Math Kernel Library 2025.0 will require Intel(R) Advanced Vector Extensions (Intel(R) AVX) instructions.\n",
      "Intel MKL WARNING: Support of Intel(R) Streaming SIMD Extensions 4.2 (Intel(R) SSE4.2) enabled only processors has been deprecated. Intel oneAPI Math Kernel Library 2025.0 will require Intel(R) Advanced Vector Extensions (Intel(R) AVX) instructions.\n"
     ]
    }
   ],
   "source": [
    "import pandas as pd\n",
    "import numpy as np"
   ]
  },
  {
   "cell_type": "markdown",
   "id": "362574e8",
   "metadata": {},
   "source": [
    "## Pandas Basics "
   ]
  },
  {
   "cell_type": "markdown",
   "id": "c6da228a",
   "metadata": {},
   "source": [
    "After obtaining the data, the first step is to read the data into the Python notebook. We will use the Pandas data structure to store our data and use it for further analysis."
   ]
  },
  {
   "cell_type": "code",
   "execution_count": 2,
   "id": "5f12a59a",
   "metadata": {},
   "outputs": [
    {
     "data": {
      "text/html": [
       "<div>\n",
       "<style scoped>\n",
       "    .dataframe tbody tr th:only-of-type {\n",
       "        vertical-align: middle;\n",
       "    }\n",
       "\n",
       "    .dataframe tbody tr th {\n",
       "        vertical-align: top;\n",
       "    }\n",
       "\n",
       "    .dataframe thead th {\n",
       "        text-align: right;\n",
       "    }\n",
       "</style>\n",
       "<table border=\"1\" class=\"dataframe\">\n",
       "  <thead>\n",
       "    <tr style=\"text-align: right;\">\n",
       "      <th></th>\n",
       "      <th>age</th>\n",
       "      <th>sex</th>\n",
       "      <th>bmi</th>\n",
       "      <th>children</th>\n",
       "      <th>smoker</th>\n",
       "      <th>region</th>\n",
       "      <th>charges</th>\n",
       "    </tr>\n",
       "  </thead>\n",
       "  <tbody>\n",
       "    <tr>\n",
       "      <th>0</th>\n",
       "      <td>19</td>\n",
       "      <td>female</td>\n",
       "      <td>27.900</td>\n",
       "      <td>NaN</td>\n",
       "      <td>yes</td>\n",
       "      <td>southwest</td>\n",
       "      <td>16884.92400</td>\n",
       "    </tr>\n",
       "    <tr>\n",
       "      <th>1</th>\n",
       "      <td>18</td>\n",
       "      <td>male</td>\n",
       "      <td>33.770</td>\n",
       "      <td>1.0</td>\n",
       "      <td>no</td>\n",
       "      <td>southeast</td>\n",
       "      <td>1725.55230</td>\n",
       "    </tr>\n",
       "    <tr>\n",
       "      <th>2</th>\n",
       "      <td>28</td>\n",
       "      <td>male</td>\n",
       "      <td>33.000</td>\n",
       "      <td>3.0</td>\n",
       "      <td>no</td>\n",
       "      <td>southeast</td>\n",
       "      <td>4449.46200</td>\n",
       "    </tr>\n",
       "    <tr>\n",
       "      <th>3</th>\n",
       "      <td>33</td>\n",
       "      <td>male</td>\n",
       "      <td>22.705</td>\n",
       "      <td>NaN</td>\n",
       "      <td>no</td>\n",
       "      <td>northwest</td>\n",
       "      <td>21984.47061</td>\n",
       "    </tr>\n",
       "    <tr>\n",
       "      <th>4</th>\n",
       "      <td>32</td>\n",
       "      <td>male</td>\n",
       "      <td>28.880</td>\n",
       "      <td>NaN</td>\n",
       "      <td>no</td>\n",
       "      <td>northwest</td>\n",
       "      <td>3866.85520</td>\n",
       "    </tr>\n",
       "    <tr>\n",
       "      <th>...</th>\n",
       "      <td>...</td>\n",
       "      <td>...</td>\n",
       "      <td>...</td>\n",
       "      <td>...</td>\n",
       "      <td>...</td>\n",
       "      <td>...</td>\n",
       "      <td>...</td>\n",
       "    </tr>\n",
       "    <tr>\n",
       "      <th>1333</th>\n",
       "      <td>50</td>\n",
       "      <td>male</td>\n",
       "      <td>30.970</td>\n",
       "      <td>3.0</td>\n",
       "      <td>no</td>\n",
       "      <td>northwest</td>\n",
       "      <td>10600.54830</td>\n",
       "    </tr>\n",
       "    <tr>\n",
       "      <th>1334</th>\n",
       "      <td>18</td>\n",
       "      <td>female</td>\n",
       "      <td>31.920</td>\n",
       "      <td>NaN</td>\n",
       "      <td>no</td>\n",
       "      <td>northeast</td>\n",
       "      <td>2205.98080</td>\n",
       "    </tr>\n",
       "    <tr>\n",
       "      <th>1335</th>\n",
       "      <td>18</td>\n",
       "      <td>female</td>\n",
       "      <td>36.850</td>\n",
       "      <td>NaN</td>\n",
       "      <td>no</td>\n",
       "      <td>southeast</td>\n",
       "      <td>1629.83350</td>\n",
       "    </tr>\n",
       "    <tr>\n",
       "      <th>1336</th>\n",
       "      <td>21</td>\n",
       "      <td>female</td>\n",
       "      <td>25.800</td>\n",
       "      <td>NaN</td>\n",
       "      <td>no</td>\n",
       "      <td>southwest</td>\n",
       "      <td>2007.94500</td>\n",
       "    </tr>\n",
       "    <tr>\n",
       "      <th>1337</th>\n",
       "      <td>61</td>\n",
       "      <td>female</td>\n",
       "      <td>29.070</td>\n",
       "      <td>NaN</td>\n",
       "      <td>yes</td>\n",
       "      <td>northwest</td>\n",
       "      <td>29141.36030</td>\n",
       "    </tr>\n",
       "  </tbody>\n",
       "</table>\n",
       "<p>1338 rows × 7 columns</p>\n",
       "</div>"
      ],
      "text/plain": [
       "      age     sex     bmi  children smoker     region      charges\n",
       "0      19  female  27.900       NaN    yes  southwest  16884.92400\n",
       "1      18    male  33.770       1.0     no  southeast   1725.55230\n",
       "2      28    male  33.000       3.0     no  southeast   4449.46200\n",
       "3      33    male  22.705       NaN     no  northwest  21984.47061\n",
       "4      32    male  28.880       NaN     no  northwest   3866.85520\n",
       "...   ...     ...     ...       ...    ...        ...          ...\n",
       "1333   50    male  30.970       3.0     no  northwest  10600.54830\n",
       "1334   18  female  31.920       NaN     no  northeast   2205.98080\n",
       "1335   18  female  36.850       NaN     no  southeast   1629.83350\n",
       "1336   21  female  25.800       NaN     no  southwest   2007.94500\n",
       "1337   61  female  29.070       NaN    yes  northwest  29141.36030\n",
       "\n",
       "[1338 rows x 7 columns]"
      ]
     },
     "execution_count": 2,
     "metadata": {},
     "output_type": "execute_result"
    }
   ],
   "source": [
    "# Read the csv file into a Pandas data frame.\n",
    "insuranceDF= pd.read_csv(\"insurance_modified.csv\")\n",
    "\n",
    "# Preview the dataframe by calling the variable (useful to double-checking your work).\n",
    "# Note: Missing data is normally shown as NaN (similar to null).\n",
    "insuranceDF"
   ]
  },
  {
   "cell_type": "code",
   "execution_count": 3,
   "id": "7b5b0f60",
   "metadata": {},
   "outputs": [
    {
     "data": {
      "text/html": [
       "<div>\n",
       "<style scoped>\n",
       "    .dataframe tbody tr th:only-of-type {\n",
       "        vertical-align: middle;\n",
       "    }\n",
       "\n",
       "    .dataframe tbody tr th {\n",
       "        vertical-align: top;\n",
       "    }\n",
       "\n",
       "    .dataframe thead th {\n",
       "        text-align: right;\n",
       "    }\n",
       "</style>\n",
       "<table border=\"1\" class=\"dataframe\">\n",
       "  <thead>\n",
       "    <tr style=\"text-align: right;\">\n",
       "      <th></th>\n",
       "      <th>age</th>\n",
       "      <th>bmi</th>\n",
       "      <th>children</th>\n",
       "      <th>smoker</th>\n",
       "      <th>region</th>\n",
       "      <th>charges</th>\n",
       "    </tr>\n",
       "    <tr>\n",
       "      <th>sex</th>\n",
       "      <th></th>\n",
       "      <th></th>\n",
       "      <th></th>\n",
       "      <th></th>\n",
       "      <th></th>\n",
       "      <th></th>\n",
       "    </tr>\n",
       "  </thead>\n",
       "  <tbody>\n",
       "    <tr>\n",
       "      <th>female</th>\n",
       "      <td>19</td>\n",
       "      <td>27.900</td>\n",
       "      <td>NaN</td>\n",
       "      <td>yes</td>\n",
       "      <td>southwest</td>\n",
       "      <td>16884.92400</td>\n",
       "    </tr>\n",
       "    <tr>\n",
       "      <th>male</th>\n",
       "      <td>18</td>\n",
       "      <td>33.770</td>\n",
       "      <td>1.0</td>\n",
       "      <td>no</td>\n",
       "      <td>southeast</td>\n",
       "      <td>1725.55230</td>\n",
       "    </tr>\n",
       "    <tr>\n",
       "      <th>male</th>\n",
       "      <td>28</td>\n",
       "      <td>33.000</td>\n",
       "      <td>3.0</td>\n",
       "      <td>no</td>\n",
       "      <td>southeast</td>\n",
       "      <td>4449.46200</td>\n",
       "    </tr>\n",
       "    <tr>\n",
       "      <th>male</th>\n",
       "      <td>33</td>\n",
       "      <td>22.705</td>\n",
       "      <td>NaN</td>\n",
       "      <td>no</td>\n",
       "      <td>northwest</td>\n",
       "      <td>21984.47061</td>\n",
       "    </tr>\n",
       "    <tr>\n",
       "      <th>male</th>\n",
       "      <td>32</td>\n",
       "      <td>28.880</td>\n",
       "      <td>NaN</td>\n",
       "      <td>no</td>\n",
       "      <td>northwest</td>\n",
       "      <td>3866.85520</td>\n",
       "    </tr>\n",
       "    <tr>\n",
       "      <th>...</th>\n",
       "      <td>...</td>\n",
       "      <td>...</td>\n",
       "      <td>...</td>\n",
       "      <td>...</td>\n",
       "      <td>...</td>\n",
       "      <td>...</td>\n",
       "    </tr>\n",
       "    <tr>\n",
       "      <th>male</th>\n",
       "      <td>50</td>\n",
       "      <td>30.970</td>\n",
       "      <td>3.0</td>\n",
       "      <td>no</td>\n",
       "      <td>northwest</td>\n",
       "      <td>10600.54830</td>\n",
       "    </tr>\n",
       "    <tr>\n",
       "      <th>female</th>\n",
       "      <td>18</td>\n",
       "      <td>31.920</td>\n",
       "      <td>NaN</td>\n",
       "      <td>no</td>\n",
       "      <td>northeast</td>\n",
       "      <td>2205.98080</td>\n",
       "    </tr>\n",
       "    <tr>\n",
       "      <th>female</th>\n",
       "      <td>18</td>\n",
       "      <td>36.850</td>\n",
       "      <td>NaN</td>\n",
       "      <td>no</td>\n",
       "      <td>southeast</td>\n",
       "      <td>1629.83350</td>\n",
       "    </tr>\n",
       "    <tr>\n",
       "      <th>female</th>\n",
       "      <td>21</td>\n",
       "      <td>25.800</td>\n",
       "      <td>NaN</td>\n",
       "      <td>no</td>\n",
       "      <td>southwest</td>\n",
       "      <td>2007.94500</td>\n",
       "    </tr>\n",
       "    <tr>\n",
       "      <th>female</th>\n",
       "      <td>61</td>\n",
       "      <td>29.070</td>\n",
       "      <td>NaN</td>\n",
       "      <td>yes</td>\n",
       "      <td>northwest</td>\n",
       "      <td>29141.36030</td>\n",
       "    </tr>\n",
       "  </tbody>\n",
       "</table>\n",
       "<p>1338 rows × 6 columns</p>\n",
       "</div>"
      ],
      "text/plain": [
       "        age     bmi  children smoker     region      charges\n",
       "sex                                                         \n",
       "female   19  27.900       NaN    yes  southwest  16884.92400\n",
       "male     18  33.770       1.0     no  southeast   1725.55230\n",
       "male     28  33.000       3.0     no  southeast   4449.46200\n",
       "male     33  22.705       NaN     no  northwest  21984.47061\n",
       "male     32  28.880       NaN     no  northwest   3866.85520\n",
       "...     ...     ...       ...    ...        ...          ...\n",
       "male     50  30.970       3.0     no  northwest  10600.54830\n",
       "female   18  31.920       NaN     no  northeast   2205.98080\n",
       "female   18  36.850       NaN     no  southeast   1629.83350\n",
       "female   21  25.800       NaN     no  southwest   2007.94500\n",
       "female   61  29.070       NaN    yes  northwest  29141.36030\n",
       "\n",
       "[1338 rows x 6 columns]"
      ]
     },
     "execution_count": 3,
     "metadata": {},
     "output_type": "execute_result"
    }
   ],
   "source": [
    "# When you hear the word 'index', think 'row labels'. That is what it is!\n",
    "# Note: The index can be non-numerical and non-unique.  \n",
    "\n",
    "# Set the \"sex\" column to be the index of the dataframe.\n",
    "insuranceDF.set_index(\"sex\", inplace=True)\n",
    "insuranceDF"
   ]
  },
  {
   "cell_type": "code",
   "execution_count": null,
   "id": "6afd7f0b",
   "metadata": {},
   "outputs": [],
   "source": [
    "# For our usecase, we would like to keep the default index setting.\n",
    "\n",
    "insuranceDF.reset_index(inplace=True)\n",
    "insuranceDF"
   ]
  },
  {
   "cell_type": "code",
   "execution_count": null,
   "id": "757c7fe6",
   "metadata": {},
   "outputs": [],
   "source": [
    "# Use loc to select rows/columns by label name.\n",
    "\n",
    "# View the information for person number 5 to 10 (inclusive) in the df.\n",
    "insuranceDF.loc[5:10]"
   ]
  },
  {
   "cell_type": "code",
   "execution_count": null,
   "id": "dba2594a",
   "metadata": {},
   "outputs": [],
   "source": [
    "# View only the demographic information for person number 5 to 10 (inclusive).\n",
    "insuranceDF.loc[5:10, \"sex\":\"region\"] # the syntac here is df[row_start:row:end, col_start:col_end]- this is a very useful way to view and work with your data!"
   ]
  },
  {
   "cell_type": "code",
   "execution_count": null,
   "id": "6dc2c465",
   "metadata": {},
   "outputs": [],
   "source": [
    "# View only the sex, bmi, and smoker information for everyone.\n",
    "insuranceDF.loc[:, [\"sex\", \"bmi\", \"smoker\"]] # Same syntax as above, but using only the colon for the row\n",
    "                                             # section means we display all of the rows. We only show the columns listed"
   ]
  },
  {
   "cell_type": "code",
   "execution_count": null,
   "id": "6c2f9a14",
   "metadata": {},
   "outputs": [],
   "source": [
    "# Pandas can also use iloc to select rows/columns by number.\n",
    "# Note: Counting start with 0 and the end is not inclusive.\n",
    "\n",
    "# View only the sex, bmi, and smoker information for the 5th to 10th person (inclusive).\n",
    "insuranceDF.iloc[4:10, [0, 2, 4]]"
   ]
  },
  {
   "cell_type": "markdown",
   "id": "f18cca12",
   "metadata": {},
   "source": [
    "#### Note- loc and iloc are two different ways of parsing a df. It is literally just two methods to accomplish the same goal"
   ]
  },
  {
   "cell_type": "code",
   "execution_count": null,
   "id": "5d6c913f",
   "metadata": {},
   "outputs": [],
   "source": [
    "# Check everyone to see if they are a smoker.\n",
    "# This will go through the 'smoker' column and replace 'yes' with True and anything else with 'False'\n",
    "# This is a boolean mask and is a very helpful concepy\n",
    "\n",
    "# Note: The [] operator is the same as the loc operator.\n",
    "insuranceDF[\"smoker\"] == \"yes\" \n",
    "\n",
    "# This is the same as \n",
    "### insuranceDF.loc[:, \"smoker\"] == \"yes\""
   ]
  },
  {
   "cell_type": "code",
   "execution_count": null,
   "id": "5c0df5bb",
   "metadata": {},
   "outputs": [],
   "source": [
    "# Filter out our existing dataframe to include only the first 10 smokers on the list.\n",
    "insuranceDF.loc[insuranceDF[\"smoker\"] == \"yes\"].head(10)\n",
    "\n",
    "# This is the same as\n",
    "### insuranceDF.loc[insuranceDF[\"smoker\"] == \"yes\"].iloc[:10]"
   ]
  },
  {
   "cell_type": "code",
   "execution_count": null,
   "id": "02b99821",
   "metadata": {},
   "outputs": [],
   "source": [
    "# NaN values will either be treated as 0 or will be skipped in certain calculations.\n",
    "\n",
    "# Statistics that is reported by default for dataframes.\n",
    "insuranceDF.describe()"
   ]
  },
  {
   "cell_type": "code",
   "execution_count": null,
   "id": "437c1fb3",
   "metadata": {},
   "outputs": [],
   "source": [
    "# Statistics that is reported by default for series (numerical).\n",
    "insuranceDF[\"bmi\"].describe()"
   ]
  },
  {
   "cell_type": "code",
   "execution_count": null,
   "id": "62bf0930",
   "metadata": {},
   "outputs": [],
   "source": [
    "# Statistics that is reported by default for series (non-numerical).\n",
    "insuranceDF[\"smoker\"].describe()"
   ]
  },
  {
   "cell_type": "code",
   "execution_count": null,
   "id": "4092f189",
   "metadata": {},
   "outputs": [],
   "source": [
    "# Obtain the demographics of the 10 people with the lowest insurance charges.\n",
    "insuranceDF.sort_values(\"charges\", ascending=True).head(10)"
   ]
  },
  {
   "cell_type": "code",
   "execution_count": null,
   "id": "2899d2e1",
   "metadata": {},
   "outputs": [],
   "source": [
    "# Group all the people by region, aggregate by median value.\n",
    "insuranceDF.groupby(\"region\").agg('median')"
   ]
  },
  {
   "cell_type": "code",
   "execution_count": null,
   "id": "0246fa21",
   "metadata": {},
   "outputs": [],
   "source": [
    "# Keep only regions where the mean BMI is greater than 30.\n",
    "\n",
    "def isHighMeanBMI(df):\n",
    "    return df[\"bmi\"].mean() > 30\n",
    "\n",
    "insuranceDF.groupby(\"region\").filter(isHighMeanBMI)"
   ]
  },
  {
   "cell_type": "code",
   "execution_count": null,
   "id": "49090815",
   "metadata": {},
   "outputs": [],
   "source": [
    "# Check how many NaN values we have for each column.\n",
    "insuranceDF.isna().sum()"
   ]
  },
  {
   "cell_type": "code",
   "execution_count": null,
   "id": "d9c7906c",
   "metadata": {},
   "outputs": [],
   "source": [
    "# Check the unique values in the children column.\n",
    "insuranceDF[\"children\"].unique()"
   ]
  },
  {
   "cell_type": "code",
   "execution_count": null,
   "id": "afde0bce",
   "metadata": {},
   "outputs": [],
   "source": [
    "# One way to handle missing data is to remove rows where there are NaN values.\n",
    "\n",
    "# Drops rows where NaN values exists.\n",
    "insuranceDF.dropna(axis=0)"
   ]
  },
  {
   "cell_type": "code",
   "execution_count": null,
   "id": "d766ff93",
   "metadata": {},
   "outputs": [],
   "source": [
    "# Another way to handle missing data is to remove columns where there are NaN values.\n",
    "\n",
    "# Drops columns where NaN values exists\n",
    "insuranceDF.dropna(axis=1)"
   ]
  },
  {
   "cell_type": "code",
   "execution_count": null,
   "id": "681b78ff",
   "metadata": {},
   "outputs": [],
   "source": [
    "# Another way to handle missing data is to replace the NaN values with a reasonable value.\n",
    "\n",
    "# Replace the NaN values in \"children\" column with 0.\n",
    "insuranceDF[\"children\"].fillna(0)\n",
    "\n",
    "# This is the same as \n",
    "### insuranceDF[\"children\"].replace(np.nan, 0)"
   ]
  },
  {
   "cell_type": "code",
   "execution_count": null,
   "id": "3aed06a8",
   "metadata": {},
   "outputs": [],
   "source": [
    "# Add a column named \"parent\" that determines whether a given person is a parent\n",
    "#  given the number of children they have.\n",
    "\n",
    "def isParent(children):\n",
    "    if children > 0:\n",
    "        return \"yes\"\n",
    "    else:\n",
    "        return \"no\"\n",
    "\n",
    "insuranceDF[\"parent\"] = insuranceDF[\"children\"].apply(isParent)\n",
    "insuranceDF"
   ]
  },
  {
   "cell_type": "code",
   "execution_count": null,
   "id": "161d1b46",
   "metadata": {},
   "outputs": [],
   "source": [
    "# Drop the newly created \"parent\" column.\n",
    "insuranceDF = insuranceDF.drop(\"parent\", axis=\"columns\")\n",
    "insuranceDF"
   ]
  },
  {
   "cell_type": "markdown",
   "id": "757223af",
   "metadata": {},
   "source": [
    "## Text Wrangling and Regex Basics"
   ]
  },
  {
   "cell_type": "markdown",
   "id": "7b1c7576",
   "metadata": {},
   "source": [
    "As you may have already noticed, there are many different forms of data, including numerical, boolean (true or false), text, etc. In general, textual data may need to be manipulated and/or clean-up in order to be useful in later analysis.\n",
    "\n",
    "The following section will show ways to manipulate strings (textual data) on Pandas series."
   ]
  },
  {
   "cell_type": "code",
   "execution_count": null,
   "id": "37684bbf",
   "metadata": {},
   "outputs": [],
   "source": [
    "# Change the text for the \"region\" column to be upper case and append the word \"region\" at the end.\n",
    "insuranceDF[\"region\"] = insuranceDF[\"region\"].str.upper() + \" region\"\n",
    "insuranceDF"
   ]
  },
  {
   "cell_type": "code",
   "execution_count": null,
   "id": "bbefbf90",
   "metadata": {},
   "outputs": [],
   "source": [
    "# Replace the space character with the hyphen character for the \"region\" column.\n",
    "insuranceDF[\"region\"] = insuranceDF[\"region\"].str.replace(' ', '-')\n",
    "insuranceDF"
   ]
  },
  {
   "cell_type": "code",
   "execution_count": null,
   "id": "b5173551",
   "metadata": {},
   "outputs": [],
   "source": [
    "# Split the \"region\" column by the hypen character and take only the first element of the result.\n",
    "insuranceDF[\"region\"] = insuranceDF[\"region\"].str.split('-').str[0]\n",
    "insuranceDF"
   ]
  },
  {
   "cell_type": "code",
   "execution_count": null,
   "id": "a1b36afe",
   "metadata": {},
   "outputs": [],
   "source": [
    "# Take the first character from the \"sex\" column to convert it to upper case.\n",
    "insuranceDF[\"sex\"] = insuranceDF[\"sex\"].str[0:1].str.upper()\n",
    "insuranceDF"
   ]
  },
  {
   "cell_type": "code",
   "execution_count": null,
   "id": "8cb556f3",
   "metadata": {},
   "outputs": [],
   "source": [
    "# Check if the region is in the north.\n",
    "insuranceDF[\"In North Region\"] = insuranceDF[\"region\"].str.contains(\"NORTH\")\n",
    "insuranceDF"
   ]
  },
  {
   "cell_type": "code",
   "execution_count": null,
   "id": "bbeabb42",
   "metadata": {},
   "outputs": [],
   "source": [
    "# Check the length of the string of the \"smoker\" column.\n",
    "insuranceDF[\"smoker.len\"] = insuranceDF[\"smoker\"].str.len()\n",
    "insuranceDF"
   ]
  },
  {
   "cell_type": "markdown",
   "id": "4d0080fb",
   "metadata": {},
   "source": [
    "Regex (regular expression) describes a sequence of characters that specifies a search pattern. Regex is a powerful way to search of specific patterns within text when done correctly, but can be quite complex/confusing. \n",
    "\n",
    "\n",
    "For more information: https://docs.python.org/3/howto/regex.html\n",
    "\n",
    "Website to check/test your regex expression: https://regex101.com"
   ]
  },
  {
   "cell_type": "code",
   "execution_count": null,
   "id": "d99aa0fe",
   "metadata": {},
   "outputs": [],
   "source": [
    "# Pattern: \n",
    "# - First character is 'S'.\n",
    "# - Followed by any characters exactly two times.\n",
    "# - Followed by any character that is not 'a' to 'z' at least once.\n",
    "# - Followed by any word character zero times or more.\n",
    "# - Followed by 'T'.\n",
    "pattern = r\"S.{2}[^a-z]+\\w*T\"\n",
    "\n",
    "# Find all matches to the above pattern within the 'region' column.\n",
    "insuranceDF[\"region\"].str.findall(pattern)"
   ]
  },
  {
   "cell_type": "markdown",
   "id": "3abed9fd",
   "metadata": {},
   "source": [
    "We have shown some of the most commonly used pandas operations/functions, but we have barely scratched the surface! To learn more about all the other existing pandas functions and more information, check the following:\n",
    "- User Guide (Pandas): https://pandas.pydata.org/docs/user_guide/index.html#\n",
    "- API Reference (Pandas): https://pandas.pydata.org/docs/reference/index.html\n",
    "\n",
    "Other helpful guides and references to get you started:\n",
    "- User Guide (Python): https://docs.python.org/3/tutorial/\n",
    "- Library Reference (Python): https://docs.python.org/3/library/index.html\n",
    "- Language Reference (Python): https://docs.python.org/3/reference/index.html\n",
    "- User Guide (Numpy): https://numpy.org/doc/stable/user/index.html#\n",
    "- API Reference (Numpy): https://numpy.org/doc/stable/reference/index.html\n",
    "\n",
    "The following websites can help you visualize your code, one line at a time (with certain limitations).\n",
    "- Python Tutor (basic Python libraries only): https://pythontutor.com/visualize.html\n",
    "- Pandas Tutor (you will need to write out the sample data you are working with): https://pandastutor.com/vis.html "
   ]
  },
  {
   "cell_type": "markdown",
   "id": "afa1e953",
   "metadata": {},
   "source": [
    "**Source:**\n",
    "\n",
    "\n",
    "Module adapted from Kaggle: https://www.kaggle.com/code/mariapushkareva/medical-insurance-cost-with-linear-regression/notebook\n",
    "\n",
    "Dataset source: https://github.com/stedy/Machine-Learning-with-R-datasets"
   ]
  }
 ],
 "metadata": {
  "kernelspec": {
   "display_name": "Python 3 (ipykernel)",
   "language": "python",
   "name": "python3"
  },
  "language_info": {
   "codemirror_mode": {
    "name": "ipython",
    "version": 3
   },
   "file_extension": ".py",
   "mimetype": "text/x-python",
   "name": "python",
   "nbconvert_exporter": "python",
   "pygments_lexer": "ipython3",
   "version": "3.11.3"
  }
 },
 "nbformat": 4,
 "nbformat_minor": 5
}
