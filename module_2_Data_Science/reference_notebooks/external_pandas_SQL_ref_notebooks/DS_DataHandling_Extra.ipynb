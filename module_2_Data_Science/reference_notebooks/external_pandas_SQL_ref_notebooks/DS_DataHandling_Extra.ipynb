{
 "cells": [
  {
   "cell_type": "markdown",
   "id": "324f37ee",
   "metadata": {},
   "source": [
    "# SQL and Extras"
   ]
  },
  {
   "cell_type": "markdown",
   "id": "d5ff7821",
   "metadata": {},
   "source": [
    "## Set Up"
   ]
  },
  {
   "cell_type": "code",
   "execution_count": 1,
   "id": "aba52eeb",
   "metadata": {},
   "outputs": [],
   "source": [
    "import sqlite3, csv"
   ]
  },
  {
   "cell_type": "markdown",
   "id": "8cd51125",
   "metadata": {},
   "source": [
    "## Data cleaning/handling outside of Pandas library"
   ]
  },
  {
   "cell_type": "markdown",
   "id": "69a0bc2a",
   "metadata": {},
   "source": [
    "### In all the other notebooks within this module, we are directly modifying the data after directly reading the data file into Pandas dataframe. There may be instances where you might not be using the Pandas library for the data analysis. In those situations, the data cleaning and processing steps will need to be done via scripts.\n",
    "\n",
    "### The general approach would be to:\n",
    "### 1. Read the file and store the corresponding data in data structures\n",
    "### 2. Modify the data with user-defined functions\n",
    "### 3. Write the data into a new file\n",
    "\n",
    "### References:\n",
    "### - Python3 I/O tutorial: https://docs.python.org/3/tutorial/inputoutput.html\n",
    "### - Python3 CSV I/O tutorial: https://docs.python.org/3/library/csv.html\n",
    "\n",
    "### The following code blocks will modify the existing bmiCategories table to create usable features."
   ]
  },
  {
   "cell_type": "markdown",
   "id": "ff91ef15",
   "metadata": {},
   "source": [
    "### First we will define a helper function to help extract the relevant features from the text within the CSV file."
   ]
  },
  {
   "cell_type": "code",
   "execution_count": 2,
   "id": "d327aec1",
   "metadata": {},
   "outputs": [],
   "source": [
    "# User-defined function to modify the bmi value. \n",
    "# Category: String with the bmi categorization data.\n",
    "# Index: 0 for Min and -1 for Max.\n",
    "def modifyBmi(category, index):\n",
    "    # Split the bmi category text by ' ' and take the element at the index position of the resulting list.\n",
    "    bmi = category.split()[index]\n",
    "    # Check to see if the extracted text is a float (replace only one instance of '.' and check if it is a digit).\n",
    "    if category.split()[index].replace('.', '', 1).isdigit():\n",
    "        return float(bmi)\n",
    "    # Replacement for non-numerical min bmi.\n",
    "    if index == 0:\n",
    "        return 0.0\n",
    "    # Replacement for non-numerical max bmi.\n",
    "    return 100.0"
   ]
  },
  {
   "cell_type": "markdown",
   "id": "b7d94e2a",
   "metadata": {},
   "source": [
    "### Next we will define a function that will read/modify the data using our function we have defined above. Then we will define another function that will write the modified data back into a new CSV file."
   ]
  },
  {
   "cell_type": "code",
   "execution_count": 3,
   "id": "3956f0d8",
   "metadata": {},
   "outputs": [],
   "source": [
    "# Open the file with bmi categories data in read-only format.\n",
    "def readModifyBmiCategories(oldBmiCsv): \n",
    "    with open(oldBmiCsv, 'r') as f:\n",
    "        # Create a dictionary based on data in the file.\n",
    "        dr = csv.DictReader(f)\n",
    "        # Create a list of tuples that contains data obtained from the dictionary.\n",
    "        # Here we are also introducing the max and min bmi using our previously defined function.\n",
    "        rowList = [(row[\"BMI\"], row[\"Weight Status\"], modifyBmi(row[\"BMI\"], 0), \n",
    "                    modifyBmi(row[\"BMI\"], -1)) for row in dr]\n",
    "        # List of field names used for the header line of the csv we will write later.\n",
    "        fieldnameList = dr.fieldnames + [\"Min BMI\", \"Max BMI\"]\n",
    "    return rowList, fieldnameList\n",
    "\n",
    "# Open the file with bmi categories data in write format.\n",
    "# This will create an empty new file.\n",
    "def writeBmicategories(newBmiCsv, rows, fields):\n",
    "    with open(newBmiCsv, 'w', newline='') as f:\n",
    "        # Writes in csv format (comma as delimiter).\n",
    "        writer = csv.writer(f, delimiter=',')\n",
    "        # Writes field names as the first row.\n",
    "        writer.writerow(fields)\n",
    "        # Writes the list of data in row format (new line for each row).\n",
    "        for row in rows:\n",
    "            writer.writerow(row)"
   ]
  },
  {
   "cell_type": "markdown",
   "id": "a1be426b",
   "metadata": {},
   "source": [
    "### Finally, we will process the CSV file using the functions we have just defined."
   ]
  },
  {
   "cell_type": "code",
   "execution_count": 4,
   "id": "5f42927f",
   "metadata": {},
   "outputs": [],
   "source": [
    "rows, fields = readModifyBmiCategories(\"data/bmiCategories.csv\")\n",
    "writeBmicategories(\"data/modifiedBmiCategories.csv\", rows, fields)"
   ]
  },
  {
   "cell_type": "markdown",
   "id": "739bee43",
   "metadata": {},
   "source": [
    "## Working with databases"
   ]
  },
  {
   "cell_type": "markdown",
   "id": "423e0bc8",
   "metadata": {},
   "source": [
    "### In all the other notebooks within this module, we are obtaining the data directly from a file. There may be instances where the data is stored in a database, and you need to export part of the data from the database. One of the most popular languages to handle databases is SQL. In general, if you also need to manipulate the queried data, it is better to do so with scripts after querying and exporting rather than through SQL/within database queries.\n",
    "\n",
    "### References:\n",
    "### - SQLite Documentation: https://www.sqlite.org/docs.html\n",
    "### - Python3 SQLite Tutorial: https://docs.python.org/3/library/sqlite3.html\n",
    "\n",
    "### The following code blocks will use SQL to query against the modified bmiCategories table and the insurances table."
   ]
  },
  {
   "cell_type": "markdown",
   "id": "4ded4892",
   "metadata": {},
   "source": [
    "### First, we need to establish a connection to the database. Normally, we would establish a connection to a remote database. In our case, we wil establish a connection to a local database file."
   ]
  },
  {
   "cell_type": "code",
   "execution_count": 5,
   "id": "84780ce2",
   "metadata": {},
   "outputs": [],
   "source": [
    "# Establishes a connection to the local database file.\n",
    "# Normally, you would establish a connection to a remote database.\n",
    "con = sqlite3.connect(\"data/insurance.db\")\n",
    "cur = con.cursor()"
   ]
  },
  {
   "cell_type": "markdown",
   "id": "4a345d3c",
   "metadata": {},
   "source": [
    "### Next, we will insert the data from the CSV file into individual tables within the database. This involves creating new tables for each CSV file and then inserting the data into the appropriate columns. "
   ]
  },
  {
   "cell_type": "code",
   "execution_count": 6,
   "id": "a481a4ad",
   "metadata": {},
   "outputs": [],
   "source": [
    "def readInsuranceCSV(insuranceCSV):\n",
    "    # Open the file with the insurance data in a read-only format.\n",
    "    with open(insuranceCSV, 'r') as f:\n",
    "        # Create a dictionary based on data in the file.\n",
    "        dr = csv.DictReader(f)\n",
    "        # Create a list of tuples that contains data obtained from the dictionary.\n",
    "        rowList = [(row[\"age\"], row[\"sex\"], row[\"bmi\"], row[\"children\"],\n",
    "                    row[\"smoker\"], row[\"region\"], row[\"charges\"]) for row in dr]\n",
    "    return rowList\n",
    "\n",
    "def setUpInsuranceTable(insuranceCSV, con, cur):\n",
    "    # Checks to see if \"insurance\" table already exists in the database. \n",
    "    # If it already exists, then we will clear the data from the table (mainly used for reset convenience).\n",
    "    if cur.execute(\"SELECT COUNT(*) FROM sqlite_master \" +\n",
    "                   \"WHERE type = 'table' AND name = 'insurance'\").fetchone()[0] > 0:\n",
    "        cur.execute(\"DELETE FROM insurance\")\n",
    "        con.commit()\n",
    "\n",
    "        # This will remove the table instead.\n",
    "        cur.execute(\"DROP TABLE insurance\")\n",
    "        con.commit()\n",
    "\n",
    "    # Creates the \"insurance\" table (if it does not exist) based on the provided schema.\n",
    "    cur.execute(\"CREATE TABLE IF NOT EXISTS \" + \n",
    "                    \"insurance (age NUMBER(3), sex VARCHAR2(10), bmi NUMBER(6, 3), children NUMBER(2), \" + \n",
    "                               \"smoker VARCHAR2(3), region VARCHAR2(9), charges NUMBER(11, 5));\")\n",
    "\n",
    "    rows = readInsuranceCSV(insuranceCSV)\n",
    "\n",
    "    # Bulk insert operation into the \"insurance\" table.\n",
    "    cur.executemany(\"INSERT INTO insurance (age, sex, bmi, children, smoker, region, charges) \" +\n",
    "                        \"VALUES (?, ?, ?, ?, ?, ?, ?);\", rows)\n",
    "    con.commit()\n",
    "\n",
    "def readBmiCategoriesCSV(bmiCategoriesCSV):\n",
    "    # Open the file with the insurance data in a read-only format.\n",
    "    with open(bmiCategoriesCSV, 'r') as f:\n",
    "        # Create a dictionary based on data in the file.\n",
    "        dr = csv.DictReader(f)\n",
    "        # Create a list of tuples that contains data obtained from the dictionary.\n",
    "        rowList = [(row[\"BMI\"], row[\"Weight Status\"], row[\"Min BMI\"], row[\"Max BMI\"]) for row in dr]\n",
    "    return rowList\n",
    "\n",
    "def setUpBmiCategoriesTable(bmiCategoriesCSV, con, cur):\n",
    "    # Checks to see if \"bmicategories\" table already exists in the database. \n",
    "    # If it already exists, then we will clear the data from the table (mainly used for reset convenience).\n",
    "    if cur.execute(\"SELECT COUNT(*) FROM sqlite_master \" + \n",
    "                   \"WHERE type = 'table' AND name = 'bmicategories'\").fetchone()[0] > 0:\n",
    "        cur.execute(\"DELETE FROM bmicategories\")\n",
    "        con.commit()\n",
    "\n",
    "        # This will remove the table instead.\n",
    "        cur.execute(\"DROP TABLE bmicategories\")\n",
    "        con.commit()\n",
    "\n",
    "    # Creates the \"insurance\" table (if it does not exist) based on the provided schema.\n",
    "    cur.execute(\"CREATE TABLE IF NOT EXISTS \" +\n",
    "                    \"bmicategories (BMI VARCHAR2(15), 'Weight Status' VARCHAR2(15), \"\n",
    "                                   \"'Min BMI' NUMBER(6, 3), 'Max BMI' NUMBER(4, 1));\")\n",
    "    \n",
    "    rows = readBmiCategoriesCSV(bmiCategoriesCSV)\n",
    "\n",
    "    # Bulk insert operation into the \"bmicategories\" table.\n",
    "    cur.executemany(\"INSERT INTO bmicategories (BMI, 'Weight Status', 'Min BMI', 'Max BMI') \" +\n",
    "                        \"VALUES (?, ?, ?, ?);\", rows)\n",
    "    con.commit()"
   ]
  },
  {
   "cell_type": "code",
   "execution_count": 7,
   "id": "6bee6cda",
   "metadata": {},
   "outputs": [],
   "source": [
    "setUpInsuranceTable(\"data/insurance.csv\", con, cur)\n",
    "setUpBmiCategoriesTable(\"data/modifiedBmiCategories.csv\", con, cur)"
   ]
  },
  {
   "cell_type": "markdown",
   "id": "985326c1",
   "metadata": {},
   "source": [
    "### After setting up the tables in the database, we can now execute query statements using the data stored in each table. The basic SQL query statements are structured as the following:"
   ]
  },
  {
   "cell_type": "markdown",
   "id": "4fd7095f",
   "metadata": {},
   "source": [
    "### [WITH \\<table name> AS \\<query>]\n",
    "### SELECT [DISTINCT] \\<column expression list> \n",
    "### FROM \\<table> [\\<join type> JOIN \\<table> ON \\<condition>]\n",
    "### [WHERE \\<condition/>]\n",
    "### [GROUP BY \\<column list>]\n",
    "### [HAVING \\<condition>]\n",
    "### [ORDER BY \\<column list>]"
   ]
  },
  {
   "cell_type": "code",
   "execution_count": 8,
   "id": "b05ccd7f",
   "metadata": {},
   "outputs": [
    {
     "name": "stdout",
     "output_type": "stream",
     "text": [
      "The average insurance charge for an overweight person living in the northeast region is $10810.64.\n"
     ]
    }
   ],
   "source": [
    "# Query statement to obtain data. Generally SQL query statement are readable.\n",
    "query = (\"SELECT bmicategories.'Weight Status', insurance.region, AVG(insurance.charges) \" + \n",
    "         \"FROM insurance FULL OUTER JOIN bmicategories \" +\n",
    "         \"WHERE insurance.bmi >= bmicategories.'Min BMI' \" +\n",
    "         \"AND insurance.bmi < bmicategories.'Max BMI' \" +\n",
    "         \"GROUP BY insurance.region, bmicategories.'Weight Status' \" +\n",
    "         \"HAVING insurance.region = 'northeast' \" +\n",
    "         \"AND bmicategories.'Weight Status' = 'Overweight';\")\n",
    "\n",
    "# Execute the query statement and fetch the next row (in this case, the first and only row).\n",
    "res = cur.execute(query).fetchone()\n",
    "\n",
    "# Select only the relevant data.\n",
    "resultFromSQL = (res[0].lower(), \n",
    "                 res[1], \n",
    "                 str(round(res[2], 2)))\n",
    "\n",
    "print(\"The average insurance charge for an {0} person living in the {1} region is ${2}.\"\n",
    "      .format(resultFromSQL[0], resultFromSQL[1], resultFromSQL[2]))"
   ]
  },
  {
   "cell_type": "markdown",
   "id": "f7ccdf8d",
   "metadata": {},
   "source": [
    "### It is good practice to close the database connection after we are done. "
   ]
  },
  {
   "cell_type": "code",
   "execution_count": 9,
   "id": "54bac0af",
   "metadata": {},
   "outputs": [],
   "source": [
    "# Close the database connection.\n",
    "con.close()"
   ]
  },
  {
   "cell_type": "markdown",
   "id": "afa1e953",
   "metadata": {},
   "source": [
    "**Source:**\n",
    "\n",
    "\n",
    "Module adapted from Kaggle: https://www.kaggle.com/code/mariapushkareva/medical-insurance-cost-with-linear-regression/notebook\n",
    "\n",
    "Dataset source: https://github.com/stedy/Machine-Learning-with-R-datasets"
   ]
  }
 ],
 "metadata": {
  "kernelspec": {
   "display_name": "Python 3 (ipykernel)",
   "language": "python",
   "name": "python3"
  },
  "language_info": {
   "codemirror_mode": {
    "name": "ipython",
    "version": 3
   },
   "file_extension": ".py",
   "mimetype": "text/x-python",
   "name": "python",
   "nbconvert_exporter": "python",
   "pygments_lexer": "ipython3",
   "version": "3.9.16"
  }
 },
 "nbformat": 4,
 "nbformat_minor": 5
}
