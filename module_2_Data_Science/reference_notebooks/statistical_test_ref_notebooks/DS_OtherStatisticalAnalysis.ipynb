{
 "cells": [
  {
   "cell_type": "markdown",
   "id": "6f760e8a",
   "metadata": {},
   "source": [
    "# Coding Applications in Medicine: Data Science - Other Statistical Analysis"
   ]
  },
  {
   "cell_type": "code",
   "execution_count": 1,
   "id": "f56bc2eb",
   "metadata": {},
   "outputs": [],
   "source": [
    "import numpy as np\n",
    "import matplotlib.pyplot as plt\n",
    "import pandas as pd\n",
    "import seaborn as sns\n",
    "\n",
    "from scipy.stats import pearsonr\n",
    "from scipy.stats.contingency import odds_ratio\n",
    "from scipy.stats.contingency import relative_risk"
   ]
  },
  {
   "cell_type": "code",
   "execution_count": 2,
   "id": "505a9cfc",
   "metadata": {},
   "outputs": [
    {
     "data": {
      "text/html": [
       "<div>\n",
       "<style scoped>\n",
       "    .dataframe tbody tr th:only-of-type {\n",
       "        vertical-align: middle;\n",
       "    }\n",
       "\n",
       "    .dataframe tbody tr th {\n",
       "        vertical-align: top;\n",
       "    }\n",
       "\n",
       "    .dataframe thead th {\n",
       "        text-align: right;\n",
       "    }\n",
       "</style>\n",
       "<table border=\"1\" class=\"dataframe\">\n",
       "  <thead>\n",
       "    <tr style=\"text-align: right;\">\n",
       "      <th></th>\n",
       "      <th>age</th>\n",
       "      <th>sex</th>\n",
       "      <th>bmi</th>\n",
       "      <th>children</th>\n",
       "      <th>smoker</th>\n",
       "      <th>region</th>\n",
       "      <th>charges</th>\n",
       "    </tr>\n",
       "  </thead>\n",
       "  <tbody>\n",
       "    <tr>\n",
       "      <th>0</th>\n",
       "      <td>19</td>\n",
       "      <td>female</td>\n",
       "      <td>27.900</td>\n",
       "      <td>0</td>\n",
       "      <td>yes</td>\n",
       "      <td>southwest</td>\n",
       "      <td>16884.92400</td>\n",
       "    </tr>\n",
       "    <tr>\n",
       "      <th>1</th>\n",
       "      <td>18</td>\n",
       "      <td>male</td>\n",
       "      <td>33.770</td>\n",
       "      <td>1</td>\n",
       "      <td>no</td>\n",
       "      <td>southeast</td>\n",
       "      <td>1725.55230</td>\n",
       "    </tr>\n",
       "    <tr>\n",
       "      <th>2</th>\n",
       "      <td>28</td>\n",
       "      <td>male</td>\n",
       "      <td>33.000</td>\n",
       "      <td>3</td>\n",
       "      <td>no</td>\n",
       "      <td>southeast</td>\n",
       "      <td>4449.46200</td>\n",
       "    </tr>\n",
       "    <tr>\n",
       "      <th>3</th>\n",
       "      <td>33</td>\n",
       "      <td>male</td>\n",
       "      <td>22.705</td>\n",
       "      <td>0</td>\n",
       "      <td>no</td>\n",
       "      <td>northwest</td>\n",
       "      <td>21984.47061</td>\n",
       "    </tr>\n",
       "    <tr>\n",
       "      <th>4</th>\n",
       "      <td>32</td>\n",
       "      <td>male</td>\n",
       "      <td>28.880</td>\n",
       "      <td>0</td>\n",
       "      <td>no</td>\n",
       "      <td>northwest</td>\n",
       "      <td>3866.85520</td>\n",
       "    </tr>\n",
       "    <tr>\n",
       "      <th>...</th>\n",
       "      <td>...</td>\n",
       "      <td>...</td>\n",
       "      <td>...</td>\n",
       "      <td>...</td>\n",
       "      <td>...</td>\n",
       "      <td>...</td>\n",
       "      <td>...</td>\n",
       "    </tr>\n",
       "    <tr>\n",
       "      <th>1333</th>\n",
       "      <td>50</td>\n",
       "      <td>male</td>\n",
       "      <td>30.970</td>\n",
       "      <td>3</td>\n",
       "      <td>no</td>\n",
       "      <td>northwest</td>\n",
       "      <td>10600.54830</td>\n",
       "    </tr>\n",
       "    <tr>\n",
       "      <th>1334</th>\n",
       "      <td>18</td>\n",
       "      <td>female</td>\n",
       "      <td>31.920</td>\n",
       "      <td>0</td>\n",
       "      <td>no</td>\n",
       "      <td>northeast</td>\n",
       "      <td>2205.98080</td>\n",
       "    </tr>\n",
       "    <tr>\n",
       "      <th>1335</th>\n",
       "      <td>18</td>\n",
       "      <td>female</td>\n",
       "      <td>36.850</td>\n",
       "      <td>0</td>\n",
       "      <td>no</td>\n",
       "      <td>southeast</td>\n",
       "      <td>1629.83350</td>\n",
       "    </tr>\n",
       "    <tr>\n",
       "      <th>1336</th>\n",
       "      <td>21</td>\n",
       "      <td>female</td>\n",
       "      <td>25.800</td>\n",
       "      <td>0</td>\n",
       "      <td>no</td>\n",
       "      <td>southwest</td>\n",
       "      <td>2007.94500</td>\n",
       "    </tr>\n",
       "    <tr>\n",
       "      <th>1337</th>\n",
       "      <td>61</td>\n",
       "      <td>female</td>\n",
       "      <td>29.070</td>\n",
       "      <td>0</td>\n",
       "      <td>yes</td>\n",
       "      <td>northwest</td>\n",
       "      <td>29141.36030</td>\n",
       "    </tr>\n",
       "  </tbody>\n",
       "</table>\n",
       "<p>1338 rows × 7 columns</p>\n",
       "</div>"
      ],
      "text/plain": [
       "      age     sex     bmi  children smoker     region      charges\n",
       "0      19  female  27.900         0    yes  southwest  16884.92400\n",
       "1      18    male  33.770         1     no  southeast   1725.55230\n",
       "2      28    male  33.000         3     no  southeast   4449.46200\n",
       "3      33    male  22.705         0     no  northwest  21984.47061\n",
       "4      32    male  28.880         0     no  northwest   3866.85520\n",
       "...   ...     ...     ...       ...    ...        ...          ...\n",
       "1333   50    male  30.970         3     no  northwest  10600.54830\n",
       "1334   18  female  31.920         0     no  northeast   2205.98080\n",
       "1335   18  female  36.850         0     no  southeast   1629.83350\n",
       "1336   21  female  25.800         0     no  southwest   2007.94500\n",
       "1337   61  female  29.070         0    yes  northwest  29141.36030\n",
       "\n",
       "[1338 rows x 7 columns]"
      ]
     },
     "execution_count": 2,
     "metadata": {},
     "output_type": "execute_result"
    }
   ],
   "source": [
    "# Load the insurance data.\n",
    "insuranceDF = pd.read_csv(\"data/insurance.csv\")\n",
    "insuranceDF"
   ]
  },
  {
   "cell_type": "markdown",
   "id": "d3f2aee8",
   "metadata": {},
   "source": [
    "## Odds Ratio"
   ]
  },
  {
   "cell_type": "markdown",
   "id": "2053194f",
   "metadata": {},
   "source": [
    "The odds ratios are typically used in case-control studies. \n",
    "\n",
    "Suppose we are examining a group of individuals to see if individuals who smoke are more likely to be a male. (Start with smokers/nonsmokers and looking back to compare the frequency of male/female)."
   ]
  },
  {
   "cell_type": "code",
   "execution_count": 3,
   "id": "1d03b048",
   "metadata": {},
   "outputs": [
    {
     "data": {
      "text/html": [
       "<div>\n",
       "<style scoped>\n",
       "    .dataframe tbody tr th:only-of-type {\n",
       "        vertical-align: middle;\n",
       "    }\n",
       "\n",
       "    .dataframe tbody tr th {\n",
       "        vertical-align: top;\n",
       "    }\n",
       "\n",
       "    .dataframe thead th {\n",
       "        text-align: right;\n",
       "    }\n",
       "</style>\n",
       "<table border=\"1\" class=\"dataframe\">\n",
       "  <thead>\n",
       "    <tr style=\"text-align: right;\">\n",
       "      <th>smoker</th>\n",
       "      <th>no</th>\n",
       "      <th>yes</th>\n",
       "    </tr>\n",
       "    <tr>\n",
       "      <th>is male</th>\n",
       "      <th></th>\n",
       "      <th></th>\n",
       "    </tr>\n",
       "  </thead>\n",
       "  <tbody>\n",
       "    <tr>\n",
       "      <th>0</th>\n",
       "      <td>547</td>\n",
       "      <td>115</td>\n",
       "    </tr>\n",
       "    <tr>\n",
       "      <th>1</th>\n",
       "      <td>517</td>\n",
       "      <td>159</td>\n",
       "    </tr>\n",
       "  </tbody>\n",
       "</table>\n",
       "</div>"
      ],
      "text/plain": [
       "smoker    no  yes\n",
       "is male          \n",
       "0        547  115\n",
       "1        517  159"
      ]
     },
     "execution_count": 3,
     "metadata": {},
     "output_type": "execute_result"
    }
   ],
   "source": [
    "# Create the contingency table.\n",
    "smokerBySexDF = insuranceDF[[\"sex\", \"smoker\"]].copy()\n",
    "smokerBySexDF[\"is male\"] = (smokerBySexDF[\"sex\"] == \"male\").astype(int)\n",
    "smokerBySexContingency = pd.crosstab(smokerBySexDF[\"is male\"], smokerBySexDF[\"smoker\"])\n",
    "\n",
    "smokerBySexContingency"
   ]
  },
  {
   "cell_type": "code",
   "execution_count": 4,
   "id": "90e3640f",
   "metadata": {},
   "outputs": [
    {
     "data": {
      "text/plain": [
       "OddsRatioResult(statistic=1.462422262357571)"
      ]
     },
     "execution_count": 4,
     "metadata": {},
     "output_type": "execute_result"
    }
   ],
   "source": [
    "# Odds Ratio.\n",
    "smokerBySexOddsRatio = odds_ratio(smokerBySexContingency)\n",
    "smokerBySexOddsRatio"
   ]
  },
  {
   "cell_type": "code",
   "execution_count": 5,
   "id": "e6c3570f",
   "metadata": {},
   "outputs": [
    {
     "data": {
      "text/plain": [
       "ConfidenceInterval(low=1.1091022887207116, high=1.9323629740891681)"
      ]
     },
     "execution_count": 5,
     "metadata": {},
     "output_type": "execute_result"
    }
   ],
   "source": [
    "# Confidence Interval (95%).\n",
    "smokerBySexOddsRatio.confidence_interval(0.95)"
   ]
  },
  {
   "cell_type": "markdown",
   "id": "07738630",
   "metadata": {},
   "source": [
    "## Relative Risk"
   ]
  },
  {
   "cell_type": "markdown",
   "id": "a0c03387",
   "metadata": {},
   "source": [
    "The relative risks are typically used in cohort studies. \n",
    "\n",
    "Suppose we are examining a group of individuals at a given time to see if smoking increases the risk for a high medical insurance charge. (Start with smoking/nonsmoking and looking forward to compare the insurance charges)."
   ]
  },
  {
   "cell_type": "code",
   "execution_count": 6,
   "id": "2c34b0f9",
   "metadata": {},
   "outputs": [
    {
     "data": {
      "text/html": [
       "<div>\n",
       "<style scoped>\n",
       "    .dataframe tbody tr th:only-of-type {\n",
       "        vertical-align: middle;\n",
       "    }\n",
       "\n",
       "    .dataframe tbody tr th {\n",
       "        vertical-align: top;\n",
       "    }\n",
       "\n",
       "    .dataframe thead th {\n",
       "        text-align: right;\n",
       "    }\n",
       "</style>\n",
       "<table border=\"1\" class=\"dataframe\">\n",
       "  <thead>\n",
       "    <tr style=\"text-align: right;\">\n",
       "      <th>high charge</th>\n",
       "      <th>False</th>\n",
       "      <th>True</th>\n",
       "    </tr>\n",
       "    <tr>\n",
       "      <th>is old</th>\n",
       "      <th></th>\n",
       "      <th></th>\n",
       "    </tr>\n",
       "  </thead>\n",
       "  <tbody>\n",
       "    <tr>\n",
       "      <th>0</th>\n",
       "      <td>667</td>\n",
       "      <td>286</td>\n",
       "    </tr>\n",
       "    <tr>\n",
       "      <th>1</th>\n",
       "      <td>45</td>\n",
       "      <td>340</td>\n",
       "    </tr>\n",
       "  </tbody>\n",
       "</table>\n",
       "</div>"
      ],
      "text/plain": [
       "high charge  False  True\n",
       "is old                  \n",
       "0              667   286\n",
       "1               45   340"
      ]
     },
     "execution_count": 6,
     "metadata": {},
     "output_type": "execute_result"
    }
   ],
   "source": [
    "# Create the contingency table.\n",
    "chargeBySmokerDF = insuranceDF[[\"age\", \"charges\"]].copy()\n",
    "chargeBySmokerDF[\"is old\"] = (chargeBySmokerDF[\"age\"] >= 50).astype(int)\n",
    "chargeBySmokerDF[\"high charge\"] = (chargeBySmokerDF[\"charges\"] > 10000)\n",
    "\n",
    "\n",
    "chargeBySmokerContingency = pd.crosstab(chargeBySmokerDF[\"is old\"], chargeBySmokerDF[\"high charge\"])\n",
    "\n",
    "chargeBySmokerContingency"
   ]
  },
  {
   "cell_type": "code",
   "execution_count": 7,
   "id": "1087a94e",
   "metadata": {},
   "outputs": [],
   "source": [
    "# Unfortunately, the relative risk function does not take a contingency table as in input.\n",
    "exposed_cases = chargeBySmokerContingency[True][1]\n",
    "exposed_total = chargeBySmokerContingency.sum(axis=1)[1]\n",
    "control_cases = chargeBySmokerContingency[True][0]\n",
    "control_total = chargeBySmokerContingency.sum(axis=1)[0]"
   ]
  },
  {
   "cell_type": "code",
   "execution_count": 8,
   "id": "e7362927",
   "metadata": {},
   "outputs": [
    {
     "data": {
      "text/plain": [
       "RelativeRiskResult(relative_risk=2.9426936699663973, exposed_cases=340, exposed_total=385, control_cases=286, control_total=953)"
      ]
     },
     "execution_count": 8,
     "metadata": {},
     "output_type": "execute_result"
    }
   ],
   "source": [
    "# Relative Risk.\n",
    "chargeBySmokerRelRisk = relative_risk(exposed_cases, exposed_total, control_cases, control_total)\n",
    "chargeBySmokerRelRisk"
   ]
  },
  {
   "cell_type": "code",
   "execution_count": 9,
   "id": "81cfe8fc",
   "metadata": {},
   "outputs": [
    {
     "data": {
      "text/plain": [
       "ConfidenceInterval(low=2.6532396335612285, high=3.2637255699506613)"
      ]
     },
     "execution_count": 9,
     "metadata": {},
     "output_type": "execute_result"
    }
   ],
   "source": [
    "# Confidence Interval (95%).\n",
    "chargeBySmokerRelRisk.confidence_interval(0.95)"
   ]
  },
  {
   "cell_type": "markdown",
   "id": "7b07ba45",
   "metadata": {},
   "source": [
    "## Pearson Correlation Coefficient"
   ]
  },
  {
   "cell_type": "markdown",
   "id": "6fa469d2",
   "metadata": {},
   "source": [
    "Recall that the Pearson correlation coefficient is used to check for linear correlation between two variables.\n",
    "\n",
    "In the following example, we will examine the correlation between bmi and the medical insurance charges."
   ]
  },
  {
   "cell_type": "code",
   "execution_count": 10,
   "id": "59f72e11",
   "metadata": {},
   "outputs": [
    {
     "data": {
      "image/png": "[encoded data removed]",
      "text/plain": [
       "<Figure size 640x480 with 1 Axes>"
      ]
     },
     "metadata": {},
     "output_type": "display_data"
    }
   ],
   "source": [
    "# Graph of the data.\n",
    "sns.scatterplot(data=insuranceDF, x=\"bmi\", y=\"charges\")\n",
    "plt.show();"
   ]
  },
  {
   "cell_type": "code",
   "execution_count": 11,
   "id": "07ae6d6c",
   "metadata": {},
   "outputs": [
    {
     "data": {
      "text/plain": [
       "PearsonRResult(statistic=0.19834096883362926, pvalue=2.4590855351164275e-13)"
      ]
     },
     "execution_count": 11,
     "metadata": {},
     "output_type": "execute_result"
    }
   ],
   "source": [
    "# Pearson correlation coefficient.\n",
    "insuranceChargeBmiPearsonR = pearsonr(insuranceDF[\"bmi\"], \n",
    "                                      insuranceDF[\"charges\"])\n",
    "insuranceChargeBmiPearsonR"
   ]
  },
  {
   "cell_type": "code",
   "execution_count": 12,
   "id": "ca1371af",
   "metadata": {},
   "outputs": [
    {
     "data": {
      "text/plain": [
       "ConfidenceInterval(low=0.14630517097537107, high=0.2492821956677457)"
      ]
     },
     "execution_count": 12,
     "metadata": {},
     "output_type": "execute_result"
    }
   ],
   "source": [
    "# Confidence Interval (95%).\n",
    "insuranceChargeBmiPearsonR.confidence_interval(0.95)"
   ]
  },
  {
   "cell_type": "markdown",
   "id": "01debf71",
   "metadata": {},
   "source": [
    "For more information, check the following:\n",
    "- User Guide: https://docs.scipy.org/doc/scipy/tutorial/stats.html\n",
    "- API Reference: https://docs.scipy.org/doc/scipy/reference/stats.html"
   ]
  },
  {
   "cell_type": "markdown",
   "id": "afa1e953",
   "metadata": {},
   "source": [
    "**Source:**\n",
    "\n",
    "\n",
    "Module adapted from Kaggle: https://www.kaggle.com/code/mariapushkareva/medical-insurance-cost-with-linear-regression/notebook\n",
    "\n",
    "Dataset source: https://github.com/stedy/Machine-Learning-with-R-datasets"
   ]
  }
 ],
 "metadata": {
  "kernelspec": {
   "display_name": "Python 3 (ipykernel)",
   "language": "python",
   "name": "python3"
  },
  "language_info": {
   "codemirror_mode": {
    "name": "ipython",
    "version": 3
   },
   "file_extension": ".py",
   "mimetype": "text/x-python",
   "name": "python",
   "nbconvert_exporter": "python",
   "pygments_lexer": "ipython3",
   "version": "3.9.16"
  }
 },
 "nbformat": 4,
 "nbformat_minor": 5
}
