{
 "cells": [
  {
   "cell_type": "markdown",
   "metadata": {},
   "source": [
    "# **Intro to Decision Trees, Random Forests, and XGBoost**"
   ]
  },
  {
   "cell_type": "markdown",
   "metadata": {},
   "source": [
    "### Welcome to the section on decision trees, random forests, and XGBoost! In the following notebooks you will be implementing these three algorithms, and in addition to all having very fun names they will be some of your most versatile tools in machine learning for both classification and regression. We will get into the details of the algorithms later on, but first we just want to discuss the dataset and the high level goal of the folowing projects.\n",
    "\n",
    "### We will be focusing on implementing these algorithms for a classification task. Make sure you remember the high level difference between classification and regression\n",
    "### - `Classification`- whether or not something belongs to a certain class (car, truck, plane)\n",
    "\n",
    "### - `Regression`- prediction of a continuous variable (heart rate given certain parameters, post operative systolic blood pressure)\n",
    "\n",
    "### Here, we will be doing `binary classification`, where we will be attempting to predict whether or not a patients gets readmitted based on their information from the chart. \n",
    "\n",
    "### The data source is publicly available (https://www.kaggle.com/datasets/dubradave/hospital-readmissions) and contains information such as age, time in hospital, primary diagnosis, and more. It may be helpful to take a quick look at the data before starting this projeect as certain things may make more sense, but just remember our `big goal is to make predictions about whether or not the patient will be readmitted based on the data in their chart`.\n",
    "\n",
    "### As always, there are many ways to approach these types of problems, and the following notebooks may not be the ideal approach and there are many other ways that are out of the scope of Code Grand Rounds to improve the performance of these models. We are aiming to give you an introduction to these algorithms, discuss how they work and some tricks you can use based around them, and hopefully provide a framework for you to apply these concepts to your own data. \n",
    "\n",
    "### Without further ado, lets dive in!"
   ]
  }
 ],
 "metadata": {
  "language_info": {
   "name": "python"
  },
  "orig_nbformat": 4
 },
 "nbformat": 4,
 "nbformat_minor": 2
}
