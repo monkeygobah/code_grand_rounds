{
 "cells": [
  {
   "cell_type": "markdown",
   "metadata": {},
   "source": [
    "# **Intro to Support Vector Machines**"
   ]
  },
  {
   "cell_type": "markdown",
   "metadata": {},
   "source": [
    "### discussion of whats going to happen in next few modules\n",
    "### Discussion of data and the source/ preprocessing that was done to it (https://www.kaggle.com/datasets/mahmoudlimam/preprocessed-chronic-kidney-disease-dataset)\n",
    "### Explain our goal initially"
   ]
  }
 ],
 "metadata": {
  "language_info": {
   "name": "python"
  },
  "orig_nbformat": 4
 },
 "nbformat": 4,
 "nbformat_minor": 2
}
