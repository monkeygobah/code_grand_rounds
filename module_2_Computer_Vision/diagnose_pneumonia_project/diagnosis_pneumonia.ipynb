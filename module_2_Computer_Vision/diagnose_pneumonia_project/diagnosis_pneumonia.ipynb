{
 "cells": [
  {
   "attachments": {},
   "cell_type": "markdown",
   "metadata": {},
   "source": [
    "# Module 2 Project: Diagnose Pneumonia from Chest X-Rays Using Computer Vision"
   ]
  },
  {
   "attachments": {},
   "cell_type": "markdown",
   "metadata": {},
   "source": [
    "**[Packages](#import-relevant-packages)**<br>\n",
    "**[Get Initial Threshold Value](#derive-initial-threshold-value)**<br>\n",
    "**[Get White Pixels](#count-white-pixels-and-normalize)**<br>\n",
    "**[Healthy X-Ray-Analysis](#d#Identify-healthy-x-rays)**<br>\n",
    "**[Final Diagnosis](#Identify-pneumonia-x-rays)**<br>\n",
    "**[Recap](#recap)**<br>"
   ]
  },
  {
   "attachments": {},
   "cell_type": "markdown",
   "metadata": {},
   "source": [
    "## Import relevant packages"
   ]
  },
  {
   "cell_type": "code",
   "execution_count": 20,
   "metadata": {},
   "outputs": [],
   "source": [
    "import cv2\n",
    "import numpy as np\n",
    "import os\n",
    "from matplotlib import pyplot as plt\n"
   ]
  },
  {
   "attachments": {},
   "cell_type": "markdown",
   "metadata": {},
   "source": [
    "## Derive Initial Threshold Value"
   ]
  },
  {
   "attachments": {},
   "cell_type": "markdown",
   "metadata": {},
   "source": [
    "### Load example image of healthy and pneumonia x-ray"
   ]
  },
  {
   "cell_type": "code",
   "execution_count": 21,
   "metadata": {},
   "outputs": [
    {
     "name": "stdout",
     "output_type": "stream",
     "text": [
      "(1024, 1024, 3)\n",
      "(425, 442, 3)\n"
     ]
    }
   ],
   "source": [
    "# load images from your computer (change path to math where they are stored) \n",
    "healthy_example = cv2.imread('code_md/module_2_Computer_Vision/diagnose_pneumonia_project/pneumonia_project_images/initial_xrays/healthy_xray.jpeg')\n",
    "pneumonia_example = cv2.imread('code_md/module_2_Computer_Vision/diagnose_pneumonia_project/pneumonia_project_images/initial_xrays/pneumonia_xray.jpeg')\n",
    "\n",
    "# check to see if rgb or greyscale as well as size of image\n",
    "print(healthy_example.shape)\n",
    "print(pneumonia_example.shape)"
   ]
  },
  {
   "attachments": {},
   "cell_type": "markdown",
   "metadata": {},
   "source": [
    "### Convert it to grayscale if it is in RGB format"
   ]
  },
  {
   "cell_type": "code",
   "execution_count": 22,
   "metadata": {},
   "outputs": [
    {
     "name": "stdout",
     "output_type": "stream",
     "text": [
      "converting healthy xray to grayscale\n",
      "(1024, 1024)\n",
      "converting pneumonia xray to grayscale\n",
      "(425, 442)\n"
     ]
    }
   ],
   "source": [
    "# Check if images are in RGB format and convert to grayscale if necessary\n",
    "if len(healthy_example.shape) == 3 and healthy_example.shape[2] == 3:\n",
    "    healthy_example = cv2.cvtColor(healthy_example, cv2.COLOR_BGR2GRAY)\n",
    "    print('converting healthy xray to grayscale')\n",
    "    print(healthy_example.shape)\n",
    "\n",
    "if len(pneumonia_example.shape) == 3 and pneumonia_example.shape[2] == 3:\n",
    "    pneumonia_example = cv2.cvtColor(pneumonia_example, cv2.COLOR_BGR2GRAY)\n",
    "    print('converting pneumonia xray to grayscale')\n",
    "    print(pneumonia_example.shape)"
   ]
  },
  {
   "cell_type": "code",
   "execution_count": null,
   "metadata": {},
   "outputs": [],
   "source": [
    "# show the image, provide window name first\n",
    "# matplotlib applies colormap by default so set colormap (cmap) to grey\n",
    "plt.imshow(healthy_example,cmap='gray')\n",
    "plt.title('Healthy xray')\n",
    "plt.show()\n",
    "\n",
    "plt.imshow(pneumonia_example, cmap='gray')\n",
    "plt.title('Pneumonia xray')\n",
    "plt.show()"
   ]
  },
  {
   "attachments": {},
   "cell_type": "markdown",
   "metadata": {},
   "source": [
    "## Lets try a few thresholding operations to see if we can identify the consolidation"
   ]
  },
  {
   "cell_type": "code",
   "execution_count": null,
   "metadata": {},
   "outputs": [],
   "source": [
    "# List of thresholds\n",
    "thresholds = [50, 75, 100, 125, 150]\n",
    "\n",
    "# Loop over the thresholds\n",
    "for thresh in thresholds:\n",
    "    # Apply binary thresholding using opencv\n",
    "    # ret is the threhsold value that was used. We dont need to worry about why we have to include it, but you will get a friendly error if you take it out!\n",
    "    ret, healthy_threshold = cv2.threshold(healthy_example, thresh, 255, cv2.THRESH_BINARY)\n",
    "    ret, pneumonia_threshold = cv2.threshold(pneumonia_example, thresh, 255, cv2.THRESH_BINARY)\n",
    "\n",
    "    # Plot the thresholded images using the matplotlib library\n",
    "    # subplot is just a way to show multiple figures on the same plot\n",
    "    plt.figure(figsize=(10, 5))\n",
    "\n",
    "    plt.subplot(1, 2, 1)\n",
    "    plt.imshow(healthy_threshold, cmap='gray')\n",
    "    plt.title('Healthy xray, Threshold =' + str(thresh))\n",
    "\n",
    "    plt.subplot(1, 2, 2)\n",
    "    plt.imshow(pneumonia_threshold, cmap='gray')\n",
    "    plt.title(f'Pneumonia xray, Threshold =' + str(thresh))\n",
    "\n",
    "    plt.tight_layout()\n",
    "    plt.show()"
   ]
  },
  {
   "attachments": {},
   "cell_type": "markdown",
   "metadata": {},
   "source": [
    "## 125 looks like a good value to use! Lets now count the white pixels in each image after applying the threshold"
   ]
  },
  {
   "attachments": {},
   "cell_type": "markdown",
   "metadata": {},
   "source": [
    "## Count White Pixels and Normalize"
   ]
  },
  {
   "cell_type": "code",
   "execution_count": 29,
   "metadata": {},
   "outputs": [
    {
     "name": "stdout",
     "output_type": "stream",
     "text": [
      "The number of white pixels in the healthy xray is: 588026\n",
      "The number of white pixels in the healthy xray is: 130848\n"
     ]
    }
   ],
   "source": [
    "ret, healthy_threshold = cv2.threshold(healthy_example, 125, 255, cv2.THRESH_BINARY)\n",
    "ret, pneumonia_threshold = cv2.threshold(pneumonia_example, 125, 255, cv2.THRESH_BINARY)\n",
    "\n",
    "# Count white pixels\n",
    "white_pixels_healthy = np.count_nonzero(healthy_threshold == 255)\n",
    "white_pixels_pneumonia = np.count_nonzero(pneumonia_threshold == 255)\n",
    "\n",
    "print('The number of white pixels in the healthy xray is: ' + str(white_pixels_healthy))\n",
    "print('The number of white pixels in the healthy xray is: ' + str(white_pixels_pneumonia))"
   ]
  },
  {
   "attachments": {},
   "cell_type": "markdown",
   "metadata": {},
   "source": [
    "### Wait, that doesn't make sense. The white pixels should correlate to the amount of consolidation. And we KNOW that there is more consolidation in the pneumonia image... OH! We need to consider the SIZE of the IMAGE! Lets normalize the number of white pixels to the total number of pixels"
   ]
  },
  {
   "cell_type": "code",
   "execution_count": 30,
   "metadata": {},
   "outputs": [
    {
     "name": "stdout",
     "output_type": "stream",
     "text": [
      "0.5607852935791016\n",
      "0.6965557625765239\n"
     ]
    }
   ],
   "source": [
    "# we take the value we got earlier and divide it by the total size of the image!\n",
    "normalized_white_pix_healthy = white_pixels_healthy / healthy_threshold.size\n",
    "normalized_white_pix_pneumonia = white_pixels_pneumonia / pneumonia_threshold.size\n",
    "\n",
    "print(normalized_white_pix_healthy)\n",
    "print(normalized_white_pix_pneumonia)"
   ]
  },
  {
   "attachments": {},
   "cell_type": "markdown",
   "metadata": {},
   "source": [
    "## Now that we have some of the basic moves underneath us, lets try and set the the ratio of white pixels/ to total pixels that define pneumonia based on a few images of healthy xrays\n",
    "## Identify healthy X-Rays"
   ]
  },
  {
   "cell_type": "code",
   "execution_count": 33,
   "metadata": {},
   "outputs": [
    {
     "name": "stdout",
     "output_type": "stream",
     "text": [
      "average is:0.4923174988542816\n",
      "minimum is:0.5954362877226362\n",
      "maximum is:0.34267572434980664\n"
     ]
    }
   ],
   "source": [
    "# os is a library that lets you walk through every file in a given directory. You can look up the details if you want,\n",
    "# but in broad strokes it lets us pull a bunch of data in and out of software easily to do stuff with\n",
    "\n",
    "#define a list to store the data we accumulate\n",
    "white_pix_ratio_list = []\n",
    "for root, dirs, files in os.walk('code_md/module_2_Computer_Vision/diagnose_pneumonia_project/pneumonia_project_images/healthy_xrays'):\n",
    "    for file in files:\n",
    "        #make path to image as we walk through every image in the healthy xrays folder. Again, dont really need to understand how, just know thats what it does\n",
    "        path = os.path.join(root, file)\n",
    "        # load image using opencv\n",
    "        image = cv2.imread(path)\n",
    "        # Check if images are in RGB format and convert to grayscale if necessary\n",
    "        if len(image.shape) == 3 and image.shape[2] == 3:\n",
    "            image = cv2.cvtColor(image, cv2.COLOR_BGR2GRAY)\n",
    "        # apply threshold using 125 like we determined earlier\n",
    "        ret, threshold_image = cv2.threshold(image, 125, 255, cv2.THRESH_BINARY)\n",
    "        # Count white pixels\n",
    "        white_pixels = np.count_nonzero(threshold_image == 255)   \n",
    "        #normalize to image size\n",
    "        normalized_white_pix = white_pixels / threshold_image.size\n",
    "        #store the ratio of white pixels to image size in the earlier list we made \n",
    "        white_pix_ratio_list.append(normalized_white_pix)\n",
    "\n",
    "# calculate average, min, and max of list to get some more useful data to make disgnoses with\n",
    "avg_healthy_ratio = sum(white_pix_ratio_list)/len(white_pix_ratio_list)\n",
    "max_healthy_ratio = max(white_pix_ratio_list)\n",
    "min_healthy_ratio = min(white_pix_ratio_list)\n",
    "print('average is:' + str(avg_healthy_ratio))\n",
    "print('minimum is:' + str(max_healthy_ratio))\n",
    "print('maximum is:' + str(min_healthy_ratio))\n",
    "\n"
   ]
  },
  {
   "attachments": {},
   "cell_type": "markdown",
   "metadata": {},
   "source": [
    "## We got a value of .49 as the average of the 5 images we tested. The max is .59. Lets try to make a highly specific algorithm and use a value of .61 as the threshold. This may increase the number of false negatives but maximize the true positives \n",
    "## Identify Pneumonia X-Rays"
   ]
  },
  {
   "cell_type": "code",
   "execution_count": 38,
   "metadata": {},
   "outputs": [
    {
     "name": "stdout",
     "output_type": "stream",
     "text": [
      "['Healthy', 'Pneumonia', 'Pneumonia', 'Pneumonia', 'Pneumonia', 'Pneumonia', 'Pneumonia', 'Pneumonia', 'Pneumonia', 'Pneumonia']\n"
     ]
    }
   ],
   "source": [
    "# Set the threshold as determined above\n",
    "ratio_threshold = .61\n",
    "\n",
    "# make a list to store the final diagnoses\n",
    "diagnosis_list = []\n",
    "for root, dirs, files in os.walk('code_md/module_2_Computer_Vision/diagnose_pneumonia_project/pneumonia_project_images/pneumonia_xrays'):\n",
    "    for file in files:\n",
    "        #make path to image as we walk through every image in the healthy xrays folder. Again, dont really need to understand how, just know thats what it does\n",
    "        path = os.path.join(root, file)\n",
    "        # load image using opencv\n",
    "        image_pneumonia = cv2.imread(path)\n",
    "        # Check if images are in RGB format and convert to grayscale if necessary\n",
    "        if len(image_pneumonia.shape) == 3 and image_pneumonia.shape[2] == 3:\n",
    "            image_pneumonia = cv2.cvtColor(image_pneumonia, cv2.COLOR_BGR2GRAY)\n",
    "        # apply threshold using 125 like we determined earlier\n",
    "        ret, threshold_image_pneu = cv2.threshold(image_pneumonia, 125, 255, cv2.THRESH_BINARY)\n",
    "        # Count white pixels\n",
    "        white_pixels_pneu = np.count_nonzero(threshold_image_pneu == 255)   \n",
    "        #normalize to image size\n",
    "        normalized_white_pix_pneu = white_pixels_pneu / threshold_image_pneu.size\n",
    "        # Compare the white pixels to the ratio from above to make a diagnosis!\n",
    "        if normalized_white_pix_pneu > ratio_threshold:\n",
    "            diagnosis_list.append('Pneumonia')\n",
    "        else:\n",
    "            diagnosis_list.append('Healthy')\n",
    "\n",
    "# Print the final diagnosis list to see how many we got right\n",
    "\n",
    "print(diagnosis_list)"
   ]
  },
  {
   "attachments": {},
   "cell_type": "markdown",
   "metadata": {},
   "source": [
    "## Recap\n",
    "## We got 90% correct! Not bad!\n",
    "## Obviously, you would never use this tool clinically. Even in our data, we had a wide range of variance, and we didnt take into account key features such positioning of the patient in the xray, scope of the xray image, xray machine settings, etc. In practice, you might want to build a convolutinoal neural network to solve a problem such as this, but we hope this gave you a good introduction to some core principles in comptuter vision and showed how this type of technology can be used in clinical settings! Play around with the notebook/ import your own data and see if you can make it even better!"
   ]
  },
  {
   "cell_type": "markdown",
   "metadata": {},
   "source": []
  }
 ],
 "metadata": {
  "kernelspec": {
   "display_name": "orbitmap",
   "language": "python",
   "name": "python3"
  },
  "language_info": {
   "codemirror_mode": {
    "name": "ipython",
    "version": 3
   },
   "file_extension": ".py",
   "mimetype": "text/x-python",
   "name": "python",
   "nbconvert_exporter": "python",
   "pygments_lexer": "ipython3",
   "version": "3.11.3"
  },
  "orig_nbformat": 4
 },
 "nbformat": 4,
 "nbformat_minor": 2
}
