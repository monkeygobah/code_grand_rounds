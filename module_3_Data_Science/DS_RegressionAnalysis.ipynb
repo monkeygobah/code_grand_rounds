{
 "cells": [
  {
   "cell_type": "markdown",
   "id": "77105d09",
   "metadata": {},
   "source": [
    "# Coding Applications in Medicine: Data Science - Regression Analysis"
   ]
  },
  {
   "cell_type": "markdown",
   "id": "65cabe55",
   "metadata": {},
   "source": [
    "Regression analysis are used to depict the relationship between multiple variables. There are two basic types of regression models, linear regression and logistic regression. \n",
    "\n",
    "Linear regression is commonly used for value prediction (numerical), while logistic regression is commonly used for data classification (categorical)."
   ]
  },
  {
   "cell_type": "code",
   "execution_count": null,
   "id": "7321025f",
   "metadata": {},
   "outputs": [],
   "source": [
    "import numpy as np\n",
    "import matplotlib.pyplot as plt\n",
    "import pandas as pd\n",
    "import seaborn as sns\n",
    "\n",
    "from sklearn.linear_model import LinearRegression\n",
    "from sklearn.linear_model import LogisticRegression\n",
    "from sklearn.model_selection import train_test_split\n",
    "from sklearn.metrics import RocCurveDisplay"
   ]
  },
  {
   "cell_type": "code",
   "execution_count": null,
   "id": "370b1760",
   "metadata": {},
   "outputs": [],
   "source": [
    "# Load the insurance data.\n",
    "insuranceDF = pd.read_csv(\"data/insurance.csv\")\n",
    "# Create a new column with smoker column as a numerical value.\n",
    "insuranceDF[\"smoker numerical\"] = (insuranceDF[\"smoker\"] == \"yes\").astype(int)\n",
    "insuranceDF"
   ]
  },
  {
   "cell_type": "markdown",
   "id": "8c812674",
   "metadata": {},
   "source": [
    "## Linear Regression"
   ]
  },
  {
   "cell_type": "markdown",
   "id": "831dc95a",
   "metadata": {},
   "source": [
    "Linear regression is one way to model the relationship between a dependent variable and one or multiple independent variable. When constructing a linear model, we are attempting to fit the data into the formula $\\hat{Y}=X\\theta$, where $\\hat{Y}$ is the prediction vector, $X$ is the design matrix, and $\\theta$ is the parameter vector. There are different approaches to create such model (or equation) mathematically. \n",
    "\n",
    "The goal is to use the existing data $X$ and $Y$ data to generate the optimal $\\theta$ used for later prediction.\n",
    "\n",
    "Note: $\\hat{Y}$ is a matrix of size $n\\times1$. $X$ is a matrix of size $n\\times(p+1)$. $\\theta$ is a matrix of size $(p+1)\\times n$ \n",
    "\n",
    "You can think of $\\hat{Y}=X\\theta$ as the classic $y = mx + b$ but now expanded to cover multiple $x$ (independent variables) and to make predictions $y$ (dependent variable) for multiple people at once."
   ]
  },
  {
   "cell_type": "markdown",
   "id": "608b2000",
   "metadata": {},
   "source": [
    "Suppose you wish to explore the relationship between age and insurance charges."
   ]
  },
  {
   "cell_type": "code",
   "execution_count": null,
   "id": "23c2540c",
   "metadata": {},
   "outputs": [],
   "source": [
    "sns.scatterplot(data=insuranceDF, x=\"age\", y=\"charges\")\n",
    "plt.show();"
   ]
  },
  {
   "cell_type": "markdown",
   "id": "c42c3437",
   "metadata": {},
   "source": [
    "What would we expect based on the plot?"
   ]
  },
  {
   "cell_type": "code",
   "execution_count": null,
   "id": "1f4c0675",
   "metadata": {},
   "outputs": [],
   "source": [
    "# Split our dataset to training and testing datasets.\n",
    "linData1_tr, linData1_te = train_test_split(insuranceDF, test_size=0.1, random_state=42)\n",
    "linData1_tr.reset_index(inplace=True, drop=True)\n",
    "linData1_te.reset_index(inplace=True, drop=True)\n",
    "\n",
    "# Create the X and Y matrix for model training.\n",
    "linTraining1X = linData1_tr[[\"age\"]].to_numpy()\n",
    "linTraining1Y = linData1_tr[\"charges\"].to_numpy()\n",
    "\n",
    "# Creating the linear regression model.\n",
    "linModel1 = LinearRegression(fit_intercept=True)\n",
    "linModel1.fit(linTraining1X, linTraining1Y)\n",
    "\n",
    "# Resulting linear regression model parameters.\n",
    "linModel1.intercept_, linModel1.coef_"
   ]
  },
  {
   "cell_type": "code",
   "execution_count": null,
   "id": "54b71d2d",
   "metadata": {},
   "outputs": [],
   "source": [
    "# Plot of the data with the linear regression line.\n",
    "sns.scatterplot(data=insuranceDF, x=\"age\", y=\"charges\")\n",
    "# Plot of the linear regression line.\n",
    "plt.plot(np.linspace(18, 64, 1000), \n",
    "         linModel1.predict(np.reshape(np.linspace(18, 64, 1000), (-1, 1))), color=\"red\")\n",
    "plt.show();"
   ]
  },
  {
   "cell_type": "code",
   "execution_count": null,
   "id": "7bb2d95d",
   "metadata": {},
   "outputs": [],
   "source": [
    "# Use the model to make predictions (Age).\n",
    "linModel1.predict([[25]])"
   ]
  },
  {
   "cell_type": "code",
   "execution_count": null,
   "id": "7b04c361",
   "metadata": {},
   "outputs": [],
   "source": [
    "# The score tells you the accuracy of the regression model.\n",
    "# You should use the test dataset for the score calculation.\n",
    "linModel1.score(linData1_te[[\"age\"]].to_numpy(), linData1_te[\"charges\"].to_numpy())"
   ]
  },
  {
   "cell_type": "markdown",
   "id": "6f618fc3",
   "metadata": {},
   "source": [
    "This time, we want to explore the relationship between all the numerical variables and insurance charges."
   ]
  },
  {
   "cell_type": "code",
   "execution_count": null,
   "id": "05feea1c",
   "metadata": {},
   "outputs": [],
   "source": [
    "# Scatterplot capturing four features/dimensions.\n",
    "sns.scatterplot(data=insuranceDF, x=\"age\", y=\"charges\", hue=\"smoker\", size=\"bmi\");\n",
    "plt.legend(loc=\"center left\", bbox_to_anchor=(1, 0.5))\n",
    "plt.show();"
   ]
  },
  {
   "cell_type": "markdown",
   "id": "15cd404c",
   "metadata": {},
   "source": [
    "What would we expect based on the plot?"
   ]
  },
  {
   "cell_type": "code",
   "execution_count": null,
   "id": "a5e6ecb8",
   "metadata": {},
   "outputs": [],
   "source": [
    "# Split our dataset to training and testing datasets.\n",
    "linData2_tr, linData2_te = train_test_split(insuranceDF, test_size=0.1, random_state=24)\n",
    "linData2_tr.reset_index(inplace=True, drop=True)\n",
    "linData2_te.reset_index(inplace=True, drop=True)\n",
    "\n",
    "# Create the X and Y matrix for model training.\n",
    "linTraining2X = linData2_tr.drop([\"sex\", \"charges\", \"smoker\", \"region\"], axis=1).to_numpy()\n",
    "linTraining2Y = linData2_tr[\"charges\"].to_numpy()\n",
    "\n",
    "# Creating the linear regression model.\n",
    "linModel2 = LinearRegression(fit_intercept=True)\n",
    "linModel2.fit(linTraining2X, linTraining2Y)\n",
    "\n",
    "# Resulting linear regression model parameters.\n",
    "linModel2.intercept_, linModel2.coef_"
   ]
  },
  {
   "cell_type": "code",
   "execution_count": null,
   "id": "a5f515a0",
   "metadata": {},
   "outputs": [],
   "source": [
    "# Use the model to make predictions (Age, BMI, # Children, Smoker - 0 or 1).\n",
    "linModel2.predict([[30, 25, 0, 0]])"
   ]
  },
  {
   "cell_type": "code",
   "execution_count": null,
   "id": "ce84971f",
   "metadata": {},
   "outputs": [],
   "source": [
    "# The score tells you the accuracy of the regression model.\n",
    "# You should use the test dataset for the score calculation.\n",
    "linModel2.score(linData2_te.drop([\"sex\", \"charges\", \"smoker\", \"region\"], axis=1).to_numpy(),\n",
    "                linData2_te[\"charges\"].to_numpy())"
   ]
  },
  {
   "cell_type": "markdown",
   "id": "0186bcfe",
   "metadata": {},
   "source": [
    "For more information, check the following:\n",
    "- User Guide: https://scikit-learn.org/stable/modules/linear_model.html\n",
    "- API Reference: https://scikit-learn.org/stable/modules/classes.html#module-sklearn.linear_model\n",
    "- Examples: https://scikit-learn.org/stable/auto_examples/index.html#generalized-linear-models"
   ]
  },
  {
   "cell_type": "markdown",
   "id": "8e7b04f0",
   "metadata": {},
   "source": [
    "## Logistic Regression"
   ]
  },
  {
   "cell_type": "markdown",
   "id": "a3bb930c",
   "metadata": {},
   "source": [
    "Logistic regression is a model used to estimate the probability that an event occurred given previous data. When the probability exceeds the threshold value, we considered the event as having occurred. Essentially, logistic regression is used for binary (True/False) classification. This is done by the formula $\\hat{P}_\\theta (Y = 1|x) = \\sigma(x^T\\theta)$, where $\\theta$ is the linear parameter, $\\sigma$ is the sigmoid or logistic function, $x$ is the input feature matrix, and $y$ is the response vector."
   ]
  },
  {
   "cell_type": "markdown",
   "id": "c565680f",
   "metadata": {},
   "source": [
    "Suppose you wish to determine if you can predict whether a person is a smoker based on their insurance charges."
   ]
  },
  {
   "cell_type": "code",
   "execution_count": null,
   "id": "fad94187",
   "metadata": {},
   "outputs": [],
   "source": [
    "sns.histplot(data=insuranceDF, x=\"charges\", hue=\"smoker\", binwidth=1000, kde=True);\n",
    "plt.show();"
   ]
  },
  {
   "cell_type": "markdown",
   "id": "1c3e99ef",
   "metadata": {},
   "source": [
    "What would we expect based on the plot?"
   ]
  },
  {
   "cell_type": "code",
   "execution_count": null,
   "id": "79588029",
   "metadata": {},
   "outputs": [],
   "source": [
    "# A stripplot is a categorical scatterplot that uses jittering to reduce over plotting.\n",
    "sns.stripplot(data=insuranceDF, x=\"charges\", y=\"smoker numerical\", jitter=0.1, orient='h').invert_yaxis()\n",
    "plt.show();"
   ]
  },
  {
   "cell_type": "markdown",
   "id": "b1be8ca2",
   "metadata": {},
   "source": [
    "Here is a different plot depicting the same data."
   ]
  },
  {
   "cell_type": "code",
   "execution_count": null,
   "id": "25413649",
   "metadata": {},
   "outputs": [],
   "source": [
    "# Split our dataset to training and testing datasets.\n",
    "logData1_tr, logData1_te = train_test_split(insuranceDF, test_size=0.1, random_state=21)\n",
    "logData1_tr.reset_index(inplace=True, drop=True)\n",
    "logData1_te.reset_index(inplace=True, drop=True)\n",
    "\n",
    "# Create the X and Y matrix for model training.\n",
    "logTraining1X = logData1_tr[[\"charges\"]].to_numpy()\n",
    "logTraining1Y = logData1_tr[\"smoker numerical\"].to_numpy()\n",
    "\n",
    "# Creating the logistic regression model.\n",
    "logModel1 = LogisticRegression(fit_intercept=True)\n",
    "logModel1.fit(logTraining1X, logTraining1Y)\n",
    "\n",
    "# Resulting logistic regression model parameters.\n",
    "logModel1.intercept_, logModel1.coef_"
   ]
  },
  {
   "cell_type": "code",
   "execution_count": null,
   "id": "848cdf59",
   "metadata": {},
   "outputs": [],
   "source": [
    "# Sigmoid or logistic function.\n",
    "def sigmoid(x):\n",
    "    return 1/(1 + np.exp(-x))\n",
    "\n",
    "log_theta_0 = logModel1.intercept_[0]\n",
    "log_theta_1 = logModel1.coef_[0]\n",
    "\n",
    "# Does the prediction match the actual data.\n",
    "log_smoke_pred_match = logModel1.predict(logData1_tr[[\"charges\"]].to_numpy())==logData1_tr[\"smoker numerical\"]\n",
    "\n",
    "# Plot of the training data.\n",
    "sns.stripplot(x=logData1_tr[\"charges\"], y=logData1_tr[\"smoker numerical\"],\n",
    "              jitter=0.1, orient='h', hue=log_smoke_pred_match).invert_yaxis()\n",
    "\n",
    "# Plot of the logistic regression line.\n",
    "sns.lineplot(x=np.linspace(0, 70000, 1000), y=sigmoid(log_theta_0 + log_theta_1 * np.linspace(0, 70000, 1000)));"
   ]
  },
  {
   "cell_type": "code",
   "execution_count": null,
   "id": "3e9c51af",
   "metadata": {},
   "outputs": [],
   "source": [
    "# Use the model to make predictions (Charges).\n",
    "logModel1.predict([[30000]])"
   ]
  },
  {
   "cell_type": "code",
   "execution_count": null,
   "id": "6d4be259",
   "metadata": {},
   "outputs": [],
   "source": [
    "# The score tells you the accuracy of the regression model.\n",
    "# You should use the test dataset for the score calculation.\n",
    "logModel1.score(logData1_te[[\"charges\"]].to_numpy(), logData1_te[\"smoker numerical\"].to_numpy())"
   ]
  },
  {
   "cell_type": "markdown",
   "id": "61896025",
   "metadata": {},
   "source": [
    "This time, we will try to predict if someone is a smoker using all the numerical variables."
   ]
  },
  {
   "cell_type": "code",
   "execution_count": null,
   "id": "dc7e0c40",
   "metadata": {},
   "outputs": [],
   "source": [
    "# Scatterplot with introduction of jitter.\n",
    "sns.scatterplot(data=insuranceDF.assign(smoker_jitter=insuranceDF[\"smoker numerical\"] \n",
    "                                        + np.random.uniform(-0.2, 0.2, len(insuranceDF))),\n",
    "                x=\"charges\", y=\"smoker_jitter\", hue=\"age\", size=\"bmi\", style=\"children\",\n",
    "                sizes=(20, 200))\n",
    "plt.legend(loc=\"center left\", bbox_to_anchor=(1, 0.5))\n",
    "plt.show();"
   ]
  },
  {
   "cell_type": "code",
   "execution_count": null,
   "id": "eca1755f",
   "metadata": {},
   "outputs": [],
   "source": [
    "# Split our dataset to training and testing datasets.\n",
    "logData2_tr, logData2_te = train_test_split(insuranceDF, test_size=0.1, random_state=12)\n",
    "logData2_tr.reset_index(inplace=True, drop=True)\n",
    "logData2_te.reset_index(inplace=True, drop=True)\n",
    "\n",
    "# Create the X and Y matrix for model training.\n",
    "logTraining2X = logData2_tr.drop([\"sex\", \"smoker\", \"region\", \"smoker numerical\"], axis=1).to_numpy()\n",
    "logTraining2Y = logData2_tr[\"smoker numerical\"].to_numpy()\n",
    "\n",
    "# Creating the logistic regression model.\n",
    "logModel2 = LogisticRegression(fit_intercept=True)\n",
    "logModel2.fit(logTraining2X, logTraining2Y)\n",
    "\n",
    "# Resulting logistic regression model parameters.\n",
    "logModel2.intercept_, logModel2.coef_"
   ]
  },
  {
   "cell_type": "code",
   "execution_count": null,
   "id": "88dfdb4d",
   "metadata": {},
   "outputs": [],
   "source": [
    "# Use the model to make predictions (Age, BMI, # Children, Insurance Charges).\n",
    "logModel2.predict([[30, 25, 0, 3000]])"
   ]
  },
  {
   "cell_type": "code",
   "execution_count": null,
   "id": "3dd17d43",
   "metadata": {},
   "outputs": [],
   "source": [
    "# Create the X and Y matrix for model testing.\n",
    "logTest2X = logData2_te.drop([\"sex\", \"smoker\", \"region\", \"smoker numerical\"], axis=1).to_numpy()\n",
    "logTest2Y = logData2_te[\"smoker numerical\"].to_numpy()\n",
    "\n",
    "# The score tells you the accuracy of the regression model.\n",
    "# You should use the test dataset for the score calculation.\n",
    "logModel2.score(logTest2X, logTest2Y)"
   ]
  },
  {
   "cell_type": "markdown",
   "id": "5eb87640",
   "metadata": {},
   "source": [
    "For more information, check the following:\n",
    "- User Guide: https://scikit-learn.org/stable/modules/linear_model.html\n",
    "- API Reference: https://scikit-learn.org/stable/modules/classes.html#module-sklearn.linear_model\n",
    "- Examples: https://scikit-learn.org/stable/auto_examples/index.html#generalized-linear-models"
   ]
  },
  {
   "cell_type": "markdown",
   "id": "10563443",
   "metadata": {},
   "source": [
    "## ROC Curves "
   ]
  },
  {
   "cell_type": "markdown",
   "id": "0d003525",
   "metadata": {},
   "source": [
    "The ROC curve is used to show how well a diagnostic test can distinguish between two different groups. This is useful in evaluating the quality of our classifier model (in this case, the logistic regression model)."
   ]
  },
  {
   "cell_type": "code",
   "execution_count": null,
   "id": "877f5670",
   "metadata": {},
   "outputs": [],
   "source": [
    "# Get the probability estimates of the classification, used in ROC curve.\n",
    "smoker_pred = logModel2.predict_proba(logTest2X)[:, 1]\n",
    "\n",
    "# Display the ROC curve for the logistic regression.\n",
    "RocCurveDisplay.from_predictions(logTest2Y, smoker_pred, name=\"Log Regression\")\n",
    "# Produces the same result as above.\n",
    "### RocCurveDisplay.from_estimator(logModel2, logTest2X, logTest2Y, name=\"Log Regression\")\n",
    "\n",
    "# No predictive value curve.\n",
    "plt.plot([0, 1], [0, 1], \"k--\")\n",
    "plt.title(\"ROC Curve\")\n",
    "plt.show();"
   ]
  },
  {
   "cell_type": "markdown",
   "id": "90c20ae8",
   "metadata": {},
   "source": [
    "References:\n",
    "- https://scikit-learn.org/stable/modules/generated/sklearn.metrics.RocCurveDisplay.html\n",
    "- https://scikit-learn.org/stable/modules/generated/sklearn.metrics.roc_curve.html\n",
    "- https://scikit-learn.org/stable/modules/generated/sklearn.metrics.roc_auc_score.html"
   ]
  },
  {
   "cell_type": "markdown",
   "id": "afa1e953",
   "metadata": {},
   "source": [
    "**Source:**\n",
    "\n",
    "\n",
    "Module adapted from Kaggle: https://www.kaggle.com/code/mariapushkareva/medical-insurance-cost-with-linear-regression/notebook\n",
    "\n",
    "Dataset source: https://github.com/stedy/Machine-Learning-with-R-datasets"
   ]
  }
 ],
 "metadata": {
  "kernelspec": {
   "display_name": "Python 3 (ipykernel)",
   "language": "python",
   "name": "python3"
  },
  "language_info": {
   "codemirror_mode": {
    "name": "ipython",
    "version": 3
   },
   "file_extension": ".py",
   "mimetype": "text/x-python",
   "name": "python",
   "nbconvert_exporter": "python",
   "pygments_lexer": "ipython3",
   "version": "3.9.16"
  }
 },
 "nbformat": 4,
 "nbformat_minor": 5
}
