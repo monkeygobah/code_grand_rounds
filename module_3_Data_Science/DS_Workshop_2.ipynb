{
 "cells": [
  {
   "cell_type": "markdown",
   "id": "0f1e9818",
   "metadata": {},
   "source": [
    "# Coding Applications in Medicine: Data Science - Part 2"
   ]
  },
  {
   "cell_type": "markdown",
   "id": "d95d827b",
   "metadata": {},
   "source": [
    "Module adapted from Kaggle: https://www.kaggle.com/code/mariapushkareva/medical-insurance-cost-with-linear-regression/notebook\n",
    "\n",
    "Dataset source: https://github.com/stedy/Machine-Learning-with-R-datasets"
   ]
  },
  {
   "cell_type": "markdown",
   "id": "a7e37ab9",
   "metadata": {},
   "source": [
    "## Introduction"
   ]
  },
  {
   "cell_type": "markdown",
   "id": "d75b3a5e",
   "metadata": {},
   "source": [
    "Data Science is a multidisciplinary field that integrates computation, math/statistics, and domain knowledge to understand the world and solve problems. \n",
    "\n",
    "The data science lifecycle consists of:\n",
    "1. Question/problem formulation\n",
    "2. Data acquisition and cleaning\n",
    "3. Exploratory data analysis and visualization\n",
    "4. Prediction and inference\n",
    "\n",
    "In this notebook, we will explore a sample data on medical insurance and practice statistical analysis and visualization (with minimal math incorporation)."
   ]
  },
  {
   "cell_type": "code",
   "execution_count": null,
   "id": "633d7739",
   "metadata": {},
   "outputs": [],
   "source": [
    "import numpy as np\n",
    "import matplotlib.pyplot as plt\n",
    "import pandas as pd\n",
    "import seaborn as sns\n",
    "\n",
    "from sklearn.linear_model import LinearRegression\n",
    "from sklearn.linear_model import LogisticRegression\n",
    "from sklearn.model_selection import train_test_split\n",
    "from scipy.stats import ttest_ind\n",
    "from scipy.stats import chi2_contingency"
   ]
  },
  {
   "cell_type": "code",
   "execution_count": null,
   "id": "bf658921",
   "metadata": {},
   "outputs": [],
   "source": [
    "insuranceDF = pd.read_csv(\"data/insurance.csv\")\n",
    "insuranceDF[\"smoker numerical\"] = (insuranceDF[\"smoker\"] == \"yes\").astype(int)\n",
    "insuranceDF"
   ]
  },
  {
   "cell_type": "markdown",
   "id": "4cdbde6a",
   "metadata": {},
   "source": [
    "## Data Visualization"
   ]
  },
  {
   "cell_type": "markdown",
   "id": "199eadca",
   "metadata": {},
   "source": [
    "The goals of data visualization are to help with your own understanding of the data/results and to communicate the results/conclusions to others. Data can be visualized in many different ways. Below are some points to keep in mind as you design your visualization of your data.\n",
    "\n",
    "- Keep axis scales consistent. (Consider the scale when comparing similar data).\n",
    "- Choose axis limits that fills the visualization. (Multiple plots can be used to show different areas of interests).\n",
    "- Use a perceptually uniform color map. (Use color to highlight data type).\n",
    "- Markings plays a significant role in the accuracy of our judgements. (Avoid using pie charts, area charts, word cloud, and stacked charts).\n",
    "- Use conditioning to aid comparison.\n",
    "- The chosen visual metric tells the story."
   ]
  },
  {
   "cell_type": "markdown",
   "id": "c1fffdb7",
   "metadata": {},
   "source": [
    "There are many components that make up a figure and many different ways to format the visualization. Below is an example of how one might format their visualization."
   ]
  },
  {
   "cell_type": "code",
   "execution_count": null,
   "id": "e2ca0c8c",
   "metadata": {},
   "outputs": [],
   "source": [
    "fig = sns.scatterplot(data=insuranceDF, x=\"bmi\", y=\"charges\", hue=\"smoker\")\n",
    "plt.title(\"Relationship between BMI and Insurance Charges\")\n",
    "plt.xlabel(\"BMI\")\n",
    "plt.ylabel(\"Charges\")\n",
    "plt.xlim(10, 60)\n",
    "plt.ylim(0, 70000)\n",
    "plt.legend(loc=\"center left\", bbox_to_anchor=(1, 0.5), title=\"Smoker\")\n",
    "plt.figtext(0.5, -0.05, \"Figure 1\", ha=\"center\")\n",
    "plt.show(fig)"
   ]
  },
  {
   "cell_type": "markdown",
   "id": "6cc6b8ae",
   "metadata": {},
   "source": [
    "For simplicity, all the plots below will be shown as default without additional format changes."
   ]
  },
  {
   "cell_type": "markdown",
   "id": "974ecc68",
   "metadata": {},
   "source": [
    "A bar graph is used to compare qualitative variables. "
   ]
  },
  {
   "cell_type": "code",
   "execution_count": null,
   "id": "0697a012",
   "metadata": {
    "scrolled": true
   },
   "outputs": [],
   "source": [
    "# A countplot is a specific form of bar plot that plots the number of occurrences instead of a pre-defined number.\n",
    "sns.countplot(data=insuranceDF, x=\"region\");"
   ]
  },
  {
   "cell_type": "code",
   "execution_count": null,
   "id": "a89d3449",
   "metadata": {},
   "outputs": [],
   "source": [
    "# Note: The axis in which the data is plot can be changed. \n",
    "sns.countplot(data=insuranceDF, y=\"region\", hue=\"sex\");"
   ]
  },
  {
   "cell_type": "markdown",
   "id": "f22c70ff",
   "metadata": {},
   "source": [
    "A histogram is used to determine the distribution of quantitative variables."
   ]
  },
  {
   "cell_type": "code",
   "execution_count": null,
   "id": "8ed11bdd",
   "metadata": {},
   "outputs": [],
   "source": [
    "sns.histplot(data=insuranceDF, x=\"charges\", binwidth=1000);"
   ]
  },
  {
   "cell_type": "code",
   "execution_count": null,
   "id": "8c695094",
   "metadata": {},
   "outputs": [],
   "source": [
    "# The kde parameter for hisplot will produce a smooth density curve along with the histogram\n",
    "sns.histplot(data=insuranceDF, x=\"charges\", hue=\"sex\", binwidth=1000, kde=True);"
   ]
  },
  {
   "cell_type": "markdown",
   "id": "6a062eca",
   "metadata": {},
   "source": [
    "A box plot is another method to compare distribution."
   ]
  },
  {
   "cell_type": "code",
   "execution_count": null,
   "id": "eb878c45",
   "metadata": {},
   "outputs": [],
   "source": [
    "sns.boxplot(data=insuranceDF, x=\"region\", y=\"charges\");"
   ]
  },
  {
   "cell_type": "code",
   "execution_count": null,
   "id": "8a3ba3f5",
   "metadata": {},
   "outputs": [],
   "source": [
    "sns.boxplot(data=insuranceDF, x=\"region\", y=\"charges\", hue=\"sex\");"
   ]
  },
  {
   "cell_type": "markdown",
   "id": "a18a0fa4",
   "metadata": {},
   "source": [
    "A violin plot is essentially a box plot, but allows for better comparison of distribution of each variable."
   ]
  },
  {
   "cell_type": "code",
   "execution_count": null,
   "id": "ea86b701",
   "metadata": {},
   "outputs": [],
   "source": [
    "sns.violinplot(data=insuranceDF, x=\"region\", y=\"charges\", hue=\"sex\");"
   ]
  },
  {
   "cell_type": "markdown",
   "id": "a403669f",
   "metadata": {},
   "source": [
    "A line plot is used to depict relationships between pairs of numerical variables."
   ]
  },
  {
   "cell_type": "code",
   "execution_count": null,
   "id": "31231cfb",
   "metadata": {},
   "outputs": [],
   "source": [
    "# Calculate the mean charge by age\n",
    "meanChargeByAgeDF = (insuranceDF.groupby(\"age\").agg(\"mean\")\n",
    "                                .reset_index()[[\"age\", \"charges\"]]\n",
    "                                .rename(columns={\"charges\": \"mean charges\"}))\n",
    "\n",
    "sns.lineplot(data=meanChargeByAgeDF, x=\"age\", y=\"mean charges\");"
   ]
  },
  {
   "cell_type": "code",
   "execution_count": null,
   "id": "8ffb7937",
   "metadata": {},
   "outputs": [],
   "source": [
    "# Calculate the mean charge by age and sex\n",
    "meanChargeByAgeSexDF = (insuranceDF.groupby([\"age\", \"sex\"]).agg(\"mean\")\n",
    "                                   .reset_index()[[\"age\", \"sex\", \"charges\"]]\n",
    "                                   .rename(columns={\"charges\": \"mean charges\"}))\n",
    "    \n",
    "sns.lineplot(data=meanChargeByAgeSexDF, x=\"age\", y=\"mean charges\", hue=\"sex\");"
   ]
  },
  {
   "cell_type": "markdown",
   "id": "fef33731",
   "metadata": {},
   "source": [
    "A scatter plot is another method to depict relationships between pairs of numerical variables. Generally speaking, a scatter plot is a better choice for visualization compared to line plots."
   ]
  },
  {
   "cell_type": "code",
   "execution_count": null,
   "id": "53088f26",
   "metadata": {},
   "outputs": [],
   "source": [
    "sns.scatterplot(data=meanChargeByAgeDF, x=\"age\", y=\"mean charges\");"
   ]
  },
  {
   "cell_type": "code",
   "execution_count": null,
   "id": "08abf4b3",
   "metadata": {},
   "outputs": [],
   "source": [
    "sns.scatterplot(data=meanChargeByAgeSexDF, x=\"age\", y=\"mean charges\", hue=\"sex\");"
   ]
  },
  {
   "cell_type": "markdown",
   "id": "de3e9958",
   "metadata": {},
   "source": [
    "For more information, check the following:\n",
    "- User Guide (Seaborn): https://seaborn.pydata.org/tutorial.html\n",
    "- User Guide (Matplotlib): https://matplotlib.org/stable/tutorials/index\n",
    "- API Reference (Seaborn): https://seaborn.pydata.org/api.html\n",
    "- API Reference (Matplotlib): https://matplotlib.org/stable/api/index.html\n",
    "- Examples (Seaborn): https://seaborn.pydata.org/examples/index.html\n",
    "- Examples (Matplotlib): https://matplotlib.org/stable/gallery/index.html"
   ]
  },
  {
   "cell_type": "markdown",
   "id": "8c812674",
   "metadata": {},
   "source": [
    "## Linear Regression"
   ]
  },
  {
   "cell_type": "markdown",
   "id": "831dc95a",
   "metadata": {},
   "source": [
    "Linear regression is one way to model the relationship between a dependent variable and one or multiple independent variable. When constructing a linear model, we are attempting to fit the data into the formula $\\hat{Y}=X\\theta$, where $\\hat{Y}$ is the prediction vector, $X$ is the design matrix, and $\\theta$ is the parameter vector. There are different approaches to create such model (or equation) mathematically. \n",
    "\n",
    "The goal is to use the existing data $X$ and $Y$ data to generate the optimal $\\theta$ used for later prediction.\n",
    "\n",
    "Note: $\\hat{Y}$ is a matrix of size $n\\times1$. $X$ is a matrix of size $n\\times(p+1)$. $\\theta$ is a matrix of size $(p+1)\\times n$ \n",
    "\n",
    "You can think of $\\hat{Y}=X\\theta$ as the classic $y = mx + b$ but now expanded to cover multiple $x$ (independent variables) and to make predictions $y$ (dependent variable) for multiple people at once."
   ]
  },
  {
   "cell_type": "markdown",
   "id": "608b2000",
   "metadata": {},
   "source": [
    "Suppose you wish to explore the relationship between age and insurance charges."
   ]
  },
  {
   "cell_type": "code",
   "execution_count": null,
   "id": "23c2540c",
   "metadata": {},
   "outputs": [],
   "source": [
    "sns.scatterplot(data=insuranceDF, x=\"age\", y=\"charges\");"
   ]
  },
  {
   "cell_type": "markdown",
   "id": "c42c3437",
   "metadata": {},
   "source": [
    "What would we expect based on the plot?"
   ]
  },
  {
   "cell_type": "code",
   "execution_count": null,
   "id": "1f4c0675",
   "metadata": {},
   "outputs": [],
   "source": [
    "# Split our dataset to training and testing datasets\n",
    "linData1_tr, linData1_te = train_test_split(insuranceDF, test_size=0.1, random_state=42)\n",
    "linData1_tr.reset_index(inplace=True, drop=True)\n",
    "linData1_te.reset_index(inplace=True, drop=True)\n",
    "\n",
    "# Create the X and Y matrix for model training.\n",
    "linTraining1X = linData1_tr[[\"age\"]].to_numpy()\n",
    "linTraining1Y = linData1_tr[\"charges\"].to_numpy()\n",
    "\n",
    "# Creating the linear regression model\n",
    "linModel1 = LinearRegression(fit_intercept=True)\n",
    "linModel1.fit(linTraining1X, linTraining1Y)\n",
    "\n",
    "# Resulting linear regression model parameters\n",
    "linModel1.intercept_, linModel1.coef_"
   ]
  },
  {
   "cell_type": "code",
   "execution_count": null,
   "id": "54b71d2d",
   "metadata": {},
   "outputs": [],
   "source": [
    "# Plot of the data with the linear regression line\n",
    "\n",
    "sns.scatterplot(data=insuranceDF, x=\"age\", y=\"charges\")\n",
    "# Plot of the linear regression line\n",
    "plt.plot(np.linspace(18, 64, 1000), \n",
    "         linModel1.predict(np.reshape(np.linspace(18, 64, 1000), (-1, 1))), color=\"red\");"
   ]
  },
  {
   "cell_type": "code",
   "execution_count": null,
   "id": "7bb2d95d",
   "metadata": {},
   "outputs": [],
   "source": [
    "# Use the model to make predictions (Age)\n",
    "linModel1.predict([[25]])"
   ]
  },
  {
   "cell_type": "code",
   "execution_count": null,
   "id": "7b04c361",
   "metadata": {},
   "outputs": [],
   "source": [
    "# The score tells you the accuracy of the regression model\n",
    "# You should use the test dataset for the score calculation\n",
    "linModel1.score(linData1_te[[\"age\"]].to_numpy(), linData1_te[\"charges\"].to_numpy())"
   ]
  },
  {
   "cell_type": "markdown",
   "id": "6f618fc3",
   "metadata": {},
   "source": [
    "This time, we want to explore the relationship between all the numerical variables and insurance charges."
   ]
  },
  {
   "cell_type": "code",
   "execution_count": null,
   "id": "05feea1c",
   "metadata": {},
   "outputs": [],
   "source": [
    "# Scatterplot capturing four features/dimensions\n",
    "sns.scatterplot(data=insuranceDF, x=\"age\", y=\"charges\", hue=\"smoker\", size=\"bmi\");\n",
    "plt.legend(loc=\"center left\", bbox_to_anchor=(1, 0.5));"
   ]
  },
  {
   "cell_type": "markdown",
   "id": "15cd404c",
   "metadata": {},
   "source": [
    "What would we expect based on the plot?"
   ]
  },
  {
   "cell_type": "code",
   "execution_count": null,
   "id": "a5e6ecb8",
   "metadata": {},
   "outputs": [],
   "source": [
    "# Split our dataset to training and testing datasets\n",
    "linData2_tr, linData2_te = train_test_split(insuranceDF, test_size=0.1, random_state=24)\n",
    "linData2_tr.reset_index(inplace=True, drop=True)\n",
    "linData2_te.reset_index(inplace=True, drop=True)\n",
    "\n",
    "# Create the X and Y matrix for model training.\n",
    "linTraining2X = linData2_tr.drop([\"sex\", \"charges\", \"smoker\", \"region\"], axis=1).to_numpy()\n",
    "linTraining2Y = linData2_tr[\"charges\"].to_numpy()\n",
    "\n",
    "# Creating the linear regression model\n",
    "linModel2 = LinearRegression(fit_intercept=True)\n",
    "linModel2.fit(linTraining2X, linTraining2Y)\n",
    "\n",
    "# Resulting linear regression model parameters\n",
    "linModel2.intercept_, linModel2.coef_"
   ]
  },
  {
   "cell_type": "code",
   "execution_count": null,
   "id": "a5f515a0",
   "metadata": {},
   "outputs": [],
   "source": [
    "# Use the model to make predictions (Age, BMI, # Children, Smoker - 0 or 1)\n",
    "linModel2.predict([[30, 25, 0, 0]])"
   ]
  },
  {
   "cell_type": "code",
   "execution_count": null,
   "id": "ce84971f",
   "metadata": {},
   "outputs": [],
   "source": [
    "# The score tells you the accuracy of the regression model\n",
    "# You should use the test dataset for the score calculation\n",
    "linModel2.score(linData2_te.drop([\"sex\", \"charges\", \"smoker\", \"region\"], axis=1).to_numpy(),\n",
    "                linData2_te[\"charges\"].to_numpy())"
   ]
  },
  {
   "cell_type": "markdown",
   "id": "0186bcfe",
   "metadata": {},
   "source": [
    "For more information, check the following:\n",
    "- User Guide: https://scikit-learn.org/stable/modules/linear_model.html\n",
    "- API Reference: https://scikit-learn.org/stable/modules/classes.html#module-sklearn.linear_model\n",
    "- Examples: https://scikit-learn.org/stable/auto_examples/index.html#generalized-linear-models"
   ]
  },
  {
   "cell_type": "markdown",
   "id": "8e7b04f0",
   "metadata": {},
   "source": [
    "## Logistic Regression"
   ]
  },
  {
   "cell_type": "markdown",
   "id": "a3bb930c",
   "metadata": {},
   "source": [
    "Logistic regression is a model used to estimate the probability that an event occurred given previous data. When the probability exceeds the threshold value, we considered the event as having occurred. Essentially, logistic regression is used for binary (True/False) classification. This is done by the formula $\\hat{P}_\\theta (Y = 1|x) = \\sigma(x^T\\theta)$, where $\\theta$ is the linear parameter, $\\sigma$ is the sigmoid or logistic function, $x$ is the input feature matrix, and $y$ is the response vector."
   ]
  },
  {
   "cell_type": "markdown",
   "id": "c565680f",
   "metadata": {},
   "source": [
    "Suppose you wish to determine if you can predict whether a person is a smoker based on their insurance charges."
   ]
  },
  {
   "cell_type": "code",
   "execution_count": null,
   "id": "fad94187",
   "metadata": {},
   "outputs": [],
   "source": [
    "sns.histplot(data=insuranceDF, x=\"charges\", hue=\"smoker\", binwidth=1000, kde=True);"
   ]
  },
  {
   "cell_type": "markdown",
   "id": "1c3e99ef",
   "metadata": {},
   "source": [
    "What would we expect based on the plot?"
   ]
  },
  {
   "cell_type": "code",
   "execution_count": null,
   "id": "79588029",
   "metadata": {},
   "outputs": [],
   "source": [
    "# A stripplot is a categorical scatterplot that uses jittering to reduce over plotting\n",
    "sns.stripplot(data=insuranceDF, x=\"charges\", y=\"smoker numerical\", jitter=0.1, orient='h').invert_yaxis()"
   ]
  },
  {
   "cell_type": "markdown",
   "id": "b1be8ca2",
   "metadata": {},
   "source": [
    "Here is a different plot depicting the same data."
   ]
  },
  {
   "cell_type": "code",
   "execution_count": null,
   "id": "25413649",
   "metadata": {},
   "outputs": [],
   "source": [
    "# Split our dataset to training and testing datasets\n",
    "logData1_tr, logData1_te = train_test_split(insuranceDF, test_size=0.1, random_state=21)\n",
    "logData1_tr.reset_index(inplace=True, drop=True)\n",
    "logData1_te.reset_index(inplace=True, drop=True)\n",
    "\n",
    "# Create the X and Y matrix for model training.\n",
    "logTraining1X = logData1_tr[[\"charges\"]].to_numpy()\n",
    "logTraining1Y = logData1_tr[\"smoker numerical\"].to_numpy()\n",
    "\n",
    "# Creating the logistic regression model\n",
    "logModel1 = LogisticRegression(fit_intercept=True)\n",
    "logModel1.fit(logTraining1X, logTraining1Y)\n",
    "\n",
    "# Resulting logistic regression model parameters\n",
    "logModel1.intercept_, logModel1.coef_"
   ]
  },
  {
   "cell_type": "code",
   "execution_count": null,
   "id": "848cdf59",
   "metadata": {},
   "outputs": [],
   "source": [
    "# Sigmoid or logistic function\n",
    "def sigmoid(x):\n",
    "    return 1/(1 + np.exp(-x))\n",
    "\n",
    "log_theta_0 = logModel1.intercept_[0]\n",
    "log_theta_1 = logModel1.coef_[0]\n",
    "\n",
    "# Does the prediction match the actual data\n",
    "log_smoke_pred_match = logModel1.predict(logData1_tr[[\"charges\"]].to_numpy())==logData1_tr[\"smoker numerical\"]\n",
    "\n",
    "# Plot of the training data\n",
    "sns.stripplot(x=logData1_tr[\"charges\"], y=logData1_tr[\"smoker numerical\"],\n",
    "              jitter=0.1, orient='h', hue=log_smoke_pred_match).invert_yaxis()\n",
    "\n",
    "# Plot of the logistic regression line\n",
    "sns.lineplot(x=np.linspace(0, 70000, 1000), y=sigmoid(log_theta_0 + log_theta_1 * np.linspace(0, 70000, 1000)));"
   ]
  },
  {
   "cell_type": "code",
   "execution_count": null,
   "id": "3e9c51af",
   "metadata": {},
   "outputs": [],
   "source": [
    "# Use the model to make predictions (Charges)\n",
    "logModel1.predict([[30000]])"
   ]
  },
  {
   "cell_type": "code",
   "execution_count": null,
   "id": "6d4be259",
   "metadata": {},
   "outputs": [],
   "source": [
    "# The score tells you the accuracy of the regression model\n",
    "# You should use the test dataset for the score calculation\n",
    "logModel1.score(logData1_te[[\"charges\"]].to_numpy(), logData1_te[\"smoker numerical\"].to_numpy())"
   ]
  },
  {
   "cell_type": "markdown",
   "id": "61896025",
   "metadata": {},
   "source": [
    "This time, we will try to predict if someone is a smoker using all the numerical variables."
   ]
  },
  {
   "cell_type": "code",
   "execution_count": null,
   "id": "dc7e0c40",
   "metadata": {},
   "outputs": [],
   "source": [
    "# Scatterplot with introduction of jitter\n",
    "sns.scatterplot(data=insuranceDF.assign(smoker_jitter=insuranceDF[\"smoker numerical\"] \n",
    "                                        + np.random.uniform(-0.2, 0.2, len(insuranceDF))),\n",
    "                x=\"charges\", y=\"smoker_jitter\", hue=\"age\", size=\"bmi\", style=\"children\",\n",
    "                sizes=(20, 200))#.invert_yaxis()\n",
    "plt.legend(loc=\"center left\", bbox_to_anchor=(1, 0.5));"
   ]
  },
  {
   "cell_type": "code",
   "execution_count": null,
   "id": "eca1755f",
   "metadata": {},
   "outputs": [],
   "source": [
    "# Split our dataset to training and testing datasets\n",
    "logData2_tr, logData2_te = train_test_split(insuranceDF, test_size=0.1, random_state=12)\n",
    "logData2_tr.reset_index(inplace=True, drop=True)\n",
    "logData2_te.reset_index(inplace=True, drop=True)\n",
    "\n",
    "# Create the X and Y matrix for model training.\n",
    "logTraining2X = logData2_tr.drop([\"sex\", \"smoker\", \"region\", \"smoker numerical\"], axis=1).to_numpy()\n",
    "logTraining2Y = logData2_tr[\"smoker numerical\"].to_numpy()\n",
    "\n",
    "# Creating the logistic regression model\n",
    "logModel2 = LogisticRegression(fit_intercept=True)\n",
    "logModel2.fit(logTraining2X, logTraining2Y)\n",
    "\n",
    "# Resulting logistic regression model parameters\n",
    "logModel2.intercept_, logModel2.coef_"
   ]
  },
  {
   "cell_type": "code",
   "execution_count": null,
   "id": "88dfdb4d",
   "metadata": {},
   "outputs": [],
   "source": [
    "# Use the model to make predictions (Age, BMI, # Children, Insurance Charges)\n",
    "logModel2.predict([[30, 25, 0, 3000]])"
   ]
  },
  {
   "cell_type": "code",
   "execution_count": null,
   "id": "3dd17d43",
   "metadata": {},
   "outputs": [],
   "source": [
    "# The score tells you the accuracy of the regression model\n",
    "# You should use the test dataset for the score calculation\n",
    "logModel2.score(logData2_te.drop([\"sex\", \"smoker\", \"region\", \"smoker numerical\"], axis=1).to_numpy(), \n",
    "                logData2_te[\"smoker numerical\"].to_numpy())"
   ]
  },
  {
   "cell_type": "markdown",
   "id": "5eb87640",
   "metadata": {},
   "source": [
    "For more information, check the following:\n",
    "- User Guide: https://scikit-learn.org/stable/modules/linear_model.html\n",
    "- API Reference: https://scikit-learn.org/stable/modules/classes.html#module-sklearn.linear_model\n",
    "- Examples: https://scikit-learn.org/stable/auto_examples/index.html#generalized-linear-models"
   ]
  },
  {
   "cell_type": "markdown",
   "id": "c2630f46",
   "metadata": {},
   "source": [
    "## Hypothesis Testing"
   ]
  },
  {
   "cell_type": "markdown",
   "id": "49dd698e",
   "metadata": {},
   "source": [
    "A hypothesis test is used to decide whether the data supports a particular hypothesis. The type of hypothesis testing done typically depends on the type of data that is being used. "
   ]
  },
  {
   "cell_type": "markdown",
   "id": "748597a9",
   "metadata": {},
   "source": [
    "1. Suppose you wish to determine whether there is a significant difference between the proportions of male/female sex in smokers and non-smokers. To answer this question, we will perform a chi-squared test of independence."
   ]
  },
  {
   "cell_type": "code",
   "execution_count": null,
   "id": "4b75b217",
   "metadata": {},
   "outputs": [],
   "source": [
    "sns.countplot(data=insuranceDF, y=\"smoker\", hue=\"sex\");"
   ]
  },
  {
   "cell_type": "markdown",
   "id": "bd36f5b9",
   "metadata": {},
   "source": [
    "What would we expect based on the plot?"
   ]
  },
  {
   "cell_type": "code",
   "execution_count": null,
   "id": "79652ae7",
   "metadata": {},
   "outputs": [],
   "source": [
    "# Contigency table by count \n",
    "smokerSexContigency = pd.crosstab(insuranceDF[\"smoker\"], insuranceDF[\"sex\"])"
   ]
  },
  {
   "cell_type": "code",
   "execution_count": null,
   "id": "a2558fa5",
   "metadata": {},
   "outputs": [],
   "source": [
    "# Chi-squared analysis\n",
    "chi2_contingency(smokerSexContigency, correction=False)"
   ]
  },
  {
   "cell_type": "markdown",
   "id": "ed9df26b",
   "metadata": {},
   "source": [
    "What can we conclude based on the calculated statistic?"
   ]
  },
  {
   "cell_type": "markdown",
   "id": "d73f4a3f",
   "metadata": {},
   "source": [
    "2. Suppose you wish to determine whether there is a significant difference in insurance charges between the smoker and non-smokers. To answer this question, we will perform a two-sample t-test."
   ]
  },
  {
   "cell_type": "code",
   "execution_count": null,
   "id": "8ed78089",
   "metadata": {},
   "outputs": [],
   "source": [
    "sns.histplot(data=insuranceDF, x=\"charges\", hue=\"smoker\", binwidth=1000, kde=True);"
   ]
  },
  {
   "cell_type": "markdown",
   "id": "a7a4a53a",
   "metadata": {},
   "source": [
    "What would we expect based on the plot?"
   ]
  },
  {
   "cell_type": "code",
   "execution_count": null,
   "id": "5c24b0d0",
   "metadata": {},
   "outputs": [],
   "source": [
    "sns.boxplot(data=insuranceDF, x=\"smoker\", y=\"charges\");"
   ]
  },
  {
   "cell_type": "markdown",
   "id": "c002e702",
   "metadata": {},
   "source": [
    "Here is a different plot depicting the same data."
   ]
  },
  {
   "cell_type": "code",
   "execution_count": null,
   "id": "eee09834",
   "metadata": {},
   "outputs": [],
   "source": [
    "# Stratification by smoker/non-smoker\n",
    "smokerGroup = insuranceDF[insuranceDF[\"smoker\"]==\"yes\"]\n",
    "nonsmokerGroup = insuranceDF[insuranceDF[\"smoker\"]==\"no\"]\n",
    "\n",
    "# T-test analysis\n",
    "ttest_ind(smokerGroup[\"charges\"], nonsmokerGroup[\"charges\"])"
   ]
  },
  {
   "cell_type": "markdown",
   "id": "bf6ad67e",
   "metadata": {},
   "source": [
    "What can we conclude based on the calculated statistic?"
   ]
  },
  {
   "cell_type": "markdown",
   "id": "b4834fb6",
   "metadata": {},
   "source": [
    "For more information, check the following:\n",
    "- User Guide: https://docs.scipy.org/doc/scipy/tutorial/stats.html\n",
    "- API Reference: https://docs.scipy.org/doc/scipy/reference/stats.html"
   ]
  },
  {
   "cell_type": "markdown",
   "id": "cc50bd06",
   "metadata": {},
   "source": [
    "## Practice: Putting it all together"
   ]
  },
  {
   "cell_type": "markdown",
   "id": "c492901b",
   "metadata": {},
   "source": [
    "We will analyze the Wisconsin Breast Cancer Dataset from scikit learn. Our goal is to create a model to determine whether a tumor is malignant or benign."
   ]
  },
  {
   "cell_type": "code",
   "execution_count": null,
   "id": "bc34f3f6",
   "metadata": {},
   "outputs": [],
   "source": [
    "import sklearn.datasets\n",
    "\n",
    "breastCancer_dict = sklearn.datasets.load_breast_cancer()\n",
    "breastCancerDF = pd.DataFrame(breastCancer_dict[\"data\"], columns=breastCancer_dict[\"feature_names\"])\n",
    "breastCancerDF"
   ]
  },
  {
   "cell_type": "code",
   "execution_count": null,
   "id": "c2d99fb5",
   "metadata": {},
   "outputs": [],
   "source": [
    "breastCancer_dict[\"target_names\"]"
   ]
  },
  {
   "cell_type": "markdown",
   "id": "63a2b7ea",
   "metadata": {},
   "source": [
    "Below is the list of all the features provided by the data. Which feature do you think would be good to use to determine whether a tumor is benign or malignant?"
   ]
  },
  {
   "cell_type": "code",
   "execution_count": null,
   "id": "6757862d",
   "metadata": {},
   "outputs": [],
   "source": [
    "breastCancerDF.columns"
   ]
  },
  {
   "cell_type": "markdown",
   "id": "5b2e84b2",
   "metadata": {},
   "source": [
    "Take a look at the provided encoded labels/values for the malignant column data. It looks like 0 represents malignant and 1 represents benign. We should reverse this encoding of the value to make it more intuitive before adding it as a new column to our data frame."
   ]
  },
  {
   "cell_type": "code",
   "execution_count": null,
   "id": "928c51da",
   "metadata": {},
   "outputs": [],
   "source": [
    "# Hint: Currently, breastCancer_dict[\"target\"] store the data where 0 is malignant and 1 is benign. \n",
    "\n",
    "### breastCancerDF[\"malignant\"] = ________"
   ]
  },
  {
   "cell_type": "markdown",
   "id": "ab44eb9c",
   "metadata": {},
   "source": [
    "Based on the one feature you choose, make an appropriate visualization."
   ]
  },
  {
   "cell_type": "code",
   "execution_count": null,
   "id": "5edce4fe",
   "metadata": {},
   "outputs": [],
   "source": [
    "# Hint: In this case, \"malignant\" column would be the dependent variable\n"
   ]
  },
  {
   "cell_type": "markdown",
   "id": "5fdcdd93",
   "metadata": {},
   "source": [
    "Looking at your visualization, can you identify a pattern that help you predict whether a tumor is benign or malignant?"
   ]
  },
  {
   "cell_type": "markdown",
   "id": "b2bdb1b9",
   "metadata": {},
   "source": [
    "Fit the appropriate model to help make the prediction."
   ]
  },
  {
   "cell_type": "code",
   "execution_count": null,
   "id": "916d1f95",
   "metadata": {},
   "outputs": [],
   "source": [
    "# Step 1: Split our dataset to training and testing datasets\n",
    "\n",
    "### breastCancerDF_tr, breastCancerDF_te = ________\n",
    "### breastCancerDF_tr.reset_index(inplace=True, drop=True)\n",
    "### breastCancerDF_te.reset_index(inplace=True, drop=True)\n",
    "\n",
    "# Step 2: Create the X and Y matrix for model training.\n",
    "\n",
    "### breastCancerDF_trX = ________\n",
    "### breastCancerDF_trY = ________\n",
    "\n",
    "# Step 3: Creating the model\n",
    "\n",
    "### breastCancerAreaModel = ________\n",
    "### breastCancerAreaModel.________(________, ________);"
   ]
  },
  {
   "cell_type": "code",
   "execution_count": null,
   "id": "538cdd10",
   "metadata": {},
   "outputs": [],
   "source": [
    "# Determine the accuracy of the model\n",
    "\n",
    "### breastCancerAreaModel.________(________, ________)"
   ]
  },
  {
   "cell_type": "code",
   "execution_count": null,
   "id": "8da543b4",
   "metadata": {},
   "outputs": [],
   "source": [
    "# Try using the model to make predictions\n",
    "\n",
    "### breastCancerAreaModel.________(________)"
   ]
  },
  {
   "cell_type": "markdown",
   "id": "1e1f58d6",
   "metadata": {},
   "source": [
    "Now we want to see if there is a significant difference in the feature you selected between benign and malignant tumors."
   ]
  },
  {
   "cell_type": "markdown",
   "id": "7692c3b5",
   "metadata": {},
   "source": [
    "Based on the one feature you choose, make an appropriate visualization."
   ]
  },
  {
   "cell_type": "code",
   "execution_count": null,
   "id": "0369a092",
   "metadata": {},
   "outputs": [],
   "source": [
    "# Hint: In this case, \"malignant\" column would be the independent variable\n"
   ]
  },
  {
   "cell_type": "markdown",
   "id": "44477c49",
   "metadata": {},
   "source": [
    "Looking at your visualization, can you determine whether there is a significant difference between benign or malignant tumors?"
   ]
  },
  {
   "cell_type": "markdown",
   "id": "4c81af56",
   "metadata": {},
   "source": [
    "Calculate the test statistic using an appropriate test."
   ]
  },
  {
   "cell_type": "code",
   "execution_count": null,
   "id": "4e07dd65",
   "metadata": {},
   "outputs": [],
   "source": [
    "# Step 1: Create the appropriate grouping or table\n",
    "\n",
    "### benignGroup = ________\n",
    "### tumorGroup = ________\n",
    "\n",
    "# Step 2: Use the appropriate test for analysis\n",
    "\n",
    "### ________(________, ________)"
   ]
  },
  {
   "cell_type": "markdown",
   "id": "a93c70ec",
   "metadata": {},
   "source": [
    "Below is one way to approach this problem."
   ]
  },
  {
   "cell_type": "code",
   "execution_count": null,
   "id": "8f13027b",
   "metadata": {},
   "outputs": [],
   "source": [
    "#\n",
    "#\n",
    "#\n",
    "#\n",
    "#\n",
    "#\n",
    "#\n",
    "#\n",
    "#\n",
    "#\n",
    "#\n",
    "#\n",
    "#\n",
    "#\n",
    "#\n",
    "#\n",
    "#\n",
    "#\n",
    "#\n",
    "#\n",
    "#\n",
    "#\n",
    "#\n",
    "#\n",
    "#\n",
    "#\n",
    "#\n",
    "#\n",
    "#\n",
    "#\n",
    "#\n",
    "#\n",
    "#\n",
    "#\n",
    "#\n",
    "#\n",
    "#\n",
    "#\n",
    "#\n",
    "#\n",
    "#\n",
    "#\n",
    "#\n",
    "#\n",
    "#\n",
    "#\n",
    "#\n",
    "#\n",
    "#\n",
    "#\n",
    "#\n"
   ]
  },
  {
   "cell_type": "markdown",
   "id": "021154b0",
   "metadata": {},
   "source": [
    "Logistic Regression"
   ]
  },
  {
   "cell_type": "code",
   "execution_count": null,
   "id": "b2143b16",
   "metadata": {},
   "outputs": [],
   "source": [
    "breastCancer_dict = sklearn.datasets.load_breast_cancer()\n",
    "breastCancerDF = pd.DataFrame(breastCancer_dict[\"data\"], columns=breastCancer_dict[\"feature_names\"])"
   ]
  },
  {
   "cell_type": "code",
   "execution_count": null,
   "id": "d39bd39b",
   "metadata": {},
   "outputs": [],
   "source": [
    "# Example using comparison operator to produce T/F values which is then converted to 1/0\n",
    "### breastCancerDF[\"malignant\"] = (breastCancer_dict[\"target\"] == 0).astype(int)\n",
    "\n",
    "# Example using mathematical manipulations \n",
    "breastCancerDF[\"malignant\"] = 1 - breastCancer_dict[\"target\"]"
   ]
  },
  {
   "cell_type": "code",
   "execution_count": null,
   "id": "0debf565",
   "metadata": {},
   "outputs": [],
   "source": [
    "sns.histplot(data = breastCancerDF, x = \"mean area\", hue = \"malignant\", binwidth=50, kde=True)\n",
    "plt.legend(labels = [\"Malignant\", \"Benign\"]);"
   ]
  },
  {
   "cell_type": "code",
   "execution_count": null,
   "id": "2a8f4c61",
   "metadata": {},
   "outputs": [],
   "source": [
    "breastCancerDF_tr, breastCancerDF_te = train_test_split(breastCancerDF, test_size=0.10, random_state=33)\n",
    "breastCancerDF_tr.reset_index(inplace=True, drop=True)\n",
    "breastCancerDF_te.reset_index(inplace=True, drop=True)\n",
    "\n",
    "breastCancerDF_trX = breastCancerDF_tr[[\"mean area\"]].to_numpy()\n",
    "breastCancerDF_trY = breastCancerDF_tr[\"malignant\"].to_numpy()\n",
    "\n",
    "breastCancerAreaModel = LogisticRegression(fit_intercept=True)\n",
    "breastCancerAreaModel.fit(breastCancerDF_trX, breastCancerDF_trY);"
   ]
  },
  {
   "cell_type": "code",
   "execution_count": null,
   "id": "23be93c0",
   "metadata": {},
   "outputs": [],
   "source": [
    "breastCancerAreaModel.score(breastCancerDF_te[[\"mean area\"]].to_numpy(), \n",
    "                            breastCancerDF_te[[\"malignant\"]].to_numpy())"
   ]
  },
  {
   "cell_type": "code",
   "execution_count": null,
   "id": "da4eaecb",
   "metadata": {},
   "outputs": [],
   "source": [
    "breastCancerAreaModel.predict([[1500]])"
   ]
  },
  {
   "cell_type": "markdown",
   "id": "bc5063d3",
   "metadata": {},
   "source": [
    "Two Sample t-Test"
   ]
  },
  {
   "cell_type": "code",
   "execution_count": null,
   "id": "86094576",
   "metadata": {},
   "outputs": [],
   "source": [
    "sns.boxplot(data=breastCancerDF, x=\"malignant\", y=\"mean area\");"
   ]
  },
  {
   "cell_type": "code",
   "execution_count": null,
   "id": "152de012",
   "metadata": {},
   "outputs": [],
   "source": [
    "benignGroup = breastCancerDF[breastCancerDF[\"malignant\"] == 0]\n",
    "tumorGroup = breastCancerDF[breastCancerDF[\"malignant\"] == 1]\n",
    "\n",
    "ttest_ind(benignGroup[\"mean area\"], tumorGroup[\"mean area\"])"
   ]
  },
  {
   "cell_type": "code",
   "execution_count": null,
   "id": "454b571c",
   "metadata": {},
   "outputs": [],
   "source": []
  }
 ],
 "metadata": {
  "kernelspec": {
   "display_name": "Python 3 (ipykernel)",
   "language": "python",
   "name": "python3"
  },
  "language_info": {
   "codemirror_mode": {
    "name": "ipython",
    "version": 3
   },
   "file_extension": ".py",
   "mimetype": "text/x-python",
   "name": "python",
   "nbconvert_exporter": "python",
   "pygments_lexer": "ipython3",
   "version": "3.9.12"
  }
 },
 "nbformat": 4,
 "nbformat_minor": 5
}
