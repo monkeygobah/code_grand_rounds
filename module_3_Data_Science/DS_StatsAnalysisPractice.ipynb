{
 "cells": [
  {
   "cell_type": "markdown",
   "id": "8356d674",
   "metadata": {},
   "source": [
    "# Coding Applications in Medicine: Data Science - Statistical Analysis Practice"
   ]
  },
  {
   "cell_type": "markdown",
   "id": "7d381da5",
   "metadata": {},
   "source": [
    "Review the following notebooks before attempting this practice question.\n",
    "\n",
    "- Data Science - Handling Data with Pandas\n",
    "- Data Science - Visualization\n",
    "- Data Science - Categorical Hypothesis Tests\n",
    "- Data Science - Numerical Hypothesis Tests\n",
    "- Data Science - Other Statistical Analysis\n",
    "- Data Science - Regression Analysis"
   ]
  },
  {
   "cell_type": "code",
   "execution_count": null,
   "id": "2a91cfb1",
   "metadata": {},
   "outputs": [],
   "source": [
    "import numpy as np\n",
    "import matplotlib.pyplot as plt\n",
    "import pandas as pd\n",
    "import seaborn as sns\n",
    "\n",
    "from sklearn.linear_model import LinearRegression\n",
    "from sklearn.linear_model import LogisticRegression\n",
    "from sklearn.metrics import RocCurveDisplay\n",
    "from sklearn.model_selection import train_test_split\n",
    "\n",
    "from scipy.stats import ttest_ind\n",
    "from scipy.stats import chi2_contingency\n",
    "from scipy.stats import fisher_exact\n",
    "from scipy.stats import f_oneway\n",
    "from scipy.stats import pearsonr\n",
    "from scipy.stats.contingency import odds_ratio\n",
    "from scipy.stats.contingency import relative_risk\n",
    "\n",
    "import sklearn.datasets"
   ]
  },
  {
   "cell_type": "markdown",
   "id": "c492901b",
   "metadata": {},
   "source": [
    "We will analyze the Wisconsin Breast Cancer Dataset from scikit learn. Our goal is to create a model to determine whether a tumor is malignant or benign."
   ]
  },
  {
   "cell_type": "code",
   "execution_count": null,
   "id": "bc34f3f6",
   "metadata": {},
   "outputs": [],
   "source": [
    "# Load the breast cancer data.\n",
    "breastCancer_dict = sklearn.datasets.load_breast_cancer()\n",
    "breastCancerDF = pd.DataFrame(breastCancer_dict[\"data\"], columns=breastCancer_dict[\"feature_names\"])\n",
    "breastCancerDF"
   ]
  },
  {
   "cell_type": "code",
   "execution_count": null,
   "id": "c2d99fb5",
   "metadata": {},
   "outputs": [],
   "source": [
    "breastCancer_dict[\"target_names\"]"
   ]
  },
  {
   "cell_type": "markdown",
   "id": "63a2b7ea",
   "metadata": {},
   "source": [
    "Below is the list of all the features provided by the data. Which feature do you think would be good to use to determine whether a tumor is benign or malignant?"
   ]
  },
  {
   "cell_type": "code",
   "execution_count": null,
   "id": "6757862d",
   "metadata": {},
   "outputs": [],
   "source": [
    "breastCancerDF.columns"
   ]
  },
  {
   "cell_type": "markdown",
   "id": "5b2e84b2",
   "metadata": {},
   "source": [
    "Take a look at the provided encoded labels/values for the malignant column data. It looks like 0 represents malignant and 1 represents benign. We should reverse this encoding of the value to make it more intuitive before adding it as a new column to our data frame."
   ]
  },
  {
   "cell_type": "code",
   "execution_count": null,
   "id": "928c51da",
   "metadata": {},
   "outputs": [],
   "source": [
    "# Hint: Currently, breastCancer_dict[\"target\"] store the data where 0 is malignant and 1 is benign. \n",
    "\n",
    "### breastCancerDF[\"malignant\"] = ________"
   ]
  },
  {
   "cell_type": "markdown",
   "id": "ab44eb9c",
   "metadata": {},
   "source": [
    "Based on the one feature you choose, make an appropriate visualization."
   ]
  },
  {
   "cell_type": "code",
   "execution_count": null,
   "id": "5edce4fe",
   "metadata": {},
   "outputs": [],
   "source": [
    "# Hint: In this case, \"malignant\" column would be the dependent variable.\n"
   ]
  },
  {
   "cell_type": "markdown",
   "id": "5fdcdd93",
   "metadata": {},
   "source": [
    "Looking at your visualization, can you identify a pattern that help you predict whether a tumor is benign or malignant?"
   ]
  },
  {
   "cell_type": "markdown",
   "id": "b2bdb1b9",
   "metadata": {},
   "source": [
    "Fit the appropriate model to help make the prediction."
   ]
  },
  {
   "cell_type": "code",
   "execution_count": null,
   "id": "916d1f95",
   "metadata": {},
   "outputs": [],
   "source": [
    "# Step 1: Split our dataset to training and testing datasets.\n",
    "\n",
    "### breastCancerDF_tr, breastCancerDF_te = ________\n",
    "### breastCancerDF_tr.reset_index(inplace=True, drop=True)\n",
    "### breastCancerDF_te.reset_index(inplace=True, drop=True)\n",
    "\n",
    "# Step 2: Create the X and Y matrix for model training.\n",
    "\n",
    "### breastCancerDF_trX = ________\n",
    "### breastCancerDF_trY = ________\n",
    "\n",
    "# Step 3: Creating the model.\n",
    "\n",
    "### breastCancerAreaModel = ________\n",
    "### breastCancerAreaModel.________(________, ________);"
   ]
  },
  {
   "cell_type": "code",
   "execution_count": null,
   "id": "538cdd10",
   "metadata": {},
   "outputs": [],
   "source": [
    "# Determine the accuracy of the model.\n",
    "\n",
    "### breastCancerAreaModel.________(________, ________)"
   ]
  },
  {
   "cell_type": "code",
   "execution_count": null,
   "id": "8da543b4",
   "metadata": {},
   "outputs": [],
   "source": [
    "# Try using the model to make predictions.\n",
    "\n",
    "### breastCancerAreaModel.________(________)"
   ]
  },
  {
   "cell_type": "markdown",
   "id": "1e1f58d6",
   "metadata": {},
   "source": [
    "Now we want to see if there is a significant difference in the feature you selected between benign and malignant tumors."
   ]
  },
  {
   "cell_type": "markdown",
   "id": "7692c3b5",
   "metadata": {},
   "source": [
    "Based on the one feature you choose, make an appropriate visualization."
   ]
  },
  {
   "cell_type": "code",
   "execution_count": null,
   "id": "0369a092",
   "metadata": {},
   "outputs": [],
   "source": [
    "# Hint: In this case, \"malignant\" column would be the independent variable.\n"
   ]
  },
  {
   "cell_type": "markdown",
   "id": "44477c49",
   "metadata": {},
   "source": [
    "Looking at your visualization, can you determine whether there is a significant difference between benign or malignant tumors?"
   ]
  },
  {
   "cell_type": "markdown",
   "id": "4c81af56",
   "metadata": {},
   "source": [
    "Calculate the test statistic using an appropriate test."
   ]
  },
  {
   "cell_type": "code",
   "execution_count": null,
   "id": "4e07dd65",
   "metadata": {},
   "outputs": [],
   "source": [
    "# Step 1: Create the appropriate grouping or table.\n",
    "\n",
    "### benignGroup = ________\n",
    "### tumorGroup = ________\n",
    "\n",
    "# Step 2: Use the appropriate test for analysis.\n",
    "\n",
    "### ________(________, ________)"
   ]
  },
  {
   "cell_type": "markdown",
   "id": "a93c70ec",
   "metadata": {},
   "source": [
    "Below is one way to approach this problem."
   ]
  },
  {
   "cell_type": "code",
   "execution_count": null,
   "id": "8f13027b",
   "metadata": {},
   "outputs": [],
   "source": [
    "#\n",
    "#\n",
    "#\n",
    "#\n",
    "#\n",
    "#\n",
    "#\n",
    "#\n",
    "#\n",
    "#\n",
    "#\n",
    "#\n",
    "#\n",
    "#\n",
    "#\n",
    "#\n",
    "#\n",
    "#\n",
    "#\n",
    "#\n",
    "#\n",
    "#\n",
    "#\n",
    "#\n",
    "#\n",
    "#\n",
    "#\n",
    "#\n",
    "#\n",
    "#\n",
    "#\n",
    "#\n",
    "#\n",
    "#\n",
    "#\n",
    "#\n",
    "#\n",
    "#\n",
    "#\n",
    "#\n",
    "#\n",
    "#\n",
    "#\n",
    "#\n",
    "#\n",
    "#\n",
    "#\n",
    "#\n",
    "#\n",
    "#\n",
    "#\n"
   ]
  },
  {
   "cell_type": "markdown",
   "id": "021154b0",
   "metadata": {},
   "source": [
    "Logistic Regression"
   ]
  },
  {
   "cell_type": "code",
   "execution_count": null,
   "id": "b2143b16",
   "metadata": {},
   "outputs": [],
   "source": [
    "# Load the breast cancer data.\n",
    "breastCancer_dict = sklearn.datasets.load_breast_cancer()\n",
    "breastCancerDF = pd.DataFrame(breastCancer_dict[\"data\"], columns=breastCancer_dict[\"feature_names\"])"
   ]
  },
  {
   "cell_type": "code",
   "execution_count": null,
   "id": "d39bd39b",
   "metadata": {},
   "outputs": [],
   "source": [
    "# Example using comparison operator to produce T/F values which is then converted to 1/0.\n",
    "### breastCancerDF[\"malignant\"] = (breastCancer_dict[\"target\"] == 0).astype(int)\n",
    "\n",
    "# Example using mathematical manipulations.\n",
    "breastCancerDF[\"malignant\"] = 1 - breastCancer_dict[\"target\"]"
   ]
  },
  {
   "cell_type": "code",
   "execution_count": null,
   "id": "0debf565",
   "metadata": {},
   "outputs": [],
   "source": [
    "# Histogram.\n",
    "sns.histplot(data = breastCancerDF, x = \"mean area\", hue = \"malignant\", binwidth=50, kde=True)\n",
    "plt.legend(labels = [\"Malignant\", \"Benign\"])\n",
    "plt.show();"
   ]
  },
  {
   "cell_type": "code",
   "execution_count": null,
   "id": "2a8f4c61",
   "metadata": {},
   "outputs": [],
   "source": [
    "# Split our dataset to training and testing datasets.\n",
    "breastCancerDF_tr, breastCancerDF_te = train_test_split(breastCancerDF, test_size=0.10, random_state=33)\n",
    "breastCancerDF_tr.reset_index(inplace=True, drop=True)\n",
    "breastCancerDF_te.reset_index(inplace=True, drop=True)\n",
    "\n",
    "# Create the X and Y matrix for model training.\n",
    "breastCancerDF_trX = breastCancerDF_tr[[\"mean area\"]].to_numpy()\n",
    "breastCancerDF_trY = breastCancerDF_tr[\"malignant\"].to_numpy()\n",
    "\n",
    "# Creating the logistic regression model.\n",
    "breastCancerAreaModel = LogisticRegression(fit_intercept=True)\n",
    "breastCancerAreaModel.fit(breastCancerDF_trX, breastCancerDF_trY);"
   ]
  },
  {
   "cell_type": "code",
   "execution_count": null,
   "id": "23be93c0",
   "metadata": {},
   "outputs": [],
   "source": [
    "# Calculates the accuracy of the model.\n",
    "breastCancerAreaModel.score(breastCancerDF_te[[\"mean area\"]].to_numpy(), \n",
    "                            breastCancerDF_te[[\"malignant\"]].to_numpy())"
   ]
  },
  {
   "cell_type": "code",
   "execution_count": null,
   "id": "da4eaecb",
   "metadata": {},
   "outputs": [],
   "source": [
    "# Predicts whether the cancer is benign or malignant based on area/size.\n",
    "breastCancerAreaModel.predict([[1500]])"
   ]
  },
  {
   "cell_type": "markdown",
   "id": "bc5063d3",
   "metadata": {},
   "source": [
    "Two Sample t-Test"
   ]
  },
  {
   "cell_type": "code",
   "execution_count": null,
   "id": "86094576",
   "metadata": {},
   "outputs": [],
   "source": [
    "# Box plot.\n",
    "sns.boxplot(data=breastCancerDF, x=\"malignant\", y=\"mean area\")\n",
    "plt.show();"
   ]
  },
  {
   "cell_type": "code",
   "execution_count": null,
   "id": "152de012",
   "metadata": {},
   "outputs": [],
   "source": [
    "# Create the benign and tumor grouping.\n",
    "benignGroup = breastCancerDF[breastCancerDF[\"malignant\"] == 0]\n",
    "tumorGroup = breastCancerDF[breastCancerDF[\"malignant\"] == 1]\n",
    "\n",
    "# Two-sample t-test for analysis.\n",
    "ttest_ind(benignGroup[\"mean area\"], tumorGroup[\"mean area\"])"
   ]
  }
 ],
 "metadata": {
  "kernelspec": {
   "display_name": "Python 3 (ipykernel)",
   "language": "python",
   "name": "python3"
  },
  "language_info": {
   "codemirror_mode": {
    "name": "ipython",
    "version": 3
   },
   "file_extension": ".py",
   "mimetype": "text/x-python",
   "name": "python",
   "nbconvert_exporter": "python",
   "pygments_lexer": "ipython3",
   "version": "3.9.16"
  }
 },
 "nbformat": 4,
 "nbformat_minor": 5
}
