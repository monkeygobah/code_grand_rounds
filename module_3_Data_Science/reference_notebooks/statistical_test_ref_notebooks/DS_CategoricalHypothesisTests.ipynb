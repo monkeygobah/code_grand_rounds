{
 "cells": [
  {
   "cell_type": "markdown",
   "id": "ad4ad427",
   "metadata": {},
   "source": [
    "# Coding Applications in Medicine: Data Science - Categorical Hypothesis Tests"
   ]
  },
  {
   "cell_type": "markdown",
   "id": "b12d5df9",
   "metadata": {},
   "source": [
    "There are two basic hypothesis test to compare categorical variables, Fisher's exact test and Chi-square test. Recall that proportions are commonly used to compare categorical variables."
   ]
  },
  {
   "cell_type": "code",
   "execution_count": null,
   "id": "59db6bab",
   "metadata": {},
   "outputs": [],
   "source": [
    "import numpy as np\n",
    "import matplotlib.pyplot as plt\n",
    "import pandas as pd\n",
    "import seaborn as sns\n",
    "\n",
    "from scipy.stats import chi2_contingency\n",
    "from scipy.stats import fisher_exact\n",
    "\n",
    "import sklearn.datasets"
   ]
  },
  {
   "cell_type": "code",
   "execution_count": null,
   "id": "0811272b",
   "metadata": {},
   "outputs": [],
   "source": [
    "# Load the insurance data.\n",
    "insuranceDF = pd.read_csv(\"data/insurance.csv\")\n",
    "insuranceDF"
   ]
  },
  {
   "cell_type": "markdown",
   "id": "a144ce0a",
   "metadata": {},
   "source": [
    "## Fisher's Exact Test"
   ]
  },
  {
   "cell_type": "markdown",
   "id": "0fe3bf61",
   "metadata": {},
   "source": [
    "The fisher's exact test is used to check for differences in proportions between categories. This test is mainly used for smaller sample size comparisons. \n",
    "\n",
    "In the following example, we will examine the differences in proportion of smokers based on male or female sex. A small sample size is simulated by only taking a look at the first 30 data points."
   ]
  },
  {
   "cell_type": "code",
   "execution_count": null,
   "id": "3e297f5f",
   "metadata": {},
   "outputs": [],
   "source": [
    "# Take first 30 data points.\n",
    "insuranceDFSmallSampleDF = insuranceDF.head(30)\n",
    "\n",
    "# Graph of the data.\n",
    "sns.countplot(data=insuranceDFSmallSampleDF, y=\"smoker\", hue=\"sex\");\n",
    "plt.show();"
   ]
  },
  {
   "cell_type": "code",
   "execution_count": null,
   "id": "2008a914",
   "metadata": {},
   "outputs": [],
   "source": [
    "# Create the contingency table.\n",
    "insuranceDFSmallSampleContingency = pd.crosstab(insuranceDFSmallSampleDF[\"smoker\"], insuranceDFSmallSampleDF[\"sex\"])\n",
    "insuranceDFSmallSampleContingency"
   ]
  },
  {
   "cell_type": "code",
   "execution_count": null,
   "id": "367572ad",
   "metadata": {},
   "outputs": [],
   "source": [
    "# Fisher Exact Test.\n",
    "fisher_exact(insuranceDFSmallSampleContingency)"
   ]
  },
  {
   "cell_type": "markdown",
   "id": "cd281a08",
   "metadata": {},
   "source": [
    "## Chi-Squared Test "
   ]
  },
  {
   "cell_type": "markdown",
   "id": "696f359b",
   "metadata": {},
   "source": [
    "The chi-squared test is used to check for differences in proportions between categories. This test is mainly used for larger sample size comparisons. \n",
    "\n",
    "In the following example, we will examine the differences in proportion of smokers based on parent status (0 children or at least 1 child). A large sample size is simulated by only taking a look at all the data points."
   ]
  },
  {
   "cell_type": "code",
   "execution_count": null,
   "id": "c0c42455",
   "metadata": {},
   "outputs": [],
   "source": [
    "# Create column to determine whether the individual is a parent.\n",
    "insuranceDF[\"is parent\"] = (insuranceDF[\"children\"] > 0)\n",
    "\n",
    "# Graph of the data.\n",
    "sns.countplot(data=insuranceDF, y=\"smoker\", hue=\"is parent\");\n",
    "plt.show();"
   ]
  },
  {
   "cell_type": "code",
   "execution_count": null,
   "id": "fa98792f",
   "metadata": {},
   "outputs": [],
   "source": [
    "# Contigency table by count.\n",
    "smokerParentContingency = pd.crosstab(insuranceDF[\"smoker\"], insuranceDF[\"is parent\"])\n",
    "smokerParentContingency"
   ]
  },
  {
   "cell_type": "code",
   "execution_count": null,
   "id": "e8635513",
   "metadata": {},
   "outputs": [],
   "source": [
    "# Chi-squared analysis.For more information, check the following:\n",
    "- User Guide: https://docs.scipy.org/doc/scipy/tutorial/stats.html\n",
    "- API Reference: https://docs.scipy.org/doc/scipy/reference/stats.html\n",
    "chi2_contingency(smokerParentContingency, correction=False)"
   ]
  },
  {
   "cell_type": "markdown",
   "id": "e83900cf",
   "metadata": {},
   "source": [
    "For more information, check the following:\n",
    "- User Guide: https://docs.scipy.org/doc/scipy/tutorial/stats.html\n",
    "- API Reference: https://docs.scipy.org/doc/scipy/reference/stats.html"
   ]
  },
  {
   "cell_type": "markdown",
   "id": "afa1e953",
   "metadata": {},
   "source": [
    "**Source:**\n",
    "\n",
    "\n",
    "Module adapted from Kaggle: https://www.kaggle.com/code/mariapushkareva/medical-insurance-cost-with-linear-regression/notebook\n",
    "\n",
    "Dataset source: https://github.com/stedy/Machine-Learning-with-R-datasets"
   ]
  }
 ],
 "metadata": {
  "kernelspec": {
   "display_name": "Python 3 (ipykernel)",
   "language": "python",
   "name": "python3"
  },
  "language_info": {
   "codemirror_mode": {
    "name": "ipython",
    "version": 3
   },
   "file_extension": ".py",
   "mimetype": "text/x-python",
   "name": "python",
   "nbconvert_exporter": "python",
   "pygments_lexer": "ipython3",
   "version": "3.9.16"
  }
 },
 "nbformat": 4,
 "nbformat_minor": 5
}
