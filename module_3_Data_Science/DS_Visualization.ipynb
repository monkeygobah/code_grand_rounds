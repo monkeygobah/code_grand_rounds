{
 "cells": [
  {
   "cell_type": "markdown",
   "id": "ad18f15e",
   "metadata": {},
   "source": [
    "# Coding Applications in Medicine: Data Science - Visualization"
   ]
  },
  {
   "cell_type": "markdown",
   "id": "199eadca",
   "metadata": {},
   "source": [
    "The goals of data visualization are to help with your own understanding of the data/results and to communicate the results/conclusions to others. Data can be visualized in many different ways. Below are some points to keep in mind as you design your visualization of your data.\n",
    "\n",
    "- Keep axis scales consistent. (Consider the scale when comparing similar data).\n",
    "- Choose axis limits that fills the visualization. (Multiple plots can be used to show different areas of interests).\n",
    "- Use a perceptually uniform color map. (Use color to highlight data type).\n",
    "- Markings plays a significant role in the accuracy of our judgements. (Avoid using pie charts, area charts, word cloud, and stacked charts).\n",
    "- Use conditioning to aid comparison.\n",
    "- The chosen visual metric tells the story.\n",
    "\n",
    "In this notebook, we will introduce the commonly used plots for data visualization. "
   ]
  },
  {
   "cell_type": "code",
   "execution_count": null,
   "id": "d586cd2f",
   "metadata": {},
   "outputs": [],
   "source": [
    "import numpy as np\n",
    "import matplotlib.pyplot as plt\n",
    "import pandas as pd\n",
    "import seaborn as sns"
   ]
  },
  {
   "cell_type": "code",
   "execution_count": null,
   "id": "36f32271",
   "metadata": {},
   "outputs": [],
   "source": [
    "# Load the insurance data.\n",
    "insuranceDF = pd.read_csv(\"data/insurance.csv\")\n",
    "insuranceDF"
   ]
  },
  {
   "cell_type": "markdown",
   "id": "6e28eeb6",
   "metadata": {},
   "source": [
    "## Structure of Plots"
   ]
  },
  {
   "cell_type": "markdown",
   "id": "c1fffdb7",
   "metadata": {},
   "source": [
    "There are many components that make up a figure and many different ways to format the visualization. Below is an example of how one might format their visualization."
   ]
  },
  {
   "cell_type": "code",
   "execution_count": null,
   "id": "e2ca0c8c",
   "metadata": {},
   "outputs": [],
   "source": [
    "# Scatter plot.\n",
    "fig = sns.scatterplot(data=insuranceDF, x=\"bmi\", y=\"charges\", hue=\"smoker\")\n",
    "# Figure title.\n",
    "plt.title(\"Relationship between BMI and Insurance Charges\")\n",
    "# Figure x-axis label.\n",
    "plt.xlabel(\"BMI\")\n",
    "# Figure y-axis label.\n",
    "plt.ylabel(\"Charges\")\n",
    "# Figure x-axis range.\n",
    "plt.xlim(10, 60)\n",
    "# Figure y-axis range.\n",
    "plt.ylim(0, 70000)\n",
    "# Figure legend.\n",
    "plt.legend(loc=\"center left\", bbox_to_anchor=(1, 0.5), title=\"Smoker\")\n",
    "# Figure caption/text.\n",
    "plt.figtext(0.5, -0.05, \"Figure 1\", ha=\"center\")\n",
    "# Display the figure.\n",
    "plt.show(fig);"
   ]
  },
  {
   "cell_type": "markdown",
   "id": "6cc6b8ae",
   "metadata": {},
   "source": [
    "For simplicity, all the plots below will be shown as default without additional format changes."
   ]
  },
  {
   "cell_type": "markdown",
   "id": "95ea57f8",
   "metadata": {},
   "source": [
    "## Plots to Compare Discrete Counts/Numbers"
   ]
  },
  {
   "cell_type": "markdown",
   "id": "974ecc68",
   "metadata": {},
   "source": [
    "A bar graph is used to compare qualitative variables. "
   ]
  },
  {
   "cell_type": "code",
   "execution_count": null,
   "id": "0697a012",
   "metadata": {
    "scrolled": true
   },
   "outputs": [],
   "source": [
    "# A countplot is a specific form of bar plot that plots the number of occurrences instead of a pre-defined number.\n",
    "sns.countplot(data=insuranceDF, x=\"region\")\n",
    "plt.show();"
   ]
  },
  {
   "cell_type": "code",
   "execution_count": null,
   "id": "a89d3449",
   "metadata": {},
   "outputs": [],
   "source": [
    "# Note: The axis in which the data is plot can be changed. \n",
    "sns.countplot(data=insuranceDF, y=\"region\", hue=\"sex\")\n",
    "plt.show();"
   ]
  },
  {
   "cell_type": "markdown",
   "id": "4fe107d1",
   "metadata": {},
   "source": [
    "## Plots to Compare Distributions"
   ]
  },
  {
   "cell_type": "markdown",
   "id": "f22c70ff",
   "metadata": {},
   "source": [
    "A histogram is used to determine the distribution of quantitative variables."
   ]
  },
  {
   "cell_type": "code",
   "execution_count": null,
   "id": "8ed11bdd",
   "metadata": {},
   "outputs": [],
   "source": [
    "sns.histplot(data=insuranceDF, x=\"charges\", binwidth=1000)\n",
    "plt.show();"
   ]
  },
  {
   "cell_type": "code",
   "execution_count": null,
   "id": "8c695094",
   "metadata": {},
   "outputs": [],
   "source": [
    "# The kde parameter for hisplot will produce a smooth density curve along with the histogram.\n",
    "sns.histplot(data=insuranceDF, x=\"charges\", hue=\"sex\", binwidth=1000, kde=True)\n",
    "plt.show();"
   ]
  },
  {
   "cell_type": "markdown",
   "id": "6a062eca",
   "metadata": {},
   "source": [
    "A box plot is another method to compare distribution."
   ]
  },
  {
   "cell_type": "code",
   "execution_count": null,
   "id": "eb878c45",
   "metadata": {},
   "outputs": [],
   "source": [
    "sns.boxplot(data=insuranceDF, x=\"region\", y=\"charges\")\n",
    "plt.show();"
   ]
  },
  {
   "cell_type": "code",
   "execution_count": null,
   "id": "8a3ba3f5",
   "metadata": {},
   "outputs": [],
   "source": [
    "sns.boxplot(data=insuranceDF, x=\"region\", y=\"charges\", hue=\"sex\")\n",
    "plt.show();"
   ]
  },
  {
   "cell_type": "markdown",
   "id": "a18a0fa4",
   "metadata": {},
   "source": [
    "A violin plot is essentially a box plot, but allows for better comparison of distribution of each variable."
   ]
  },
  {
   "cell_type": "code",
   "execution_count": null,
   "id": "ea86b701",
   "metadata": {},
   "outputs": [],
   "source": [
    "sns.violinplot(data=insuranceDF, x=\"region\", y=\"charges\", hue=\"sex\")\n",
    "plt.show();"
   ]
  },
  {
   "cell_type": "markdown",
   "id": "0e5b7ab9",
   "metadata": {},
   "source": [
    "## Plots to Depict Relationships"
   ]
  },
  {
   "cell_type": "markdown",
   "id": "a403669f",
   "metadata": {},
   "source": [
    "A line plot is used to depict relationships between pairs of numerical variables."
   ]
  },
  {
   "cell_type": "code",
   "execution_count": null,
   "id": "31231cfb",
   "metadata": {},
   "outputs": [],
   "source": [
    "# Calculate the mean charge by age.\n",
    "meanChargeByAgeDF = (insuranceDF.groupby(\"age\").agg(\"mean\")\n",
    "                                .reset_index()[[\"age\", \"charges\"]]\n",
    "                                .rename(columns={\"charges\": \"mean charges\"}))\n",
    "\n",
    "sns.lineplot(data=meanChargeByAgeDF, x=\"age\", y=\"mean charges\")\n",
    "plt.show();"
   ]
  },
  {
   "cell_type": "code",
   "execution_count": null,
   "id": "8ffb7937",
   "metadata": {},
   "outputs": [],
   "source": [
    "# Calculate the mean charge by age and sex.\n",
    "meanChargeByAgeSexDF = (insuranceDF.groupby([\"age\", \"sex\"]).agg(\"mean\")\n",
    "                                   .reset_index()[[\"age\", \"sex\", \"charges\"]]\n",
    "                                   .rename(columns={\"charges\": \"mean charges\"}))\n",
    "\n",
    "sns.lineplot(data=meanChargeByAgeSexDF, x=\"age\", y=\"mean charges\", hue=\"sex\")\n",
    "plt.show();"
   ]
  },
  {
   "cell_type": "markdown",
   "id": "fef33731",
   "metadata": {},
   "source": [
    "A scatter plot is another method to depict relationships between pairs of numerical variables. Generally speaking, a scatter plot is a better choice for visualization compared to line plots."
   ]
  },
  {
   "cell_type": "code",
   "execution_count": null,
   "id": "53088f26",
   "metadata": {},
   "outputs": [],
   "source": [
    "sns.scatterplot(data=meanChargeByAgeDF, x=\"age\", y=\"mean charges\")\n",
    "plt.show();"
   ]
  },
  {
   "cell_type": "code",
   "execution_count": null,
   "id": "08abf4b3",
   "metadata": {},
   "outputs": [],
   "source": [
    "sns.scatterplot(data=meanChargeByAgeSexDF, x=\"age\", y=\"mean charges\", hue=\"sex\")\n",
    "plt.show();"
   ]
  },
  {
   "cell_type": "markdown",
   "id": "de3e9958",
   "metadata": {},
   "source": [
    "For more information, check the following:\n",
    "- User Guide (Seaborn): https://seaborn.pydata.org/tutorial.html\n",
    "- User Guide (Matplotlib): https://matplotlib.org/stable/tutorials/index\n",
    "- API Reference (Seaborn): https://seaborn.pydata.org/api.html\n",
    "- API Reference (Matplotlib): https://matplotlib.org/stable/api/index.html\n",
    "- Examples (Seaborn): https://seaborn.pydata.org/examples/index.html\n",
    "- Examples (Matplotlib): https://matplotlib.org/stable/gallery/index.html"
   ]
  },
  {
   "cell_type": "markdown",
   "id": "79094738",
   "metadata": {},
   "source": [
    "## Plot Transformations"
   ]
  },
  {
   "cell_type": "markdown",
   "id": "168fe228",
   "metadata": {},
   "source": [
    "There might be times when the plots need to be mathematically manipulated (or transformed) in order to generate a more meaningful plot. A commonly used plot transformation is a log transformation on one (or both) of the axis."
   ]
  },
  {
   "cell_type": "code",
   "execution_count": null,
   "id": "eaa24792",
   "metadata": {},
   "outputs": [],
   "source": [
    "# Log transform the insurance charges.\n",
    "insuranceDF['log charges'] = np.log(insuranceDF['charges'])\n",
    "\n",
    "# Creates the two plots side by side.\n",
    "fig, ax = plt.subplots(1, 2, figsize=(20,8))\n",
    "sns.histplot(data=insuranceDF, x=\"charges\", binwidth=1000, ax=ax[0])\n",
    "sns.histplot(data=insuranceDF, x=\"log charges\", binwidth=.1, ax=ax[1])\n",
    "plt.show();"
   ]
  },
  {
   "cell_type": "markdown",
   "id": "95ce1eec",
   "metadata": {},
   "source": [
    "By log transforming the insurance charges, we have made the distribution much more symmetric/normalized than before."
   ]
  },
  {
   "cell_type": "markdown",
   "id": "ba9c6a56",
   "metadata": {},
   "source": [
    "Similarly, log transformation can be used to change the shape of the scatter plot."
   ]
  },
  {
   "cell_type": "code",
   "execution_count": null,
   "id": "49ca38a6",
   "metadata": {},
   "outputs": [],
   "source": [
    "# Creates the two plots side by side.\n",
    "fig, ax = plt.subplots(1, 2, figsize=(20,8))\n",
    "sns.scatterplot(data=insuranceDF, x=\"bmi\", y=\"charges\", ax=ax[0])\n",
    "sns.scatterplot(data=insuranceDF, x=\"bmi\", y=\"log charges\", ax=ax[1])\n",
    "plt.show();"
   ]
  },
  {
   "cell_type": "markdown",
   "id": "afa1e953",
   "metadata": {},
   "source": [
    "**Source:**\n",
    "\n",
    "\n",
    "Module adapted from Kaggle: https://www.kaggle.com/code/mariapushkareva/medical-insurance-cost-with-linear-regression/notebook\n",
    "\n",
    "Dataset source: https://github.com/stedy/Machine-Learning-with-R-datasets"
   ]
  }
 ],
 "metadata": {
  "kernelspec": {
   "display_name": "Python 3 (ipykernel)",
   "language": "python",
   "name": "python3"
  },
  "language_info": {
   "codemirror_mode": {
    "name": "ipython",
    "version": 3
   },
   "file_extension": ".py",
   "mimetype": "text/x-python",
   "name": "python",
   "nbconvert_exporter": "python",
   "pygments_lexer": "ipython3",
   "version": "3.9.16"
  }
 },
 "nbformat": 4,
 "nbformat_minor": 5
}
