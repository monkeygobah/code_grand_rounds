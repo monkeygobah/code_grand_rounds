{
 "cells": [
  {
   "attachments": {},
   "cell_type": "markdown",
   "metadata": {},
   "source": [
    "# **Welcome to the Data Science 1 Project!**\n"
   ]
  },
  {
   "attachments": {},
   "cell_type": "markdown",
   "metadata": {},
   "source": [
    "## `Data is there for learning, not for inspection! `\n",
    "### `-Dr. Lily Peng MD PhD  `\n"
   ]
  },
  {
   "attachments": {},
   "cell_type": "markdown",
   "metadata": {},
   "source": [
    "### Here we will be embarking on doing a data science from start to finish encompassing data exploration, hypothesis testing, statistics, and model building to make predictions from our data. We will be using an open source heart disease dataset (https://www.kaggle.com/datasets/mirzahasnine/heart-disease-dataset)"
   ]
  },
  {
   "attachments": {},
   "cell_type": "markdown",
   "metadata": {},
   "source": [
    "### Our ultimate goal will be to build a model that can predict heart disease from the data using a logistic regression. Before we get to that point, however, we will look at the dataset in depth and introduce many of the tools and tricks that are available and widely used in Python to do data science from start to finish"
   ]
  },
  {
   "attachments": {},
   "cell_type": "markdown",
   "metadata": {},
   "source": [
    "### There is lots covered here, and we really only scratch the surface in terms of how deep you can go with some of this stuff. That said, if you go through this and really make an effort to understand the flow and the techniques you will be in a good position to derive new insights from your own data. Just make sure to always consult with an expert or true statistician when unsure (or even when you think you're sure) as there is a lot of nuance in data science making it as much of an art as a science, and you want to avoid pitfalls!"
   ]
  },
  {
   "attachments": {},
   "cell_type": "markdown",
   "metadata": {},
   "source": [
    "### Lets dive in"
   ]
  }
 ],
 "metadata": {
  "language_info": {
   "name": "python"
  },
  "orig_nbformat": 4
 },
 "nbformat": 4,
 "nbformat_minor": 2
}
