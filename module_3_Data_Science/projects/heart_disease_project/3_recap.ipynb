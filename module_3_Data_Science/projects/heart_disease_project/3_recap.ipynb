{
 "cells": [
  {
   "cell_type": "markdown",
   "metadata": {},
   "source": [
    "## Add Markdown to recap results so far."
   ]
  },
  {
   "cell_type": "markdown",
   "metadata": {},
   "source": [
    "## Build this out more and introduce regressinos to come"
   ]
  },
  {
   "cell_type": "markdown",
   "metadata": {},
   "source": [
    "## 1. Saw a strong correlation between a few variables in our heatmap\n",
    "## 2. Plotted numerous relationships nicely to see the distributions of our data\n",
    "- ### pairwise plot\n",
    "- ### box plot gender age broken down by age\n",
    "- ### violin plot for total cholesterol broken down by heart stroke\n",
    "## 3. Significant difference between age of people with and without heart stroke (t-test)\n",
    "## 4. Significant difference in BMI of smokers and non smokers (t-test)\n",
    "## 5. No significant difference in cholesterol levels of people with different educational backgrounds (Anova)\n",
    "## 6. Significant difference in BMI when breaking individuals into groups based on systolic blood pressure (Anova)\n",
    "- ### Tukeys post hoc analysis applied to figure out which groups differ from each other\n",
    "## 7. Significant association between gender and heart stroke (chi squared)\n",
    "- ### Fischer exact also performed, but not the appropriate test to use due to sample size\n",
    "\n"
   ]
  },
  {
   "cell_type": "markdown",
   "metadata": {},
   "source": []
  }
 ],
 "metadata": {
  "language_info": {
   "name": "python"
  },
  "orig_nbformat": 4
 },
 "nbformat": 4,
 "nbformat_minor": 2
}
