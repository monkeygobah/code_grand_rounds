{
 "cells": [
  {
   "attachments": {},
   "cell_type": "markdown",
   "metadata": {},
   "source": [
    "\n",
    "\n",
    "# **IDK maybe we dont even need this it is kind of redundant**\n",
    "\n",
    "### **Build this out more and introduce regressinos to come and summarize the key findings and explain why we did what we did and where we want to go now**"
   ]
  },
  {
   "attachments": {},
   "cell_type": "markdown",
   "metadata": {},
   "source": [
    "### 1. Saw a strong correlation between a few variables in our heatmap\n",
    "### 2. Plotted numerous relationships nicely to see the distributions of our data\n",
    "- #### Pairwise plot- inspect linear relationships\n",
    "- #### Box plot gender age broken down by age\n",
    "- #### violin plot for total cholesterol broken down by heart stroke\n",
    "### 3. Significant difference between age of people with and without heart stroke (t-test)\n",
    "### 4. Significant difference between cholesterol levels of people with and without heart stroke (t-test)\n",
    "### 5. No significant difference in cholesterol levels of people with different educational backgrounds (Anova)\n",
    "###\n",
    "#### Tukeys post hoc analysis applied to figure out which groups differ from each other\n",
    "### 7. Significant association between gender and heart stroke (chi squared)\n",
    "- #### Fischer exact also performed, but not the appropriate test to use due to sample size\n",
    "\n"
   ]
  },
  {
   "cell_type": "markdown",
   "metadata": {},
   "source": []
  }
 ],
 "metadata": {
  "language_info": {
   "name": "python"
  },
  "orig_nbformat": 4
 },
 "nbformat": 4,
 "nbformat_minor": 2
}
