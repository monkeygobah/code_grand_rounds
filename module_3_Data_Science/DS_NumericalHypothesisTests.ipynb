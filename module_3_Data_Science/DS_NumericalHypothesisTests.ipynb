{
 "cells": [
  {
   "cell_type": "markdown",
   "id": "942ef03d",
   "metadata": {},
   "source": [
    "# Coding Applications in Medicine: Data Science - Numerical Hypothesis Tests"
   ]
  },
  {
   "cell_type": "markdown",
   "id": "12561f95",
   "metadata": {},
   "source": [
    "There are two basic hypothesis test to compare numerical variables, t-test and ANOVA. Recall that means are commonly used to compare numerical variables."
   ]
  },
  {
   "cell_type": "code",
   "execution_count": null,
   "id": "90afc037",
   "metadata": {},
   "outputs": [],
   "source": [
    "import numpy as np\n",
    "import matplotlib.pyplot as plt\n",
    "import pandas as pd\n",
    "import seaborn as sns\n",
    "\n",
    "from scipy.stats import ttest_ind\n",
    "from scipy.stats import f_oneway"
   ]
  },
  {
   "cell_type": "code",
   "execution_count": null,
   "id": "3ff17d1e",
   "metadata": {},
   "outputs": [],
   "source": [
    "# Load the insurance data.\n",
    "insuranceDF = pd.read_csv(\"data/insurance.csv\")\n",
    "insuranceDF"
   ]
  },
  {
   "cell_type": "markdown",
   "id": "d563b0c2",
   "metadata": {},
   "source": [
    "## T-Test"
   ]
  },
  {
   "cell_type": "markdown",
   "id": "d16339c8",
   "metadata": {},
   "source": [
    "The t-test is used to check for differences in population mean between two groups. \n",
    "\n",
    "In the following example, we will examine the differences in medical insurance charges based on whether an individual is a smoker or nonsmoker."
   ]
  },
  {
   "cell_type": "code",
   "execution_count": null,
   "id": "713bb507",
   "metadata": {},
   "outputs": [],
   "source": [
    "# Graph of the data.\n",
    "sns.histplot(data=insuranceDF, x=\"charges\", hue=\"smoker\", binwidth=1000, kde=True)\n",
    "plt.show();"
   ]
  },
  {
   "cell_type": "code",
   "execution_count": null,
   "id": "c507125f",
   "metadata": {},
   "outputs": [],
   "source": [
    "# Another graph of the data.\n",
    "sns.boxplot(data=insuranceDF, x=\"smoker\", y=\"charges\")\n",
    "plt.show();"
   ]
  },
  {
   "cell_type": "code",
   "execution_count": null,
   "id": "8a240eb3",
   "metadata": {},
   "outputs": [],
   "source": [
    "# Stratification by smoker/non-smoker.\n",
    "smokerGroup = insuranceDF[insuranceDF[\"smoker\"]==\"yes\"]\n",
    "nonsmokerGroup = insuranceDF[insuranceDF[\"smoker\"]==\"no\"]\n",
    "\n",
    "# T-test analysis.\n",
    "ttest_ind(smokerGroup[\"charges\"], nonsmokerGroup[\"charges\"])"
   ]
  },
  {
   "cell_type": "markdown",
   "id": "b003fb7d",
   "metadata": {},
   "source": [
    "## ANOVA"
   ]
  },
  {
   "cell_type": "markdown",
   "id": "45552aaf",
   "metadata": {},
   "source": [
    "The t-test is used to check for differences in population mean between three or more groups. \n",
    "\n",
    "In the following example, we will examine the differences in medical insurance charges based on whether an individual is a young adult, middle-aged, or an elderly."
   ]
  },
  {
   "cell_type": "code",
   "execution_count": null,
   "id": "93f91f6f",
   "metadata": {},
   "outputs": [],
   "source": [
    "# Create the age grouping column.\n",
    "insuranceByAgeDF = insuranceDF[[\"age\", \"charges\"]].copy()\n",
    "\n",
    "def ageCategory(age):\n",
    "    if age < 40:\n",
    "        return \"Young\"\n",
    "    elif age >= 60:\n",
    "        return \"Old\"\n",
    "    return \"Middle\"\n",
    "\n",
    "insuranceByAgeDF[\"Age Grouping\"] = insuranceDF[\"age\"].apply(ageCategory)\n",
    "insuranceByAgeDF"
   ]
  },
  {
   "cell_type": "code",
   "execution_count": null,
   "id": "56569242",
   "metadata": {},
   "outputs": [],
   "source": [
    "# Graph of the data.\n",
    "sns.histplot(data=insuranceByAgeDF, x=\"charges\", hue=\"Age Grouping\", binwidth=1000, kde=True)\n",
    "plt.show();"
   ]
  },
  {
   "cell_type": "code",
   "execution_count": null,
   "id": "37a0dc08",
   "metadata": {},
   "outputs": [],
   "source": [
    "# Another graph of the data.\n",
    "sns.boxplot(data=insuranceByAgeDF, x=\"Age Grouping\", y=\"charges\")\n",
    "plt.show();"
   ]
  },
  {
   "cell_type": "code",
   "execution_count": null,
   "id": "7aa081ef",
   "metadata": {},
   "outputs": [],
   "source": [
    "# Create separate dataframes for each grouping.\n",
    "insuranceByAgeDF = insuranceDF[[\"age\", \"charges\"]].copy()\n",
    "\n",
    "insuranceYoungAgeDF = insuranceByAgeDF[insuranceByAgeDF[\"age\"] < 40]\n",
    "insuranceMiddleAgeDF = insuranceByAgeDF[(insuranceByAgeDF[\"age\"] >= 40) & \n",
    "                                  For more information, check the following:\n",
    "- User Guide: https://docs.scipy.org/doc/scipy/tutorial/stats.html\n",
    "- API Reference: https://docs.scipy.org/doc/scipy/reference/stats.html                     (insuranceByAgeDF[\"age\"] < 60)]\n",
    "insuranceOldAgeDF = insuranceByAgeDF[insuranceByAgeDF[\"age\"] >= 60]\n",
    "\n",
    "# ANOVA Test.\n",
    "f_oneway(insuranceYoungAgeDF[\"charges\"], \n",
    "         insuranceMiddleAgeDF[\"charges\"], \n",
    "         insuranceOldAgeDF[\"charges\"])"
   ]
  },
  {
   "cell_type": "markdown",
   "id": "a7b2c108",
   "metadata": {},
   "source": [
    "For more information, check the following:\n",
    "- User Guide: https://docs.scipy.org/doc/scipy/tutorial/stats.html\n",
    "- API Reference: https://docs.scipy.org/doc/scipy/reference/stats.html"
   ]
  },
  {
   "cell_type": "markdown",
   "id": "afa1e953",
   "metadata": {},
   "source": [
    "**Source:**\n",
    "\n",
    "\n",
    "Module adapted from Kaggle: https://www.kaggle.com/code/mariapushkareva/medical-insurance-cost-with-linear-regression/notebook\n",
    "\n",
    "Dataset source: https://github.com/stedy/Machine-Learning-with-R-datasets"
   ]
  }
 ],
 "metadata": {
  "kernelspec": {
   "display_name": "Python 3 (ipykernel)",
   "language": "python",
   "name": "python3"
  },
  "language_info": {
   "codemirror_mode": {
    "name": "ipython",
    "version": 3
   },
   "file_extension": ".py",
   "mimetype": "text/x-python",
   "name": "python",
   "nbconvert_exporter": "python",
   "pygments_lexer": "ipython3",
   "version": "3.9.16"
  }
 },
 "nbformat": 4,
 "nbformat_minor": 5
}
