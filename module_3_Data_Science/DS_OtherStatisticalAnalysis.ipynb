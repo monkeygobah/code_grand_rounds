{
 "cells": [
  {
   "cell_type": "markdown",
   "id": "6f760e8a",
   "metadata": {},
   "source": [
    "# Coding Applications in Medicine: Data Science - Other Statistical Analysis"
   ]
  },
  {
   "cell_type": "code",
   "execution_count": null,
   "id": "f56bc2eb",
   "metadata": {},
   "outputs": [],
   "source": [
    "import numpy as np\n",
    "import matplotlib.pyplot as plt\n",
    "import pandas as pd\n",
    "import seaborn as sns\n",
    "\n",
    "from scipy.stats import pearsonr\n",
    "from scipy.stats.contingency import odds_ratio\n",
    "from scipy.stats.contingency import relative_risk"
   ]
  },
  {
   "cell_type": "code",
   "execution_count": null,
   "id": "505a9cfc",
   "metadata": {},
   "outputs": [],
   "source": [
    "# Load the insurance data.\n",
    "insuranceDF = pd.read_csv(\"data/insurance.csv\")\n",
    "insuranceDF"
   ]
  },
  {
   "cell_type": "markdown",
   "id": "d3f2aee8",
   "metadata": {},
   "source": [
    "## Odds Ratio"
   ]
  },
  {
   "cell_type": "markdown",
   "id": "2053194f",
   "metadata": {},
   "source": [
    "The odds ratios are typically used in case-control studies. \n",
    "\n",
    "Suppose we are examining a group of individuals to see if individuals who smoke are more likely to be a male. (Start with smokers/nonsmokers and looking back to compare the frequency of male/female)."
   ]
  },
  {
   "cell_type": "code",
   "execution_count": null,
   "id": "1d03b048",
   "metadata": {},
   "outputs": [],
   "source": [
    "# Create the contingency table.\n",
    "smokerBySexDF = insuranceDF[[\"sex\", \"smoker\"]].copy()\n",
    "smokerBySexDF[\"is male\"] = (smokerBySexDF[\"sex\"] == \"male\").astype(int)\n",
    "smokerBySexContingency = pd.crosstab(smokerBySexDF[\"is male\"], smokerBySexDF[\"smoker\"])\n",
    "\n",
    "smokerBySexContingency"
   ]
  },
  {
   "cell_type": "code",
   "execution_count": null,
   "id": "90e3640f",
   "metadata": {},
   "outputs": [],
   "source": [
    "# Odds Ratio.\n",
    "smokerBySexOddsRatio = odds_ratio(smokerBySexContingency)\n",
    "smokerBySexOddsRatio"
   ]
  },
  {
   "cell_type": "code",
   "execution_count": null,
   "id": "e6c3570f",
   "metadata": {},
   "outputs": [],
   "source": [
    "# Confidence Interval (95%).\n",
    "smokerBySexOddsRatio.confidence_interval(0.95)"
   ]
  },
  {
   "cell_type": "markdown",
   "id": "07738630",
   "metadata": {},
   "source": [
    "## Relative Risk"
   ]
  },
  {
   "cell_type": "markdown",
   "id": "a0c03387",
   "metadata": {},
   "source": [
    "The relative risks are typically used in cohort studies. \n",
    "\n",
    "Suppose we are examining a group of individuals at a given time to see if smoking increases the risk for a high medical insurance charge. (Start with smoking/nonsmoking and looking forward to compare the insurance charges)."
   ]
  },
  {
   "cell_type": "code",
   "execution_count": null,
   "id": "2c34b0f9",
   "metadata": {},
   "outputs": [],
   "source": [
    "# Create the contingency table.\n",
    "chargeBySmokerDF = insuranceDF[[\"age\", \"charges\"]].copy()\n",
    "chargeBySmokerDF[\"is old\"] = (chargeBySmokerDF[\"age\"] >= 50).astype(int)\n",
    "chargeBySmokerDF[\"high charge\"] = (chargeBySmokerDF[\"charges\"] > 10000)\n",
    "\n",
    "\n",
    "chargeBySmokerContingency = pd.crosstab(chargeBySmokerDF[\"is old\"], chargeBySmokerDF[\"high charge\"])\n",
    "\n",
    "chargeBySmokerContingency"
   ]
  },
  {
   "cell_type": "code",
   "execution_count": null,
   "id": "1087a94e",
   "metadata": {},
   "outputs": [],
   "source": [
    "# Unfortunately, the relative risk function does not take a contingency table as in input.\n",
    "exposed_cases = chargeBySmokerContingency[True][1]\n",
    "exposed_total = chargeBySmokerContingency.sum(axis=1)[1]\n",
    "control_cases = chargeBySmokerContingency[True][0]\n",
    "control_total = chargeBySmokerContingency.sum(axis=1)[0]"
   ]
  },
  {
   "cell_type": "code",
   "execution_count": null,
   "id": "e7362927",
   "metadata": {},
   "outputs": [],
   "source": [
    "# Relative Risk.\n",
    "chargeBySmokerRelRisk = relative_risk(exposed_cases, exposed_total, control_cases, control_total)\n",
    "chargeBySmokerRelRisk"
   ]
  },
  {
   "cell_type": "code",
   "execution_count": null,
   "id": "81cfe8fc",
   "metadata": {},
   "outputs": [],
   "source": [
    "# Confidence Interval (95%).\n",
    "chargeBySmokerRelRisk.confidence_interval(0.95)"
   ]
  },
  {
   "cell_type": "markdown",
   "id": "7b07ba45",
   "metadata": {},
   "source": [
    "## Pearson Correlation Coefficient"
   ]
  },
  {
   "cell_type": "markdown",
   "id": "6fa469d2",
   "metadata": {},
   "source": [
    "Recall that the Pearson correlation coefficient is used to check for linear correlation between two variables.\n",
    "\n",
    "In the following example, we will examine the correlation between bmi and the medical insurance charges."
   ]
  },
  {
   "cell_type": "code",
   "execution_count": null,
   "id": "59f72e11",
   "metadata": {},
   "outputs": [],
   "source": [
    "# Graph of the data.\n",
    "sns.scatterplot(data=insuranceDF, x=\"bmi\", y=\"charges\")\n",
    "plt.show();"
   ]
  },
  {
   "cell_type": "code",
   "execution_count": null,
   "id": "07ae6d6c",
   "metadata": {},
   "outputs": [],
   "source": [
    "# Pearson correlation coefficient.\n",
    "insuranceChargeBmiPearsonR = pearsonr(insuranceDF[\"bmi\"], \n",
    "                                             insuranceDF[\"charges\"])\n",
    "insuranceChargeBmiPearsonR"
   ]
  },
  {
   "cell_type": "code",
   "execution_count": null,
   "id": "ca1371af",
   "metadata": {},
   "outputs": [],
   "source": [
    "# Confidence Interval (95%).\n",
    "insuranceChargeBmiPearsonR.confidence_interval(0.95)"
   ]
  },
  {
   "cell_type": "markdown",
   "id": "01debf71",
   "metadata": {},
   "source": [
    "For more information, check the following:\n",
    "- User Guide: https://docs.scipy.org/doc/scipy/tutorial/stats.html\n",
    "- API Reference: https://docs.scipy.org/doc/scipy/reference/stats.html"
   ]
  },
  {
   "cell_type": "markdown",
   "id": "afa1e953",
   "metadata": {},
   "source": [
    "**Source:**\n",
    "\n",
    "\n",
    "Module adapted from Kaggle: https://www.kaggle.com/code/mariapushkareva/medical-insurance-cost-with-linear-regression/notebook\n",
    "\n",
    "Dataset source: https://github.com/stedy/Machine-Learning-with-R-datasets"
   ]
  }
 ],
 "metadata": {
  "kernelspec": {
   "display_name": "Python 3 (ipykernel)",
   "language": "python",
   "name": "python3"
  },
  "language_info": {
   "codemirror_mode": {
    "name": "ipython",
    "version": 3
   },
   "file_extension": ".py",
   "mimetype": "text/x-python",
   "name": "python",
   "nbconvert_exporter": "python",
   "pygments_lexer": "ipython3",
   "version": "3.9.16"
  }
 },
 "nbformat": 4,
 "nbformat_minor": 5
}
