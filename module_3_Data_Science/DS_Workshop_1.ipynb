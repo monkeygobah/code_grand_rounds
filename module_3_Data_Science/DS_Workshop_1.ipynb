{
 "cells": [
  {
   "cell_type": "markdown",
   "id": "a473a0be",
   "metadata": {},
   "source": [
    "# Coding Applications in Medicine: Data Science - Part 1"
   ]
  },
  {
   "cell_type": "markdown",
   "id": "afa1e953",
   "metadata": {},
   "source": [
    "Module adapted from Kaggle: https://www.kaggle.com/code/mariapushkareva/medical-insurance-cost-with-linear-regression/notebook\n",
    "\n",
    "Dataset source: https://github.com/stedy/Machine-Learning-with-R-datasets"
   ]
  },
  {
   "cell_type": "markdown",
   "id": "227153a6",
   "metadata": {},
   "source": [
    "## Introduction"
   ]
  },
  {
   "cell_type": "markdown",
   "id": "e732759e",
   "metadata": {},
   "source": [
    "Data Science is a multidisciplinary field that integrates computation, math/statistics, and domain knowledge to understand the world and solve problems. \n",
    "\n",
    "The data science lifecycle consists of:\n",
    "1. Question/problem formulation\n",
    "2. Data acquisition and cleaning\n",
    "3. Exploratory data analysis and visualization\n",
    "4. Prediction and inference\n",
    "\n",
    "In this notebook, we will explore a sample data on medical insurance and practice handling data using Pandas."
   ]
  },
  {
   "cell_type": "code",
   "execution_count": null,
   "id": "fcbc47a5",
   "metadata": {},
   "outputs": [],
   "source": [
    "import pandas as pd"
   ]
  },
  {
   "cell_type": "markdown",
   "id": "362574e8",
   "metadata": {},
   "source": [
    "## Pandas Basics "
   ]
  },
  {
   "cell_type": "markdown",
   "id": "c6da228a",
   "metadata": {},
   "source": [
    "After obtaining the data, the first step is to read the data into the Python notebook. We will use the Pandas data structure to store our data and use it for further analysis."
   ]
  },
  {
   "cell_type": "code",
   "execution_count": null,
   "id": "5f12a59a",
   "metadata": {},
   "outputs": [],
   "source": [
    "# Read the csv file into a Pandas data frame\n",
    "insuranceDF= pd.read_csv('data/insurance.csv')\n",
    "\n",
    "# Preview the dataframe (useful to double-checking your work)\n",
    "insuranceDF"
   ]
  },
  {
   "cell_type": "code",
   "execution_count": null,
   "id": "7b5b0f60",
   "metadata": {},
   "outputs": [],
   "source": [
    "# Note: The index can be non-numerical and non-unique\n",
    "\n",
    "# Set the \"sex\" column to be the index\n",
    "insuranceDF.set_index(\"sex\", inplace=True)"
   ]
  },
  {
   "cell_type": "code",
   "execution_count": null,
   "id": "6afd7f0b",
   "metadata": {},
   "outputs": [],
   "source": [
    "# For our usecase, we would like to keep the default index setting\n",
    "insuranceDF.reset_index(inplace=True)\n",
    "insuranceDF"
   ]
  },
  {
   "cell_type": "code",
   "execution_count": null,
   "id": "757c7fe6",
   "metadata": {},
   "outputs": [],
   "source": [
    "# Use loc to select rows/columns by label name\n",
    "\n",
    "# View the information for person number 5 to 10 (inclusive)\n",
    "insuranceDF.loc[5:10]"
   ]
  },
  {
   "cell_type": "code",
   "execution_count": null,
   "id": "dba2594a",
   "metadata": {},
   "outputs": [],
   "source": [
    "# View only the demographic information for person number 5 to 10 (inclusive)\n",
    "insuranceDF.loc[5:10, \"sex\":\"region\"]"
   ]
  },
  {
   "cell_type": "code",
   "execution_count": null,
   "id": "6dc2c465",
   "metadata": {},
   "outputs": [],
   "source": [
    "# View only the sex, bmi, and smoker information for everyone\n",
    "insuranceDF.loc[:, [\"sex\", \"bmi\", \"smoker\"]]"
   ]
  },
  {
   "cell_type": "code",
   "execution_count": null,
   "id": "6c2f9a14",
   "metadata": {},
   "outputs": [],
   "source": [
    "# Pandas can also use iloc to select rows/columns by number\n",
    "# Note: Counting start with 0 and the end is not inclusive\n",
    "\n",
    "# View only the sex, bmi, and smoker information for the 5th to 10th person (inclusive)\n",
    "insuranceDF.iloc[4:10, [0, 2, 4]]"
   ]
  },
  {
   "cell_type": "code",
   "execution_count": null,
   "id": "5d6c913f",
   "metadata": {},
   "outputs": [],
   "source": [
    "# Determine if the person is female for everyone\n",
    "\n",
    "# Note: The [] operator is the same as the loc operator\n",
    "insuranceDF[\"sex\"] == \"female\" \n",
    "\n",
    "# This is the same as \n",
    "# insuranceDF.loc[:, \"sex\"] == \"female\""
   ]
  },
  {
   "cell_type": "code",
   "execution_count": null,
   "id": "5c0df5bb",
   "metadata": {},
   "outputs": [],
   "source": [
    "# Filter out our existing dataframe to include only the first 10 smokers on the list\n",
    "insuranceDF.loc[insuranceDF[\"smoker\"] == \"yes\"].head(10)\n",
    "\n",
    "# This is the same as\n",
    "# insuranceDF.loc[insuranceDF[\"smoker\"] == \"yes\"].iloc[:10]"
   ]
  },
  {
   "cell_type": "code",
   "execution_count": null,
   "id": "02b99821",
   "metadata": {},
   "outputs": [],
   "source": [
    "# Statistics that is reported by default for dataframes\n",
    "insuranceDF.describe()"
   ]
  },
  {
   "cell_type": "code",
   "execution_count": null,
   "id": "437c1fb3",
   "metadata": {},
   "outputs": [],
   "source": [
    "# Statistics that is reported by default for series (numerical)\n",
    "insuranceDF[\"bmi\"].describe()"
   ]
  },
  {
   "cell_type": "code",
   "execution_count": null,
   "id": "62bf0930",
   "metadata": {},
   "outputs": [],
   "source": [
    "# Statistics that is reported by default for series (non-numerical)\n",
    "insuranceDF[\"smoker\"].describe()"
   ]
  },
  {
   "cell_type": "code",
   "execution_count": null,
   "id": "4092f189",
   "metadata": {},
   "outputs": [],
   "source": [
    "# Obtain the demographics of the 10 people with the lowest insurance charges\n",
    "insuranceDF.sort_values(\"charges\", ascending=True).head(10)"
   ]
  },
  {
   "cell_type": "code",
   "execution_count": null,
   "id": "3aed06a8",
   "metadata": {},
   "outputs": [],
   "source": [
    "# Add a column named \"parent\" that determines whether a given person is a parent given the number of children they have.\n",
    "\n",
    "def isParent(children):\n",
    "    if children > 0:\n",
    "        return \"yes\"\n",
    "    else:\n",
    "        return \"no\"\n",
    "\n",
    "insuranceDF[\"parent\"] = insuranceDF[\"children\"].apply(isParent)\n",
    "insuranceDF"
   ]
  },
  {
   "cell_type": "code",
   "execution_count": null,
   "id": "161d1b46",
   "metadata": {},
   "outputs": [],
   "source": [
    "# Drop the newly created \"parent\" column\n",
    "insuranceDF = insuranceDF.drop(\"parent\", axis=\"columns\")\n",
    "insuranceDF"
   ]
  },
  {
   "cell_type": "code",
   "execution_count": null,
   "id": "2899d2e1",
   "metadata": {},
   "outputs": [],
   "source": [
    "# Group all the people by region, aggregate by median value\n",
    "insuranceDF.groupby(\"region\").agg('median')"
   ]
  },
  {
   "cell_type": "code",
   "execution_count": null,
   "id": "0246fa21",
   "metadata": {},
   "outputs": [],
   "source": [
    "# Keep only regions where the mean BMI is greater than 30\n",
    "\n",
    "def isHighMeanBMI(df):\n",
    "    return df['bmi'].mean() > 30\n",
    "\n",
    "insuranceDF.groupby(\"region\").filter(isHighMeanBMI)"
   ]
  },
  {
   "cell_type": "markdown",
   "id": "3abed9fd",
   "metadata": {},
   "source": [
    "We have shown some of the most commonly used pandas operations/functions, but we have barely scratched the surface! To learn more about all the other existing pandas functions, go to https://pandas.pydata.org/ for the user guide and API reference."
   ]
  },
  {
   "cell_type": "markdown",
   "id": "757223af",
   "metadata": {},
   "source": [
    "## Text Wrangling and Regex Basics"
   ]
  },
  {
   "cell_type": "markdown",
   "id": "7b1c7576",
   "metadata": {},
   "source": [
    "As you may have already noticed, there are many different forms of data, including numerical, boolean (true or false), text, etc. In general, textual data may need to be manipulated and/or clean-up in order to be useful in later analysis.\n",
    "\n",
    "The following section will show ways to manipulate strings (textual data) on Pandas series. This can be applied "
   ]
  },
  {
   "cell_type": "code",
   "execution_count": null,
   "id": "37684bbf",
   "metadata": {},
   "outputs": [],
   "source": [
    "# Change the text for the \"region\" column to be upper case and append the word \"region\" at the end\n",
    "insuranceDF[\"region\"] = insuranceDF[\"region\"].str.upper() + \" region\""
   ]
  },
  {
   "cell_type": "code",
   "execution_count": null,
   "id": "bbefbf90",
   "metadata": {},
   "outputs": [],
   "source": [
    "# Replace the space character with the hyphen character for the \"region\" column\n",
    "insuranceDF[\"region\"] = insuranceDF[\"region\"].str.replace(' ', '-')\n",
    "insuranceDF"
   ]
  },
  {
   "cell_type": "code",
   "execution_count": null,
   "id": "b5173551",
   "metadata": {},
   "outputs": [],
   "source": [
    "# Split the \"region\" column by the hypen character and take only the first element of the result\n",
    "insuranceDF[\"region\"] = insuranceDF[\"region\"].str.split('-').str[0]\n",
    "insuranceDF"
   ]
  },
  {
   "cell_type": "code",
   "execution_count": null,
   "id": "a1b36afe",
   "metadata": {},
   "outputs": [],
   "source": [
    "# Take the first character from the \"sex\" column to convert it to upper case\n",
    "insuranceDF[\"sex\"] = insuranceDF[\"sex\"].str[0:1].str.upper()\n",
    "insuranceDF"
   ]
  },
  {
   "cell_type": "code",
   "execution_count": null,
   "id": "8cb556f3",
   "metadata": {},
   "outputs": [],
   "source": [
    "# Check if the region is in the north\n",
    "insuranceDF[\"In North Region\"] = insuranceDF[\"region\"].str.contains(\"NORTH\")\n",
    "insuranceDF"
   ]
  },
  {
   "cell_type": "code",
   "execution_count": null,
   "id": "bbeabb42",
   "metadata": {},
   "outputs": [],
   "source": [
    "# Check the length of the string of the \"smoker\" column\n",
    "insuranceDF[\"smoker.len\"] = insuranceDF[\"smoker\"].str.len()\n",
    "insuranceDF"
   ]
  },
  {
   "cell_type": "markdown",
   "id": "4d0080fb",
   "metadata": {},
   "source": [
    "Regex (regular expression) describes a sequence of characters that specifies a search pattern. Regex is a powerful way to search of specific patterns within text when done correctly, but can be quite complex/confusing. \n",
    "\n",
    "\n",
    "For more information: https://docs.python.org/3/howto/regex.html\n",
    "\n",
    "Website to check/test your regex expression: https://regex101.com"
   ]
  },
  {
   "cell_type": "code",
   "execution_count": null,
   "id": "d99aa0fe",
   "metadata": {},
   "outputs": [],
   "source": [
    "# Pattern: \n",
    "# - First character is 'S'\n",
    "# - Followed by any characters exactly two times\n",
    "# - Followed by any character that is not 'a' to 'z' at least once\n",
    "# - Followed by any word character zero times or more\n",
    "# - Followed by 'T'\n",
    "pattern = r\"S.{2}[^a-z]+\\w*T\"\n",
    "\n",
    "# Find all matches to the above pattern within the 'region' column\n",
    "insuranceDF[\"region\"].str.findall(pattern)"
   ]
  },
  {
   "cell_type": "code",
   "execution_count": null,
   "id": "2899597f",
   "metadata": {},
   "outputs": [],
   "source": []
  }
 ],
 "metadata": {
  "kernelspec": {
   "display_name": "Python 3 (ipykernel)",
   "language": "python",
   "name": "python3"
  },
  "language_info": {
   "codemirror_mode": {
    "name": "ipython",
    "version": 3
   },
   "file_extension": ".py",
   "mimetype": "text/x-python",
   "name": "python",
   "nbconvert_exporter": "python",
   "pygments_lexer": "ipython3",
   "version": "3.9.12"
  }
 },
 "nbformat": 4,
 "nbformat_minor": 5
}
