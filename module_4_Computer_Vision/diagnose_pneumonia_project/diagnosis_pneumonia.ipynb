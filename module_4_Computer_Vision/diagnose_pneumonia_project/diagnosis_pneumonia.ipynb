{
 "cells": [
  {
   "attachments": {},
   "cell_type": "markdown",
   "metadata": {},
   "source": [
    "# **Diagnose Pneumonia**"
   ]
  },
  {
   "attachments": {},
   "cell_type": "markdown",
   "metadata": {},
   "source": [
    "## The goal of this project is, given an initial dataset of chest x rays can we use basic computer vision techniques (thresholding, color conversions, pixel counting, etc.) to try and make a pneumonia classifier algorithm. We will do this experimentally starting from the derivation of an intial threshold classifer to building our complete pipeline."
   ]
  },
  {
   "attachments": {},
   "cell_type": "markdown",
   "metadata": {},
   "source": [
    "### Import relevant packages"
   ]
  },
  {
   "cell_type": "code",
   "execution_count": null,
   "metadata": {},
   "outputs": [],
   "source": [
    "# Here we are going to install all of the packages we need for this notebook\n",
    "!pip install numpy\n",
    "!pip install matplotlib\n",
    "!pip install opencv-python"
   ]
  },
  {
   "cell_type": "code",
   "execution_count": null,
   "metadata": {},
   "outputs": [],
   "source": [
    "import cv2\n",
    "import numpy as np\n",
    "import os\n",
    "from matplotlib import pyplot as plt\n"
   ]
  },
  {
   "cell_type": "markdown",
   "metadata": {},
   "source": [
    "## Derive Initial Threshold Value"
   ]
  },
  {
   "attachments": {},
   "cell_type": "markdown",
   "metadata": {},
   "source": [
    "### Load a single example image of healthy and pneumonia x-ray. We will use this image to see if we can find an appropriate threshold value which nicely identifies the consolidation in the pneumonia x-rays."
   ]
  },
  {
   "cell_type": "code",
   "execution_count": null,
   "metadata": {},
   "outputs": [],
   "source": [
    "# load images from your computer (change path to math where they are stored) \n",
    "healthy_example = cv2.imread('pneumonia_project_images/initial_xrays/healthy_xray.jpeg')\n",
    "pneumonia_example = cv2.imread('pneumonia_project_images/initial_xrays/pneumonia_xray.jpeg')\n",
    "\n",
    "# check to see if rgb or greyscale as well as size of image- can determine if color based on the number of channels (3 for color, 1 for grayscale)\n",
    "# the shape is essentially a 3x3 matrix (in color images) represented as [width x height x channel]\n",
    "print(healthy_example.shape)\n",
    "print(pneumonia_example.shape)"
   ]
  },
  {
   "cell_type": "markdown",
   "metadata": {},
   "source": [
    "### Convert it to grayscale if it is in RGB format"
   ]
  },
  {
   "cell_type": "code",
   "execution_count": null,
   "metadata": {},
   "outputs": [],
   "source": [
    "# Check if images are in RGB format and convert to grayscale if necessary\n",
    "if len(healthy_example.shape) == 3 and healthy_example.shape[2] == 3: # check if the number of channels (.shape[2] == 3 as this would mean it is color image)\n",
    "    healthy_example = cv2.cvtColor(healthy_example, cv2.COLOR_BGR2GRAY) # convert using cv2 if it is color (BGR2GRAY as images are loaded in BGR format from openCV instead of RGB)\n",
    "    print('converting healthy xray to grayscale')\n",
    "    print(healthy_example.shape)\n",
    "\n",
    "# Do the same thing for the pneumonia images\n",
    "if len(pneumonia_example.shape) == 3 and pneumonia_example.shape[2] == 3:\n",
    "    pneumonia_example = cv2.cvtColor(pneumonia_example, cv2.COLOR_BGR2GRAY)\n",
    "    print('converting pneumonia xray to grayscale')\n",
    "    print(pneumonia_example.shape)"
   ]
  },
  {
   "attachments": {},
   "cell_type": "markdown",
   "metadata": {},
   "source": [
    "### Plot the results!"
   ]
  },
  {
   "cell_type": "code",
   "execution_count": null,
   "metadata": {},
   "outputs": [],
   "source": [
    "# show the image, provide window name first\n",
    "# matplotlib applies colormap by default so set colormap (cmap) to grey\n",
    "plt.imshow(healthy_example,cmap='gray')\n",
    "plt.title('Healthy xray')\n",
    "plt.show()\n",
    "\n",
    "plt.imshow(pneumonia_example, cmap='gray')\n",
    "plt.title('Pneumonia xray')\n",
    "plt.show()"
   ]
  },
  {
   "attachments": {},
   "cell_type": "markdown",
   "metadata": {},
   "source": [
    "### These plots are just the example x-rays we loaded and then converted to greyscale. This is just a sanity check to make sure we loaded our data properly!"
   ]
  },
  {
   "attachments": {},
   "cell_type": "markdown",
   "metadata": {},
   "source": [
    "### Lets try a few thresholding operations to see if we can identify the consolidation. We will define a list of thresholds we want to try, and then apply them to every image iteratively to generate a bunch of thresholded images."
   ]
  },
  {
   "cell_type": "code",
   "execution_count": null,
   "metadata": {},
   "outputs": [],
   "source": [
    "# List of thresholds\n",
    "thresholds = [50, 75, 100, 125, 150]\n",
    "\n",
    "# Loop over the thresholds\n",
    "for thresh in thresholds:\n",
    "    # Apply binary thresholding using opencv\n",
    "    # ret is the threhsold value that was used. We dont need to worry about why we have to include it, but you will get a friendly error if you take it out!\n",
    "    ret, healthy_threshold = cv2.threshold(healthy_example, thresh, 255, cv2.THRESH_BINARY)\n",
    "    ret, pneumonia_threshold = cv2.threshold(pneumonia_example, thresh, 255, cv2.THRESH_BINARY)\n",
    "\n",
    "    # Plot the thresholded images using the matplotlib library\n",
    "    # subplot is just a way to show multiple figures on the same plot\n",
    "    plt.figure(figsize=(10, 5))\n",
    "\n",
    "    plt.subplot(1, 2, 1)\n",
    "    plt.imshow(healthy_threshold, cmap='gray')\n",
    "    plt.title('Healthy xray, Threshold =' + str(thresh))\n",
    "\n",
    "    plt.subplot(1, 2, 2)\n",
    "    plt.imshow(pneumonia_threshold, cmap='gray')\n",
    "    plt.title(f'Pneumonia xray, Threshold =' + str(thresh))\n",
    "\n",
    "    plt.tight_layout()\n",
    "    plt.show()"
   ]
  },
  {
   "cell_type": "markdown",
   "metadata": {},
   "source": [
    "## 125 looks like a good value to use! Lets now count the white pixels in each image after applying the threshold"
   ]
  },
  {
   "cell_type": "markdown",
   "metadata": {},
   "source": [
    "## Count White Pixels and Normalize"
   ]
  },
  {
   "cell_type": "code",
   "execution_count": null,
   "metadata": {},
   "outputs": [],
   "source": [
    "ret, healthy_threshold = cv2.threshold(healthy_example, 125, 255, cv2.THRESH_BINARY)\n",
    "ret, pneumonia_threshold = cv2.threshold(pneumonia_example, 125, 255, cv2.THRESH_BINARY)\n",
    "\n",
    "# Count white pixels\n",
    "white_pixels_healthy = np.count_nonzero(healthy_threshold == 255)\n",
    "white_pixels_pneumonia = np.count_nonzero(pneumonia_threshold == 255)\n",
    "\n",
    "print('The number of white pixels in the healthy xray is: ' + str(white_pixels_healthy))\n",
    "print('The number of white pixels in the healthy xray is: ' + str(white_pixels_pneumonia))"
   ]
  },
  {
   "cell_type": "markdown",
   "metadata": {},
   "source": [
    "### Wait, that doesn't make sense. The white pixels should correlate to the amount of consolidation. And we KNOW that there is more consolidation in the pneumonia image... OH! We need to consider the SIZE of the IMAGE! Lets normalize the number of white pixels to the total number of pixels"
   ]
  },
  {
   "cell_type": "code",
   "execution_count": null,
   "metadata": {},
   "outputs": [],
   "source": [
    "# we take the value we got earlier and divide it by the total size of the image!\n",
    "normalized_white_pix_healthy = white_pixels_healthy / healthy_threshold.size\n",
    "normalized_white_pix_pneumonia = white_pixels_pneumonia / pneumonia_threshold.size\n",
    "\n",
    "print(normalized_white_pix_healthy)\n",
    "print(normalized_white_pix_pneumonia)"
   ]
  },
  {
   "cell_type": "markdown",
   "metadata": {},
   "source": [
    "## Now that we have some of the basic moves underneath us, lets try and set the the ratio of white pixels/ to total pixels that define pneumonia based on a few images of healthy xrays\n",
    "## Identify healthy X-Rays"
   ]
  },
  {
   "cell_type": "code",
   "execution_count": null,
   "metadata": {},
   "outputs": [],
   "source": [
    "# os is a library that lets you walk through every file in a given directory. You can look up the details if you want,\n",
    "# but in broad strokes it lets us pull a bunch of data in and out of software easily to do stuff with\n",
    "\n",
    "## CHANGE THIS TO FIT YOUR PATH\n",
    "healthy_path = 'pneumonia_project_images/healthy_xrays'\n",
    "print(os.getcwd())\n",
    "#define a list to store the data we accumulate\n",
    "white_pix_ratio_list = []\n",
    "for root, dirs, files in os.walk(healthy_path):\n",
    "    for file in files:\n",
    "        if file.endswith('jpeg') or file.endswith('png') or file.endswith('jpg'):\n",
    "            #make path to image as we walk through every image in the healthy xrays folder. Again, dont really need to understand how, just know thats what it does\n",
    "            path = os.path.join(root, file)\n",
    "            # load image using opencv\n",
    "            image = cv2.imread(path)\n",
    "            # Check if images are in RGB format and convert to grayscale if necessary\n",
    "            if len(image.shape) == 3 and image.shape[2] == 3:\n",
    "                image = cv2.cvtColor(image, cv2.COLOR_BGR2GRAY)\n",
    "            # apply threshold using 125 like we determined earlier\n",
    "            ret, threshold_image = cv2.threshold(image, 125, 255, cv2.THRESH_BINARY)\n",
    "            # Count white pixels\n",
    "            white_pixels = np.count_nonzero(threshold_image == 255)   \n",
    "            #normalize to image size\n",
    "            normalized_white_pix = white_pixels / threshold_image.size\n",
    "            #store the ratio of white pixels to image size in the earlier list we made \n",
    "            white_pix_ratio_list.append(normalized_white_pix)\n",
    "\n",
    "# calculate average, min, and max of list to get some more useful data to make disgnoses with\n",
    "avg_healthy_ratio = sum(white_pix_ratio_list)/len(white_pix_ratio_list)\n",
    "max_healthy_ratio = max(white_pix_ratio_list)\n",
    "min_healthy_ratio = min(white_pix_ratio_list)\n",
    "print('average is:' + str(avg_healthy_ratio))\n",
    "print('minimum is:' + str(max_healthy_ratio))\n",
    "print('maximum is:' + str(min_healthy_ratio))\n",
    "\n"
   ]
  },
  {
   "attachments": {},
   "cell_type": "markdown",
   "metadata": {},
   "source": [
    "### We got a value of .49 as the average of the 5 images we tested. The max is .59. Lets try to make a highly specific algorithm and use a value of .61 as the threshold. This may increase the number of false negatives but maximize the true positives \n",
    "\n",
    "## Identify Pneumonia X-Rays"
   ]
  },
  {
   "cell_type": "code",
   "execution_count": null,
   "metadata": {},
   "outputs": [],
   "source": [
    "# Set the threshold as determined above\n",
    "ratio_threshold = .61\n",
    "\n",
    "## CHANGE THIS TO FIT YOUR PATH\n",
    "pneumo_path = 'pneumonia_project_images/pneumonia_xrays'\n",
    "\n",
    "\n",
    "# make a list to store the final diagnoses\n",
    "diagnosis_list = []\n",
    "for root, dirs, files in os.walk(pneumo_path):\n",
    "    for file in files:\n",
    "        if file.endswith('jpeg') or file.endswith('png') or file.endswith('jpg'):\n",
    "            #make path to image as we walk through every image in the healthy xrays folder. Again, dont really need to understand how, just know thats what it does\n",
    "            path = os.path.join(root, file)\n",
    "            # load image using opencv\n",
    "            image_pneumonia = cv2.imread(path)\n",
    "            # Check if images are in RGB format and convert to grayscale if necessary\n",
    "            if len(image_pneumonia.shape) == 3 and image_pneumonia.shape[2] == 3:\n",
    "                image_pneumonia = cv2.cvtColor(image_pneumonia, cv2.COLOR_BGR2GRAY)\n",
    "            # apply threshold using 125 like we determined earlier\n",
    "            ret, threshold_image_pneu = cv2.threshold(image_pneumonia, 125, 255, cv2.THRESH_BINARY)\n",
    "            # Count white pixels\n",
    "            white_pixels_pneu = np.count_nonzero(threshold_image_pneu == 255)   \n",
    "            #normalize to image size\n",
    "            normalized_white_pix_pneu = white_pixels_pneu / threshold_image_pneu.size\n",
    "            # Compare the white pixels to the ratio from above to make a diagnosis!\n",
    "        \n",
    "            if normalized_white_pix_pneu > ratio_threshold:\n",
    "                diagnosis_list.append('Pneumonia')\n",
    "            else:\n",
    "                diagnosis_list.append('Healthy')\n",
    "                print(normalized_white_pix_pneu)\n",
    "\n",
    "# Print the final diagnosis list to see how many we got right\n",
    "\n",
    "print(diagnosis_list)"
   ]
  },
  {
   "attachments": {},
   "cell_type": "markdown",
   "metadata": {},
   "source": [
    "## Recap\n",
    "### We got 90% correct! Not bad!\n",
    "### Obviously, you would never use this tool clinically. Even in our data, we had a wide range of variance, and we didnt take into account key features such positioning of the patient in the xray, scope of the xray image, xray machine settings, etc. In practice, you might want to build a convolutinoal neural network to solve a problem such as this, but we hope this gave you a good introduction to some core principles in comptuter vision and showed how this type of technology can be used in clinical settings! Play around with the notebook/ import your own data and see if you can make it even better!"
   ]
  }
 ],
 "metadata": {
  "kernelspec": {
   "display_name": "Python 3 (ipykernel)",
   "language": "python",
   "name": "python3"
  },
  "language_info": {
   "codemirror_mode": {
    "name": "ipython",
    "version": 3
   },
   "file_extension": ".py",
   "mimetype": "text/x-python",
   "name": "python",
   "nbconvert_exporter": "python",
   "pygments_lexer": "ipython3",
   "version": "3.10.9"
  }
 },
 "nbformat": 4,
 "nbformat_minor": 2
}
