{
 "cells": [
  {
   "attachments": {},
   "cell_type": "markdown",
   "metadata": {},
   "source": [
    "# **Github**\n",
    "\n",
    "### This is a pretty short section (especially compared to the environments one...) as Github does not have a ton of immediate utility to someone at the earliest stages of coding. It is definitely helpful and you should be aware of it, but it is not the most important thing. However! We want you to go forth well equipped, so read on to get the overview!\n",
    "\n",
    "### GitHub is a platform that allows developers to host and review code, manage projects, and collaborate. When you start to work on very large projects with other people it's easy to lose track of files and just generally stay organized. Github, however, provides the system to help keep your coding projects organized and facilitate fruitful collaborations between many people. \n",
    "\n",
    "### Becoming an expert user of Github would take way too long to explain, and to be completely honest, the odds that you ever need to become an expert user (or even medium level) are extremely low. For people like us in the medical field, the main benefit of Github is that it is the place where code gets stored for public use, so it is a great resource to go and see how other people approach problems and read their code (and use it because most of computer science is Open Source!)\n",
    "\n",
    "### There are some key features of Github that we have listed below so you can be familiar with them as you will hear these words referred to often when talking to a CS person.\n",
    "\n",
    "### - `Repositories`: A repository (or `repo` for short) is like a folder for your project. It contains all the project's files and stores each file's revision history.\n",
    "\n",
    "### - `Pull Requests`: This feature allows you to notify others about the changes you've made to a repo. Others can then review, comment on, and eventually merge your contributions to integrate them into the repo.\n",
    "\n",
    "### - `Forks`: If you want to experiment with changes without affecting the original project, you can 'fork' it, creating a copy for yourself. If your changes are fruitful, they can later be merged back into the original repo.\n",
    "\n",
    "### GitHub really is a community where developers from around the world come together, share ideas, and build on each other's work. While you don't have to be a power user, it is worth paying a visit to Github to learn your way around and start to see other people's work. Eventually, you may want to start your own repo to share some of your projects with the world!\n",
    "\n"
   ]
  },
  {
   "cell_type": "markdown",
   "metadata": {},
   "source": []
  }
 ],
 "metadata": {
  "language_info": {
   "name": "python"
  },
  "orig_nbformat": 4
 },
 "nbformat": 4,
 "nbformat_minor": 2
}
