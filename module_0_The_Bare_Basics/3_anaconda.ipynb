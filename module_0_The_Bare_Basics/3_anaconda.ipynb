{
 "cells": [
  {
   "attachments": {},
   "cell_type": "markdown",
   "metadata": {},
   "source": [
    "# **Conda and Environment Management**\n",
    "\n",
    "## **Intro**\n",
    "### When we dive into programming and software development, we often hear about `environment`'. An `environment`, in the context of programming, refers to a self-contained area on your computer where you can maintain specific versions of programming languages and installed libraries. This can be a lot to take in and there is a lot of reading here, but we *promise* that this is worth your while. Seriously, spending the 20 minutes reading this document will save you so much time later. This is everything we wish we knew when we were starting out!\n",
    "\n",
    "### Think of your computer like a massive cargo boat carrying numerous shipping containers. Each of these containers is securely sealed and independent, ensuring that the contents of one don't spill over or mix with another. In the world of programming, these containers represent the `environments`. Each `environment` can hold a specific version of Python, its libraries, packages, and all its dependencies, completely isolated from others. The whole idea is that whenever you work on a new project, you will make a new environment to contain all of the stuff you need to complete that project.\n",
    "\n",
    "### Why not toss everything into one giant container? Well, imagine one project (container) uses a particular version of a library, and another project needs a different version of the same library. If both are in the same environment, they might clash and cause errors. By keeping them in separate containers (environments), they operate independently, ensuring stability and functionality.\n",
    "\n",
    "## **Anaconda, Conda, Miniconda, Oh My!**\n",
    "\n",
    "### Anaconda is a free, open-source distribution of the Python and R programming languages. While it's specifically tailored for scientific computing, data analysis, and machine learning, its utility extends beyond just offering these languages. Anaconda's real strength lies in its comprehensive platform designed for data science and scientific computing. This platform bundles a plethora of scientific libraries and tools, making it significantly easier for beginners to dive into data science without the burden of individual installations.\n",
    "\n",
    "### Now, this is where it gets a little confusing. In addition to Anaconda, there is also a tool called Conda. It is confusing because they are both names like snakes (Python being involved too doesn't help...) and they are intertwined, but they are different tools. \n",
    "\n",
    "### Anaconda is the overarching distribution that comes with pre-installed packages and libraries, including popular data science tools like Jupyter Notebook. It's like a starter kit for budding data scientists, ensuring they have everything they need right out of the box.\n",
    "\n",
    "### Conda, on the other hand, is a pivotal component within the Anaconda ecosystem. It's both an environment manager and a package manager, the very engine under Anaconda's hood that empowers users to seamlessly create, switch between, and manage their coding environments and the packages within them. Every time you want to isolate a project or ensure specific package versions, Conda is the tool you'll turn to.\n",
    "\n",
    "### If you were thinking, 'I wish there was just one more tool thats named almost the samething but also just a little different', you are in luck because there is also miniconda. Think of Miniconda as a lighter, more streamlined version of Anaconda. It provides just Python and Conda, excluding the vast library collection that comes with Anaconda. This makes Miniconda perfect for those who wish for the potent environment and package management capabilities of Conda but prefer to handpick their tools.\n",
    "\n",
    "### So if you are confused, it is OK. If you want to start by downloading Anaconda and get the full suite of tools and code within that environment, by all means it is a good choice.\n",
    "\n",
    "### However, we at Code Grand Rounds do not reccomend this as while this is no doubt a great way to go, you lose the benefit of coding in VSCode and conda integrates so well with VSCode and is a very robust and easy way to manage both your Python versions as well as environments. \n",
    "\n",
    "### As such, if you are looking for our reccomendation we suggest you do the following:\n",
    "\n",
    "### 1. Once you have VSCode installed, go to this link (https://docs.conda.io/projects/miniconda/en/latest/) and download miniconda for whatever machine you are workig on. This will give you all of the support for Python and for conda without the overhead of Anaconda. Follow the on screen introductions.\n",
    "\n",
    "### 2. At this point, you are now ready to go. Open up VSCode and open your terminal (`Ctrl + ~ (on Windows) or Cmd + ~ (on Mac)`)\n",
    "\n",
    "PIC\n",
    "\n",
    "### 3. When you see the little `$` on your terminal, make a new environment. You can do this by typing `conda create -n name_of_env python=3.8`. This will make a new environment with the name you gave it that has access to python version 3.8 (you can use a different version if you like). \n",
    "\n",
    "PIC\n",
    "\n",
    "### 4. Activate the environment by typing into the terminal `conda activate name_of_env`. You should see a the name of the environment show up on the left side of your terminal window. This means you have successfully activated the environment, or if you are thinking about the cargo ship, you have entered a shipping container. \n",
    "\n",
    "PIC\n",
    "\n",
    "### 5. Now, when you are working on your project and you need to import a package for a specific purpose (`scikit-learn` is a common machine learning package you will get exposed to in Code Grand Rounds), you can do so by typing `conda install sklearn` (you will have to look up what the right name to install the package is). \n",
    "\n",
    "PIC\n",
    "\n",
    "### 6. If this does not work for some reason, you can also install it using `pip` which should work `pip install sklearn`. Pip (Pip Installs Packages) is one of the major python package managers which integrates nicely with conda, but as you are using conda to manage your environment it is good practice to first try to install with `conda install`.\n",
    "\n",
    "### 7. When you are done working on your project, you can type `conda deactivate name_of_env` to close the environment. Just make sure to reactivate when you want to work on it again.\n",
    "\n",
    "## **Integration with VSCode**\n",
    "\n",
    "### We mentioned one of the nice things about conda is that it integrates nicely with VSCode and Jupyter notebooks, and this is very much true. While you do have to create and activate environments as well as install packages from the command line, once you have your virtual environment set up you can use it to power your Jupyer notebooks by setting it as the `Kernel`. \n",
    "\n",
    "### The kernel is the central component of an operating system that bridges software applications and the actual data processing done at the hardware level. This is mostly jargon, but in a nutshell it means you can set your Kernel to be your conda environment and then use that to power your Jupyter Notebook. One of the nice things about using Jupyter Notebooks is that you can run individual cells (blocks of code) one by one which becomes more efficient (both memory and time wise) as your programs get more complex, and you can do all of this within the VSCode GUI which is really convenient. By clicking on the Kernel Icon in VSCode it will show you a list of conda environments, so all you have to do is select the one you want to use for whatever project you are working on and you will be good to go.\n",
    "\n",
    "Pic\n",
    "\n",
    "### This process, while being reasonably straightforward on paper, can be very tricky the first time you do it. All of the words are new and interacting with the terminal can be hard. That being said, once you get it set up right the rest of your coding career becomes much more straightforward. Also, if you are getting errors non stop, make sure to search the internet for help! We have a whole section in Module 0 devoted to showing you tips and tricks for how to use the internet to help you code better and troubleshoot, so be sure to check that out as it will be helpful. \n",
    "\n"
   ]
  },
  {
   "cell_type": "markdown",
   "metadata": {},
   "source": []
  },
  {
   "cell_type": "markdown",
   "metadata": {},
   "source": []
  }
 ],
 "metadata": {
  "language_info": {
   "name": "python"
  },
  "orig_nbformat": 4
 },
 "nbformat": 4,
 "nbformat_minor": 2
}
