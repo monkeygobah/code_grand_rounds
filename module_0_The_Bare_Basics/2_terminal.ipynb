{
 "cells": [
  {
   "attachments": {},
   "cell_type": "markdown",
   "metadata": {},
   "source": [
    "# **The Terminal**\n",
    "\n",
    "## **Intro**\n",
    "\n",
    "### If you have ever seen the prototypical movie hacker punching commands into a black and white box on a computer, then you have seen the terminal before. The terminal, often also referred to as the command line or shell, is a text-based interface that allows users to interact directly with the computer's operating system. Instead of clicking buttons or dragging icons as you would in a Graphical User Interface (GUI), in the terminal, you input commands as text.\n",
    "\n",
    "[Insert Image: A screenshot of a typical terminal window.]\n",
    "\n",
    "### When you first open your terminal (on mac, you can do this using `cmd + spacebar` and typing `terminal`), you'll notice a series of symbols and text. This is called a \"prompt,\" and it typically gives you information about your current location in the system and the current user. For many users, it might look something like:\n",
    "\n",
    "PIC \n",
    "\n",
    "### You can change the color and theme of your terminal by navigating to terminal > settings\n",
    "\n",
    "### The line you see on your terminal is most likely in this type of format:\n",
    "\n",
    "username@computername:~$\n",
    "\n",
    "### where `username` is the name of the current user, `computername` is the name of your computer, `~` represents the home directory of the user, and `$` indicating that the terminal is ready to accept commands.\n",
    "\n",
    "### Most terminals operate using a shell called \"Bash\" (Bourne Again SHell). It’s like the language of the terminal; when you type commands, you're \"speaking\" in Bash. Bash is the default shell for many Unix systems, including Linux and macOS.\n",
    "\n",
    "## **Why You Should Care**\n",
    "\n",
    "### While the graphical user interfaces of modern operating systems have made it easier than ever to use a computer, the terminal remains a fundamental tool for many tasks, especially in software development and system administration. By using the terminal you can navigate around your computer with short commands making it a very efficient to move up and down folder hierarchies. Things that would take multiple clicks and windows using a GUI (such as moving a folder up a few directories) can be done with just a few letters and symbols in your terminal. You can also script terminal commands to automate repetive work, and you will definitely gain a deeper understanding of how computers and operating systems work by using the terminal.\n",
    "\n",
    "### All that being said, it's also worth noting that you don't strictly need the terminal to start programming. Many modern Integrated Development Environments (IDEs) and tools provide GUI-based ways to do most common development tasks. But as you delve deeper into programming, you'll likely find situations where knowledge of the terminal is beneficial, if not essential.\n",
    "\n",
    "## **Bash Basics**\n",
    "\n",
    "### Because we are strong proponents of you learning at least a little bit about the terminal at Code Grand Rounds (because we *promise* it is worth the effort down the line), here are some basic commands to get you started. Also note that you can use `tab` to autofill on terminal if there is only one file or folder that fits what you started typing (e.g., if you start typing `Dow` and click `tab` and  the `Downloads` folder is in the directory you are currently in and is the only thing that starts with `Dow`, it will autofill `Downloads` for you). Terminal is also case sensitive, so if you keep getting error messages and feel like you are doing it right make sure you aren't actually using an uppercase when it should be lower or vice versa.\n",
    "\n",
    "- ### `pwd`: Stands for \"print working directory.\" It shows the path of the current directory you're in.\n",
    "PIC\n",
    "- ### `ls`: Lists the files and directories in the current directory.\n",
    "PIC\n",
    "- ### `cd [directory_name]`: Changes the current directory. For instance, cd Documents would navigate into the Documents directory. One important note about cd is that if you type `cd ..` this gets interpreted to go up a directory. if you type `cd ../../` you will go up two directories. You can also navigate down through multiple directories at the same time with one `cd` command through multiple diretories at the sa\n",
    "PIC\n",
    "- ### `find [starting_directory] -name [filename]`: Searches for a file starting from the specified directory. For example, find / -name myfile.txt would search the entire system for myfile.txt.\n",
    "PIC\n",
    "- ### `clear`: Clears the terminal screen, giving you a clean slate.\n",
    "PIC\n",
    "\n",
    "### This is only a teaser, but knowing how to use these will set you up for success going forward. \n",
    "\n",
    "## **Run Python Scripts**\n",
    "\n",
    "### One common use of the terminal for developers is running scripts. For instance, if you've written a Python script and you want to execute it, you can easily do this from the terminal. You first navigate to the directory where your script is located using the `cd` command and run the script by typing `python script_name.py`. This may not work right away if you don't have Python installed, but we will get all of that sorted out for you in the next lesson on Anaconda and Conda.\n",
    "\n",
    "### If you're using VSCode for coding, it has an integrated terminal, allowing you to access the command line directly within your development environment. This means you can code, run scripts, and manage files, all without leaving VSCode.\n",
    "\n",
    "### Go to the top menu and select View > Terminal, or use the shortcut `Ctrl + ~ (on Windows) or Cmd + ~ (on Mac)`\n",
    "\n",
    "[Insert Image: Screenshot of VSCode with the integrated terminal open.]"
   ]
  },
  {
   "cell_type": "markdown",
   "metadata": {},
   "source": []
  }
 ],
 "metadata": {
  "language_info": {
   "name": "python"
  },
  "orig_nbformat": 4
 },
 "nbformat": 4,
 "nbformat_minor": 2
}
