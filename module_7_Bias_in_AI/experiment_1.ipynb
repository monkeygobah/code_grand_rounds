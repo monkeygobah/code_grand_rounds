{
 "cells": [
  {
   "attachments": {},
   "cell_type": "markdown",
   "metadata": {},
   "source": [
    "# **Obermeyer et. al. 2019- Disparities based on Risk Score**\n",
    "\n",
    "### The study focused on an algorithm commonly employed by healthcare systems to stratify patients based on health risk. This algorithm was designed to predict future healthcare needs and subsequently recommend interventions. Patients were assigned risk scores, and based on these scores, they were either referred to primary care or directly enrolled into specialized healthcare programs. By analyzing the algorithm's risk predictions in conjunction with actual patient health data, this study aimed to identify disparities in the algorithms evaluations. \n",
    "\n",
    "### The data they used in this paper was from an academic hospital. Patients binned by race via hospital reporting. The data represented 6,079 Black patients and 43,539 White patients, translating to information from 11,929 and 88,080 patient-years, respectively.\n",
    "\n",
    "### To prioritize healthcare interventions, an algorithm assessed the health risk (based on lab values, chronic illnesess, and other EHR data) for each patient. Those with scores above the 55th percentile were referred to primary care, while individuals surpassing the 97th percentile were directly enrolled into a special healthcare program. Initial findings highlighted that Black individuals bore a substantially higher illness burden compared to their White counterparts, even when they received similar risk scores from the algorithm. To quantify this, Black individuals at the 97th percentile risk score had 26.3% more chronic conditions than White individuals. This posed an immediate concern, indicating that many Black patients, in worse health and at higher risk scores, were being overlooked based on the algorithmic predictions.\n",
    "\n",
    "### To further investigate these disparities the researchers simulated a scenario aiming to eliminate health discrepancies within the same risk threshold. They recalibrated the algorithm by saying that if there was a white patient who was above the threshold line with less chronic conditions than a black patient below the threshold line, they would replace the White patient with the Black one. They continued this process until both black and white patients on either side of the referral threshold have similar health conditions. When they reran the simulation using the original algorithm with patient population corrected based on this recalibration (so the only thing that changed was the data corrected by race), they showed that the percentage of black patients auto enrolled in the program (above the 97th percentile)increased from 17.7 in the orignial experiment to 46.5%.\n",
    "\n",
    "### The discrepancies weren’t confined to chronic conditions either. A deeper analysis revealed that Black patients consistently demonstrated worse readings for crucial health metrics such as hypertension, HbA1C levels, LDL cholesterol, anemia, and renal failure, even when matched with White patients of identical risk scores.\n",
    "\n",
    "### The findings clearly illustrate inherent biases in the original algorithm. Despite similar risk scores, Black patients often had worse health indicators than their White counterparts. This study underscores the urgent need to ensure fairness and accuracy in healthcare algorithms, which can directly impact patient care and outcomes."
   ]
  },
  {
   "attachments": {},
   "cell_type": "markdown",
   "metadata": {},
   "source": []
  }
 ],
 "metadata": {
  "language_info": {
   "name": "python"
  },
  "orig_nbformat": 4
 },
 "nbformat": 4,
 "nbformat_minor": 2
}
