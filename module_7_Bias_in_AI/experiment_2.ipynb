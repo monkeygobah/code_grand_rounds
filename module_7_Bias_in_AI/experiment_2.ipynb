{
 "cells": [
  {
   "attachments": {},
   "cell_type": "markdown",
   "metadata": {},
   "source": [
    "## **Experiment 2- Examining the mechanism of bias**\n",
    "### Becuase they are essentially simulating the exact algorithm used nation wide, they are able to look at the inputs and outputs to the model in order to probe the mechanism of the bias\n",
    "### Inputs to the algorithm --> insurance claims data (age, sex, type of insurance, procedure / diagnosis code, meds, costs)- algorithm does not have race as input\n",
    "### Outputs of the algorithm --> prediction of health needs (however, because algorithm takes in total medical expenditures, the algorithm is essentially prediting **health costs** for a patient based on their insurance claims\n",
    "### Initially plot the predicted costs(algoriuthm assessment of risk of the patient) vs the actual costs. In this plot, it is clear that black and white poatints have the same costs at all risk scorespredicted by the algorithm\n",
    "### Therefore, they can say that the predicted costs of the algorithm are 'well calibrated', meaning the algorithm is good at predicting the cost of both black and white paetients based on the predicted risk score\n",
    "### What does this mean in context of the earlier experiment? We know there is a disparity in the health of a patient based on the algorithm predicted risk (i.e., black patients are sicker than white patients at the same predicted risk level). We also know sicker patients normally need and receive more care, so we would expect to see this represented in the cost of healthcare for black and white patients (i,e., the cost of healthcare for black patients should be predicted as higher given worse health at the same predicted risk level).\n",
    "### They examine why this is happening. If black patients have worse health but the same costs, there must be a wedge that has crept in between needing and receiving healthcare \n",
    "### This wedge is the race of the patient --> when they measure health based on number of chronic illnesses, they find that black patients generate lower costs than white patients at the same number of chronic illnesse. The implicatinos of this is that trying to make accurate prediction on the cost of healthcare using the employed algorithm neccesarily means bias based on race will be introduced.\n",
    "### So while the algorithm was very good at making predictions on the cost of patients (as it was designed to do), the implication of this is that it said that sicker black patients incur the same cost of healthcare, which will mean that sicker black patients receive less attention from the healthcare system (as again, the algorithm was functioning based on predicted healthcare costs)\n",
    "### One of many issues with this is that the assumption that patients with similar costs of healthcare have similar health needs is fundamentally incorrect. Due to systemic disparities (geography and differential access to transportation, competing demands from jobs or child care, knowledge of reasons to seek care, etc.) as well as disparities directly related to race (direct (“taste-based”) discrimination, changes to the doctor–patient relationship, etc), there are substantially more barriers to black patient's interacting with the health care system which, in and of itself, leads to reduced use of healthcar (lower cost). There is, in fact, a wide berth of literature that reports on the effects of poverty and access to healthcare as well as the effects of race within the healthcarfe system (ref ref ref ref ref).Even though the initial algorithm did not contain race as an input, the algorithm still perpetuated systemic disparities throughout the system because of what it was directly evaluating (costs) without consideration of external factors.\n"
   ]
  }
 ],
 "metadata": {
  "language_info": {
   "name": "python"
  },
  "orig_nbformat": 4
 },
 "nbformat": 4,
 "nbformat_minor": 2
}
