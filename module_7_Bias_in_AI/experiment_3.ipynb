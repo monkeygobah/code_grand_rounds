{
 "cells": [
  {
   "attachments": {},
   "cell_type": "markdown",
   "metadata": {},
   "source": [
    "## **Stating the Problem and Moving Forward**\n",
    "### One of the important takeaways of this manuscript is determining the choice of label used to train algorithms. In the algorithm originally designed and implemented, thjey chose healthcare costs as the label, which on the outset is not a terrible idea- it stands to reason that patients with the highest cost of healthcare should derive the greatest benefit from a program designed to identify high risk patients. As the author's showed experimentally, however, this is a fundamentally flawed idea in the context of societal inequities\n",
    "### As such, choosing the appropriate label by which to train and optimize such algorthms is an important design choice. While trying to predict future cost of healthcare is not a bad choice, it is by no means the only reasonable choice. \n"
   ]
  }
 ],
 "metadata": {
  "language_info": {
   "name": "python"
  },
  "orig_nbformat": 4
 },
 "nbformat": 4,
 "nbformat_minor": 2
}
